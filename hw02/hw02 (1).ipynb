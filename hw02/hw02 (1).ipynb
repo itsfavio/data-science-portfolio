{
 "cells": [
  {
   "cell_type": "markdown",
   "metadata": {},
   "source": [
    "# Homework 2: DataFrames, Data Visualization, and Functions\n",
    "\n",
    "## Due Sunday, October 20th at 11:59PM\n",
    "\n",
    "Welcome to Homework 2! This week, we will cover DataFrame manipulations, making visualizations, and defining functions. You can find additional help on these topics in  [BPD 6, 9-12](https://notes.dsc10.com/01-getting_started/functions-defining.html) in the `babypandas` notes and [CIT 7-7.3](https://inferentialthinking.com/chapters/07/Visualization.html) in the textbook."
   ]
  },
  {
   "cell_type": "markdown",
   "metadata": {},
   "source": [
    "### Instructions\n",
    "\n",
    "Remember to start early and submit often. You are given six slip days throughout the quarter to extend deadlines. See the syllabus for more details. With the exception of using slip days, late work will not be accepted unless you have made special arrangements with your instructor.\n",
    "\n",
    "**Important**: For homeworks, the `otter` tests don't usually tell you that your answer is correct. More often, they help catch careless mistakes. It's up to you to ensure that your answer is correct. If you're not sure, ask someone (not for the answer, but for some guidance about your approach). These are great questions for office hours (see the schedule on the [Calendar](https://dsc10.com/calendar)) or Ed. Directly sharing answers is not okay, but discussing problems with the course staff or with other students is encouraged. \n",
    "\n",
    "**Please do not use for-loops for any questions in this homework.** If you don't know what a for-loop is, don't worry – we haven't covered them yet. But if you do know what they are and are wondering why it's not OK to use them, it is because loops in Python are slow, and looping over arrays and DataFrames should usually be avoided.\n",
    "\n",
    "<font color=red>**🚨 If you create a data visualization that is too cluttered to read or takes more than a few seconds to generate, this is a sign you are doing something wrong. Do not submit code like this, or the Gradescope autograder may fail to grade your entire assignment. It's better to leave a question blank than to submit code that will cause the autograder to fail on your full assignment.**</font>"
   ]
  },
  {
   "cell_type": "code",
   "execution_count": 95,
   "metadata": {},
   "outputs": [],
   "source": [
    "# Please don't change this cell, but do make sure to run it\n",
    "import babypandas as bpd\n",
    "import numpy as np\n",
    "\n",
    "import matplotlib.pyplot as plt\n",
    "plt.style.use('ggplot')\n",
    "plt.rcParams['figure.figsize'] = (10, 5)\n",
    "\n",
    "import otter\n",
    "grader = otter.Notebook()"
   ]
  },
  {
   "cell_type": "markdown",
   "metadata": {},
   "source": [
    "## 1. UCSD ArtPower Events 🎨🎺💃"
   ]
  },
  {
   "cell_type": "markdown",
   "metadata": {},
   "source": [
    "<center><img src=\"./images/artpower.jpg\" width=600/></center>\n",
    "\n",
    "As a UCSD student, you may have noticed some emails from <a href=\"https://artpower.ucsd.edu/\">ArtPower</a>, a campus-based performing arts initiative, advertising upcoming events. ArtPower's self-described mission is to \"present performing arts that engage, energize, and transform the diverse cultural life of the university and San Diego.\" ArtPower events are open to the general public, and many are free for UCSD students. They encompass all sorts of performing arts, such as music, dance, and theatre. \n",
    "\n",
    "In this question, we'll work with a dataset of upcoming ArtPower events in the 2024-25 season. This dataset was collected by one of your fellow DSC 10 classmates, Austin Flippo, who wrote a <a href=\"https://github.com/AustinFlippo/UCSD_Events_Scraper\">web scraper</a> to collect information from the <a href=\"https://artpower.ucsd.edu/events/\"> ArtPower Events website</a> and store this information in a DataFrame. This DataFrame, `artpower`, is provided below, and it contains the following information for each event. \n",
    "\n",
    "|Column|Description|\n",
    "|------|-----------|\n",
    "|`'Event Name'`|The name of the event|\n",
    "|`'Category'`|The type of event|\n",
    "|`'Description'`|A brief summary of the event|\n",
    "|`'Link'`|The link to the event webpage|\n",
    "|`'Price'`|A breakdown of the pricing for different groups of people|\n",
    "|`'Date'`|Day, month, and year of the event|\n",
    "|`'Time'`|The day of the week and the time of the event|\n",
    "|`'Location'`|Location of the event (often on campus, but not always)|\n",
    "|`'Latitude'`|The latitude for the event's location|\n",
    "|`'Longitude'`|The longitude for the event's location|"
   ]
  },
  {
   "cell_type": "code",
   "execution_count": 96,
   "metadata": {},
   "outputs": [
    {
     "data": {
      "text/html": [
       "<div>\n",
       "<style scoped>\n",
       "    .dataframe tbody tr th:only-of-type {\n",
       "        vertical-align: middle;\n",
       "    }\n",
       "\n",
       "    .dataframe tbody tr th {\n",
       "        vertical-align: top;\n",
       "    }\n",
       "\n",
       "    .dataframe thead th {\n",
       "        text-align: right;\n",
       "    }\n",
       "</style>\n",
       "<table border=\"1\" class=\"dataframe\">\n",
       "  <thead>\n",
       "    <tr style=\"text-align: right;\">\n",
       "      <th></th>\n",
       "      <th>Event Name</th>\n",
       "      <th>Category</th>\n",
       "      <th>Description</th>\n",
       "      <th>Link</th>\n",
       "      <th>Price</th>\n",
       "      <th>Date</th>\n",
       "      <th>Time</th>\n",
       "      <th>Location</th>\n",
       "      <th>Latitude</th>\n",
       "      <th>Longitude</th>\n",
       "    </tr>\n",
       "  </thead>\n",
       "  <tbody>\n",
       "    <tr>\n",
       "      <th>0</th>\n",
       "      <td>Roomful of Teeth</td>\n",
       "      <td>Chamber Music*</td>\n",
       "      <td>“Roomful of Teeth is revolutionizing choral mu...</td>\n",
       "      <td>https://artpower.ucsd.edu/event/roomful-of-teeth/</td>\n",
       "      <td>['Reserved Seating:  $40–65', 'UCSD Student:  ...</td>\n",
       "      <td>13 OCT 2024</td>\n",
       "      <td>SUN 2:00 PM</td>\n",
       "      <td>Department of Music's Conrad Prebys Concert Hall</td>\n",
       "      <td>32.878244</td>\n",
       "      <td>-117.234525</td>\n",
       "    </tr>\n",
       "    <tr>\n",
       "      <th>1</th>\n",
       "      <td>An Evening with Ocean Vuong</td>\n",
       "      <td>Speaker</td>\n",
       "      <td>Moderated by UC San Diego Literature Professor...</td>\n",
       "      <td>https://artpower.ucsd.edu/event/ocean-vuong/</td>\n",
       "      <td>['General Admission:  $25', 'UCSD Student:  Li...</td>\n",
       "      <td>16 OCT 2024</td>\n",
       "      <td>WED 5:00 PM</td>\n",
       "      <td>Epstein Family Amphitheater</td>\n",
       "      <td>32.879193</td>\n",
       "      <td>-117.232998</td>\n",
       "    </tr>\n",
       "    <tr>\n",
       "      <th>2</th>\n",
       "      <td>Lucy Kalantari and the Jazz Cats: Haunting Day...</td>\n",
       "      <td>Family</td>\n",
       "      <td>Welcome to the Haunting Days of Halloween. Wha...</td>\n",
       "      <td>https://artpower.ucsd.edu/event/lucy-kalantari...</td>\n",
       "      <td>['General Admission:  $20', 'UCSD Student:  Li...</td>\n",
       "      <td>19 OCT 2024</td>\n",
       "      <td>SAT 11:00 am</td>\n",
       "      <td>Epstein Family Amphitheater</td>\n",
       "      <td>32.879193</td>\n",
       "      <td>-117.232998</td>\n",
       "    </tr>\n",
       "    <tr>\n",
       "      <th>3</th>\n",
       "      <td>Sara Schoenbeck and Wayne Horvitz</td>\n",
       "      <td>Chamber Music*</td>\n",
       "      <td>The Sara Schoenbeck and Wayne Horvitz duo navi...</td>\n",
       "      <td>https://artpower.ucsd.edu/event/wayne-horvitz/</td>\n",
       "      <td>['General Admission:  $20', 'UCSD Student:  Li...</td>\n",
       "      <td>28 OCT 2024</td>\n",
       "      <td>MON 8 pm</td>\n",
       "      <td>The Loft, La Jolla</td>\n",
       "      <td>32.879464</td>\n",
       "      <td>-117.235911</td>\n",
       "    </tr>\n",
       "    <tr>\n",
       "      <th>4</th>\n",
       "      <td>Kassa Overall</td>\n",
       "      <td>Jazz</td>\n",
       "      <td>Kassa Overall is a Grammy-nominated musician, ...</td>\n",
       "      <td>https://artpower.ucsd.edu/event/kassa-overall/</td>\n",
       "      <td>['General Admission:  $20', 'UCSD Student:  Fr...</td>\n",
       "      <td>30 OCT 2024</td>\n",
       "      <td>WED 8:30 pm</td>\n",
       "      <td>The Loft, La Jolla</td>\n",
       "      <td>32.879464</td>\n",
       "      <td>-117.235911</td>\n",
       "    </tr>\n",
       "    <tr>\n",
       "      <th>...</th>\n",
       "      <td>...</td>\n",
       "      <td>...</td>\n",
       "      <td>...</td>\n",
       "      <td>...</td>\n",
       "      <td>...</td>\n",
       "      <td>...</td>\n",
       "      <td>...</td>\n",
       "      <td>...</td>\n",
       "      <td>...</td>\n",
       "      <td>...</td>\n",
       "    </tr>\n",
       "    <tr>\n",
       "      <th>32</th>\n",
       "      <td>Meta4</td>\n",
       "      <td>Chamber Music</td>\n",
       "      <td>Founded in 2001, Meta4 is one of Finland’s mos...</td>\n",
       "      <td>https://artpower.ucsd.edu/event/meta4/</td>\n",
       "      <td>['Reserved Seating:  Tickets start at $40', 'U...</td>\n",
       "      <td>25 APR 2025</td>\n",
       "      <td>FRI 7:30 pm</td>\n",
       "      <td>Department of Music's Conrad Prebys Concert Hall</td>\n",
       "      <td>32.878244</td>\n",
       "      <td>-117.234525</td>\n",
       "    </tr>\n",
       "    <tr>\n",
       "      <th>33</th>\n",
       "      <td>THE JUMP UP!</td>\n",
       "      <td>Special Event</td>\n",
       "      <td>Sandbox Percussion, Steven Schick, and local c...</td>\n",
       "      <td>https://artpower.ucsd.edu/event/the-jump-up/</td>\n",
       "      <td>['Free:  RSVP recommended']</td>\n",
       "      <td>26 APR 2025</td>\n",
       "      <td>SAT 3 pm</td>\n",
       "      <td>Epstein Family Amphitheater</td>\n",
       "      <td>32.879193</td>\n",
       "      <td>-117.232998</td>\n",
       "    </tr>\n",
       "    <tr>\n",
       "      <th>34</th>\n",
       "      <td>Malpaso Dance Company</td>\n",
       "      <td>Dance</td>\n",
       "      <td>Since its appearance at ArtPower in 2017, the ...</td>\n",
       "      <td>https://artpower.ucsd.edu/event/malpaso-dance-...</td>\n",
       "      <td>['Reserved Seating:  Tickets start at $30', 'U...</td>\n",
       "      <td>29 APR 2025</td>\n",
       "      <td>TUE 7:30 pm</td>\n",
       "      <td>Epstein Family Amphitheater</td>\n",
       "      <td>32.879193</td>\n",
       "      <td>-117.232998</td>\n",
       "    </tr>\n",
       "    <tr>\n",
       "      <th>35</th>\n",
       "      <td>An Evening with David Sedaris</td>\n",
       "      <td>Speaker</td>\n",
       "      <td>Master of satire and one of today’s most obser...</td>\n",
       "      <td>https://artpower.ucsd.edu/event/david-sedaris-...</td>\n",
       "      <td>['Reserved Seating:  $52.50–78.90', 'UCSD Stud...</td>\n",
       "      <td>08 MAY 2025</td>\n",
       "      <td>THU 7:30 pm</td>\n",
       "      <td>Balboa Theatre</td>\n",
       "      <td>32.714322</td>\n",
       "      <td>-117.161342</td>\n",
       "    </tr>\n",
       "    <tr>\n",
       "      <th>36</th>\n",
       "      <td>Harlem Gospel Travelers</td>\n",
       "      <td>American Routes</td>\n",
       "      <td>The Harlem Gospel Travelers are not from Harle...</td>\n",
       "      <td>https://artpower.ucsd.edu/event/harlem-gospel-...</td>\n",
       "      <td>['General Admission:  $27', 'UCSD Student:  Li...</td>\n",
       "      <td>22 MAY 2025</td>\n",
       "      <td>THU 8 pm</td>\n",
       "      <td>The Loft, La Jolla</td>\n",
       "      <td>32.879464</td>\n",
       "      <td>-117.235911</td>\n",
       "    </tr>\n",
       "  </tbody>\n",
       "</table>\n",
       "<p>37 rows × 10 columns</p>\n",
       "</div>"
      ],
      "text/plain": [
       "                                           Event Name         Category  \\\n",
       "0                                    Roomful of Teeth   Chamber Music*   \n",
       "1                         An Evening with Ocean Vuong          Speaker   \n",
       "2   Lucy Kalantari and the Jazz Cats: Haunting Day...           Family   \n",
       "3                   Sara Schoenbeck and Wayne Horvitz   Chamber Music*   \n",
       "4                                       Kassa Overall             Jazz   \n",
       "..                                                ...              ...   \n",
       "32                                              Meta4    Chamber Music   \n",
       "33                                       THE JUMP UP!    Special Event   \n",
       "34                              Malpaso Dance Company            Dance   \n",
       "35                      An Evening with David Sedaris          Speaker   \n",
       "36                            Harlem Gospel Travelers  American Routes   \n",
       "\n",
       "                                          Description  \\\n",
       "0   “Roomful of Teeth is revolutionizing choral mu...   \n",
       "1   Moderated by UC San Diego Literature Professor...   \n",
       "2   Welcome to the Haunting Days of Halloween. Wha...   \n",
       "3   The Sara Schoenbeck and Wayne Horvitz duo navi...   \n",
       "4   Kassa Overall is a Grammy-nominated musician, ...   \n",
       "..                                                ...   \n",
       "32  Founded in 2001, Meta4 is one of Finland’s mos...   \n",
       "33  Sandbox Percussion, Steven Schick, and local c...   \n",
       "34  Since its appearance at ArtPower in 2017, the ...   \n",
       "35  Master of satire and one of today’s most obser...   \n",
       "36  The Harlem Gospel Travelers are not from Harle...   \n",
       "\n",
       "                                                 Link  \\\n",
       "0   https://artpower.ucsd.edu/event/roomful-of-teeth/   \n",
       "1        https://artpower.ucsd.edu/event/ocean-vuong/   \n",
       "2   https://artpower.ucsd.edu/event/lucy-kalantari...   \n",
       "3      https://artpower.ucsd.edu/event/wayne-horvitz/   \n",
       "4      https://artpower.ucsd.edu/event/kassa-overall/   \n",
       "..                                                ...   \n",
       "32             https://artpower.ucsd.edu/event/meta4/   \n",
       "33       https://artpower.ucsd.edu/event/the-jump-up/   \n",
       "34  https://artpower.ucsd.edu/event/malpaso-dance-...   \n",
       "35  https://artpower.ucsd.edu/event/david-sedaris-...   \n",
       "36  https://artpower.ucsd.edu/event/harlem-gospel-...   \n",
       "\n",
       "                                                Price         Date  \\\n",
       "0   ['Reserved Seating:  $40–65', 'UCSD Student:  ...  13 OCT 2024   \n",
       "1   ['General Admission:  $25', 'UCSD Student:  Li...  16 OCT 2024   \n",
       "2   ['General Admission:  $20', 'UCSD Student:  Li...  19 OCT 2024   \n",
       "3   ['General Admission:  $20', 'UCSD Student:  Li...  28 OCT 2024   \n",
       "4   ['General Admission:  $20', 'UCSD Student:  Fr...  30 OCT 2024   \n",
       "..                                                ...          ...   \n",
       "32  ['Reserved Seating:  Tickets start at $40', 'U...  25 APR 2025   \n",
       "33                        ['Free:  RSVP recommended']  26 APR 2025   \n",
       "34  ['Reserved Seating:  Tickets start at $30', 'U...  29 APR 2025   \n",
       "35  ['Reserved Seating:  $52.50–78.90', 'UCSD Stud...  08 MAY 2025   \n",
       "36  ['General Admission:  $27', 'UCSD Student:  Li...  22 MAY 2025   \n",
       "\n",
       "            Time                                          Location   Latitude  \\\n",
       "0    SUN 2:00 PM  Department of Music's Conrad Prebys Concert Hall  32.878244   \n",
       "1    WED 5:00 PM                       Epstein Family Amphitheater  32.879193   \n",
       "2   SAT 11:00 am                       Epstein Family Amphitheater  32.879193   \n",
       "3       MON 8 pm                                The Loft, La Jolla  32.879464   \n",
       "4    WED 8:30 pm                                The Loft, La Jolla  32.879464   \n",
       "..           ...                                               ...        ...   \n",
       "32   FRI 7:30 pm  Department of Music's Conrad Prebys Concert Hall  32.878244   \n",
       "33      SAT 3 pm                       Epstein Family Amphitheater  32.879193   \n",
       "34   TUE 7:30 pm                       Epstein Family Amphitheater  32.879193   \n",
       "35   THU 7:30 pm                                    Balboa Theatre  32.714322   \n",
       "36      THU 8 pm                                The Loft, La Jolla  32.879464   \n",
       "\n",
       "     Longitude  \n",
       "0  -117.234525  \n",
       "1  -117.232998  \n",
       "2  -117.232998  \n",
       "3  -117.235911  \n",
       "4  -117.235911  \n",
       "..         ...  \n",
       "32 -117.234525  \n",
       "33 -117.232998  \n",
       "34 -117.232998  \n",
       "35 -117.161342  \n",
       "36 -117.235911  \n",
       "\n",
       "[37 rows x 10 columns]"
      ]
     },
     "execution_count": 96,
     "metadata": {},
     "output_type": "execute_result"
    }
   ],
   "source": [
    "artpower = bpd.read_csv('data/artpower.csv')\n",
    "artpower"
   ]
  },
  {
   "cell_type": "code",
   "execution_count": 97,
   "metadata": {},
   "outputs": [
    {
     "data": {
      "text/html": [
       "<div>\n",
       "<style scoped>\n",
       "    .dataframe tbody tr th:only-of-type {\n",
       "        vertical-align: middle;\n",
       "    }\n",
       "\n",
       "    .dataframe tbody tr th {\n",
       "        vertical-align: top;\n",
       "    }\n",
       "\n",
       "    .dataframe thead th {\n",
       "        text-align: right;\n",
       "    }\n",
       "</style>\n",
       "<table border=\"1\" class=\"dataframe\">\n",
       "  <thead>\n",
       "    <tr style=\"text-align: right;\">\n",
       "      <th></th>\n",
       "      <th>Event Name</th>\n",
       "      <th>Category</th>\n",
       "      <th>Description</th>\n",
       "      <th>Link</th>\n",
       "      <th>Price</th>\n",
       "      <th>Date</th>\n",
       "      <th>Time</th>\n",
       "      <th>Location</th>\n",
       "      <th>Latitude</th>\n",
       "      <th>Longitude</th>\n",
       "    </tr>\n",
       "  </thead>\n",
       "  <tbody>\n",
       "    <tr>\n",
       "      <th>10</th>\n",
       "      <td>CONTRA-TIEMPO Activist Dance Theatre | joyUS j...</td>\n",
       "      <td>Dance</td>\n",
       "      <td>joyUS justUS is an evening length participator...</td>\n",
       "      <td>https://artpower.ucsd.edu/event/contra-tiempo-...</td>\n",
       "      <td>['General Admission:  $40', 'UCSD Student:  Li...</td>\n",
       "      <td>22 NOV 2024</td>\n",
       "      <td>FRI 7:30 pm</td>\n",
       "      <td>Mandeville Auditorium</td>\n",
       "      <td>32.877742</td>\n",
       "      <td>-117.239442</td>\n",
       "    </tr>\n",
       "    <tr>\n",
       "      <th>11</th>\n",
       "      <td>CONTRA-TIEMPO Activist Dance Theatre | joyUS j...</td>\n",
       "      <td>Dance</td>\n",
       "      <td>joyUS justUS is an evening length participator...</td>\n",
       "      <td>https://artpower.ucsd.edu/event/contra-tiempo-...</td>\n",
       "      <td>['General Admission:  $40', 'UCSD Student:  Li...</td>\n",
       "      <td>23 NOV 2024</td>\n",
       "      <td>SAT 7:30 pm</td>\n",
       "      <td>Mandeville Auditorium</td>\n",
       "      <td>32.877742</td>\n",
       "      <td>-117.239442</td>\n",
       "    </tr>\n",
       "  </tbody>\n",
       "</table>\n",
       "</div>"
      ],
      "text/plain": [
       "                                           Event Name Category  \\\n",
       "10  CONTRA-TIEMPO Activist Dance Theatre | joyUS j...    Dance   \n",
       "11  CONTRA-TIEMPO Activist Dance Theatre | joyUS j...    Dance   \n",
       "\n",
       "                                          Description  \\\n",
       "10  joyUS justUS is an evening length participator...   \n",
       "11  joyUS justUS is an evening length participator...   \n",
       "\n",
       "                                                 Link  \\\n",
       "10  https://artpower.ucsd.edu/event/contra-tiempo-...   \n",
       "11  https://artpower.ucsd.edu/event/contra-tiempo-...   \n",
       "\n",
       "                                                Price         Date  \\\n",
       "10  ['General Admission:  $40', 'UCSD Student:  Li...  22 NOV 2024   \n",
       "11  ['General Admission:  $40', 'UCSD Student:  Li...  23 NOV 2024   \n",
       "\n",
       "           Time               Location   Latitude   Longitude  \n",
       "10  FRI 7:30 pm  Mandeville Auditorium  32.877742 -117.239442  \n",
       "11  SAT 7:30 pm  Mandeville Auditorium  32.877742 -117.239442  "
      ]
     },
     "execution_count": 97,
     "metadata": {},
     "output_type": "execute_result"
    }
   ],
   "source": [
    "artpower[artpower.get('Event Name')== 'CONTRA-TIEMPO Activist Dance Theatre | joyUS justUS']"
   ]
  },
  {
   "cell_type": "markdown",
   "metadata": {},
   "source": [
    "Let's start by exploring the `'Event Name'` column using the `describe()` method."
   ]
  },
  {
   "cell_type": "code",
   "execution_count": 98,
   "metadata": {
    "tags": []
   },
   "outputs": [
    {
     "data": {
      "text/plain": [
       "count                                                    37\n",
       "unique                                                   36\n",
       "top       CONTRA-TIEMPO Activist Dance Theatre | joyUS j...\n",
       "freq                                                      2\n",
       "Name: Event Name, dtype: object"
      ]
     },
     "execution_count": 98,
     "metadata": {},
     "output_type": "execute_result"
    }
   ],
   "source": [
    "artpower.get('Event Name').describe()"
   ]
  },
  {
   "cell_type": "markdown",
   "metadata": {},
   "source": [
    "**Question 1.1.** From the output above, we see that there are 37 event names, but only 36 of them are unique. This means that there are two events with the same name in `artpower`. Find the name of the event that is duplicated and store the result in `same_name` below.\n",
    "\n",
    "***Hint:*** Can you organize events so that events with the same name wind up together?"
   ]
  },
  {
   "cell_type": "code",
   "execution_count": 99,
   "metadata": {},
   "outputs": [
    {
     "data": {
      "text/plain": [
       "'CONTRA-TIEMPO Activist Dance Theatre | joyUS justUS'"
      ]
     },
     "execution_count": 99,
     "metadata": {},
     "output_type": "execute_result"
    }
   ],
   "source": [
    "same_name = artpower.groupby('Event Name').count().sort_values('Category', ascending = False).index[0]\n",
    "same_name"
   ]
  },
  {
   "cell_type": "code",
   "execution_count": 100,
   "metadata": {
    "deletable": false,
    "editable": false
   },
   "outputs": [
    {
     "data": {
      "text/html": [
       "<p><strong><pre style='display: inline;'>q1_1</pre></strong> passed!</p>"
      ],
      "text/plain": [
       "q1_1 results: All test cases passed!"
      ]
     },
     "execution_count": 100,
     "metadata": {},
     "output_type": "execute_result"
    }
   ],
   "source": [
    "grader.check(\"q1_1\")"
   ]
  },
  {
   "cell_type": "markdown",
   "metadata": {},
   "source": [
    "**Question 1.2.** Are these actually two different events? Or is there an error in the data whereby we actually have two rows corresponding to the same event at the same time and place? To answer this question, make a new DataFrame, `same_name_events`, which should have the same columns as `artpower`, but only the two rows whose `'Event Name'` is `same_name`, as you found in the previous question. Look to see if there are any differences between the two rows!"
   ]
  },
  {
   "cell_type": "code",
   "execution_count": 101,
   "metadata": {},
   "outputs": [
    {
     "data": {
      "text/html": [
       "<div>\n",
       "<style scoped>\n",
       "    .dataframe tbody tr th:only-of-type {\n",
       "        vertical-align: middle;\n",
       "    }\n",
       "\n",
       "    .dataframe tbody tr th {\n",
       "        vertical-align: top;\n",
       "    }\n",
       "\n",
       "    .dataframe thead th {\n",
       "        text-align: right;\n",
       "    }\n",
       "</style>\n",
       "<table border=\"1\" class=\"dataframe\">\n",
       "  <thead>\n",
       "    <tr style=\"text-align: right;\">\n",
       "      <th></th>\n",
       "      <th>Event Name</th>\n",
       "      <th>Category</th>\n",
       "      <th>Description</th>\n",
       "      <th>Link</th>\n",
       "      <th>Price</th>\n",
       "      <th>Date</th>\n",
       "      <th>Time</th>\n",
       "      <th>Location</th>\n",
       "      <th>Latitude</th>\n",
       "      <th>Longitude</th>\n",
       "    </tr>\n",
       "  </thead>\n",
       "  <tbody>\n",
       "    <tr>\n",
       "      <th>10</th>\n",
       "      <td>CONTRA-TIEMPO Activist Dance Theatre | joyUS j...</td>\n",
       "      <td>Dance</td>\n",
       "      <td>joyUS justUS is an evening length participator...</td>\n",
       "      <td>https://artpower.ucsd.edu/event/contra-tiempo-...</td>\n",
       "      <td>['General Admission:  $40', 'UCSD Student:  Li...</td>\n",
       "      <td>22 NOV 2024</td>\n",
       "      <td>FRI 7:30 pm</td>\n",
       "      <td>Mandeville Auditorium</td>\n",
       "      <td>32.877742</td>\n",
       "      <td>-117.239442</td>\n",
       "    </tr>\n",
       "    <tr>\n",
       "      <th>11</th>\n",
       "      <td>CONTRA-TIEMPO Activist Dance Theatre | joyUS j...</td>\n",
       "      <td>Dance</td>\n",
       "      <td>joyUS justUS is an evening length participator...</td>\n",
       "      <td>https://artpower.ucsd.edu/event/contra-tiempo-...</td>\n",
       "      <td>['General Admission:  $40', 'UCSD Student:  Li...</td>\n",
       "      <td>23 NOV 2024</td>\n",
       "      <td>SAT 7:30 pm</td>\n",
       "      <td>Mandeville Auditorium</td>\n",
       "      <td>32.877742</td>\n",
       "      <td>-117.239442</td>\n",
       "    </tr>\n",
       "  </tbody>\n",
       "</table>\n",
       "</div>"
      ],
      "text/plain": [
       "                                           Event Name Category  \\\n",
       "10  CONTRA-TIEMPO Activist Dance Theatre | joyUS j...    Dance   \n",
       "11  CONTRA-TIEMPO Activist Dance Theatre | joyUS j...    Dance   \n",
       "\n",
       "                                          Description  \\\n",
       "10  joyUS justUS is an evening length participator...   \n",
       "11  joyUS justUS is an evening length participator...   \n",
       "\n",
       "                                                 Link  \\\n",
       "10  https://artpower.ucsd.edu/event/contra-tiempo-...   \n",
       "11  https://artpower.ucsd.edu/event/contra-tiempo-...   \n",
       "\n",
       "                                                Price         Date  \\\n",
       "10  ['General Admission:  $40', 'UCSD Student:  Li...  22 NOV 2024   \n",
       "11  ['General Admission:  $40', 'UCSD Student:  Li...  23 NOV 2024   \n",
       "\n",
       "           Time               Location   Latitude   Longitude  \n",
       "10  FRI 7:30 pm  Mandeville Auditorium  32.877742 -117.239442  \n",
       "11  SAT 7:30 pm  Mandeville Auditorium  32.877742 -117.239442  "
      ]
     },
     "execution_count": 101,
     "metadata": {},
     "output_type": "execute_result"
    }
   ],
   "source": [
    "same_name_events = artpower[artpower.get('Event Name')== same_name]\n",
    "same_name_events"
   ]
  },
  {
   "cell_type": "code",
   "execution_count": 102,
   "metadata": {
    "deletable": false,
    "editable": false
   },
   "outputs": [
    {
     "data": {
      "text/html": [
       "<p><strong><pre style='display: inline;'>q1_2</pre></strong> passed!</p>"
      ],
      "text/plain": [
       "q1_2 results: All test cases passed!"
      ]
     },
     "execution_count": 102,
     "metadata": {},
     "output_type": "execute_result"
    }
   ],
   "source": [
    "grader.check(\"q1_2\")"
   ]
  },
  {
   "cell_type": "markdown",
   "metadata": {},
   "source": [
    "Next, let's look at the different event `'Category'` values that appear in the `artpower` DataFrame. You may notice that some events have a `'Category'` of `'Chamber Music'`, while others have a `'Category'` of `'Chamber Music*'`. "
   ]
  },
  {
   "cell_type": "code",
   "execution_count": 103,
   "metadata": {},
   "outputs": [
    {
     "data": {
      "text/plain": [
       "0      Chamber Music*\n",
       "1             Speaker\n",
       "2              Family\n",
       "3      Chamber Music*\n",
       "4                Jazz\n",
       "           ...       \n",
       "32      Chamber Music\n",
       "33      Special Event\n",
       "34              Dance\n",
       "35            Speaker\n",
       "36    American Routes\n",
       "Name: Category, Length: 37, dtype: object"
      ]
     },
     "execution_count": 103,
     "metadata": {},
     "output_type": "execute_result"
    }
   ],
   "source": [
    "artpower.get('Category')"
   ]
  },
  {
   "cell_type": "markdown",
   "metadata": {},
   "source": [
    "Why the asterisk, you ask? Great question! Here is ArtPower's explanation:\n",
    "\n",
    ">**ASTERISK\\***\n",
    ">When you see this symbol\\*, it indicates artists that are pushing the boundaries, often across genres."
   ]
  },
  {
   "cell_type": "markdown",
   "metadata": {},
   "source": [
    "**Question 1.3.** Then create a DataFrame called `chamber_music` that contains all the rows of `artpower` for events where the `'Category'` is `'Chamber Music'`, and all the rows for events where the `'Category'` is `'Chamber Music*'`, but no additional rows. "
   ]
  },
  {
   "cell_type": "code",
   "execution_count": 104,
   "metadata": {},
   "outputs": [
    {
     "data": {
      "text/html": [
       "<div>\n",
       "<style scoped>\n",
       "    .dataframe tbody tr th:only-of-type {\n",
       "        vertical-align: middle;\n",
       "    }\n",
       "\n",
       "    .dataframe tbody tr th {\n",
       "        vertical-align: top;\n",
       "    }\n",
       "\n",
       "    .dataframe thead th {\n",
       "        text-align: right;\n",
       "    }\n",
       "</style>\n",
       "<table border=\"1\" class=\"dataframe\">\n",
       "  <thead>\n",
       "    <tr style=\"text-align: right;\">\n",
       "      <th></th>\n",
       "      <th>Event Name</th>\n",
       "      <th>Category</th>\n",
       "      <th>Description</th>\n",
       "      <th>Link</th>\n",
       "      <th>Price</th>\n",
       "      <th>Date</th>\n",
       "      <th>Time</th>\n",
       "      <th>Location</th>\n",
       "      <th>Latitude</th>\n",
       "      <th>Longitude</th>\n",
       "    </tr>\n",
       "  </thead>\n",
       "  <tbody>\n",
       "    <tr>\n",
       "      <th>0</th>\n",
       "      <td>Roomful of Teeth</td>\n",
       "      <td>Chamber Music*</td>\n",
       "      <td>“Roomful of Teeth is revolutionizing choral mu...</td>\n",
       "      <td>https://artpower.ucsd.edu/event/roomful-of-teeth/</td>\n",
       "      <td>['Reserved Seating:  $40–65', 'UCSD Student:  ...</td>\n",
       "      <td>13 OCT 2024</td>\n",
       "      <td>SUN 2:00 PM</td>\n",
       "      <td>Department of Music's Conrad Prebys Concert Hall</td>\n",
       "      <td>32.878244</td>\n",
       "      <td>-117.234525</td>\n",
       "    </tr>\n",
       "    <tr>\n",
       "      <th>3</th>\n",
       "      <td>Sara Schoenbeck and Wayne Horvitz</td>\n",
       "      <td>Chamber Music*</td>\n",
       "      <td>The Sara Schoenbeck and Wayne Horvitz duo navi...</td>\n",
       "      <td>https://artpower.ucsd.edu/event/wayne-horvitz/</td>\n",
       "      <td>['General Admission:  $20', 'UCSD Student:  Li...</td>\n",
       "      <td>28 OCT 2024</td>\n",
       "      <td>MON 8 pm</td>\n",
       "      <td>The Loft, La Jolla</td>\n",
       "      <td>32.879464</td>\n",
       "      <td>-117.235911</td>\n",
       "    </tr>\n",
       "    <tr>\n",
       "      <th>15</th>\n",
       "      <td>JACK Quartet + Art of Elan</td>\n",
       "      <td>Chamber Music*</td>\n",
       "      <td>Following a highly successful performance at t...</td>\n",
       "      <td>https://artpower.ucsd.edu/event/jack-quartet-a...</td>\n",
       "      <td>['Reserved Seating:  $40–$48', 'UCSD Student: ...</td>\n",
       "      <td>10 DEC 2024</td>\n",
       "      <td>TUE 7:30 pm</td>\n",
       "      <td>Department of Music's Conrad Prebys Concert Hall</td>\n",
       "      <td>32.878244</td>\n",
       "      <td>-117.234525</td>\n",
       "    </tr>\n",
       "    <tr>\n",
       "      <th>22</th>\n",
       "      <td>Harlem Quartet | Echoes of Inspiration</td>\n",
       "      <td>Chamber Music</td>\n",
       "      <td>“One of the greatest string quartets I have ev...</td>\n",
       "      <td>https://artpower.ucsd.edu/event/harlem-quartet...</td>\n",
       "      <td>['Reserved Seating:  Tickets start at $40', 'U...</td>\n",
       "      <td>14 FEB 2025</td>\n",
       "      <td>FRI 7:30 pm</td>\n",
       "      <td>Department of Music's Conrad Prebys Concert Hall</td>\n",
       "      <td>32.878244</td>\n",
       "      <td>-117.234525</td>\n",
       "    </tr>\n",
       "    <tr>\n",
       "      <th>23</th>\n",
       "      <td>Caroline Shaw &amp; Sō Percussion featuring Ringdown</td>\n",
       "      <td>Chamber Music*</td>\n",
       "      <td>For 20 years and counting, Sō Percussion has r...</td>\n",
       "      <td>https://artpower.ucsd.edu/event/caroline-shaw-...</td>\n",
       "      <td>['General Admission:  $40', 'UCSD Student:  Li...</td>\n",
       "      <td>18 FEB 2025</td>\n",
       "      <td>TUE 7:30 pm</td>\n",
       "      <td>Mandeville Auditorium</td>\n",
       "      <td>32.877742</td>\n",
       "      <td>-117.239442</td>\n",
       "    </tr>\n",
       "    <tr>\n",
       "      <th>25</th>\n",
       "      <td>Brentano String Quartet</td>\n",
       "      <td>Chamber Music</td>\n",
       "      <td>With a career spanning over three decades, the...</td>\n",
       "      <td>https://artpower.ucsd.edu/event/brentano-strin...</td>\n",
       "      <td>['Reserved Seating:  Tickets start at $40', 'U...</td>\n",
       "      <td>28 FEB 2025</td>\n",
       "      <td>FRI 7:30 pm</td>\n",
       "      <td>Department of Music's Conrad Prebys Concert Hall</td>\n",
       "      <td>32.878244</td>\n",
       "      <td>-117.234525</td>\n",
       "    </tr>\n",
       "    <tr>\n",
       "      <th>32</th>\n",
       "      <td>Meta4</td>\n",
       "      <td>Chamber Music</td>\n",
       "      <td>Founded in 2001, Meta4 is one of Finland’s mos...</td>\n",
       "      <td>https://artpower.ucsd.edu/event/meta4/</td>\n",
       "      <td>['Reserved Seating:  Tickets start at $40', 'U...</td>\n",
       "      <td>25 APR 2025</td>\n",
       "      <td>FRI 7:30 pm</td>\n",
       "      <td>Department of Music's Conrad Prebys Concert Hall</td>\n",
       "      <td>32.878244</td>\n",
       "      <td>-117.234525</td>\n",
       "    </tr>\n",
       "  </tbody>\n",
       "</table>\n",
       "</div>"
      ],
      "text/plain": [
       "                                          Event Name        Category  \\\n",
       "0                                   Roomful of Teeth  Chamber Music*   \n",
       "3                  Sara Schoenbeck and Wayne Horvitz  Chamber Music*   \n",
       "15                        JACK Quartet + Art of Elan  Chamber Music*   \n",
       "22            Harlem Quartet | Echoes of Inspiration   Chamber Music   \n",
       "23  Caroline Shaw & Sō Percussion featuring Ringdown  Chamber Music*   \n",
       "25                           Brentano String Quartet   Chamber Music   \n",
       "32                                             Meta4   Chamber Music   \n",
       "\n",
       "                                          Description  \\\n",
       "0   “Roomful of Teeth is revolutionizing choral mu...   \n",
       "3   The Sara Schoenbeck and Wayne Horvitz duo navi...   \n",
       "15  Following a highly successful performance at t...   \n",
       "22  “One of the greatest string quartets I have ev...   \n",
       "23  For 20 years and counting, Sō Percussion has r...   \n",
       "25  With a career spanning over three decades, the...   \n",
       "32  Founded in 2001, Meta4 is one of Finland’s mos...   \n",
       "\n",
       "                                                 Link  \\\n",
       "0   https://artpower.ucsd.edu/event/roomful-of-teeth/   \n",
       "3      https://artpower.ucsd.edu/event/wayne-horvitz/   \n",
       "15  https://artpower.ucsd.edu/event/jack-quartet-a...   \n",
       "22  https://artpower.ucsd.edu/event/harlem-quartet...   \n",
       "23  https://artpower.ucsd.edu/event/caroline-shaw-...   \n",
       "25  https://artpower.ucsd.edu/event/brentano-strin...   \n",
       "32             https://artpower.ucsd.edu/event/meta4/   \n",
       "\n",
       "                                                Price         Date  \\\n",
       "0   ['Reserved Seating:  $40–65', 'UCSD Student:  ...  13 OCT 2024   \n",
       "3   ['General Admission:  $20', 'UCSD Student:  Li...  28 OCT 2024   \n",
       "15  ['Reserved Seating:  $40–$48', 'UCSD Student: ...  10 DEC 2024   \n",
       "22  ['Reserved Seating:  Tickets start at $40', 'U...  14 FEB 2025   \n",
       "23  ['General Admission:  $40', 'UCSD Student:  Li...  18 FEB 2025   \n",
       "25  ['Reserved Seating:  Tickets start at $40', 'U...  28 FEB 2025   \n",
       "32  ['Reserved Seating:  Tickets start at $40', 'U...  25 APR 2025   \n",
       "\n",
       "           Time                                          Location   Latitude  \\\n",
       "0   SUN 2:00 PM  Department of Music's Conrad Prebys Concert Hall  32.878244   \n",
       "3      MON 8 pm                                The Loft, La Jolla  32.879464   \n",
       "15  TUE 7:30 pm  Department of Music's Conrad Prebys Concert Hall  32.878244   \n",
       "22  FRI 7:30 pm  Department of Music's Conrad Prebys Concert Hall  32.878244   \n",
       "23  TUE 7:30 pm                             Mandeville Auditorium  32.877742   \n",
       "25  FRI 7:30 pm  Department of Music's Conrad Prebys Concert Hall  32.878244   \n",
       "32  FRI 7:30 pm  Department of Music's Conrad Prebys Concert Hall  32.878244   \n",
       "\n",
       "     Longitude  \n",
       "0  -117.234525  \n",
       "3  -117.235911  \n",
       "15 -117.234525  \n",
       "22 -117.234525  \n",
       "23 -117.239442  \n",
       "25 -117.234525  \n",
       "32 -117.234525  "
      ]
     },
     "execution_count": 104,
     "metadata": {},
     "output_type": "execute_result"
    }
   ],
   "source": [
    "chamber_music = artpower[(artpower.get('Category')== \"Chamber Music\") | (artpower.get('Category')== \"Chamber Music*\")]\n",
    "chamber_music"
   ]
  },
  {
   "cell_type": "code",
   "execution_count": 105,
   "metadata": {
    "deletable": false,
    "editable": false
   },
   "outputs": [
    {
     "data": {
      "text/html": [
       "<p><strong><pre style='display: inline;'>q1_3</pre></strong> passed!</p>"
      ],
      "text/plain": [
       "q1_3 results: All test cases passed!"
      ]
     },
     "execution_count": 105,
     "metadata": {},
     "output_type": "execute_result"
    }
   ],
   "source": [
    "grader.check(\"q1_3\")"
   ]
  },
  {
   "cell_type": "markdown",
   "metadata": {},
   "source": [
    "**Question 1.4.** Suppose you want to extract the day of the week (e.g. Monday) for each event. Write a function called `day_of_week` that takes as input one entry from the ``'Time'`` column and outputs the three-letter abbreviation of the day of the week associated with that entry. For example, the call `day_of_week('FRI 7:30 pm')` should return the string `'FRI'`. You can assume that the inputs to your function will always be in the format shown in the `'Time'` column of `artpower`."
   ]
  },
  {
   "cell_type": "code",
   "execution_count": 106,
   "metadata": {},
   "outputs": [],
   "source": [
    "def day_of_week(time):\n",
    "    day = \"\"\n",
    "    day = time[:3]\n",
    "    return day"
   ]
  },
  {
   "cell_type": "code",
   "execution_count": 107,
   "metadata": {
    "deletable": false,
    "editable": false
   },
   "outputs": [
    {
     "data": {
      "text/html": [
       "<p><strong><pre style='display: inline;'>q1_4</pre></strong> passed!</p>"
      ],
      "text/plain": [
       "q1_4 results: All test cases passed!"
      ]
     },
     "execution_count": 107,
     "metadata": {},
     "output_type": "execute_result"
    }
   ],
   "source": [
    "grader.check(\"q1_4\")"
   ]
  },
  {
   "cell_type": "markdown",
   "metadata": {},
   "source": [
    "**Question 1.5.** Using the `day_of_week` function you just wrote, assign the variable `most_dow` to the day of the week that has the *largest* number of events planned. Then, assign `least_dow` to the day of the week that has the *smallest* number of events planned. Finally, assign `difference_dow` to the difference between the number of events on the most popular (`most_dow`) and least popular (`least_dow`) days of the week. \n",
    "\n",
    "***Hints:*** \n",
    "- You will need to define additional variables to answer this question. Feel free to add more cells above the provided cell.\n",
    "- Start by adding a column to `artpower` that contains the day of the week for each event."
   ]
  },
  {
   "cell_type": "code",
   "execution_count": 108,
   "metadata": {},
   "outputs": [],
   "source": [
    "artpower = artpower.assign(dow = artpower.get(\"Time\").apply(day_of_week));"
   ]
  },
  {
   "cell_type": "code",
   "execution_count": 109,
   "metadata": {},
   "outputs": [],
   "source": [
    "day_counter = artpower.groupby('dow').count().get(\"Event Name\").sort_values(ascending = False)\n",
    "# day_counter"
   ]
  },
  {
   "cell_type": "code",
   "execution_count": 110,
   "metadata": {
    "scrolled": true
   },
   "outputs": [
    {
     "name": "stdout",
     "output_type": "stream",
     "text": [
      "Events occur the most on FRI\n",
      "Events occur the least on MON\n",
      "FRI has 10 more events planned than MON\n"
     ]
    }
   ],
   "source": [
    "most_dow = day_counter.index[0]\n",
    "least_dow = day_counter.index[-1]\n",
    "difference_dow = (day_counter.iloc[0])-(day_counter.iloc[-1])\n",
    "print(\"Events occur the most on\", most_dow)\n",
    "print(\"Events occur the least on\", least_dow)\n",
    "print(most_dow, \"has\", difference_dow, \"more events planned than\", least_dow)"
   ]
  },
  {
   "cell_type": "code",
   "execution_count": 111,
   "metadata": {
    "deletable": false,
    "editable": false
   },
   "outputs": [
    {
     "data": {
      "text/html": [
       "<p><strong><pre style='display: inline;'>q1_5</pre></strong> passed!</p>"
      ],
      "text/plain": [
       "q1_5 results: All test cases passed!"
      ]
     },
     "execution_count": 111,
     "metadata": {},
     "output_type": "execute_result"
    }
   ],
   "source": [
    "grader.check(\"q1_5\")"
   ]
  },
  {
   "cell_type": "markdown",
   "metadata": {},
   "source": [
    "**Question 1.6.** Construct an appropriate visualization to compare the distribution of the number of events across different days of the week, sorted so that the day with the most events appears first in your visualization. Make sure to include every day of the week and its corresponding number of events.\n",
    "\n",
    "***Note:*** With this problem, and with all others, make sure your solutions sticks to the methods of the course. While there are many ways to make plots in Python, we've only used one, `.plot`."
   ]
  },
  {
   "cell_type": "markdown",
   "metadata": {
    "deletable": false,
    "editable": false
   },
   "source": [
    "<!-- BEGIN QUESTION -->\n",
    "\n",
    "<!--\n",
    "BEGIN QUESTION\n",
    "name: q1_6\n",
    "manual: true\n",
    "-->"
   ]
  },
  {
   "cell_type": "code",
   "execution_count": 112,
   "metadata": {},
   "outputs": [
    {
     "data": {
      "image/png": "[encoded data removed]",
      "text/plain": [
       "<Figure size 720x360 with 1 Axes>"
      ]
     },
     "metadata": {},
     "output_type": "display_data"
    }
   ],
   "source": [
    "# Create your plot here.\n",
    "day_counter.plot(kind='bar');"
   ]
  },
  {
   "cell_type": "markdown",
   "metadata": {},
   "source": [
    "<!-- END QUESTION -->\n",
    "\n",
    "\n",
    "\n",
    "**Question 1.7.** In each row of `artpower`, we are given the `'Latitude'` and `'Longitude'`, which tells us a precise geographical location for each ArtPower event. To see how events are located relative to one another, create a scatter plot with `'Longitude'` on the x-axis and `'Latitude'` on the y-axis for every event in the `artpower` DataFrame. "
   ]
  },
  {
   "cell_type": "markdown",
   "metadata": {
    "deletable": false,
    "editable": false
   },
   "source": [
    "<!-- BEGIN QUESTION -->\n",
    "\n",
    "<!--\n",
    "BEGIN QUESTION\n",
    "name: q1_7\n",
    "manual: true\n",
    "-->"
   ]
  },
  {
   "cell_type": "code",
   "execution_count": 113,
   "metadata": {},
   "outputs": [
    {
     "data": {
      "image/png": "[encoded data removed]",
      "text/plain": [
       "<Figure size 720x360 with 1 Axes>"
      ]
     },
     "metadata": {},
     "output_type": "display_data"
    }
   ],
   "source": [
    "# Create your plot here.\n",
    "artpower.plot(kind = 'scatter', x='Longitude', y='Latitude');"
   ]
  },
  {
   "cell_type": "markdown",
   "metadata": {},
   "source": [
    "<!-- END QUESTION -->\n",
    "\n",
    "\n",
    "\n",
    "Your scatter plot shows how the event locations are related to one another geographically, but it's hard to draw much insight from such a basic plot. For example, you might not realize from looking at the plot above that all the dots in the upper left corner correspond to events happening on UCSD's campus, while the dots in the bottom right correspond to events happening in downtown San Diego. That would be much easier to discover if we could plot these points not just on a scatter plot, but on a map.\n",
    "\n",
    "Luckily, there's a Python package for that. Run the cell below to import the package `folium`, which supports maps, and to see the ArtPower events on a map we've created using the `'Latitude'` and `'Longitude'` values in `artpower`. You don't need to understand the code that creates the map, but do try zooming in and clicking around on the map that is produced. "
   ]
  },
  {
   "cell_type": "code",
   "execution_count": 114,
   "metadata": {},
   "outputs": [],
   "source": [
    "import folium\n",
    "from folium.plugins import MarkerCluster\n",
    "\n",
    "def create_map():\n",
    "    my_map = folium.Map(location=[32.8, -117.2], zoom_start=11)\n",
    "    marker_cluster = MarkerCluster().add_to(my_map)\n",
    "    for i in np.arange(artpower.shape[0]):\n",
    "        folium.Marker(\n",
    "            location=[artpower.get('Latitude').iloc[i], artpower.get('Longitude').iloc[i]],\n",
    "            tooltip=\"Click me!\",\n",
    "            popup=artpower.get('Event Name').iloc[i] + ' on ' + artpower.get('Date').iloc[i],\n",
    "            icon=folium.Icon(icon=\"star\")\n",
    "        ).add_to(marker_cluster)\n",
    "    return my_map\n",
    "\n",
    "create_map();"
   ]
  },
  {
   "cell_type": "markdown",
   "metadata": {},
   "source": [
    "**Question 1.8.** From exploring the map above, you should see that there are only a few different `'Location'`s where ArtPower events take place. Since the map automatically clusters events at nearby `'Location'`s, you can easily see how many events take place on campus versus off campus. \n",
    "\n",
    "In the cell below, write code to extract the number of upcoming ArtPower events that will take place on and off campus, storing your results in `on_campus` and `off_campus`, respectively. Don't just type in the numbers you see in the map above; write code to extract the values from the `artpower` DataFrame. When you're done, make sure that your results agree with what you see in the map. \n",
    "\n",
    "You will need to use the fact that the only off-campus `'Location'` for upcoming ArtPower events is `'Balboa Theatre'` in downtown San Diego."
   ]
  },
  {
   "cell_type": "code",
   "execution_count": 115,
   "metadata": {},
   "outputs": [
    {
     "data": {
      "text/html": [
       "<div>\n",
       "<style scoped>\n",
       "    .dataframe tbody tr th:only-of-type {\n",
       "        vertical-align: middle;\n",
       "    }\n",
       "\n",
       "    .dataframe tbody tr th {\n",
       "        vertical-align: top;\n",
       "    }\n",
       "\n",
       "    .dataframe thead th {\n",
       "        text-align: right;\n",
       "    }\n",
       "</style>\n",
       "<table border=\"1\" class=\"dataframe\">\n",
       "  <thead>\n",
       "    <tr style=\"text-align: right;\">\n",
       "      <th></th>\n",
       "      <th></th>\n",
       "      <th>Event Name</th>\n",
       "      <th>Category</th>\n",
       "      <th>Description</th>\n",
       "      <th>Link</th>\n",
       "      <th>Price</th>\n",
       "      <th>Date</th>\n",
       "      <th>Time</th>\n",
       "      <th>Location</th>\n",
       "      <th>dow</th>\n",
       "    </tr>\n",
       "    <tr>\n",
       "      <th>Latitude</th>\n",
       "      <th>Longitude</th>\n",
       "      <th></th>\n",
       "      <th></th>\n",
       "      <th></th>\n",
       "      <th></th>\n",
       "      <th></th>\n",
       "      <th></th>\n",
       "      <th></th>\n",
       "      <th></th>\n",
       "      <th></th>\n",
       "    </tr>\n",
       "  </thead>\n",
       "  <tbody>\n",
       "    <tr>\n",
       "      <th>32.714322</th>\n",
       "      <th>-117.161342</th>\n",
       "      <td>4</td>\n",
       "      <td>4</td>\n",
       "      <td>4</td>\n",
       "      <td>4</td>\n",
       "      <td>4</td>\n",
       "      <td>4</td>\n",
       "      <td>4</td>\n",
       "      <td>4</td>\n",
       "      <td>4</td>\n",
       "    </tr>\n",
       "    <tr>\n",
       "      <th>32.877742</th>\n",
       "      <th>-117.239442</th>\n",
       "      <td>5</td>\n",
       "      <td>5</td>\n",
       "      <td>5</td>\n",
       "      <td>5</td>\n",
       "      <td>5</td>\n",
       "      <td>5</td>\n",
       "      <td>5</td>\n",
       "      <td>5</td>\n",
       "      <td>5</td>\n",
       "    </tr>\n",
       "    <tr>\n",
       "      <th>32.878244</th>\n",
       "      <th>-117.234525</th>\n",
       "      <td>5</td>\n",
       "      <td>5</td>\n",
       "      <td>5</td>\n",
       "      <td>5</td>\n",
       "      <td>5</td>\n",
       "      <td>5</td>\n",
       "      <td>5</td>\n",
       "      <td>5</td>\n",
       "      <td>5</td>\n",
       "    </tr>\n",
       "    <tr>\n",
       "      <th>32.879193</th>\n",
       "      <th>-117.232998</th>\n",
       "      <td>12</td>\n",
       "      <td>12</td>\n",
       "      <td>12</td>\n",
       "      <td>12</td>\n",
       "      <td>12</td>\n",
       "      <td>12</td>\n",
       "      <td>12</td>\n",
       "      <td>12</td>\n",
       "      <td>12</td>\n",
       "    </tr>\n",
       "    <tr>\n",
       "      <th>32.879244</th>\n",
       "      <th>-117.231125</th>\n",
       "      <td>2</td>\n",
       "      <td>2</td>\n",
       "      <td>2</td>\n",
       "      <td>2</td>\n",
       "      <td>2</td>\n",
       "      <td>2</td>\n",
       "      <td>2</td>\n",
       "      <td>2</td>\n",
       "      <td>2</td>\n",
       "    </tr>\n",
       "    <tr>\n",
       "      <th>32.879464</th>\n",
       "      <th>-117.235911</th>\n",
       "      <td>9</td>\n",
       "      <td>9</td>\n",
       "      <td>9</td>\n",
       "      <td>9</td>\n",
       "      <td>9</td>\n",
       "      <td>9</td>\n",
       "      <td>9</td>\n",
       "      <td>9</td>\n",
       "      <td>9</td>\n",
       "    </tr>\n",
       "  </tbody>\n",
       "</table>\n",
       "</div>"
      ],
      "text/plain": [
       "                       Event Name  Category  Description  Link  Price  Date  \\\n",
       "Latitude  Longitude                                                           \n",
       "32.714322 -117.161342           4         4            4     4      4     4   \n",
       "32.877742 -117.239442           5         5            5     5      5     5   \n",
       "32.878244 -117.234525           5         5            5     5      5     5   \n",
       "32.879193 -117.232998          12        12           12    12     12    12   \n",
       "32.879244 -117.231125           2         2            2     2      2     2   \n",
       "32.879464 -117.235911           9         9            9     9      9     9   \n",
       "\n",
       "                       Time  Location  dow  \n",
       "Latitude  Longitude                         \n",
       "32.714322 -117.161342     4         4    4  \n",
       "32.877742 -117.239442     5         5    5  \n",
       "32.878244 -117.234525     5         5    5  \n",
       "32.879193 -117.232998    12        12   12  \n",
       "32.879244 -117.231125     2         2    2  \n",
       "32.879464 -117.235911     9         9    9  "
      ]
     },
     "execution_count": 115,
     "metadata": {},
     "output_type": "execute_result"
    }
   ],
   "source": [
    "artpower.groupby(['Latitude','Longitude']).count()"
   ]
  },
  {
   "cell_type": "code",
   "execution_count": 116,
   "metadata": {},
   "outputs": [
    {
     "name": "stdout",
     "output_type": "stream",
     "text": [
      "There are 4 events on campus and 33 events off campus.\n"
     ]
    }
   ],
   "source": [
    "on_campus = artpower.groupby(['Latitude','Longitude']).count().get(\"Event Name\").iloc[0]\n",
    "off_campus = artpower.groupby(['Latitude','Longitude']).count().get(\"Event Name\").sum() - on_campus\n",
    "print(\"There are\", on_campus, \"events on campus and\", off_campus, \"events off campus.\")"
   ]
  },
  {
   "cell_type": "code",
   "execution_count": 117,
   "metadata": {
    "deletable": false,
    "editable": false
   },
   "outputs": [
    {
     "data": {
      "text/html": [
       "<p><strong><pre style='display: inline;'>q1_8</pre></strong> passed!</p>"
      ],
      "text/plain": [
       "q1_8 results: All test cases passed!"
      ]
     },
     "execution_count": 117,
     "metadata": {},
     "output_type": "execute_result"
    }
   ],
   "source": [
    "grader.check(\"q1_8\")"
   ]
  },
  {
   "cell_type": "markdown",
   "metadata": {},
   "source": [
    "## 2. Are You Scared Yet? Analyzing Horror Movies 🎃😱"
   ]
  },
  {
   "cell_type": "markdown",
   "metadata": {},
   "source": [
    "<center><img src='./images/hocus_pocus.jpg' width = 400/></center>\n",
    "\n",
    "Spooky season is upon us! We've provided a file, `data/horror_movies.csv`, that contains information about horror movies. For each movie, we have 10 pieces of information (see the data description below) that we'll use to generate some insights about the state of horror movies in recent years. \n",
    "\n",
    "| Column      | Description |\n",
    "| ----------- | ----------- |\n",
    "| `'Title'`      | Title of the movie, with the year in parentheses    |\n",
    "| `'Country'`   | Country the movie was originally released in        |\n",
    "| `'Maturity Rating'` | A rating given to the movie by the Motion Picture Association |\n",
    "| `'Review Rating'` | The IMDb rating of the film, representing how good it was | \n",
    "| `'Language'` | The language the movie is in | \n",
    "| `'Filming Locations'` | The location in which the movie was filmed |\n",
    "| `'Budget'` | The total amount spent on the movie |\n",
    "| `'Release Month'` | The month the movie was released |\n",
    "| `'Release Day'` | The day of the month the movie was released |\n",
    "| `'Run Time'` | The length of the film in minutes |"
   ]
  },
  {
   "cell_type": "code",
   "execution_count": 118,
   "metadata": {},
   "outputs": [
    {
     "data": {
      "text/html": [
       "<div>\n",
       "<style scoped>\n",
       "    .dataframe tbody tr th:only-of-type {\n",
       "        vertical-align: middle;\n",
       "    }\n",
       "\n",
       "    .dataframe tbody tr th {\n",
       "        vertical-align: top;\n",
       "    }\n",
       "\n",
       "    .dataframe thead th {\n",
       "        text-align: right;\n",
       "    }\n",
       "</style>\n",
       "<table border=\"1\" class=\"dataframe\">\n",
       "  <thead>\n",
       "    <tr style=\"text-align: right;\">\n",
       "      <th></th>\n",
       "      <th>Title</th>\n",
       "      <th>Country</th>\n",
       "      <th>Maturity Rating</th>\n",
       "      <th>Review Rating</th>\n",
       "      <th>Language</th>\n",
       "      <th>Filming Locations</th>\n",
       "      <th>Budget</th>\n",
       "      <th>Release Month</th>\n",
       "      <th>Release Day</th>\n",
       "      <th>Run Time</th>\n",
       "    </tr>\n",
       "  </thead>\n",
       "  <tbody>\n",
       "    <tr>\n",
       "      <th>0</th>\n",
       "      <td>Rise of the Animals (2011)</td>\n",
       "      <td>USA</td>\n",
       "      <td>NOT RATED</td>\n",
       "      <td>3.6</td>\n",
       "      <td>English</td>\n",
       "      <td>Rochester, New York, USA</td>\n",
       "      <td>7000</td>\n",
       "      <td>May</td>\n",
       "      <td>1</td>\n",
       "      <td>70</td>\n",
       "    </tr>\n",
       "    <tr>\n",
       "      <th>1</th>\n",
       "      <td>Zombie Resurrection (2014)</td>\n",
       "      <td>UK</td>\n",
       "      <td>NOT RATED</td>\n",
       "      <td>2.7</td>\n",
       "      <td>English</td>\n",
       "      <td>Hampshire, England, UK</td>\n",
       "      <td>100000</td>\n",
       "      <td>March</td>\n",
       "      <td>23</td>\n",
       "      <td>86</td>\n",
       "    </tr>\n",
       "    <tr>\n",
       "      <th>2</th>\n",
       "      <td>Before Dawn (2013)</td>\n",
       "      <td>Japan</td>\n",
       "      <td>NOT RATED</td>\n",
       "      <td>4.7</td>\n",
       "      <td>English</td>\n",
       "      <td>Yorkshire, England, UK</td>\n",
       "      <td>25000</td>\n",
       "      <td>June</td>\n",
       "      <td>8</td>\n",
       "      <td>82</td>\n",
       "    </tr>\n",
       "    <tr>\n",
       "      <th>3</th>\n",
       "      <td>Apparition (2015)</td>\n",
       "      <td>USA</td>\n",
       "      <td>NOT RATED</td>\n",
       "      <td>4.0</td>\n",
       "      <td>English</td>\n",
       "      <td>Philadelphia, Pennsylvania, USA</td>\n",
       "      <td>3000000</td>\n",
       "      <td>May</td>\n",
       "      <td>5</td>\n",
       "      <td>100</td>\n",
       "    </tr>\n",
       "    <tr>\n",
       "      <th>4</th>\n",
       "      <td>Her Cry: La Llorona Investigation (2013)</td>\n",
       "      <td>USA</td>\n",
       "      <td>NOT RATED</td>\n",
       "      <td>5.4</td>\n",
       "      <td>English</td>\n",
       "      <td>Houston, Texas, USA</td>\n",
       "      <td>60000</td>\n",
       "      <td>April</td>\n",
       "      <td>19</td>\n",
       "      <td>89</td>\n",
       "    </tr>\n",
       "    <tr>\n",
       "      <th>...</th>\n",
       "      <td>...</td>\n",
       "      <td>...</td>\n",
       "      <td>...</td>\n",
       "      <td>...</td>\n",
       "      <td>...</td>\n",
       "      <td>...</td>\n",
       "      <td>...</td>\n",
       "      <td>...</td>\n",
       "      <td>...</td>\n",
       "      <td>...</td>\n",
       "    </tr>\n",
       "    <tr>\n",
       "      <th>457</th>\n",
       "      <td>Insidious: Chapter 3 (2015)</td>\n",
       "      <td>USA</td>\n",
       "      <td>PG-13</td>\n",
       "      <td>6.1</td>\n",
       "      <td>English</td>\n",
       "      <td>929 South Broadway, Downtown, Los Angeles, Cal...</td>\n",
       "      <td>10000000</td>\n",
       "      <td>June</td>\n",
       "      <td>5</td>\n",
       "      <td>97</td>\n",
       "    </tr>\n",
       "    <tr>\n",
       "      <th>458</th>\n",
       "      <td>The Purge (2013)</td>\n",
       "      <td>USA</td>\n",
       "      <td>R</td>\n",
       "      <td>5.7</td>\n",
       "      <td>English</td>\n",
       "      <td>Chatsworth, Los Angeles, California, USA</td>\n",
       "      <td>3000000</td>\n",
       "      <td>June</td>\n",
       "      <td>7</td>\n",
       "      <td>85</td>\n",
       "    </tr>\n",
       "    <tr>\n",
       "      <th>459</th>\n",
       "      <td>13 Sins (2014)</td>\n",
       "      <td>Poland</td>\n",
       "      <td>R</td>\n",
       "      <td>6.3</td>\n",
       "      <td>English</td>\n",
       "      <td>New Orleans, Louisiana, USA</td>\n",
       "      <td>4000000</td>\n",
       "      <td>April</td>\n",
       "      <td>11</td>\n",
       "      <td>93</td>\n",
       "    </tr>\n",
       "    <tr>\n",
       "      <th>460</th>\n",
       "      <td>Victor Frankenstein (2015)</td>\n",
       "      <td>USA</td>\n",
       "      <td>PG-13</td>\n",
       "      <td>6.0</td>\n",
       "      <td>English</td>\n",
       "      <td>London, England, UK</td>\n",
       "      <td>40000000</td>\n",
       "      <td>November</td>\n",
       "      <td>25</td>\n",
       "      <td>110</td>\n",
       "    </tr>\n",
       "    <tr>\n",
       "      <th>461</th>\n",
       "      <td>BloodRayne: The Third Reich (2011)</td>\n",
       "      <td>Japan</td>\n",
       "      <td>R</td>\n",
       "      <td>3.0</td>\n",
       "      <td>English</td>\n",
       "      <td>Zagreb, Croatia</td>\n",
       "      <td>10000000</td>\n",
       "      <td>March</td>\n",
       "      <td>17</td>\n",
       "      <td>79</td>\n",
       "    </tr>\n",
       "  </tbody>\n",
       "</table>\n",
       "<p>462 rows × 10 columns</p>\n",
       "</div>"
      ],
      "text/plain": [
       "                                        Title Country Maturity Rating  \\\n",
       "0                  Rise of the Animals (2011)     USA       NOT RATED   \n",
       "1                  Zombie Resurrection (2014)      UK       NOT RATED   \n",
       "2                          Before Dawn (2013)   Japan       NOT RATED   \n",
       "3                           Apparition (2015)     USA       NOT RATED   \n",
       "4    Her Cry: La Llorona Investigation (2013)     USA       NOT RATED   \n",
       "..                                        ...     ...             ...   \n",
       "457               Insidious: Chapter 3 (2015)     USA           PG-13   \n",
       "458                          The Purge (2013)     USA               R   \n",
       "459                            13 Sins (2014)  Poland               R   \n",
       "460                Victor Frankenstein (2015)     USA           PG-13   \n",
       "461        BloodRayne: The Third Reich (2011)   Japan               R   \n",
       "\n",
       "     Review Rating Language  \\\n",
       "0              3.6  English   \n",
       "1              2.7  English   \n",
       "2              4.7  English   \n",
       "3              4.0  English   \n",
       "4              5.4  English   \n",
       "..             ...      ...   \n",
       "457            6.1  English   \n",
       "458            5.7  English   \n",
       "459            6.3  English   \n",
       "460            6.0  English   \n",
       "461            3.0  English   \n",
       "\n",
       "                                     Filming Locations    Budget  \\\n",
       "0                             Rochester, New York, USA      7000   \n",
       "1                               Hampshire, England, UK    100000   \n",
       "2                               Yorkshire, England, UK     25000   \n",
       "3                      Philadelphia, Pennsylvania, USA   3000000   \n",
       "4                                  Houston, Texas, USA     60000   \n",
       "..                                                 ...       ...   \n",
       "457  929 South Broadway, Downtown, Los Angeles, Cal...  10000000   \n",
       "458           Chatsworth, Los Angeles, California, USA   3000000   \n",
       "459                        New Orleans, Louisiana, USA   4000000   \n",
       "460                                London, England, UK  40000000   \n",
       "461                                    Zagreb, Croatia  10000000   \n",
       "\n",
       "    Release Month  Release Day  Run Time  \n",
       "0             May            1        70  \n",
       "1           March           23        86  \n",
       "2            June            8        82  \n",
       "3             May            5       100  \n",
       "4           April           19        89  \n",
       "..            ...          ...       ...  \n",
       "457          June            5        97  \n",
       "458          June            7        85  \n",
       "459         April           11        93  \n",
       "460      November           25       110  \n",
       "461         March           17        79  \n",
       "\n",
       "[462 rows x 10 columns]"
      ]
     },
     "execution_count": 118,
     "metadata": {},
     "output_type": "execute_result"
    }
   ],
   "source": [
    "# Run this cell to load the dataset.\n",
    "horror = bpd.read_csv('data/horror_movies.csv') \n",
    "horror"
   ]
  },
  {
   "cell_type": "markdown",
   "metadata": {},
   "source": [
    "**Question 2.1.** Examine the columns available in `horror` and consider which would be the best choice of index for this DataFrame. Change the `horror` DataFrame so that it's indexed by the values in this column instead of the default index."
   ]
  },
  {
   "cell_type": "code",
   "execution_count": 119,
   "metadata": {},
   "outputs": [
    {
     "data": {
      "text/html": [
       "<div>\n",
       "<style scoped>\n",
       "    .dataframe tbody tr th:only-of-type {\n",
       "        vertical-align: middle;\n",
       "    }\n",
       "\n",
       "    .dataframe tbody tr th {\n",
       "        vertical-align: top;\n",
       "    }\n",
       "\n",
       "    .dataframe thead th {\n",
       "        text-align: right;\n",
       "    }\n",
       "</style>\n",
       "<table border=\"1\" class=\"dataframe\">\n",
       "  <thead>\n",
       "    <tr style=\"text-align: right;\">\n",
       "      <th></th>\n",
       "      <th>Country</th>\n",
       "      <th>Maturity Rating</th>\n",
       "      <th>Review Rating</th>\n",
       "      <th>Language</th>\n",
       "      <th>Filming Locations</th>\n",
       "      <th>Budget</th>\n",
       "      <th>Release Month</th>\n",
       "      <th>Release Day</th>\n",
       "      <th>Run Time</th>\n",
       "    </tr>\n",
       "    <tr>\n",
       "      <th>Title</th>\n",
       "      <th></th>\n",
       "      <th></th>\n",
       "      <th></th>\n",
       "      <th></th>\n",
       "      <th></th>\n",
       "      <th></th>\n",
       "      <th></th>\n",
       "      <th></th>\n",
       "      <th></th>\n",
       "    </tr>\n",
       "  </thead>\n",
       "  <tbody>\n",
       "    <tr>\n",
       "      <th>Rise of the Animals (2011)</th>\n",
       "      <td>USA</td>\n",
       "      <td>NOT RATED</td>\n",
       "      <td>3.6</td>\n",
       "      <td>English</td>\n",
       "      <td>Rochester, New York, USA</td>\n",
       "      <td>7000</td>\n",
       "      <td>May</td>\n",
       "      <td>1</td>\n",
       "      <td>70</td>\n",
       "    </tr>\n",
       "    <tr>\n",
       "      <th>Zombie Resurrection (2014)</th>\n",
       "      <td>UK</td>\n",
       "      <td>NOT RATED</td>\n",
       "      <td>2.7</td>\n",
       "      <td>English</td>\n",
       "      <td>Hampshire, England, UK</td>\n",
       "      <td>100000</td>\n",
       "      <td>March</td>\n",
       "      <td>23</td>\n",
       "      <td>86</td>\n",
       "    </tr>\n",
       "    <tr>\n",
       "      <th>Before Dawn (2013)</th>\n",
       "      <td>Japan</td>\n",
       "      <td>NOT RATED</td>\n",
       "      <td>4.7</td>\n",
       "      <td>English</td>\n",
       "      <td>Yorkshire, England, UK</td>\n",
       "      <td>25000</td>\n",
       "      <td>June</td>\n",
       "      <td>8</td>\n",
       "      <td>82</td>\n",
       "    </tr>\n",
       "    <tr>\n",
       "      <th>Apparition (2015)</th>\n",
       "      <td>USA</td>\n",
       "      <td>NOT RATED</td>\n",
       "      <td>4.0</td>\n",
       "      <td>English</td>\n",
       "      <td>Philadelphia, Pennsylvania, USA</td>\n",
       "      <td>3000000</td>\n",
       "      <td>May</td>\n",
       "      <td>5</td>\n",
       "      <td>100</td>\n",
       "    </tr>\n",
       "    <tr>\n",
       "      <th>Her Cry: La Llorona Investigation (2013)</th>\n",
       "      <td>USA</td>\n",
       "      <td>NOT RATED</td>\n",
       "      <td>5.4</td>\n",
       "      <td>English</td>\n",
       "      <td>Houston, Texas, USA</td>\n",
       "      <td>60000</td>\n",
       "      <td>April</td>\n",
       "      <td>19</td>\n",
       "      <td>89</td>\n",
       "    </tr>\n",
       "    <tr>\n",
       "      <th>...</th>\n",
       "      <td>...</td>\n",
       "      <td>...</td>\n",
       "      <td>...</td>\n",
       "      <td>...</td>\n",
       "      <td>...</td>\n",
       "      <td>...</td>\n",
       "      <td>...</td>\n",
       "      <td>...</td>\n",
       "      <td>...</td>\n",
       "    </tr>\n",
       "    <tr>\n",
       "      <th>Insidious: Chapter 3 (2015)</th>\n",
       "      <td>USA</td>\n",
       "      <td>PG-13</td>\n",
       "      <td>6.1</td>\n",
       "      <td>English</td>\n",
       "      <td>929 South Broadway, Downtown, Los Angeles, Cal...</td>\n",
       "      <td>10000000</td>\n",
       "      <td>June</td>\n",
       "      <td>5</td>\n",
       "      <td>97</td>\n",
       "    </tr>\n",
       "    <tr>\n",
       "      <th>The Purge (2013)</th>\n",
       "      <td>USA</td>\n",
       "      <td>R</td>\n",
       "      <td>5.7</td>\n",
       "      <td>English</td>\n",
       "      <td>Chatsworth, Los Angeles, California, USA</td>\n",
       "      <td>3000000</td>\n",
       "      <td>June</td>\n",
       "      <td>7</td>\n",
       "      <td>85</td>\n",
       "    </tr>\n",
       "    <tr>\n",
       "      <th>13 Sins (2014)</th>\n",
       "      <td>Poland</td>\n",
       "      <td>R</td>\n",
       "      <td>6.3</td>\n",
       "      <td>English</td>\n",
       "      <td>New Orleans, Louisiana, USA</td>\n",
       "      <td>4000000</td>\n",
       "      <td>April</td>\n",
       "      <td>11</td>\n",
       "      <td>93</td>\n",
       "    </tr>\n",
       "    <tr>\n",
       "      <th>Victor Frankenstein (2015)</th>\n",
       "      <td>USA</td>\n",
       "      <td>PG-13</td>\n",
       "      <td>6.0</td>\n",
       "      <td>English</td>\n",
       "      <td>London, England, UK</td>\n",
       "      <td>40000000</td>\n",
       "      <td>November</td>\n",
       "      <td>25</td>\n",
       "      <td>110</td>\n",
       "    </tr>\n",
       "    <tr>\n",
       "      <th>BloodRayne: The Third Reich (2011)</th>\n",
       "      <td>Japan</td>\n",
       "      <td>R</td>\n",
       "      <td>3.0</td>\n",
       "      <td>English</td>\n",
       "      <td>Zagreb, Croatia</td>\n",
       "      <td>10000000</td>\n",
       "      <td>March</td>\n",
       "      <td>17</td>\n",
       "      <td>79</td>\n",
       "    </tr>\n",
       "  </tbody>\n",
       "</table>\n",
       "<p>462 rows × 9 columns</p>\n",
       "</div>"
      ],
      "text/plain": [
       "                                         Country Maturity Rating  \\\n",
       "Title                                                              \n",
       "Rise of the Animals (2011)                   USA       NOT RATED   \n",
       "Zombie Resurrection (2014)                    UK       NOT RATED   \n",
       "Before Dawn (2013)                         Japan       NOT RATED   \n",
       "Apparition (2015)                            USA       NOT RATED   \n",
       "Her Cry: La Llorona Investigation (2013)     USA       NOT RATED   \n",
       "...                                          ...             ...   \n",
       "Insidious: Chapter 3 (2015)                  USA           PG-13   \n",
       "The Purge (2013)                             USA               R   \n",
       "13 Sins (2014)                            Poland               R   \n",
       "Victor Frankenstein (2015)                   USA           PG-13   \n",
       "BloodRayne: The Third Reich (2011)         Japan               R   \n",
       "\n",
       "                                          Review Rating Language  \\\n",
       "Title                                                              \n",
       "Rise of the Animals (2011)                          3.6  English   \n",
       "Zombie Resurrection (2014)                          2.7  English   \n",
       "Before Dawn (2013)                                  4.7  English   \n",
       "Apparition (2015)                                   4.0  English   \n",
       "Her Cry: La Llorona Investigation (2013)            5.4  English   \n",
       "...                                                 ...      ...   \n",
       "Insidious: Chapter 3 (2015)                         6.1  English   \n",
       "The Purge (2013)                                    5.7  English   \n",
       "13 Sins (2014)                                      6.3  English   \n",
       "Victor Frankenstein (2015)                          6.0  English   \n",
       "BloodRayne: The Third Reich (2011)                  3.0  English   \n",
       "\n",
       "                                                                          Filming Locations  \\\n",
       "Title                                                                                         \n",
       "Rise of the Animals (2011)                                         Rochester, New York, USA   \n",
       "Zombie Resurrection (2014)                                           Hampshire, England, UK   \n",
       "Before Dawn (2013)                                                   Yorkshire, England, UK   \n",
       "Apparition (2015)                                           Philadelphia, Pennsylvania, USA   \n",
       "Her Cry: La Llorona Investigation (2013)                                Houston, Texas, USA   \n",
       "...                                                                                     ...   \n",
       "Insidious: Chapter 3 (2015)               929 South Broadway, Downtown, Los Angeles, Cal...   \n",
       "The Purge (2013)                                   Chatsworth, Los Angeles, California, USA   \n",
       "13 Sins (2014)                                                  New Orleans, Louisiana, USA   \n",
       "Victor Frankenstein (2015)                                              London, England, UK   \n",
       "BloodRayne: The Third Reich (2011)                                          Zagreb, Croatia   \n",
       "\n",
       "                                            Budget Release Month  Release Day  \\\n",
       "Title                                                                           \n",
       "Rise of the Animals (2011)                    7000           May            1   \n",
       "Zombie Resurrection (2014)                  100000         March           23   \n",
       "Before Dawn (2013)                           25000          June            8   \n",
       "Apparition (2015)                          3000000           May            5   \n",
       "Her Cry: La Llorona Investigation (2013)     60000         April           19   \n",
       "...                                            ...           ...          ...   \n",
       "Insidious: Chapter 3 (2015)               10000000          June            5   \n",
       "The Purge (2013)                           3000000          June            7   \n",
       "13 Sins (2014)                             4000000         April           11   \n",
       "Victor Frankenstein (2015)                40000000      November           25   \n",
       "BloodRayne: The Third Reich (2011)        10000000         March           17   \n",
       "\n",
       "                                          Run Time  \n",
       "Title                                               \n",
       "Rise of the Animals (2011)                      70  \n",
       "Zombie Resurrection (2014)                      86  \n",
       "Before Dawn (2013)                              82  \n",
       "Apparition (2015)                              100  \n",
       "Her Cry: La Llorona Investigation (2013)        89  \n",
       "...                                            ...  \n",
       "Insidious: Chapter 3 (2015)                     97  \n",
       "The Purge (2013)                                85  \n",
       "13 Sins (2014)                                  93  \n",
       "Victor Frankenstein (2015)                     110  \n",
       "BloodRayne: The Third Reich (2011)              79  \n",
       "\n",
       "[462 rows x 9 columns]"
      ]
     },
     "execution_count": 119,
     "metadata": {},
     "output_type": "execute_result"
    }
   ],
   "source": [
    "horror = horror.set_index('Title')\n",
    "horror"
   ]
  },
  {
   "cell_type": "code",
   "execution_count": 120,
   "metadata": {
    "deletable": false,
    "editable": false
   },
   "outputs": [
    {
     "data": {
      "text/html": [
       "<p><strong><pre style='display: inline;'>q2_1</pre></strong> passed!</p>"
      ],
      "text/plain": [
       "q2_1 results: All test cases passed!"
      ]
     },
     "execution_count": 120,
     "metadata": {},
     "output_type": "execute_result"
    }
   ],
   "source": [
    "grader.check(\"q2_1\")"
   ]
  },
  {
   "cell_type": "markdown",
   "metadata": {},
   "source": [
    "**_Note:_**  If you were to run the cell where you set the index of `horror` again, you'd see an error message. Stop and think about _why_ you'd run into an error. Once you've thought about it, click the thinking emoji below to see the reason for the error.\n",
    "\n",
    "<br>\n",
    "\n",
    "<details>\n",
    "    <summary>Why would there be an error? 🤔</summary><br>\n",
    "    There would be an error since you'd be trying to set the index of <code>horror</code> to a column that no longer exists in <code>horror</code> – the column wouldn't exist because it was converted to the index the first time you ran the cell (and the index is not a column)!\n",
    "</details>\n",
    "\n",
    "If you acually ran the cell twice and got an error message, don't worry. To get rid of it, just re-run the cell where you defined the `horror` DataFrame, then run the cell in 2.1 just once, and you'll be good to go.\n",
    "\n",
    "When you submit your work for autograding, the entire notebook will be run from start to finish. Each cell will run only once, so it's no problem if your code errors on the second run. In this case, it means you're doing something right!"
   ]
  },
  {
   "cell_type": "markdown",
   "metadata": {},
   "source": [
    "**Question 2.2.** *The Ouija Experiment*, released in 2013, is among the lowest-budget movies in our dataset. What is the `'Budget'` of `'The Ouija Experiment (2013)'`, and what is its `'Review Rating'`? Assign your answers to variables `OE_budget` and `OE_rating`, respectively."
   ]
  },
  {
   "cell_type": "code",
   "execution_count": 121,
   "metadata": {},
   "outputs": [
    {
     "name": "stdout",
     "output_type": "stream",
     "text": [
      "The budget for The Ouija Experiment was 1200 and the rating was 3.3\n"
     ]
    }
   ],
   "source": [
    "OE_budget = horror.loc['The Ouija Experiment (2013)'].get('Budget')\n",
    "OE_rating = horror.loc['The Ouija Experiment (2013)'].get('Review Rating')\n",
    "print('The budget for The Ouija Experiment was', OE_budget, 'and the rating was', OE_rating)"
   ]
  },
  {
   "cell_type": "code",
   "execution_count": 122,
   "metadata": {
    "deletable": false,
    "editable": false
   },
   "outputs": [
    {
     "data": {
      "text/html": [
       "<p><strong><pre style='display: inline;'>q2_2</pre></strong> passed!</p>"
      ],
      "text/plain": [
       "q2_2 results: All test cases passed!"
      ]
     },
     "execution_count": 122,
     "metadata": {},
     "output_type": "execute_result"
    }
   ],
   "source": [
    "grader.check(\"q2_2\")"
   ]
  },
  {
   "cell_type": "markdown",
   "metadata": {},
   "source": [
    "**Question 2.3.** Horror movies can be really entertaining, but they can also be really bad. Assign `lowest_rated_movie` to the name of the movie with the lowest `'Review Rating'` (including the year in parentheses), and set the `'Review Rating'` of that movie to `lowest_rating`."
   ]
  },
  {
   "cell_type": "code",
   "execution_count": 123,
   "metadata": {},
   "outputs": [
    {
     "data": {
      "text/plain": [
       "'Krampus: The Devil Returns (2016)'"
      ]
     },
     "execution_count": 123,
     "metadata": {},
     "output_type": "execute_result"
    }
   ],
   "source": [
    "horror.get(\"Review Rating\").sort_values().index[0]"
   ]
  },
  {
   "cell_type": "code",
   "execution_count": 124,
   "metadata": {},
   "outputs": [
    {
     "name": "stdout",
     "output_type": "stream",
     "text": [
      "The lowest-rated movie is Krampus: The Devil Returns (2016) with a rating of 1.6\n"
     ]
    }
   ],
   "source": [
    "lowest_rated_movie = horror.get(\"Review Rating\").sort_values().index[0]\n",
    "lowest_rating = horror.get(\"Review Rating\").sort_values().iloc[0]\n",
    "print('The lowest-rated movie is', lowest_rated_movie, 'with a rating of', lowest_rating)"
   ]
  },
  {
   "cell_type": "code",
   "execution_count": 125,
   "metadata": {
    "deletable": false,
    "editable": false
   },
   "outputs": [
    {
     "data": {
      "text/html": [
       "<p><strong><pre style='display: inline;'>q2_3</pre></strong> passed!</p>"
      ],
      "text/plain": [
       "q2_3 results: All test cases passed!"
      ]
     },
     "execution_count": 125,
     "metadata": {},
     "output_type": "execute_result"
    }
   ],
   "source": [
    "grader.check(\"q2_3\")"
   ]
  },
  {
   "cell_type": "markdown",
   "metadata": {},
   "source": [
    "**Question 2.4.** That's a very low rating, but how does that compare to the other movies included in the dataset? First, plot a density histogram that shows the distribution of `'Review Rating'`. Then compute the absolute difference between the lowest rating and the **median** rating, and assign the result to the variable `below_med`.\n",
    "\n",
    "When plotting your histogram, remember to set `density=True` and `ec='w'`. You don't have to set the `bins` argument."
   ]
  },
  {
   "cell_type": "code",
   "execution_count": 126,
   "metadata": {},
   "outputs": [
    {
     "data": {
      "text/plain": [
       "3.4"
      ]
     },
     "execution_count": 126,
     "metadata": {},
     "output_type": "execute_result"
    },
    {
     "data": {
      "image/png": "[encoded data removed]",
      "text/plain": [
       "<Figure size 720x360 with 1 Axes>"
      ]
     },
     "metadata": {},
     "output_type": "display_data"
    }
   ],
   "source": [
    "# Create your histogram here.\n",
    "horror.plot(kind='hist', density=True, y= \"Review Rating\",ec='w')\n",
    "\n",
    "# Then calculate below_med.\n",
    "below_med = abs(horror.get(\"Review Rating\").median() - lowest_rating)\n",
    "below_med"
   ]
  },
  {
   "cell_type": "code",
   "execution_count": 127,
   "metadata": {
    "deletable": false,
    "editable": false
   },
   "outputs": [
    {
     "data": {
      "text/html": [
       "<p><strong><pre style='display: inline;'>q2_4</pre></strong> passed!</p>"
      ],
      "text/plain": [
       "q2_4 results: All test cases passed!"
      ]
     },
     "execution_count": 127,
     "metadata": {},
     "output_type": "execute_result"
    }
   ],
   "source": [
    "grader.check(\"q2_4\")"
   ]
  },
  {
   "cell_type": "markdown",
   "metadata": {},
   "source": [
    "**Question 2.5.** How many movies in our dataset were released in October and have been given a `'Maturity Rating'`? Set the number of such movies equal to the variable `oct_rated_count`. Note that movies *without* a `'Maturity Rating'` appear as either `'NOT RATED'` or `'UNRATED'`.  "
   ]
  },
  {
   "cell_type": "code",
   "execution_count": 128,
   "metadata": {},
   "outputs": [
    {
     "data": {
      "text/html": [
       "<div>\n",
       "<style scoped>\n",
       "    .dataframe tbody tr th:only-of-type {\n",
       "        vertical-align: middle;\n",
       "    }\n",
       "\n",
       "    .dataframe tbody tr th {\n",
       "        vertical-align: top;\n",
       "    }\n",
       "\n",
       "    .dataframe thead th {\n",
       "        text-align: right;\n",
       "    }\n",
       "</style>\n",
       "<table border=\"1\" class=\"dataframe\">\n",
       "  <thead>\n",
       "    <tr style=\"text-align: right;\">\n",
       "      <th></th>\n",
       "      <th>Country</th>\n",
       "      <th>Maturity Rating</th>\n",
       "      <th>Review Rating</th>\n",
       "      <th>Language</th>\n",
       "      <th>Filming Locations</th>\n",
       "      <th>Budget</th>\n",
       "      <th>Release Month</th>\n",
       "      <th>Release Day</th>\n",
       "      <th>Run Time</th>\n",
       "    </tr>\n",
       "    <tr>\n",
       "      <th>Title</th>\n",
       "      <th></th>\n",
       "      <th></th>\n",
       "      <th></th>\n",
       "      <th></th>\n",
       "      <th></th>\n",
       "      <th></th>\n",
       "      <th></th>\n",
       "      <th></th>\n",
       "      <th></th>\n",
       "    </tr>\n",
       "  </thead>\n",
       "  <tbody>\n",
       "    <tr>\n",
       "      <th>Speak No Evil (2013)</th>\n",
       "      <td>Brazil</td>\n",
       "      <td>R</td>\n",
       "      <td>3.7</td>\n",
       "      <td>English</td>\n",
       "      <td>Apache Junction, Arizona, USA</td>\n",
       "      <td>150000</td>\n",
       "      <td>October</td>\n",
       "      <td>8</td>\n",
       "      <td>74</td>\n",
       "    </tr>\n",
       "    <tr>\n",
       "      <th>Bacchanalia (2017)</th>\n",
       "      <td>USA</td>\n",
       "      <td>TV-MA</td>\n",
       "      <td>5.8</td>\n",
       "      <td>English</td>\n",
       "      <td>Provence-Alpes-Côte d'Azur, France</td>\n",
       "      <td>1000000</td>\n",
       "      <td>October</td>\n",
       "      <td>10</td>\n",
       "      <td>101</td>\n",
       "    </tr>\n",
       "    <tr>\n",
       "      <th>Crazy Murder (2014)</th>\n",
       "      <td>USA</td>\n",
       "      <td>TV-MA</td>\n",
       "      <td>5.1</td>\n",
       "      <td>English</td>\n",
       "      <td>New York City, New York, USA</td>\n",
       "      <td>5000</td>\n",
       "      <td>October</td>\n",
       "      <td>29</td>\n",
       "      <td>93</td>\n",
       "    </tr>\n",
       "    <tr>\n",
       "      <th>The Demon's Rook (2013)</th>\n",
       "      <td>USA</td>\n",
       "      <td>TV-MA</td>\n",
       "      <td>5.5</td>\n",
       "      <td>English</td>\n",
       "      <td>Moreland, Georgia</td>\n",
       "      <td>75000</td>\n",
       "      <td>October</td>\n",
       "      <td>13</td>\n",
       "      <td>103</td>\n",
       "    </tr>\n",
       "    <tr>\n",
       "      <th>The Summoning (2014)</th>\n",
       "      <td>USA</td>\n",
       "      <td>TV-MA</td>\n",
       "      <td>3.2</td>\n",
       "      <td>English</td>\n",
       "      <td>Orlando, Florida, USA</td>\n",
       "      <td>200000</td>\n",
       "      <td>October</td>\n",
       "      <td>13</td>\n",
       "      <td>88</td>\n",
       "    </tr>\n",
       "    <tr>\n",
       "      <th>...</th>\n",
       "      <td>...</td>\n",
       "      <td>...</td>\n",
       "      <td>...</td>\n",
       "      <td>...</td>\n",
       "      <td>...</td>\n",
       "      <td>...</td>\n",
       "      <td>...</td>\n",
       "      <td>...</td>\n",
       "      <td>...</td>\n",
       "    </tr>\n",
       "    <tr>\n",
       "      <th>Boo! A Madea Halloween (2016)</th>\n",
       "      <td>USA</td>\n",
       "      <td>PG-13</td>\n",
       "      <td>4.6</td>\n",
       "      <td>English</td>\n",
       "      <td>Atlanta, Georgia, USA</td>\n",
       "      <td>20000000</td>\n",
       "      <td>October</td>\n",
       "      <td>21</td>\n",
       "      <td>103</td>\n",
       "    </tr>\n",
       "    <tr>\n",
       "      <th>Silent Hill: Revelation (2012)</th>\n",
       "      <td>USA</td>\n",
       "      <td>R</td>\n",
       "      <td>5.0</td>\n",
       "      <td>English</td>\n",
       "      <td>Ontario, Canada</td>\n",
       "      <td>20000000</td>\n",
       "      <td>October</td>\n",
       "      <td>26</td>\n",
       "      <td>95</td>\n",
       "    </tr>\n",
       "    <tr>\n",
       "      <th>Sinister (2012)</th>\n",
       "      <td>USA</td>\n",
       "      <td>R</td>\n",
       "      <td>6.8</td>\n",
       "      <td>English</td>\n",
       "      <td>Los Angeles, California, USA</td>\n",
       "      <td>3000000</td>\n",
       "      <td>October</td>\n",
       "      <td>12</td>\n",
       "      <td>110</td>\n",
       "    </tr>\n",
       "    <tr>\n",
       "      <th>Dracula Untold (2014)</th>\n",
       "      <td>USA</td>\n",
       "      <td>PG-13</td>\n",
       "      <td>6.3</td>\n",
       "      <td>English|Turkish</td>\n",
       "      <td>Northern Ireland, UK</td>\n",
       "      <td>70000000</td>\n",
       "      <td>October</td>\n",
       "      <td>10</td>\n",
       "      <td>92</td>\n",
       "    </tr>\n",
       "    <tr>\n",
       "      <th>Nurse 3D (2013)</th>\n",
       "      <td>Russia</td>\n",
       "      <td>R</td>\n",
       "      <td>4.6</td>\n",
       "      <td>English</td>\n",
       "      <td>North York General Hospital - Branson Division...</td>\n",
       "      <td>10000000</td>\n",
       "      <td>October</td>\n",
       "      <td>24</td>\n",
       "      <td>84</td>\n",
       "    </tr>\n",
       "  </tbody>\n",
       "</table>\n",
       "<p>36 rows × 9 columns</p>\n",
       "</div>"
      ],
      "text/plain": [
       "                               Country Maturity Rating  Review Rating  \\\n",
       "Title                                                                   \n",
       "Speak No Evil (2013)            Brazil               R            3.7   \n",
       "Bacchanalia (2017)                 USA           TV-MA            5.8   \n",
       "Crazy Murder (2014)                USA           TV-MA            5.1   \n",
       "The Demon's Rook (2013)            USA           TV-MA            5.5   \n",
       "The Summoning (2014)               USA           TV-MA            3.2   \n",
       "...                                ...             ...            ...   \n",
       "Boo! A Madea Halloween (2016)      USA           PG-13            4.6   \n",
       "Silent Hill: Revelation (2012)     USA               R            5.0   \n",
       "Sinister (2012)                    USA               R            6.8   \n",
       "Dracula Untold (2014)              USA           PG-13            6.3   \n",
       "Nurse 3D (2013)                 Russia               R            4.6   \n",
       "\n",
       "                                       Language  \\\n",
       "Title                                             \n",
       "Speak No Evil (2013)                    English   \n",
       "Bacchanalia (2017)                      English   \n",
       "Crazy Murder (2014)                     English   \n",
       "The Demon's Rook (2013)                 English   \n",
       "The Summoning (2014)                    English   \n",
       "...                                         ...   \n",
       "Boo! A Madea Halloween (2016)           English   \n",
       "Silent Hill: Revelation (2012)          English   \n",
       "Sinister (2012)                         English   \n",
       "Dracula Untold (2014)           English|Turkish   \n",
       "Nurse 3D (2013)                         English   \n",
       "\n",
       "                                                                Filming Locations  \\\n",
       "Title                                                                               \n",
       "Speak No Evil (2013)                                Apache Junction, Arizona, USA   \n",
       "Bacchanalia (2017)                             Provence-Alpes-Côte d'Azur, France   \n",
       "Crazy Murder (2014)                                  New York City, New York, USA   \n",
       "The Demon's Rook (2013)                                         Moreland, Georgia   \n",
       "The Summoning (2014)                                        Orlando, Florida, USA   \n",
       "...                                                                           ...   \n",
       "Boo! A Madea Halloween (2016)                               Atlanta, Georgia, USA   \n",
       "Silent Hill: Revelation (2012)                                    Ontario, Canada   \n",
       "Sinister (2012)                                      Los Angeles, California, USA   \n",
       "Dracula Untold (2014)                                        Northern Ireland, UK   \n",
       "Nurse 3D (2013)                 North York General Hospital - Branson Division...   \n",
       "\n",
       "                                  Budget Release Month  Release Day  Run Time  \n",
       "Title                                                                          \n",
       "Speak No Evil (2013)              150000       October            8        74  \n",
       "Bacchanalia (2017)               1000000       October           10       101  \n",
       "Crazy Murder (2014)                 5000       October           29        93  \n",
       "The Demon's Rook (2013)            75000       October           13       103  \n",
       "The Summoning (2014)              200000       October           13        88  \n",
       "...                                  ...           ...          ...       ...  \n",
       "Boo! A Madea Halloween (2016)   20000000       October           21       103  \n",
       "Silent Hill: Revelation (2012)  20000000       October           26        95  \n",
       "Sinister (2012)                  3000000       October           12       110  \n",
       "Dracula Untold (2014)           70000000       October           10        92  \n",
       "Nurse 3D (2013)                 10000000       October           24        84  \n",
       "\n",
       "[36 rows x 9 columns]"
      ]
     },
     "execution_count": 128,
     "metadata": {},
     "output_type": "execute_result"
    }
   ],
   "source": [
    "# horror.groupby('Maturity Rating').count()\n",
    "horror[(\n",
    "    (horror.get('Maturity Rating') != \"NOT RATED\")\n",
    "    &(horror.get('Maturity Rating') != \"UNRATED\")\n",
    "    & (horror.get(\"Release Month\")== \"October\")\n",
    ")]"
   ]
  },
  {
   "cell_type": "code",
   "execution_count": 129,
   "metadata": {},
   "outputs": [
    {
     "data": {
      "text/plain": [
       "36"
      ]
     },
     "execution_count": 129,
     "metadata": {},
     "output_type": "execute_result"
    }
   ],
   "source": [
    "oct_rated_count = horror[(\n",
    "    (horror.get('Maturity Rating') != \"NOT RATED\")\n",
    "    &(horror.get('Maturity Rating') != \"UNRATED\")\n",
    "    & (horror.get(\"Release Month\")== \"October\")\n",
    ")].shape[0]\n",
    "oct_rated_count"
   ]
  },
  {
   "cell_type": "code",
   "execution_count": 130,
   "metadata": {
    "deletable": false,
    "editable": false
   },
   "outputs": [
    {
     "data": {
      "text/html": [
       "<p><strong><pre style='display: inline;'>q2_5</pre></strong> passed!</p>"
      ],
      "text/plain": [
       "q2_5 results: All test cases passed!"
      ]
     },
     "execution_count": 130,
     "metadata": {},
     "output_type": "execute_result"
    }
   ],
   "source": [
    "grader.check(\"q2_5\")"
   ]
  },
  {
   "cell_type": "markdown",
   "metadata": {},
   "source": [
    "### Aside: String methods and Series\n",
    "\n",
    "**Before proceeding to Question 2.6., make sure to read this aside.**\n",
    "\n",
    "As we saw in [Lecture 2](https://dsc10.com/resources/lectures/lec02/lec02.html#String-methods), strings have several methods available to them."
   ]
  },
  {
   "cell_type": "code",
   "execution_count": 131,
   "metadata": {},
   "outputs": [
    {
     "data": {
      "text/plain": [
       "'apparition (2015)'"
      ]
     },
     "execution_count": 131,
     "metadata": {},
     "output_type": "execute_result"
    }
   ],
   "source": [
    "'Apparition (2015)'.lower()"
   ]
  },
  {
   "cell_type": "code",
   "execution_count": 132,
   "metadata": {},
   "outputs": [
    {
     "data": {
      "text/plain": [
       "'Appar👀t👀on (2015)'"
      ]
     },
     "execution_count": 132,
     "metadata": {},
     "output_type": "execute_result"
    }
   ],
   "source": [
    "'Apparition (2015)'.replace('i', '👀')"
   ]
  },
  {
   "cell_type": "markdown",
   "metadata": {},
   "source": [
    "`babypandas` makes it easy for us to use string methods on Series of strings. To do this, we follow the pattern\n",
    "\n",
    "```py\n",
    "ser.str.method(args)\n",
    "```\n",
    "\n",
    "where `ser` is a Series, `method` is the name of a method, and `args` are the arguments to that method (if any). The key difference between string-specific Series methods and other Series methods (like `ser.mean()`) is that we need to write `.str` first."
   ]
  },
  {
   "cell_type": "markdown",
   "metadata": {},
   "source": [
    "For example, the following expression returns a Series containing the values in the `'Country'` column but converted to lowercase."
   ]
  },
  {
   "cell_type": "code",
   "execution_count": 133,
   "metadata": {},
   "outputs": [
    {
     "data": {
      "text/plain": [
       "Title\n",
       "Rise of the Animals (2011)                     usa\n",
       "Zombie Resurrection (2014)                      uk\n",
       "Before Dawn (2013)                           japan\n",
       "Apparition (2015)                              usa\n",
       "Her Cry: La Llorona Investigation (2013)       usa\n",
       "                                             ...  \n",
       "Insidious: Chapter 3 (2015)                    usa\n",
       "The Purge (2013)                               usa\n",
       "13 Sins (2014)                              poland\n",
       "Victor Frankenstein (2015)                     usa\n",
       "BloodRayne: The Third Reich (2011)           japan\n",
       "Name: Country, Length: 462, dtype: object"
      ]
     },
     "execution_count": 133,
     "metadata": {},
     "output_type": "execute_result"
    }
   ],
   "source": [
    "horror.get('Country').str.lower()"
   ]
  },
  {
   "cell_type": "markdown",
   "metadata": {},
   "source": [
    "It is essentially using the string method `.lower()` on **every** string in the Series `horror.get('Country')`, all at the same time!"
   ]
  },
  {
   "cell_type": "markdown",
   "metadata": {},
   "source": [
    "The following expression replaces all `'i'`s with `'👀'` in the index. (Yes, you can use `.str` with the index as well!)"
   ]
  },
  {
   "cell_type": "code",
   "execution_count": 134,
   "metadata": {},
   "outputs": [
    {
     "data": {
      "text/plain": [
       "Index(['R👀se of the An👀mals (2011)', 'Zomb👀e Resurrect👀on (2014)',\n",
       "       'Before Dawn (2013)', 'Appar👀t👀on (2015)',\n",
       "       'Her Cry: La Llorona Invest👀gat👀on (2013)',\n",
       "       'Haunted House on Soror👀ty Row (2014)', 'Legend Has It (2009)',\n",
       "       'Fet👀sh Dolls D👀e Laugh👀ng (2012)', 'Holla II (2013)',\n",
       "       'The Lurk👀ng (2015)',\n",
       "       ...\n",
       "       'The Bad Batch (2016)', 'Dracula Untold (2014)', 'Nurse 3D (2013)',\n",
       "       'Ant👀b👀rth (2016)', 'Clown (2014)', 'Ins👀d👀ous: Chapter 3 (2015)',\n",
       "       'The Purge (2013)', '13 S👀ns (2014)', 'V👀ctor Frankenste👀n (2015)',\n",
       "       'BloodRayne: The Th👀rd Re👀ch (2011)'],\n",
       "      dtype='object', name='Title', length=462)"
      ]
     },
     "execution_count": 134,
     "metadata": {},
     "output_type": "execute_result"
    }
   ],
   "source": [
    "horror.index.str.replace('i', '👀')"
   ]
  },
  {
   "cell_type": "markdown",
   "metadata": {},
   "source": [
    "Look at the `'Filming Locations'` column of `horror`, which is a Series."
   ]
  },
  {
   "cell_type": "code",
   "execution_count": 135,
   "metadata": {},
   "outputs": [
    {
     "data": {
      "text/plain": [
       "Title\n",
       "Rise of the Animals (2011)                                           Rochester, New York, USA\n",
       "Zombie Resurrection (2014)                                             Hampshire, England, UK\n",
       "Before Dawn (2013)                                                     Yorkshire, England, UK\n",
       "Apparition (2015)                                             Philadelphia, Pennsylvania, USA\n",
       "Her Cry: La Llorona Investigation (2013)                                  Houston, Texas, USA\n",
       "                                                                  ...                        \n",
       "Insidious: Chapter 3 (2015)                 929 South Broadway, Downtown, Los Angeles, Cal...\n",
       "The Purge (2013)                                     Chatsworth, Los Angeles, California, USA\n",
       "13 Sins (2014)                                                    New Orleans, Louisiana, USA\n",
       "Victor Frankenstein (2015)                                                London, England, UK\n",
       "BloodRayne: The Third Reich (2011)                                            Zagreb, Croatia\n",
       "Name: Filming Locations, Length: 462, dtype: object"
      ]
     },
     "execution_count": 135,
     "metadata": {},
     "output_type": "execute_result"
    }
   ],
   "source": [
    "horror.get('Filming Locations')"
   ]
  },
  {
   "cell_type": "markdown",
   "metadata": {},
   "source": [
    "The following expression returns a Boolean Series, with `True` for movies whose `'Filming Locations'` **contain** (or include) the string `'England'` and `False` for all other movies. (Note that `.contains()` is not a regular string method in Python, while the other examples – `.lower()` and `.replace()` – are.)"
   ]
  },
  {
   "cell_type": "code",
   "execution_count": 136,
   "metadata": {
    "scrolled": true
   },
   "outputs": [
    {
     "data": {
      "text/plain": [
       "Title\n",
       "Rise of the Animals (2011)                  False\n",
       "Zombie Resurrection (2014)                   True\n",
       "Before Dawn (2013)                           True\n",
       "Apparition (2015)                           False\n",
       "Her Cry: La Llorona Investigation (2013)    False\n",
       "                                            ...  \n",
       "Insidious: Chapter 3 (2015)                 False\n",
       "The Purge (2013)                            False\n",
       "13 Sins (2014)                              False\n",
       "Victor Frankenstein (2015)                   True\n",
       "BloodRayne: The Third Reich (2011)          False\n",
       "Name: Filming Locations, Length: 462, dtype: bool"
      ]
     },
     "execution_count": 136,
     "metadata": {},
     "output_type": "execute_result"
    }
   ],
   "source": [
    "horror.get('Filming Locations').str.contains('England')"
   ]
  },
  {
   "cell_type": "markdown",
   "metadata": {},
   "source": [
    "Remember that we use Boolean Series to make queries!\n",
    "\n",
    "Now you're ready to proceed to Question 2.6. If you'd like another explanation of Series string methods, and `.str.contains` in particular, watch [this video](https://www.youtube.com/watch?v=TCcEhVA6Euw&list=PLDNbnocpJUhbczUw2Rw6bqreEECMvZ8gN&index=2)."
   ]
  },
  {
   "cell_type": "markdown",
   "metadata": {},
   "source": [
    "**Question 2.6.** Which movie titles contain the word `'night'`, with any capitalization? Create an *array* called `night_movies` containing the titles of all such movies, capitalized exactly as they appear in the DataFrame. \n",
    "\n",
    "**_Hints:_** \n",
    "- To convert a sequence into an array, call the function `np.array` on the sequence.\n",
    "- The movie names are all strings, so they may have inconsistencies in how they're capitalized. We want to count movie titles with the words `'Night'`, `'night'`, and even `'NiGHt'`. If we want to account for variations in capitalization, what operation should we call on the movie names **first**? (You may end up using `.str` twice!)"
   ]
  },
  {
   "cell_type": "code",
   "execution_count": 137,
   "metadata": {},
   "outputs": [
    {
     "data": {
      "text/plain": [
       "array(['Silent Night, Bloody Night: The Homecoming (2013)',\n",
       "       'Dream Nightmare (2016)', \"Hyde's Secret Nightmare (2011)\",\n",
       "       'Night Terrors (2014)', \"All Sinner's Night (2014)\",\n",
       "       'Darkest Night (2012)', 'Evil Night (2014)',\n",
       "       'Darker Than Night (2014)',\n",
       "       'Poultrygeist: Night of the Chicken Dead (2006)',\n",
       "       'It Comes at Night (2017)'], dtype=object)"
      ]
     },
     "execution_count": 137,
     "metadata": {},
     "output_type": "execute_result"
    }
   ],
   "source": [
    "night_movies = np.array(horror[horror.index.str.lower().str.contains('night')].index)\n",
    "night_movies"
   ]
  },
  {
   "cell_type": "code",
   "execution_count": 138,
   "metadata": {
    "deletable": false,
    "editable": false
   },
   "outputs": [
    {
     "data": {
      "text/html": [
       "<p><strong><pre style='display: inline;'>q2_6</pre></strong> passed!</p>"
      ],
      "text/plain": [
       "q2_6 results: All test cases passed!"
      ]
     },
     "execution_count": 138,
     "metadata": {},
     "output_type": "execute_result"
    }
   ],
   "source": [
    "grader.check(\"q2_6\")"
   ]
  },
  {
   "cell_type": "markdown",
   "metadata": {},
   "source": [
    "**Question 2.7.** Create a DataFrame named `country_proportions`, indexed by `'Country'`, with one column named `'Proportion'`. The `'Proportion'` column should contain, for each country, the proportion of movies in the dataset from that country. Order the rows in descending order of `'Proportion'`.\n",
    "\n",
    "**_Hints:_** \n",
    "- Proportions can be easily calculated from counts.\n",
    "- If you pass in a **list** of columns names to `.get()`, the result will be a DataFrame containing only the columns specified in the list. "
   ]
  },
  {
   "cell_type": "code",
   "execution_count": 139,
   "metadata": {},
   "outputs": [],
   "source": [
    "total_num_movies = horror.groupby(['Country']).count()\n",
    "total_num_movies = total_num_movies.iloc[:,:1].get('Maturity Rating').sum()\n",
    "total_num_movies\n",
    "proportion_series = (\n",
    "    horror.groupby(['Country']).count()\n",
    "    .iloc[:,:1].get(['Maturity Rating'])\n",
    "    .reset_index()\n",
    ")\n",
    "proportion_series = proportion_series.get('Maturity Rating') / total_num_movies"
   ]
  },
  {
   "cell_type": "code",
   "execution_count": 140,
   "metadata": {},
   "outputs": [
    {
     "data": {
      "text/html": [
       "<div>\n",
       "<style scoped>\n",
       "    .dataframe tbody tr th:only-of-type {\n",
       "        vertical-align: middle;\n",
       "    }\n",
       "\n",
       "    .dataframe tbody tr th {\n",
       "        vertical-align: top;\n",
       "    }\n",
       "\n",
       "    .dataframe thead th {\n",
       "        text-align: right;\n",
       "    }\n",
       "</style>\n",
       "<table border=\"1\" class=\"dataframe\">\n",
       "  <thead>\n",
       "    <tr style=\"text-align: right;\">\n",
       "      <th></th>\n",
       "      <th>Proportion</th>\n",
       "    </tr>\n",
       "    <tr>\n",
       "      <th>Country</th>\n",
       "      <th></th>\n",
       "    </tr>\n",
       "  </thead>\n",
       "  <tbody>\n",
       "    <tr>\n",
       "      <th>USA</th>\n",
       "      <td>0.755411</td>\n",
       "    </tr>\n",
       "    <tr>\n",
       "      <th>UK</th>\n",
       "      <td>0.058442</td>\n",
       "    </tr>\n",
       "    <tr>\n",
       "      <th>Japan</th>\n",
       "      <td>0.015152</td>\n",
       "    </tr>\n",
       "    <tr>\n",
       "      <th>Kuwait</th>\n",
       "      <td>0.012987</td>\n",
       "    </tr>\n",
       "    <tr>\n",
       "      <th>Philippines</th>\n",
       "      <td>0.012987</td>\n",
       "    </tr>\n",
       "    <tr>\n",
       "      <th>...</th>\n",
       "      <td>...</td>\n",
       "    </tr>\n",
       "    <tr>\n",
       "      <th>Denmark</th>\n",
       "      <td>0.002165</td>\n",
       "    </tr>\n",
       "    <tr>\n",
       "      <th>Belarus</th>\n",
       "      <td>0.002165</td>\n",
       "    </tr>\n",
       "    <tr>\n",
       "      <th>Bahrain</th>\n",
       "      <td>0.002165</td>\n",
       "    </tr>\n",
       "    <tr>\n",
       "      <th>Austria</th>\n",
       "      <td>0.002165</td>\n",
       "    </tr>\n",
       "    <tr>\n",
       "      <th>Venezuela</th>\n",
       "      <td>0.002165</td>\n",
       "    </tr>\n",
       "  </tbody>\n",
       "</table>\n",
       "<p>38 rows × 1 columns</p>\n",
       "</div>"
      ],
      "text/plain": [
       "             Proportion\n",
       "Country                \n",
       "USA            0.755411\n",
       "UK             0.058442\n",
       "Japan          0.015152\n",
       "Kuwait         0.012987\n",
       "Philippines    0.012987\n",
       "...                 ...\n",
       "Denmark        0.002165\n",
       "Belarus        0.002165\n",
       "Bahrain        0.002165\n",
       "Austria        0.002165\n",
       "Venezuela      0.002165\n",
       "\n",
       "[38 rows x 1 columns]"
      ]
     },
     "execution_count": 140,
     "metadata": {},
     "output_type": "execute_result"
    }
   ],
   "source": [
    "country_proportions = bpd.DataFrame().assign(\n",
    "    Country = horror.groupby(['Country']).count().index,\n",
    "    Proportion =proportion_series)\n",
    "country_proportions = country_proportions.set_index('Country')\n",
    "country_proportions = country_proportions.sort_values(by='Proportion',ascending= False)\n",
    "country_proportions"
   ]
  },
  {
   "cell_type": "code",
   "execution_count": 141,
   "metadata": {
    "deletable": false,
    "editable": false
   },
   "outputs": [
    {
     "data": {
      "text/html": [
       "<p><strong><pre style='display: inline;'>q2_7</pre></strong> passed!</p>"
      ],
      "text/plain": [
       "q2_7 results: All test cases passed!"
      ]
     },
     "execution_count": 141,
     "metadata": {},
     "output_type": "execute_result"
    }
   ],
   "source": [
    "grader.check(\"q2_7\")"
   ]
  },
  {
   "cell_type": "markdown",
   "metadata": {},
   "source": [
    "**Question 2.8**  Create a horizontal bar chart that displays the **mean** `'Review Rating'` for each country's horror movies. Sort the bars so that the country with the lowest mean appears at the very top and the country with the highest mean appears at the bottom.\n",
    "\n",
    "**_Hints:_** \n",
    "- To get the bar chart to display nicely, try adding the keyword argument `figsize=(10, 10)`.\n",
    "- If your bar chart still doesn't look very nice after setting `figsize=(10, 10)`, make sure you are first calculating the **average** `'Review Rating'` of each country. You should not be plotting directly from the `horror` DataFrame."
   ]
  },
  {
   "cell_type": "markdown",
   "metadata": {
    "deletable": false,
    "editable": false
   },
   "source": [
    "<!-- BEGIN QUESTION -->\n",
    "\n",
    "<!--\n",
    "BEGIN QUESTION\n",
    "name: q2_8\n",
    "manual: True\n",
    "-->"
   ]
  },
  {
   "cell_type": "code",
   "execution_count": 142,
   "metadata": {},
   "outputs": [
    {
     "data": {
      "image/png": "[encoded data removed]",
      "text/plain": [
       "<Figure size 720x720 with 1 Axes>"
      ]
     },
     "metadata": {},
     "output_type": "display_data"
    }
   ],
   "source": [
    "# Create your bar chart here .plot(kind = 'barh')\n",
    "horror.groupby(\"Country\").mean().sort_values('Review Rating',ascending=False).plot(kind = 'barh', y= \"Review Rating\",figsize=(10, 10) );"
   ]
  },
  {
   "cell_type": "markdown",
   "metadata": {},
   "source": [
    "<!-- END QUESTION -->\n",
    "\n",
    "\n",
    "\n",
    "## 3. Final Stretch 🧘‍♀️"
   ]
  },
  {
   "cell_type": "markdown",
   "metadata": {},
   "source": [
    "Suppose we have a DataFrame named `data` with two numerical columns, `'x'` and `'y'`. Consider the following scatter plot, which was generated by calling `data.plot(kind='scatter', x='x', y='y')`:\n",
    "\n",
    "<img src='images/q4_scatter_plot.png' width=400/>\n",
    "\n",
    "Now consider these two histograms:\n",
    "\n",
    "<center>\n",
    "    <table><tr>\n",
    "        <td><center><b>Histogram A</b><br> <img src='images/q4_histogram_one.png' width=400></center> </td>\n",
    "        <td><center><b>Histogram B</b><br> <img src='images/q4_histogram_two.png' width=400></center> </td>\n",
    "    </tr></table>\n",
    "</center>"
   ]
  },
  {
   "cell_type": "markdown",
   "metadata": {},
   "source": [
    "**Question 3.1.** Which of the following lines of code generated **Histogram B**? Assign `which_code` to either 1, 2, 3, or 4.\n",
    " \n",
    " 1. `data.plot(kind='hist', density=True, y='y')`\n",
    " 2. `data.plot(kind='hist', density=False, y='y')`\n",
    " 3. `data.plot(kind='hist', density=True, y='x')`\n",
    " 4. `data.plot(kind='hist', density=False, y='x')`"
   ]
  },
  {
   "cell_type": "code",
   "execution_count": 143,
   "metadata": {},
   "outputs": [],
   "source": [
    "which_code = 4"
   ]
  },
  {
   "cell_type": "code",
   "execution_count": 144,
   "metadata": {
    "deletable": false,
    "editable": false
   },
   "outputs": [
    {
     "data": {
      "text/html": [
       "<p><strong><pre style='display: inline;'>q3_1</pre></strong> passed!</p>"
      ],
      "text/plain": [
       "q3_1 results: All test cases passed!"
      ]
     },
     "execution_count": 144,
     "metadata": {},
     "output_type": "execute_result"
    }
   ],
   "source": [
    "grader.check(\"q3_1\")"
   ]
  },
  {
   "cell_type": "markdown",
   "metadata": {},
   "source": [
    "**Question 3.2.** Suppose we run this block of code:\n",
    "\n",
    "```py\n",
    "new_data = bpd.DataFrame().assign(\n",
    "    x = data.get('x') / 4,\n",
    "    y = data.get('y')\n",
    ")\n",
    "```\n",
    "    \n",
    "We then run \n",
    "\n",
    "```py\n",
    "new_data.plot(kind='hist', density=True, y='x')\n",
    "```\n",
    "\n",
    "How will this histogram look compared to the histogram created by \n",
    "\n",
    "```py\n",
    "data.plot(kind='hist', density=True, y='x')\n",
    "```\n",
    "\n",
    "assuming both histograms are drawn on the same axes? Assign `histogram_difference` to either 1, 2, 3, or 4, corresponding to your choice.\n",
    "\n",
    "\n",
    "1. The `new_data` histogram will be narrower and shorter than the `data` histogram.\n",
    "2. The `new_data` histogram will be wider and shorter than the `data` histogram.\n",
    "3. The `new_data` histogram will be narrower and taller than the `data` histogram.\n",
    "4. The `new_data` histogram will be wider and taller than the `data` histogram.\n",
    "\n",
    "\n",
    "\n",
    "**_Hint:_** Look at the end of [Lecture 7](https://dsc10.com/resources/lectures/lec07/lec07.html#Plotting-overlaid-histograms) for an example of two histograms drawn on the same axes."
   ]
  },
  {
   "cell_type": "code",
   "execution_count": 145,
   "metadata": {},
   "outputs": [],
   "source": [
    "histogram_difference = 2"
   ]
  },
  {
   "cell_type": "code",
   "execution_count": 146,
   "metadata": {
    "deletable": false,
    "editable": false
   },
   "outputs": [
    {
     "data": {
      "text/html": [
       "<p><strong><pre style='display: inline;'>q3_2</pre></strong> passed!</p>"
      ],
      "text/plain": [
       "q3_2 results: All test cases passed!"
      ]
     },
     "execution_count": 146,
     "metadata": {},
     "output_type": "execute_result"
    }
   ],
   "source": [
    "grader.check(\"q3_2\")"
   ]
  },
  {
   "cell_type": "markdown",
   "metadata": {},
   "source": [
    "**Question 3.3.** Below, we show Histogram A again.\n",
    "\n",
    "<img src='./images/q4_histogram_one.png' width=400/>\n",
    "\n",
    "What **percent** of values in Histogram A are between -3 (inclusive) and 0 (exclusive)? While we cannot answer this question exactly since we do not know where the bins start and end, we can still approximate the answer. Assign the variable `percent_between` to a number 1 through 5, corresponding to the closest answer.\n",
    "\n",
    "1. 52%\n",
    "1. 56%\n",
    "1. 60%\n",
    "1. 83%\n",
    "1. 87%\n"
   ]
  },
  {
   "cell_type": "code",
   "execution_count": 147,
   "metadata": {},
   "outputs": [],
   "source": [
    "percent_between = 1"
   ]
  },
  {
   "cell_type": "code",
   "execution_count": 148,
   "metadata": {
    "deletable": false,
    "editable": false
   },
   "outputs": [
    {
     "data": {
      "text/html": [
       "<p><strong><pre style='display: inline;'>q3_3</pre></strong> passed!</p>"
      ],
      "text/plain": [
       "q3_3 results: All test cases passed!"
      ]
     },
     "execution_count": 148,
     "metadata": {},
     "output_type": "execute_result"
    }
   ],
   "source": [
    "grader.check(\"q3_3\")"
   ]
  },
  {
   "cell_type": "markdown",
   "metadata": {},
   "source": [
    "## Finish Line: Almost there, but make sure to follow the steps below to submit! 🏁\n",
    "\n",
    "**_Citations:_** Did you use any generative artificial intelligence tools to assist you on this assignment? If so, please state, for each tool you used, the name of the tool (ex. ChatGPT) and the problem(s) in this assignment where you used the tool for help."
   ]
  },
  {
   "cell_type": "markdown",
   "metadata": {},
   "source": [
    "<hr style='color:Maroon;background-color:Maroon;border:0 none; height: 3px;'>\n",
    "\n",
    "Please cite tools here.\n",
    "\n",
    "<hr style='color:Maroon;background-color:Maroon;border:0 none; height: 3px;'>"
   ]
  },
  {
   "cell_type": "markdown",
   "metadata": {},
   "source": [
    "To submit your assignment:\n",
    "\n",
    "1. Select `Kernel -> Restart & Run All` to ensure that you have executed all cells, including the test cells. \n",
    "1. Read through the notebook to make sure all cells ran and all tests passed.\n",
    "1. Run the cell below to run all tests, and make sure that they all pass.\n",
    "1. Download your notebook using `File -> Download as -> Notebook (.ipynb)`, then upload your notebook to Gradescope.\n",
    "1. Stick around while the Gradescope autograder grades your work. Make sure you see that all tests have passed on Gradescope.\n",
    "1. Check that you have a confirmation email from Gradescope and save it as proof of your submission. \n",
    "\n",
    "With homeworks, unlike with labs, the grade you see on Gradescope is **not your final score**. We will run correctness tests after the assignment's due date has passed."
   ]
  },
  {
   "cell_type": "code",
   "execution_count": 149,
   "metadata": {
    "scrolled": true
   },
   "outputs": [
    {
     "data": {
      "text/plain": [
       "q1_1 results: All test cases passed!\n",
       "\n",
       "q1_2 results: All test cases passed!\n",
       "\n",
       "q1_3 results: All test cases passed!\n",
       "\n",
       "q1_4 results: All test cases passed!\n",
       "\n",
       "q1_5 results: All test cases passed!\n",
       "\n",
       "q1_8 results: All test cases passed!\n",
       "\n",
       "q2_1 results: All test cases passed!\n",
       "\n",
       "q2_2 results: All test cases passed!\n",
       "\n",
       "q2_3 results: All test cases passed!\n",
       "\n",
       "q2_4 results: All test cases passed!\n",
       "\n",
       "q2_5 results: All test cases passed!\n",
       "\n",
       "q2_6 results: All test cases passed!\n",
       "\n",
       "q2_7 results: All test cases passed!\n",
       "\n",
       "q3_1 results: All test cases passed!\n",
       "\n",
       "q3_2 results: All test cases passed!\n",
       "\n",
       "q3_3 results: All test cases passed!"
      ]
     },
     "execution_count": 149,
     "metadata": {},
     "output_type": "execute_result"
    }
   ],
   "source": [
    "grader.check_all()"
   ]
  }
 ],
 "metadata": {
  "kernelspec": {
   "display_name": "Python 3 (ipykernel)",
   "language": "python",
   "name": "python3"
  },
  "language_info": {
   "codemirror_mode": {
    "name": "ipython",
    "version": 3
   },
   "file_extension": ".py",
   "mimetype": "text/x-python",
   "name": "python",
   "nbconvert_exporter": "python",
   "pygments_lexer": "ipython3",
   "version": "3.9.5"
  },
  "toc": {
   "base_numbering": 1,
   "nav_menu": {},
   "number_sections": true,
   "sideBar": true,
   "skip_h1_title": false,
   "title_cell": "Table of Contents",
   "title_sidebar": "Contents",
   "toc_cell": false,
   "toc_position": {},
   "toc_section_display": true,
   "toc_window_display": false
  }
 },
 "nbformat": 4,
 "nbformat_minor": 4
}
