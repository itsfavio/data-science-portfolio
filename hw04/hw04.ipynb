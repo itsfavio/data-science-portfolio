{
 "cells": [
  {
   "cell_type": "markdown",
   "metadata": {},
   "source": [
    "# Homework 4: Simulation, Sampling, and Bootstrapping\n",
    "\n",
    "## Due Sunday, November 10th at 11:59PM\n",
    "\n",
    "Welcome to Homework 4! This homework will cover:\n",
    "- Simulations (see [CIT 9.3-9.4](https://inferentialthinking.com/chapters/09/3/Simulation.html))\n",
    "- Sampling and Empirical Distributions (see [CIT 10-10.4](https://inferentialthinking.com/chapters/10/Sampling_and_Empirical_Distributions.html))\n",
    "- Bootstrapping and Confidence Intervals (see [CIT 13.2](https://inferentialthinking.com/chapters/13/2/Bootstrap.html) and [CIT 13.3](https://inferentialthinking.com/chapters/13/3/Confidence_Intervals.html))"
   ]
  },
  {
   "cell_type": "markdown",
   "metadata": {},
   "source": [
    "### Instructions\n",
    "\n",
    "Remember to start early and submit often. You are given six slip days throughout the quarter to extend deadlines. See the syllabus for more details. With the exception of using slip days, late work will not be accepted unless you have made special arrangements with your instructor.\n",
    "\n",
    "**Important**: For homeworks, the `otter` tests don't usually tell you that your answer is correct. More often, they help catch careless mistakes. It's up to you to ensure that your answer is correct. If you're not sure, ask someone (not for the answer, but for some guidance about your approach). These are great questions for office hours (the schedule can be found [here](https://dsc10.com/calendar)) or Ed. Directly sharing answers is not okay, but discussing problems with the course staff or with other students is encouraged. "
   ]
  },
  {
   "cell_type": "code",
   "execution_count": 273,
   "metadata": {},
   "outputs": [],
   "source": [
    "# Please don't change this cell, but do make sure to run it.\n",
    "import babypandas as bpd\n",
    "import numpy as np\n",
    "\n",
    "import matplotlib.pyplot as plt\n",
    "plt.style.use('ggplot')\n",
    "\n",
    "import otter\n",
    "grader = otter.Notebook()"
   ]
  },
  {
   "cell_type": "markdown",
   "metadata": {},
   "source": [
    "## 1. Lucky Triton Lotto, Continued  🔱 🎱 🧜\n",
    "\n",
    "In the last homework, we calculated the probability of winning the grand prize (free housing) on a Lucky Triton Lotto lottery ticket, and found that it was quite low 😭."
   ]
  },
  {
   "cell_type": "code",
   "execution_count": 274,
   "metadata": {},
   "outputs": [
    {
     "data": {
      "text/plain": [
       "5.8477069971322845e-09"
      ]
     },
     "execution_count": 274,
     "metadata": {},
     "output_type": "execute_result"
    }
   ],
   "source": [
    "# Just run this cell, do not change it!\n",
    "free_housing_chance = (1 / 29) * (1 / 28) * (1 / 27) * (1 / 26) * (1 / 25) * (1 / 12)\n",
    "free_housing_chance"
   ]
  },
  {
   "cell_type": "markdown",
   "metadata": {},
   "source": [
    "In this question, we'll approach the same question not using math, but using simulation. \n",
    "\n",
    "It's important to remember how this lottery works:\n",
    "\n",
    "- First, you pick five **different** numbers, one at a time, from 1 to 29, representing that according to [USNews](https://www.usnews.com/best-colleges/university-of-california-san-diego-1317), UCSD is ranked 29th in the nation for best universities to attend for 2024-2025.\n",
    "- Then, you separately pick a number from 1 to 12. This is because UCSD's Data Science program is ranked 12th in [USNews's](https://www.usnews.com/best-colleges/rankings/computer-science/data-analytics-science) best undergraduate Data Science programs list (though we think it's number one). Let's say you select 3.\n",
    "- The six numbers you have selected, or  **your numbers**, can be represented all together as (7, 12, 24, 15, 13, 3). This is a _sequence_ of six numbers – **order matters**!\n",
    "\n",
    "The **winning numbers** are chosen by King Triton drawing five balls, one at a time, **without replacement**, from a pot of white balls numbered 1 to 29. Then, he draws a gold ball, the Tritonball, from a pot of gold balls numbered 1 to 12. Both pots are completely separate, hence the different ball colors. For example, maybe the winning numbers are (15, 9, 24, 23, 1, 3).\n",
    "\n",
    "We’ll assume for this problem that in order to win the grand prize (free housing), all six of your numbers need to match the winning numbers and be in the **exact same order**. In other words, your entire sequence of numbers must be exactly the same as the sequence of winning numbers. However, if some numbers in your sequence match up with the corresponding number in the winning sequence, you will still win some Triton Cash. \n",
    "\n",
    "Suppose again that you select (7, 12, 24, 15, 13, 3) and the winning numbers are (15, 9, 24, 23, 1, 3). In this case, two of your numbers are considered to match two of the winning numbers. \n",
    "- Your numbers: (7, 12, **24**, 15, 13, **3**)\n",
    "- Winning numbers: (15, 9, **24**, 23, 1, **3**)\n",
    "\n",
    "You won't win free housing, but you will win some Triton Cash. Note that although both sequences include the number 15 within the first five numbers (representing a white ball), since they are in different positions, that's not considered a match.\n"
   ]
  },
  {
   "cell_type": "markdown",
   "metadata": {},
   "source": [
    "**Question 1.1.** Implement a function called `simulate_one_ticket`. It should take no arguments, and it should return an array with 6 random numbers, simulating how the numbers are selected for a single Lucky Triton Lotto ticket. The first five numbers should all be randomly chosen without replacement, from 1 to 29. The last number should be between 1 and 12."
   ]
  },
  {
   "cell_type": "code",
   "execution_count": 275,
   "metadata": {},
   "outputs": [
    {
     "data": {
      "text/plain": [
       "array([24, 21,  9,  8,  7,  1])"
      ]
     },
     "execution_count": 275,
     "metadata": {},
     "output_type": "execute_result"
    }
   ],
   "source": [
    "def simulate_one_ticket():\n",
    "    \"\"\"Simulate one Lucky Triton Lotto ticket.\"\"\"\n",
    "    ticket = np.array([])\n",
    "    \n",
    "    first5_choices = np.arange(1,30)\n",
    "    sixth_choice = np.arange(1,13)\n",
    "    \n",
    "    ticket = np.random.choice(first5_choices,5,replace = False)#array of first 5 samples\n",
    "    sixth_sample = np.random.choice(sixth_choice,1)# last item to be sampled\n",
    "    \n",
    "    ticket = np.append(ticket,sixth_sample)\n",
    "    \n",
    "    return ticket\n",
    "simulate_one_ticket()"
   ]
  },
  {
   "cell_type": "code",
   "execution_count": 276,
   "metadata": {
    "deletable": false,
    "editable": false
   },
   "outputs": [
    {
     "data": {
      "text/html": [
       "<p><strong><pre style='display: inline;'>q1_1</pre></strong> passed!</p>"
      ],
      "text/plain": [
       "q1_1 results: All test cases passed!"
      ]
     },
     "execution_count": 276,
     "metadata": {},
     "output_type": "execute_result"
    }
   ],
   "source": [
    "grader.check(\"q1_1\")"
   ]
  },
  {
   "cell_type": "markdown",
   "metadata": {},
   "source": [
    "**Question 1.2.** It's draw day. You checked the winning numbers King Triton drew, which happened to be **(15, 9, 24, 23, 1, 3)**. Below, calculate how many matches there are between the winning numbers and a randomly generated ticket, and save the result in `num_matches`. Remember, order matters when counting matches!\n",
    "\n",
    "***Hint:*** You don't need a `for`-loop for this question. There is a one-line solution using `np.count_nonzero`."
   ]
  },
  {
   "cell_type": "code",
   "execution_count": 277,
   "metadata": {},
   "outputs": [
    {
     "name": "stdout",
     "output_type": "stream",
     "text": [
      "The number of matches between the winning numbers [15  9 24 23  1  3] and the simulated ticket [ 3 14 12  2 17  4] is 0.\n"
     ]
    }
   ],
   "source": [
    "winning = np.array([15, 9, 24, 23, 1, 3])\n",
    "simulated_ticket = simulate_one_ticket()\n",
    "num_matches = np.count_nonzero(winning==simulated_ticket)\n",
    "\n",
    "print(f\"The number of matches between the winning numbers {winning} and the simulated ticket {simulated_ticket} is {num_matches}.\")"
   ]
  },
  {
   "cell_type": "code",
   "execution_count": 278,
   "metadata": {
    "deletable": false,
    "editable": false
   },
   "outputs": [
    {
     "data": {
      "text/html": [
       "<p><strong><pre style='display: inline;'>q1_2</pre></strong> passed!</p>"
      ],
      "text/plain": [
       "q1_2 results: All test cases passed!"
      ]
     },
     "execution_count": 278,
     "metadata": {},
     "output_type": "execute_result"
    }
   ],
   "source": [
    "grader.check(\"q1_2\")"
   ]
  },
  {
   "cell_type": "markdown",
   "metadata": {},
   "source": [
    "**Question 1.3.** You are disappointed because you bought a lottery ticket but you did not win free housing. To make yourself feel better, you write a simulation to remind yourself how unlikely it is to win the grand prize. \n",
    "\n",
    "Implement a simulation where you call the function `simulate_one_ticket` 100,000 times. In your 100,000 tickets, **how many times did you win the grand prize (free housing)?** Assign your answer to `count_free_housing`. (It would cost a fortune if you were to buy 100,000 tickets – it's pretty nice to be able to simulate this experiment instead of doing it in real life!) \n",
    "\n",
    "***Hint:*** Start by writing a simulation where you only buy 10 tickets. Once you are sure you have that figured out, then ramp it up to 100,000 tickets. This is a good general practice for writing simulations: start small! It may take a little while (up to a minute) for Python to perform the calculations when you are buying 100,000 tickets. "
   ]
  },
  {
   "cell_type": "code",
   "execution_count": 279,
   "metadata": {},
   "outputs": [
    {
     "data": {
      "text/plain": [
       "0"
      ]
     },
     "execution_count": 279,
     "metadata": {},
     "output_type": "execute_result"
    }
   ],
   "source": [
    "winning = np.array([15, 9, 24, 23, 1, 3])\n",
    "# ticket_simulated = simulate_one_ticket()\n",
    "\n",
    "count_free_housing =0\n",
    "for i in np.arange(0,100_000):\n",
    "    #\n",
    "    if np.count_nonzero(winning ==simulate_one_ticket()) ==6:\n",
    "        count_free_housing +=1\n",
    "# count_free_housing = \n",
    "count_free_housing"
   ]
  },
  {
   "cell_type": "code",
   "execution_count": 280,
   "metadata": {
    "deletable": false,
    "editable": false
   },
   "outputs": [
    {
     "data": {
      "text/html": [
       "<p><strong><pre style='display: inline;'>q1_3</pre></strong> passed!</p>"
      ],
      "text/plain": [
       "q1_3 results: All test cases passed!"
      ]
     },
     "execution_count": 280,
     "metadata": {},
     "output_type": "execute_result"
    }
   ],
   "source": [
    "grader.check(\"q1_3\")"
   ]
  },
  {
   "cell_type": "markdown",
   "metadata": {},
   "source": [
    "How many times did you win free housing? Remember, the mathematical probability of winning free housing is quite low, on the order of $10^{-11}$. That's a lot lower than 1 in 100,000, which is $10^{-5}$.\n",
    "\n",
    "**Question 1.4.** As we've seen, you would need to be extremely lucky to win the grand prize. To encourage more students to buy Lucky Triton Lotto tickets despite the terrible odds, there are some additional prizes. Students can win Triton Cash if *some* of their numbers match the corresponding winning numbers, as described in the introduction. Again, simulate the act of buying 100,000 tickets, but this time find **the greatest number of matches achieved by any of your tickets**, and assign this number to `most_matches`. \n",
    "\n",
    "For example, if 90,000 of your tickets matched 1 winning number and 10,000 of your tickets matched 2 winning numbers, then you would set `most_matches` to 2. If 99,999 of your tickets matched 1 winning number and one of your tickets matched 4 winning numbers, you would set `most_matches` to 4. If you happened to win the grand prize on one of your tickets, you would set `most_matches` to 6. \n",
    "\n",
    "***Hint:*** There are several ways to approach this; one way involves storing the number of matches per ticket in an array and finding the largest number in that array. Another way involves keeping track of the maximum matches you've encountered so far. "
   ]
  },
  {
   "cell_type": "code",
   "execution_count": 281,
   "metadata": {},
   "outputs": [],
   "source": [
    "def most_matches(win_array,num_of_simulations):\n",
    "    '''If theres a number in ticket that is in win_array, position in which it matches doesnt matter\n",
    "    it will return the count'''\n",
    "    counter_array = np.zeros([num_of_simulations])\n",
    "     \n",
    "    for i in np.arange(num_of_simulations):\n",
    "        ticket = simulate_one_ticket()#simulated ticket, each simulation it'll be different\n",
    "        match = 0\n",
    "        for j in np.arange(len(ticket)):#change this if the ticket size isn't length 6 anymore\n",
    "            if ticket[j] in win_array:\n",
    "            # if a number in the ticket is in the win array  \n",
    "                match+=1\n",
    "        counter_array[i]=match\n",
    "    \n",
    "    #now return the max of this array\n",
    "    max_match = 0\n",
    "    max_match = counter_array[0] #set the first max to be the first item of counter_array\n",
    "    for i in np.arange(1,len(counter_array)):\n",
    "        if counter_array[i]>counter_array[i-1]:\n",
    "            max_match = counter_array[i]\n",
    "    return max_match"
   ]
  },
  {
   "cell_type": "code",
   "execution_count": 282,
   "metadata": {},
   "outputs": [
    {
     "data": {
      "text/plain": [
       "2.0"
      ]
     },
     "execution_count": 282,
     "metadata": {},
     "output_type": "execute_result"
    }
   ],
   "source": [
    "winning = np.array([15, 9, 24, 23, 1, 3])\n",
    "most_matches = most_matches(winning,100_000)\n",
    "most_matches"
   ]
  },
  {
   "cell_type": "code",
   "execution_count": 283,
   "metadata": {
    "deletable": false,
    "editable": false
   },
   "outputs": [
    {
     "data": {
      "text/html": [
       "<p><strong><pre style='display: inline;'>q1_4</pre></strong> passed!</p>"
      ],
      "text/plain": [
       "q1_4 results: All test cases passed!"
      ]
     },
     "execution_count": 283,
     "metadata": {},
     "output_type": "execute_result"
    }
   ],
   "source": [
    "grader.check(\"q1_4\")"
   ]
  },
  {
   "cell_type": "markdown",
   "metadata": {},
   "source": [
    "**Question 1.5.** Suppose one Lucky Triton Lotto ticket costs $5.\n",
    "\n",
    "The Lucky Triton Lotto advertisement on Instagram promises you will never lose money because of the following generous prizes:\n",
    "\n",
    "- Win $10 with a 1-number match\n",
    "\n",
    "- Win $25 with a 2-number match\n",
    "\n",
    "- Win $100 with a 3-number match\n",
    "\n",
    "- Win $1,000 with a 4-number match\n",
    "\n",
    "- Win $5,000 with a 5-number match\n",
    "\n",
    "- Win $20,000 with a 6-number match (free housing!)\n",
    "\n",
    "If you had the money to buy 100,000 tickets, what would be your net winnings from buying these tickets? Since this is net winnings, this should account for the prizes you win and the cost of buying the tickets. Assign the amount to `net_winnings`. Note that a positive value means you won money overall, and a negative value means you lost money overall. Do you believe the advertisement's claims?\n",
    "\n",
    "The winning numbers are the same from the previous part: **(15, 9, 24, 23, 1, 3)**.\n",
    "\n",
    "***Hint:*** Again, there are a few ways you could approach this problem. One way involves generating another 100,000 random tickets and counting the amount earned per ticket, adding to a running total. Alternatively, if you created an array of the number of matches per ticket in Question 1.4, you could loop through that array. For practice, it's recommended that you try solving this problem multiple ways!"
   ]
  },
  {
   "cell_type": "code",
   "execution_count": 284,
   "metadata": {
    "scrolled": true
   },
   "outputs": [
    {
     "name": "stderr",
     "output_type": "stream",
     "text": [
      "/tmp/ipykernel_168/3896564951.py:6: DeprecationWarning: elementwise comparison failed; this will raise an error in the future.\n",
      "  matches = (np.count_nonzero(temp_arr==winning))\n"
     ]
    },
    {
     "data": {
      "text/plain": [
       "-399320"
      ]
     },
     "execution_count": 284,
     "metadata": {},
     "output_type": "execute_result"
    }
   ],
   "source": [
    "corresponding_array = np.zeros([6],dtype=int)# this array will match the number of matches with its position\n",
    "for i in np.arange(100_000):#this number can change based on # of simulation\n",
    "    temp_arr = np.unique(simulate_one_ticket()) #i did this so that my code doesn't count a match twice\n",
    "    matches =0\n",
    "    \n",
    "    matches = (np.count_nonzero(temp_arr==winning))\n",
    "#     for j in temp_arr: #for number(j) in simulated ticket(temp_arr)\n",
    "#         if j in winning:\n",
    "#             matches +=1\n",
    "#         #print(f\" checking for {j} in winning: {winning}\")\n",
    "    \n",
    "    if matches ==1:\n",
    "        corresponding_array[0] +=1\n",
    "    elif matches ==2:\n",
    "        corresponding_array[1] +=1\n",
    "    elif matches ==3:\n",
    "        corresponding_array[2] +=1\n",
    "    elif matches ==4:\n",
    "        corresponding_array[3] +=1\n",
    "    elif matches ==5:\n",
    "        corresponding_array[4] +=1\n",
    "    elif matches ==6:\n",
    "        corresponding_array[5] +=1\n",
    "    #print(f\" corresponding array: {corresponding_array}\\n\")    \n",
    "corresponding_array\n",
    "net_winnings = (corresponding_array*np.array([10,25,100,1000,5000,20000])).sum()-500_000\n",
    "net_winnings "
   ]
  },
  {
   "cell_type": "code",
   "execution_count": 285,
   "metadata": {
    "deletable": false,
    "editable": false
   },
   "outputs": [
    {
     "data": {
      "text/html": [
       "<p><strong><pre style='display: inline;'>q1_5</pre></strong> passed!</p>"
      ],
      "text/plain": [
       "q1_5 results: All test cases passed!"
      ]
     },
     "execution_count": 285,
     "metadata": {},
     "output_type": "execute_result"
    }
   ],
   "source": [
    "grader.check(\"q1_5\")"
   ]
  },
  {
   "cell_type": "markdown",
   "metadata": {},
   "source": [
    "## 2. Sampling with World Cup Data ⚽\n",
    "\n",
    "In this question, we will use a [dataset](https://www.kaggle.com/datasets/swaptr/fifa-world-cup-2022-player-data?select=player_stats.csv) consisting of information about every player that played in the 2022 World Cup. We'll use this data to get some practice with sampling. Run the cell below to load the data into a DataFrame."
   ]
  },
  {
   "cell_type": "code",
   "execution_count": 286,
   "metadata": {},
   "outputs": [
    {
     "data": {
      "text/html": [
       "<div>\n",
       "<style scoped>\n",
       "    .dataframe tbody tr th:only-of-type {\n",
       "        vertical-align: middle;\n",
       "    }\n",
       "\n",
       "    .dataframe tbody tr th {\n",
       "        vertical-align: top;\n",
       "    }\n",
       "\n",
       "    .dataframe thead th {\n",
       "        text-align: right;\n",
       "    }\n",
       "</style>\n",
       "<table border=\"1\" class=\"dataframe\">\n",
       "  <thead>\n",
       "    <tr style=\"text-align: right;\">\n",
       "      <th></th>\n",
       "      <th>Player</th>\n",
       "      <th>Position</th>\n",
       "      <th>Team</th>\n",
       "      <th>Age</th>\n",
       "      <th>Club</th>\n",
       "      <th>Games</th>\n",
       "      <th>Shots</th>\n",
       "      <th>Goals</th>\n",
       "      <th>Touches</th>\n",
       "      <th>Passes</th>\n",
       "    </tr>\n",
       "  </thead>\n",
       "  <tbody>\n",
       "    <tr>\n",
       "      <th>0</th>\n",
       "      <td>Aaron Mooy</td>\n",
       "      <td>MF</td>\n",
       "      <td>Australia</td>\n",
       "      <td>32-094</td>\n",
       "      <td>Celtic</td>\n",
       "      <td>4</td>\n",
       "      <td>1</td>\n",
       "      <td>0</td>\n",
       "      <td>255.0</td>\n",
       "      <td>217.0</td>\n",
       "    </tr>\n",
       "    <tr>\n",
       "      <th>1</th>\n",
       "      <td>Aaron Ramsey</td>\n",
       "      <td>MF</td>\n",
       "      <td>Wales</td>\n",
       "      <td>31-357</td>\n",
       "      <td>Nice</td>\n",
       "      <td>3</td>\n",
       "      <td>1</td>\n",
       "      <td>0</td>\n",
       "      <td>147.0</td>\n",
       "      <td>112.0</td>\n",
       "    </tr>\n",
       "    <tr>\n",
       "      <th>2</th>\n",
       "      <td>Abdelhamid Sabiri</td>\n",
       "      <td>MF</td>\n",
       "      <td>Morocco</td>\n",
       "      <td>26-020</td>\n",
       "      <td>Sampdoria</td>\n",
       "      <td>5</td>\n",
       "      <td>3</td>\n",
       "      <td>0</td>\n",
       "      <td>86.0</td>\n",
       "      <td>58.0</td>\n",
       "    </tr>\n",
       "    <tr>\n",
       "      <th>3</th>\n",
       "      <td>Abdelkarim Hassan</td>\n",
       "      <td>DF</td>\n",
       "      <td>Qatar</td>\n",
       "      <td>29-112</td>\n",
       "      <td>Al Sadd SC</td>\n",
       "      <td>3</td>\n",
       "      <td>6</td>\n",
       "      <td>0</td>\n",
       "      <td>193.0</td>\n",
       "      <td>161.0</td>\n",
       "    </tr>\n",
       "    <tr>\n",
       "      <th>4</th>\n",
       "      <td>Abderrazak Hamdallah</td>\n",
       "      <td>FW</td>\n",
       "      <td>Morocco</td>\n",
       "      <td>32-001</td>\n",
       "      <td>Al-Ittihad</td>\n",
       "      <td>4</td>\n",
       "      <td>2</td>\n",
       "      <td>0</td>\n",
       "      <td>28.0</td>\n",
       "      <td>15.0</td>\n",
       "    </tr>\n",
       "    <tr>\n",
       "      <th>...</th>\n",
       "      <td>...</td>\n",
       "      <td>...</td>\n",
       "      <td>...</td>\n",
       "      <td>...</td>\n",
       "      <td>...</td>\n",
       "      <td>...</td>\n",
       "      <td>...</td>\n",
       "      <td>...</td>\n",
       "      <td>...</td>\n",
       "      <td>...</td>\n",
       "    </tr>\n",
       "    <tr>\n",
       "      <th>675</th>\n",
       "      <td>Ángel Di María</td>\n",
       "      <td>MF</td>\n",
       "      <td>Argentina</td>\n",
       "      <td>34-307</td>\n",
       "      <td>Juventus</td>\n",
       "      <td>5</td>\n",
       "      <td>6</td>\n",
       "      <td>1</td>\n",
       "      <td>201.0</td>\n",
       "      <td>168.0</td>\n",
       "    </tr>\n",
       "    <tr>\n",
       "      <th>676</th>\n",
       "      <td>Ángelo Preciado</td>\n",
       "      <td>DF</td>\n",
       "      <td>Ecuador</td>\n",
       "      <td>24-303</td>\n",
       "      <td>Genk</td>\n",
       "      <td>3</td>\n",
       "      <td>4</td>\n",
       "      <td>0</td>\n",
       "      <td>162.0</td>\n",
       "      <td>129.0</td>\n",
       "    </tr>\n",
       "    <tr>\n",
       "      <th>677</th>\n",
       "      <td>Éder Militão</td>\n",
       "      <td>DF</td>\n",
       "      <td>Brazil</td>\n",
       "      <td>24-334</td>\n",
       "      <td>Real Madrid</td>\n",
       "      <td>4</td>\n",
       "      <td>5</td>\n",
       "      <td>0</td>\n",
       "      <td>306.0</td>\n",
       "      <td>277.0</td>\n",
       "    </tr>\n",
       "    <tr>\n",
       "      <th>678</th>\n",
       "      <td>Óscar Duarte</td>\n",
       "      <td>DF</td>\n",
       "      <td>Costa Rica</td>\n",
       "      <td>33-198</td>\n",
       "      <td>Al-Wehda</td>\n",
       "      <td>3</td>\n",
       "      <td>0</td>\n",
       "      <td>0</td>\n",
       "      <td>132.0</td>\n",
       "      <td>98.0</td>\n",
       "    </tr>\n",
       "    <tr>\n",
       "      <th>679</th>\n",
       "      <td>İlkay Gündoğan</td>\n",
       "      <td>MF</td>\n",
       "      <td>Germany</td>\n",
       "      <td>32-055</td>\n",
       "      <td>Manchester City</td>\n",
       "      <td>3</td>\n",
       "      <td>5</td>\n",
       "      <td>1</td>\n",
       "      <td>187.0</td>\n",
       "      <td>168.0</td>\n",
       "    </tr>\n",
       "  </tbody>\n",
       "</table>\n",
       "<p>680 rows × 10 columns</p>\n",
       "</div>"
      ],
      "text/plain": [
       "                   Player Position        Team     Age             Club  \\\n",
       "0              Aaron Mooy       MF   Australia  32-094           Celtic   \n",
       "1            Aaron Ramsey       MF       Wales  31-357             Nice   \n",
       "2       Abdelhamid Sabiri       MF     Morocco  26-020        Sampdoria   \n",
       "3       Abdelkarim Hassan       DF       Qatar  29-112       Al Sadd SC   \n",
       "4    Abderrazak Hamdallah       FW     Morocco  32-001       Al-Ittihad   \n",
       "..                    ...      ...         ...     ...              ...   \n",
       "675        Ángel Di María       MF   Argentina  34-307         Juventus   \n",
       "676       Ángelo Preciado       DF     Ecuador  24-303             Genk   \n",
       "677          Éder Militão       DF      Brazil  24-334      Real Madrid   \n",
       "678          Óscar Duarte       DF  Costa Rica  33-198         Al-Wehda   \n",
       "679        İlkay Gündoğan       MF     Germany  32-055  Manchester City   \n",
       "\n",
       "     Games  Shots  Goals  Touches  Passes  \n",
       "0        4      1      0    255.0   217.0  \n",
       "1        3      1      0    147.0   112.0  \n",
       "2        5      3      0     86.0    58.0  \n",
       "3        3      6      0    193.0   161.0  \n",
       "4        4      2      0     28.0    15.0  \n",
       "..     ...    ...    ...      ...     ...  \n",
       "675      5      6      1    201.0   168.0  \n",
       "676      3      4      0    162.0   129.0  \n",
       "677      4      5      0    306.0   277.0  \n",
       "678      3      0      0    132.0    98.0  \n",
       "679      3      5      1    187.0   168.0  \n",
       "\n",
       "[680 rows x 10 columns]"
      ]
     },
     "execution_count": 286,
     "metadata": {},
     "output_type": "execute_result"
    }
   ],
   "source": [
    "# Just run this cell, do not change it!\n",
    "world_cup = bpd.read_csv('data/world_cup_players.csv')\n",
    "world_cup"
   ]
  },
  {
   "cell_type": "markdown",
   "metadata": {},
   "source": [
    "We've provided a function called `compute_statistics` that takes as input a DataFrame with two columns, `'Shots'` and `'Goals'`, and then:\n",
    "- draws a histogram of `'Shots'`,\n",
    "- draws a histogram of `'Goals'`, and\n",
    "- returns a two-element array containing the mean `'Shots'` and mean `'Goals'`.\n",
    "\n",
    "Run the cell below to define the `compute_statistics` function, and a helper function called `histograms`. Don't worry about how this code works, and please don't change anything."
   ]
  },
  {
   "cell_type": "code",
   "execution_count": 287,
   "metadata": {},
   "outputs": [],
   "source": [
    "# Don't change this cell, just run it.\n",
    "def histograms(df):\n",
    "    shots = df.get('Shots').values\n",
    "    goals = df.get('Goals').values\n",
    "    \n",
    "    plt.subplots(1, 2, figsize=(15, 4), dpi=100)\n",
    "\n",
    "    plt.subplot(1, 2, 1)\n",
    "    plt.hist(shots, density=True, alpha=0.5, color='blue', ec='w', bins=np.arange(0, 20, 1))\n",
    "    plt.title('Distribution of Shots')\n",
    "\n",
    "    plt.subplot(1, 2, 2)\n",
    "    plt.hist(goals, density=True, alpha=0.5, color='blue', ec='w', bins=np.arange(0, 8, 1))\n",
    "    plt.title('Distribution of Goals')\n",
    "    \n",
    "def compute_statistics(shots_and_goals_data, draw=True):\n",
    "    if draw:\n",
    "        histograms(shots_and_goals_data)\n",
    "    avg_shots = shots_and_goals_data.get('Shots').mean()\n",
    "    avg_goals = shots_and_goals_data.get('Goals').mean()\n",
    "    avg_array = np.array([avg_shots, avg_goals]) \n",
    "    return avg_array"
   ]
  },
  {
   "cell_type": "markdown",
   "metadata": {},
   "source": [
    "We can use this `compute_statistics` function to show the distribution of `'Shots'` and `'Goals'` and compute their means, for any collection of players. \n",
    "\n",
    "Run the next cell to show these distributions and compute the means for all World Cup players. Notice that an array containing the mean `'Shots'` and mean `'Goals'` values is displayed before the histograms."
   ]
  },
  {
   "cell_type": "code",
   "execution_count": 288,
   "metadata": {},
   "outputs": [
    {
     "data": {
      "text/plain": [
       "array([2.10735294, 0.25      ])"
      ]
     },
     "execution_count": 288,
     "metadata": {},
     "output_type": "execute_result"
    },
    {
     "data": {
      "image/png": "[encoded data removed]",
      "text/plain": [
       "<Figure size 1500x400 with 2 Axes>"
      ]
     },
     "metadata": {},
     "output_type": "display_data"
    }
   ],
   "source": [
    "world_cup_stats = compute_statistics(world_cup)\n",
    "world_cup_stats"
   ]
  },
  {
   "cell_type": "markdown",
   "metadata": {},
   "source": [
    "Now, imagine that instead of having access to the full *population* of World Cup players, we only have access to data on a smaller subset of players, or a *sample*.  For 680 players, it's not so unreasonable to expect to see all the data, but usually we aren't so lucky.  Instead, we often make *statistical inferences* about a large underlying population using a smaller sample.\n",
    "\n",
    "**Statistical inference** is the process of using data in a sample to _infer_ some characteristic about the population from which the sample was drawn. A common strategy for statistical inference is to estimate a parameter of the population by computing a corresponding statistic on a sample. This strategy sometimes works well and sometimes doesn't.  The degree to which it gives us useful answers depends on several factors.\n",
    "\n",
    "One very important factor in the utility of samples is how they were gathered. Let's look at some different sampling strategies."
   ]
  },
  {
   "cell_type": "markdown",
   "metadata": {},
   "source": [
    "### Convenience sampling\n",
    "One sampling methodology, which is **generally a bad idea**, is to choose players which are somehow convenient to sample.  For example, you might choose players from a team that's near your house, since it's easier to collect information about them.  This is called *convenience sampling*.\n",
    "\n",
    "**Question 2.1.**  Suppose you only have access to data on the World Cup players who play certain positions: `'GK'` for goalkeepers, and `'DF'` for defenders. Assign `convenience_sample` to a subset of `world_cup` that contains only the rows for players that play one of these positions."
   ]
  },
  {
   "cell_type": "code",
   "execution_count": 289,
   "metadata": {},
   "outputs": [
    {
     "data": {
      "text/html": [
       "<div>\n",
       "<style scoped>\n",
       "    .dataframe tbody tr th:only-of-type {\n",
       "        vertical-align: middle;\n",
       "    }\n",
       "\n",
       "    .dataframe tbody tr th {\n",
       "        vertical-align: top;\n",
       "    }\n",
       "\n",
       "    .dataframe thead th {\n",
       "        text-align: right;\n",
       "    }\n",
       "</style>\n",
       "<table border=\"1\" class=\"dataframe\">\n",
       "  <thead>\n",
       "    <tr style=\"text-align: right;\">\n",
       "      <th></th>\n",
       "      <th>Player</th>\n",
       "      <th>Position</th>\n",
       "      <th>Team</th>\n",
       "      <th>Age</th>\n",
       "      <th>Club</th>\n",
       "      <th>Games</th>\n",
       "      <th>Shots</th>\n",
       "      <th>Goals</th>\n",
       "      <th>Touches</th>\n",
       "      <th>Passes</th>\n",
       "    </tr>\n",
       "  </thead>\n",
       "  <tbody>\n",
       "    <tr>\n",
       "      <th>3</th>\n",
       "      <td>Abdelkarim Hassan</td>\n",
       "      <td>DF</td>\n",
       "      <td>Qatar</td>\n",
       "      <td>29-112</td>\n",
       "      <td>Al Sadd SC</td>\n",
       "      <td>3</td>\n",
       "      <td>6</td>\n",
       "      <td>0</td>\n",
       "      <td>193.0</td>\n",
       "      <td>161.0</td>\n",
       "    </tr>\n",
       "    <tr>\n",
       "      <th>6</th>\n",
       "      <td>Abdou Diallo</td>\n",
       "      <td>DF</td>\n",
       "      <td>Senegal</td>\n",
       "      <td>26-228</td>\n",
       "      <td>RB Leipzig</td>\n",
       "      <td>4</td>\n",
       "      <td>1</td>\n",
       "      <td>0</td>\n",
       "      <td>210.0</td>\n",
       "      <td>186.0</td>\n",
       "    </tr>\n",
       "    <tr>\n",
       "      <th>9</th>\n",
       "      <td>Abdulelah Al-Amri</td>\n",
       "      <td>DF</td>\n",
       "      <td>Saudi Arabia</td>\n",
       "      <td>25-337</td>\n",
       "      <td>Al-Nassr</td>\n",
       "      <td>3</td>\n",
       "      <td>1</td>\n",
       "      <td>0</td>\n",
       "      <td>129.0</td>\n",
       "      <td>104.0</td>\n",
       "    </tr>\n",
       "    <tr>\n",
       "      <th>11</th>\n",
       "      <td>Abdullah Madu</td>\n",
       "      <td>DF</td>\n",
       "      <td>Saudi Arabia</td>\n",
       "      <td>29-156</td>\n",
       "      <td>Al-Nassr</td>\n",
       "      <td>1</td>\n",
       "      <td>0</td>\n",
       "      <td>0</td>\n",
       "      <td>19.0</td>\n",
       "      <td>13.0</td>\n",
       "    </tr>\n",
       "    <tr>\n",
       "      <th>13</th>\n",
       "      <td>Abolfazl Jalali</td>\n",
       "      <td>DF</td>\n",
       "      <td>IR Iran</td>\n",
       "      <td>24-175</td>\n",
       "      <td>Esteghlal</td>\n",
       "      <td>1</td>\n",
       "      <td>0</td>\n",
       "      <td>0</td>\n",
       "      <td>34.0</td>\n",
       "      <td>29.0</td>\n",
       "    </tr>\n",
       "    <tr>\n",
       "      <th>...</th>\n",
       "      <td>...</td>\n",
       "      <td>...</td>\n",
       "      <td>...</td>\n",
       "      <td>...</td>\n",
       "      <td>...</td>\n",
       "      <td>...</td>\n",
       "      <td>...</td>\n",
       "      <td>...</td>\n",
       "      <td>...</td>\n",
       "      <td>...</td>\n",
       "    </tr>\n",
       "    <tr>\n",
       "      <th>665</th>\n",
       "      <td>Youssouf Sabaly</td>\n",
       "      <td>DF</td>\n",
       "      <td>Senegal</td>\n",
       "      <td>29-288</td>\n",
       "      <td>Betis</td>\n",
       "      <td>4</td>\n",
       "      <td>2</td>\n",
       "      <td>0</td>\n",
       "      <td>253.0</td>\n",
       "      <td>219.0</td>\n",
       "    </tr>\n",
       "    <tr>\n",
       "      <th>667</th>\n",
       "      <td>Youstin Salas</td>\n",
       "      <td>DF</td>\n",
       "      <td>Costa Rica</td>\n",
       "      <td>26-184</td>\n",
       "      <td>Deportivo Saprissa</td>\n",
       "      <td>2</td>\n",
       "      <td>0</td>\n",
       "      <td>0</td>\n",
       "      <td>27.0</td>\n",
       "      <td>19.0</td>\n",
       "    </tr>\n",
       "    <tr>\n",
       "      <th>676</th>\n",
       "      <td>Ángelo Preciado</td>\n",
       "      <td>DF</td>\n",
       "      <td>Ecuador</td>\n",
       "      <td>24-303</td>\n",
       "      <td>Genk</td>\n",
       "      <td>3</td>\n",
       "      <td>4</td>\n",
       "      <td>0</td>\n",
       "      <td>162.0</td>\n",
       "      <td>129.0</td>\n",
       "    </tr>\n",
       "    <tr>\n",
       "      <th>677</th>\n",
       "      <td>Éder Militão</td>\n",
       "      <td>DF</td>\n",
       "      <td>Brazil</td>\n",
       "      <td>24-334</td>\n",
       "      <td>Real Madrid</td>\n",
       "      <td>4</td>\n",
       "      <td>5</td>\n",
       "      <td>0</td>\n",
       "      <td>306.0</td>\n",
       "      <td>277.0</td>\n",
       "    </tr>\n",
       "    <tr>\n",
       "      <th>678</th>\n",
       "      <td>Óscar Duarte</td>\n",
       "      <td>DF</td>\n",
       "      <td>Costa Rica</td>\n",
       "      <td>33-198</td>\n",
       "      <td>Al-Wehda</td>\n",
       "      <td>3</td>\n",
       "      <td>0</td>\n",
       "      <td>0</td>\n",
       "      <td>132.0</td>\n",
       "      <td>98.0</td>\n",
       "    </tr>\n",
       "  </tbody>\n",
       "</table>\n",
       "<p>269 rows × 10 columns</p>\n",
       "</div>"
      ],
      "text/plain": [
       "                Player Position          Team     Age                Club  \\\n",
       "3    Abdelkarim Hassan       DF         Qatar  29-112          Al Sadd SC   \n",
       "6         Abdou Diallo       DF       Senegal  26-228          RB Leipzig   \n",
       "9    Abdulelah Al-Amri       DF  Saudi Arabia  25-337            Al-Nassr   \n",
       "11       Abdullah Madu       DF  Saudi Arabia  29-156            Al-Nassr   \n",
       "13     Abolfazl Jalali       DF       IR Iran  24-175           Esteghlal   \n",
       "..                 ...      ...           ...     ...                 ...   \n",
       "665    Youssouf Sabaly       DF       Senegal  29-288               Betis   \n",
       "667      Youstin Salas       DF    Costa Rica  26-184  Deportivo Saprissa   \n",
       "676    Ángelo Preciado       DF       Ecuador  24-303                Genk   \n",
       "677       Éder Militão       DF        Brazil  24-334         Real Madrid   \n",
       "678       Óscar Duarte       DF    Costa Rica  33-198            Al-Wehda   \n",
       "\n",
       "     Games  Shots  Goals  Touches  Passes  \n",
       "3        3      6      0    193.0   161.0  \n",
       "6        4      1      0    210.0   186.0  \n",
       "9        3      1      0    129.0   104.0  \n",
       "11       1      0      0     19.0    13.0  \n",
       "13       1      0      0     34.0    29.0  \n",
       "..     ...    ...    ...      ...     ...  \n",
       "665      4      2      0    253.0   219.0  \n",
       "667      2      0      0     27.0    19.0  \n",
       "676      3      4      0    162.0   129.0  \n",
       "677      4      5      0    306.0   277.0  \n",
       "678      3      0      0    132.0    98.0  \n",
       "\n",
       "[269 rows x 10 columns]"
      ]
     },
     "execution_count": 289,
     "metadata": {},
     "output_type": "execute_result"
    }
   ],
   "source": [
    "convenience_sample = world_cup[(world_cup.get(\"Position\")== \"GK\") | (world_cup.get(\"Position\")==\"DF\")]\n",
    "convenience_sample"
   ]
  },
  {
   "cell_type": "code",
   "execution_count": 290,
   "metadata": {
    "deletable": false,
    "editable": false
   },
   "outputs": [
    {
     "data": {
      "text/html": [
       "<p><strong><pre style='display: inline;'>q2_1</pre></strong> passed!</p>"
      ],
      "text/plain": [
       "q2_1 results: All test cases passed!"
      ]
     },
     "execution_count": 290,
     "metadata": {},
     "output_type": "execute_result"
    }
   ],
   "source": [
    "grader.check(\"q2_1\")"
   ]
  },
  {
   "cell_type": "markdown",
   "metadata": {},
   "source": [
    "**Question 2.2.** Assign `convenience_stats` to an array of the mean `'Shots'` and mean `'Goals'` of your convenience sample.  Since they're computed on a sample, these are called *sample means*. \n",
    "\n",
    "***Hint:*** Use the function `compute_statistics`; it's okay if histograms are displayed as well."
   ]
  },
  {
   "cell_type": "code",
   "execution_count": 291,
   "metadata": {},
   "outputs": [
    {
     "data": {
      "text/plain": [
       "array([0.97026022, 0.07434944])"
      ]
     },
     "execution_count": 291,
     "metadata": {},
     "output_type": "execute_result"
    },
    {
     "data": {
      "image/png": "[encoded data removed]",
      "text/plain": [
       "<Figure size 1500x400 with 2 Axes>"
      ]
     },
     "metadata": {},
     "output_type": "display_data"
    }
   ],
   "source": [
    "convenience_stats = compute_statistics(convenience_sample)\n",
    "convenience_stats"
   ]
  },
  {
   "cell_type": "code",
   "execution_count": 292,
   "metadata": {
    "deletable": false,
    "editable": false
   },
   "outputs": [
    {
     "data": {
      "text/html": [
       "<p><strong><pre style='display: inline;'>q2_2</pre></strong> passed!</p>"
      ],
      "text/plain": [
       "q2_2 results: All test cases passed!"
      ]
     },
     "execution_count": 292,
     "metadata": {},
     "output_type": "execute_result"
    }
   ],
   "source": [
    "grader.check(\"q2_2\")"
   ]
  },
  {
   "cell_type": "markdown",
   "metadata": {},
   "source": [
    "Next, we'll compare the distribution of `'Shots'` in our convenience sample to the distribution of `'Shots'` for all the players in our dataset."
   ]
  },
  {
   "cell_type": "code",
   "execution_count": 293,
   "metadata": {},
   "outputs": [
    {
     "data": {
      "image/png": "[encoded data removed]",
      "text/plain": [
       "<Figure size 1275x340 with 2 Axes>"
      ]
     },
     "metadata": {},
     "output_type": "display_data"
    }
   ],
   "source": [
    "# Just run this cell, do not change it!\n",
    "def compare_shots(first, second, first_title, second_title):\n",
    "    \"\"\"Compare the shots in two DataFrames.\"\"\"\n",
    "    bins = np.arange(0, 35, 1)\n",
    "    \n",
    "    plt.subplots(1, 2, figsize=(15, 4), dpi=85)\n",
    "\n",
    "    plt.subplot(1, 2, 1)\n",
    "    plt.hist(first.get('Shots'), bins=bins, density=True, ec='w', color='blue', alpha=0.5)\n",
    "    plt.title(f'Shots ({first_title})')\n",
    "    \n",
    "    plt.subplot(1, 2, 2)\n",
    "    plt.hist(second.get('Shots'), bins=bins, density=True, ec='w', color='blue', alpha=0.5)\n",
    "    plt.title(f'Shots ({second_title})')\n",
    "\n",
    "compare_shots(world_cup, convenience_sample, 'All Players', 'Convenience Sample')"
   ]
  },
  {
   "cell_type": "markdown",
   "metadata": {},
   "source": [
    "**Question 2.3.** From what you see in the histograms above, did the convenience sample give us an accurate picture of the shots for the full population of World Cup players?  Why or why not?\n",
    "\n",
    "Assign either 1, 2, 3, or 4 to the variable `sampling_q3` below. \n",
    "1. Yes. The sample is large enough, so it is an accurate representation of the population.\n",
    "1. No. Convenience samples generally don't give us an accurate representation of the population.\n",
    "1. No. Normally convenience samples give us an accurate representation of the population, but we just got unlucky.\n",
    "1. No. Normally convenience samples give us an accurate representation of the population, but only if the sample size is large enough. Our convenience sample here was too small."
   ]
  },
  {
   "cell_type": "code",
   "execution_count": 294,
   "metadata": {},
   "outputs": [],
   "source": [
    "sampling_q3 = 2"
   ]
  },
  {
   "cell_type": "code",
   "execution_count": 295,
   "metadata": {
    "deletable": false,
    "editable": false
   },
   "outputs": [
    {
     "data": {
      "text/html": [
       "<p><strong><pre style='display: inline;'>q2_3</pre></strong> passed!</p>"
      ],
      "text/plain": [
       "q2_3 results: All test cases passed!"
      ]
     },
     "execution_count": 295,
     "metadata": {},
     "output_type": "execute_result"
    }
   ],
   "source": [
    "grader.check(\"q2_3\")"
   ]
  },
  {
   "cell_type": "markdown",
   "metadata": {},
   "source": [
    "### Simple random sampling\n",
    "A more principled approach is to sample uniformly at random from the players.  If we ensure that each player is selected at most once, this is a **random sample without replacement**, sometimes called a \"**simple random sample**\" or \"**SRS**\".  Imagine writing down each player's name on a card, putting the cards in a hat, and shuffling the hat.  To sample, pull out cards one by one and set them aside, stopping when the specified *sample size* is reached.\n",
    "\n",
    "We've produced two simple random samples of `world_cup`: the variable `small_srs_data` contains a SRS of size 30, and the variable `large_srs_data` contains a SRS of size 360."
   ]
  },
  {
   "cell_type": "markdown",
   "metadata": {},
   "source": [
    "Now we'll run the same analyses on the small simple random sample, the large simple random sample, and the convenience sample. The subsequent code draws the histograms and computes the means for `'Goals'` and `'Shots'`."
   ]
  },
  {
   "cell_type": "code",
   "execution_count": 296,
   "metadata": {},
   "outputs": [
    {
     "name": "stdout",
     "output_type": "stream",
     "text": [
      "Full data stats:                  [2.10735294 0.25      ]\n",
      "Small SRS stats:                  [2.46666667 0.33333333]\n",
      "Large SRS stats:                  [2.13055556 0.24444444]\n",
      "Convenience sample stats:         [0.97026022 0.07434944]\n"
     ]
    },
    {
     "data": {
      "image/png": "[encoded data removed]",
      "text/plain": [
       "<Figure size 1500x1500 with 6 Axes>"
      ]
     },
     "metadata": {},
     "output_type": "display_data"
    }
   ],
   "source": [
    "# Don't change this cell, but do run it.\n",
    "small_srs_data = bpd.read_csv('data/small_srs.csv')\n",
    "large_srs_data = bpd.read_csv('data/large_srs.csv')\n",
    "\n",
    "small_stats = compute_statistics(small_srs_data, draw=False);\n",
    "large_stats = compute_statistics(large_srs_data, draw=False);\n",
    "convenience_stats = compute_statistics(convenience_sample, draw=False);\n",
    "\n",
    "print('Full data stats:                 ', world_cup_stats)\n",
    "print('Small SRS stats:                 ', small_stats)\n",
    "print('Large SRS stats:                 ', large_stats)\n",
    "print('Convenience sample stats:        ', convenience_stats)\n",
    "\n",
    "color_dict = {\n",
    "    'small SRS': 'blue',\n",
    "    'large SRS': 'green',\n",
    "    'convenience sample': 'orange'\n",
    "}\n",
    "\n",
    "plt.subplots(3, 2, figsize=(15, 15), dpi=100)\n",
    "i = 1\n",
    "\n",
    "for df, name in zip([small_srs_data, large_srs_data, convenience_sample], color_dict.keys()):\n",
    "    plt.subplot(3, 2, i)\n",
    "    i += 2\n",
    "    plt.hist(df.get('Shots'), density=True, alpha=0.5, color=color_dict[name], ec='w', \n",
    "             bins=np.arange(0, 35, 1))\n",
    "    plt.title(f'Shots ({name})');\n",
    "\n",
    "i = 2\n",
    "for df, name in zip([small_srs_data, large_srs_data, convenience_sample], color_dict.keys()):\n",
    "    plt.subplot(3, 2, i)\n",
    "    i += 2\n",
    "    plt.hist(df.get('Goals'), density=True, alpha=0.5, color=color_dict[name], ec='w', \n",
    "             bins=np.arange(0, 8, 1))\n",
    "    plt.title(f'Goals ({name})');"
   ]
  },
  {
   "cell_type": "markdown",
   "metadata": {},
   "source": [
    "### Producing simple random samples\n",
    "Often it's useful to take random samples even when we have a larger dataset available.  One reason is that doing so can help us understand how inaccurate other samples are.\n",
    "\n",
    "As we saw in [Lecture 13](https://dsc10.com/resources/lectures/lec13/lec13.html#Sampling-rows-from-a-DataFrame), DataFrames have a `.sample` method for producing simple random samples.  Note that its default is to sample **without** replacement, which aligns with how simple random samples are drawn."
   ]
  },
  {
   "cell_type": "markdown",
   "metadata": {},
   "source": [
    "**Question 2.4.** Produce a simple random sample of size 30 from `world_cup`. Store an array containing the mean `'Shots'` and mean `'Goals'` of your SRS in `my_small_stats`. Again, it's fine if histograms are displayed."
   ]
  },
  {
   "cell_type": "code",
   "execution_count": 297,
   "metadata": {},
   "outputs": [
    {
     "data": {
      "text/plain": [
       "array([1.8       , 0.33333333])"
      ]
     },
     "execution_count": 297,
     "metadata": {},
     "output_type": "execute_result"
    },
    {
     "data": {
      "image/png": "[encoded data removed]",
      "text/plain": [
       "<Figure size 1500x400 with 2 Axes>"
      ]
     },
     "metadata": {},
     "output_type": "display_data"
    }
   ],
   "source": [
    "my_small_stats = compute_statistics(world_cup.sample(30,replace=False))\n",
    "my_small_stats"
   ]
  },
  {
   "cell_type": "markdown",
   "metadata": {},
   "source": [
    "Run the cell above many times, to collect new samples and compute their sample means.\n",
    "\n",
    "<br>\n",
    "\n",
    "Now, recall, `small_stats` is an array containing the mean `'Shots'` and mean `'Goals'` for the one small SRS that we provided you with:"
   ]
  },
  {
   "cell_type": "code",
   "execution_count": 298,
   "metadata": {},
   "outputs": [
    {
     "data": {
      "text/plain": [
       "array([2.46666667, 0.33333333])"
      ]
     },
     "execution_count": 298,
     "metadata": {},
     "output_type": "execute_result"
    }
   ],
   "source": [
    "small_stats"
   ]
  },
  {
   "cell_type": "markdown",
   "metadata": {},
   "source": [
    "Answer the following two-fold question:\n",
    "- Are the values in `my_small_stats` (the mean `'Shots'` and `'Goals'` for **your** small SRS) similar to the values in `small_stats` (the mean `'Shots'` and `'Goals'` for the small SRS **we provided you with**)? \n",
    "- Each time you collect a new sample – i.e. each time you re-run the cell where `my_small_stats` is defined – do the values in `my_small_stats` change a lot?\n",
    "\n",
    "Assign either 1, 2, 3, or 4 to the variable `sampling_q4` below.\n",
    "1. The values in `my_small_stats` are identical to the values in `small_stats`, and change a bit each time a new sample is collected.\n",
    "1. The values in `my_small_stats` are identical to the values in `small_stats`, and don't change at all each time a new sample is collected.\n",
    "1. The values in `my_small_stats` are slightly different from the values in `small_stats`, and change a bit each time a new sample is collected.\n",
    "1. The values in `my_small_stats` are very different from the values in `small_stats`, and don't change at all each time a new sample is collected."
   ]
  },
  {
   "cell_type": "code",
   "execution_count": 299,
   "metadata": {},
   "outputs": [],
   "source": [
    "sampling_q4 = 3"
   ]
  },
  {
   "cell_type": "code",
   "execution_count": 300,
   "metadata": {
    "deletable": false,
    "editable": false
   },
   "outputs": [
    {
     "data": {
      "text/html": [
       "<p><strong><pre style='display: inline;'>q2_4</pre></strong> passed!</p>"
      ],
      "text/plain": [
       "q2_4 results: All test cases passed!"
      ]
     },
     "execution_count": 300,
     "metadata": {},
     "output_type": "execute_result"
    }
   ],
   "source": [
    "grader.check(\"q2_4\")"
   ]
  },
  {
   "cell_type": "markdown",
   "metadata": {},
   "source": [
    "**Question 2.5.** Similarly, create a simple random sample of size 360 from `world_cup` and store an array of the sample's mean `'Shots'` and mean `'Goals'` in `my_large_stats`."
   ]
  },
  {
   "cell_type": "code",
   "execution_count": 301,
   "metadata": {},
   "outputs": [
    {
     "data": {
      "text/plain": [
       "array([2.00285714, 0.25142857])"
      ]
     },
     "execution_count": 301,
     "metadata": {},
     "output_type": "execute_result"
    },
    {
     "data": {
      "image/png": "[encoded data removed]",
      "text/plain": [
       "<Figure size 1500x400 with 2 Axes>"
      ]
     },
     "metadata": {},
     "output_type": "display_data"
    }
   ],
   "source": [
    "my_large_stats = compute_statistics(world_cup.sample(350,replace=False))\n",
    "my_large_stats"
   ]
  },
  {
   "cell_type": "markdown",
   "metadata": {},
   "source": [
    "Run the cell in which `my_large_stats` is defined many times. Do the histograms and  mean statistics (mean `'Shots'` and mean `'Goals'`) seem to change more or less across samples of size 360 than across samples of size 30?\n",
    "\n",
    "Assign either 1, 2, or 3 to the variable `sampling_q5` below. \n",
    "\n",
    "1. The statistics change *less* across samples of size 360 than across samples of size 30.\n",
    "1. The statistics change an *equal amount* across samples of size 360 and across samples of size 30.\n",
    "1. The statistics change *more* across samples of size 360 than across samples of size 30."
   ]
  },
  {
   "cell_type": "code",
   "execution_count": 302,
   "metadata": {},
   "outputs": [],
   "source": [
    "sampling_q5 = 1"
   ]
  },
  {
   "cell_type": "code",
   "execution_count": 303,
   "metadata": {
    "deletable": false,
    "editable": false
   },
   "outputs": [
    {
     "data": {
      "text/html": [
       "<p><strong><pre style='display: inline;'>q2_5</pre></strong> passed!</p>"
      ],
      "text/plain": [
       "q2_5 results: All test cases passed!"
      ]
     },
     "execution_count": 303,
     "metadata": {},
     "output_type": "execute_result"
    }
   ],
   "source": [
    "grader.check(\"q2_5\")"
   ]
  },
  {
   "cell_type": "markdown",
   "metadata": {},
   "source": [
    "## 3. Milk Tea, Yippee! 🥛🍵"
   ]
  },
  {
   "cell_type": "markdown",
   "metadata": {},
   "source": [
    "You are planning to open a milk tea shop in La Jolla! To get a sense of the local residents' milk tea preferences, you survey 200 randomly selected La Jolla residents and ask which type of tea they prefer the most among six options – `'jasmine'`, `'oolong'`, `'black'`, `'golden'`, `'matcha'`, `'Thai'`. \n",
    "\n",
    "<center><img src=\"images/tea.png\" width=70%></center>\n",
    "\n",
    "Run the next cell to load in the results of the survey."
   ]
  },
  {
   "cell_type": "code",
   "execution_count": 304,
   "metadata": {},
   "outputs": [
    {
     "data": {
      "text/html": [
       "<div>\n",
       "<style scoped>\n",
       "    .dataframe tbody tr th:only-of-type {\n",
       "        vertical-align: middle;\n",
       "    }\n",
       "\n",
       "    .dataframe tbody tr th {\n",
       "        vertical-align: top;\n",
       "    }\n",
       "\n",
       "    .dataframe thead th {\n",
       "        text-align: right;\n",
       "    }\n",
       "</style>\n",
       "<table border=\"1\" class=\"dataframe\">\n",
       "  <thead>\n",
       "    <tr style=\"text-align: right;\">\n",
       "      <th></th>\n",
       "      <th>tea</th>\n",
       "    </tr>\n",
       "  </thead>\n",
       "  <tbody>\n",
       "    <tr>\n",
       "      <th>0</th>\n",
       "      <td>jasmine</td>\n",
       "    </tr>\n",
       "    <tr>\n",
       "      <th>1</th>\n",
       "      <td>golden</td>\n",
       "    </tr>\n",
       "    <tr>\n",
       "      <th>2</th>\n",
       "      <td>black</td>\n",
       "    </tr>\n",
       "    <tr>\n",
       "      <th>3</th>\n",
       "      <td>matcha</td>\n",
       "    </tr>\n",
       "    <tr>\n",
       "      <th>4</th>\n",
       "      <td>matcha</td>\n",
       "    </tr>\n",
       "    <tr>\n",
       "      <th>...</th>\n",
       "      <td>...</td>\n",
       "    </tr>\n",
       "    <tr>\n",
       "      <th>195</th>\n",
       "      <td>black</td>\n",
       "    </tr>\n",
       "    <tr>\n",
       "      <th>196</th>\n",
       "      <td>matcha</td>\n",
       "    </tr>\n",
       "    <tr>\n",
       "      <th>197</th>\n",
       "      <td>oolong</td>\n",
       "    </tr>\n",
       "    <tr>\n",
       "      <th>198</th>\n",
       "      <td>black</td>\n",
       "    </tr>\n",
       "    <tr>\n",
       "      <th>199</th>\n",
       "      <td>jasmine</td>\n",
       "    </tr>\n",
       "  </tbody>\n",
       "</table>\n",
       "<p>200 rows × 1 columns</p>\n",
       "</div>"
      ],
      "text/plain": [
       "         tea\n",
       "0    jasmine\n",
       "1     golden\n",
       "2      black\n",
       "3     matcha\n",
       "4     matcha\n",
       "..       ...\n",
       "195    black\n",
       "196   matcha\n",
       "197   oolong\n",
       "198    black\n",
       "199  jasmine\n",
       "\n",
       "[200 rows x 1 columns]"
      ]
     },
     "execution_count": 304,
     "metadata": {},
     "output_type": "execute_result"
    }
   ],
   "source": [
    "survey = bpd.read_csv('data/tea.csv')\n",
    "survey#[survey.get(\"tea\")==\"matcha\"]"
   ]
  },
  {
   "cell_type": "markdown",
   "metadata": {},
   "source": [
    "What you're truly interested in, though, is the proportion of *all La Jolla residents* that prefer each type of tea. These are *population parameters* (plural, because there are six proportions).\n",
    "\n",
    "Your friends tell you that matcha tea is popular (it doesn't just taste like grass!) and that your shop should focus on matcha tea-based creations. To make an informed decision, you decide to look at your survey data to determine the proportion of La Jolla residents that prefer `'matcha'` tea over all other types of teas."
   ]
  },
  {
   "cell_type": "markdown",
   "metadata": {},
   "source": [
    "**Question 3.1.** Start by calculating the proportion of residents in your sample who prefer `'matcha'` tea. Assign this value to `matcha_proportion`.\n",
    "\n"
   ]
  },
  {
   "cell_type": "code",
   "execution_count": 305,
   "metadata": {},
   "outputs": [
    {
     "data": {
      "text/plain": [
       "0.19"
      ]
     },
     "execution_count": 305,
     "metadata": {},
     "output_type": "execute_result"
    }
   ],
   "source": [
    "matcha_proportion = survey[survey.get('tea')=='matcha'].shape[0] / survey.shape[0]\n",
    "matcha_proportion"
   ]
  },
  {
   "cell_type": "code",
   "execution_count": 306,
   "metadata": {
    "deletable": false,
    "editable": false
   },
   "outputs": [
    {
     "data": {
      "text/html": [
       "<p><strong><pre style='display: inline;'>q3_1</pre></strong> passed!</p>"
      ],
      "text/plain": [
       "q3_1 results: All test cases passed!"
      ]
     },
     "execution_count": 306,
     "metadata": {},
     "output_type": "execute_result"
    }
   ],
   "source": [
    "grader.check(\"q3_1\")"
   ]
  },
  {
   "cell_type": "markdown",
   "metadata": {},
   "source": [
    "You're done... or are you? You have a single estimate for the true proportion of residents who prefer `'matcha'` tea. However, you don't know how close that estimate is, or how much it could have varied if you'd had a different sample. In other words, you have an estimate, but no understanding of how close that estimate is to the true proportion of all local residents who prefer `'matcha'` tea.\n",
    "\n",
    "This is where the idea of resampling via **[bootstrapping](https://inferentialthinking.com/chapters/13/2/Bootstrap.html)** comes in. Assuming that our sample resembles the population fairly well, we can resample from our original sample to produce more samples. From each of these resamples, we can produce another estimate for the true proportion of residents who prefer `'matcha'` tea, which gives us a distribution of sample proportions that describes how the estimate might vary given different samples. We can then use this distribution to understand the **variability** in the estimated proportion of residents who prefer `'matcha'` tea.\n"
   ]
  },
  {
   "cell_type": "markdown",
   "metadata": {},
   "source": [
    "**Question 3.2.** Now, let's use bootstrapping to get a sense of the distribution of the sample proportion. Complete the following code to produce 1,000 bootstrapped estimates for the proportion of residents who prefer `'matcha'` tea. Store your 1,000 estimates in an array named `boot_matcha_proportions`."
   ]
  },
  {
   "cell_type": "code",
   "execution_count": 307,
   "metadata": {
    "scrolled": true
   },
   "outputs": [
    {
     "data": {
      "text/plain": [
       "array([0.205, 0.175, 0.135, 0.19 , 0.17 , 0.185, 0.195, 0.215, 0.175,\n",
       "       0.175, 0.185, 0.24 , 0.195, 0.175, 0.22 , 0.195, 0.135, 0.24 ,\n",
       "       0.245, 0.2  , 0.205, 0.2  , 0.17 , 0.19 , 0.2  , 0.165, 0.245,\n",
       "       0.16 , 0.235, 0.175, 0.19 , 0.205, 0.21 , 0.235, 0.21 , 0.2  ,\n",
       "       0.185, 0.19 , 0.195, 0.205, 0.185, 0.205, 0.18 , 0.24 , 0.17 ,\n",
       "       0.18 , 0.195, 0.13 , 0.165, 0.175, 0.205, 0.215, 0.17 , 0.16 ,\n",
       "       0.17 , 0.19 , 0.195, 0.17 , 0.185, 0.22 , 0.195, 0.18 , 0.175,\n",
       "       0.195, 0.21 , 0.18 , 0.21 , 0.185, 0.225, 0.21 , 0.215, 0.185,\n",
       "       0.175, 0.22 , 0.18 , 0.225, 0.21 , 0.2  , 0.195, 0.23 , 0.185,\n",
       "       0.205, 0.195, 0.215, 0.175, 0.25 , 0.205, 0.19 , 0.19 , 0.155,\n",
       "       0.255, 0.22 , 0.24 , 0.16 , 0.155, 0.255, 0.17 , 0.195, 0.195,\n",
       "       0.185, 0.205, 0.155, 0.27 , 0.22 , 0.17 , 0.205, 0.17 , 0.18 ,\n",
       "       0.12 , 0.19 , 0.2  , 0.21 , 0.19 , 0.16 , 0.155, 0.235, 0.22 ,\n",
       "       0.18 , 0.21 , 0.2  , 0.205, 0.19 , 0.26 , 0.21 , 0.155, 0.195,\n",
       "       0.225, 0.18 , 0.185, 0.195, 0.16 , 0.145, 0.135, 0.225, 0.23 ,\n",
       "       0.22 , 0.195, 0.185, 0.18 , 0.21 , 0.23 , 0.15 , 0.19 , 0.165,\n",
       "       0.22 , 0.205, 0.2  , 0.145, 0.165, 0.21 , 0.185, 0.2  , 0.17 ,\n",
       "       0.185, 0.22 , 0.21 , 0.235, 0.18 , 0.16 , 0.205, 0.22 , 0.195,\n",
       "       0.17 , 0.175, 0.17 , 0.205, 0.2  , 0.245, 0.135, 0.195, 0.23 ,\n",
       "       0.215, 0.2  , 0.21 , 0.21 , 0.175, 0.21 , 0.155, 0.14 , 0.21 ,\n",
       "       0.18 , 0.235, 0.28 , 0.2  , 0.155, 0.17 , 0.245, 0.19 , 0.225,\n",
       "       0.19 , 0.235, 0.24 , 0.165, 0.17 , 0.22 , 0.18 , 0.2  , 0.17 ,\n",
       "       0.16 , 0.235, 0.19 , 0.17 , 0.17 , 0.155, 0.2  , 0.205, 0.2  ,\n",
       "       0.185, 0.21 , 0.215, 0.155, 0.18 , 0.11 , 0.195, 0.135, 0.2  ,\n",
       "       0.2  , 0.265, 0.21 , 0.15 , 0.205, 0.2  , 0.185, 0.165, 0.23 ,\n",
       "       0.16 , 0.195, 0.19 , 0.22 , 0.2  , 0.205, 0.19 , 0.27 , 0.195,\n",
       "       0.21 , 0.185, 0.225, 0.2  , 0.195, 0.195, 0.23 , 0.18 , 0.16 ,\n",
       "       0.2  , 0.2  , 0.17 , 0.195, 0.18 , 0.2  , 0.215, 0.165, 0.235,\n",
       "       0.195, 0.19 , 0.19 , 0.18 , 0.18 , 0.195, 0.16 , 0.19 , 0.165,\n",
       "       0.195, 0.18 , 0.16 , 0.17 , 0.15 , 0.205, 0.24 , 0.22 , 0.185,\n",
       "       0.2  , 0.22 , 0.135, 0.24 , 0.205, 0.15 , 0.215, 0.18 , 0.225,\n",
       "       0.215, 0.225, 0.175, 0.215, 0.145, 0.175, 0.21 , 0.265, 0.185,\n",
       "       0.2  , 0.195, 0.195, 0.175, 0.125, 0.2  , 0.205, 0.25 , 0.185,\n",
       "       0.205, 0.19 , 0.21 , 0.19 , 0.21 , 0.18 , 0.215, 0.21 , 0.215,\n",
       "       0.17 , 0.22 , 0.17 , 0.185, 0.235, 0.2  , 0.18 , 0.235, 0.21 ,\n",
       "       0.215, 0.18 , 0.205, 0.17 , 0.15 , 0.195, 0.155, 0.17 , 0.155,\n",
       "       0.18 , 0.215, 0.19 , 0.23 , 0.21 , 0.17 , 0.22 , 0.215, 0.215,\n",
       "       0.225, 0.145, 0.23 , 0.18 , 0.23 , 0.175, 0.225, 0.19 , 0.165,\n",
       "       0.19 , 0.2  , 0.19 , 0.225, 0.18 , 0.16 , 0.215, 0.19 , 0.145,\n",
       "       0.185, 0.2  , 0.205, 0.175, 0.195, 0.26 , 0.155, 0.175, 0.165,\n",
       "       0.165, 0.2  , 0.18 , 0.195, 0.205, 0.185, 0.17 , 0.165, 0.195,\n",
       "       0.195, 0.125, 0.185, 0.155, 0.205, 0.18 , 0.175, 0.22 , 0.24 ,\n",
       "       0.18 , 0.21 , 0.175, 0.18 , 0.175, 0.185, 0.195, 0.2  , 0.215,\n",
       "       0.205, 0.2  , 0.145, 0.14 , 0.19 , 0.195, 0.165, 0.19 , 0.18 ,\n",
       "       0.215, 0.185, 0.185, 0.16 , 0.155, 0.195, 0.185, 0.16 , 0.22 ,\n",
       "       0.205, 0.17 , 0.175, 0.19 , 0.2  , 0.21 , 0.17 , 0.19 , 0.205,\n",
       "       0.19 , 0.205, 0.175, 0.215, 0.2  , 0.195, 0.2  , 0.135, 0.22 ,\n",
       "       0.145, 0.19 , 0.155, 0.195, 0.215, 0.175, 0.17 , 0.12 , 0.21 ,\n",
       "       0.215, 0.155, 0.195, 0.16 , 0.16 , 0.185, 0.165, 0.195, 0.175,\n",
       "       0.15 , 0.165, 0.205, 0.145, 0.175, 0.165, 0.235, 0.17 , 0.215,\n",
       "       0.18 , 0.16 , 0.195, 0.195, 0.23 , 0.2  , 0.12 , 0.195, 0.18 ,\n",
       "       0.18 , 0.18 , 0.2  , 0.205, 0.155, 0.18 , 0.15 , 0.195, 0.22 ,\n",
       "       0.245, 0.195, 0.205, 0.165, 0.205, 0.225, 0.16 , 0.15 , 0.21 ,\n",
       "       0.175, 0.215, 0.185, 0.21 , 0.18 , 0.195, 0.205, 0.195, 0.16 ,\n",
       "       0.19 , 0.155, 0.18 , 0.215, 0.17 , 0.215, 0.245, 0.19 , 0.18 ,\n",
       "       0.19 , 0.205, 0.18 , 0.165, 0.215, 0.22 , 0.19 , 0.195, 0.195,\n",
       "       0.185, 0.155, 0.175, 0.235, 0.205, 0.2  , 0.15 , 0.225, 0.185,\n",
       "       0.175, 0.185, 0.165, 0.22 , 0.265, 0.2  , 0.175, 0.18 , 0.225,\n",
       "       0.2  , 0.2  , 0.185, 0.215, 0.19 , 0.19 , 0.18 , 0.195, 0.195,\n",
       "       0.195, 0.135, 0.195, 0.205, 0.2  , 0.18 , 0.205, 0.19 , 0.21 ,\n",
       "       0.18 , 0.13 , 0.205, 0.2  , 0.205, 0.205, 0.205, 0.19 , 0.2  ,\n",
       "       0.155, 0.205, 0.195, 0.19 , 0.15 , 0.2  , 0.26 , 0.2  , 0.195,\n",
       "       0.185, 0.17 , 0.205, 0.21 , 0.185, 0.18 , 0.17 , 0.15 , 0.12 ,\n",
       "       0.165, 0.17 , 0.165, 0.17 , 0.18 , 0.175, 0.18 , 0.165, 0.2  ,\n",
       "       0.205, 0.2  , 0.24 , 0.18 , 0.185, 0.185, 0.185, 0.19 , 0.17 ,\n",
       "       0.175, 0.165, 0.17 , 0.205, 0.215, 0.215, 0.235, 0.215, 0.21 ,\n",
       "       0.195, 0.18 , 0.13 , 0.16 , 0.255, 0.17 , 0.205, 0.19 , 0.175,\n",
       "       0.215, 0.19 , 0.22 , 0.13 , 0.18 , 0.2  , 0.205, 0.22 , 0.225,\n",
       "       0.195, 0.185, 0.18 , 0.205, 0.225, 0.2  , 0.16 , 0.18 , 0.225,\n",
       "       0.175, 0.195, 0.165, 0.225, 0.19 , 0.205, 0.165, 0.21 , 0.18 ,\n",
       "       0.155, 0.205, 0.155, 0.16 , 0.2  , 0.245, 0.19 , 0.235, 0.165,\n",
       "       0.18 , 0.165, 0.195, 0.19 , 0.185, 0.155, 0.205, 0.15 , 0.215,\n",
       "       0.2  , 0.205, 0.215, 0.16 , 0.2  , 0.21 , 0.2  , 0.155, 0.185,\n",
       "       0.225, 0.21 , 0.185, 0.135, 0.205, 0.165, 0.195, 0.215, 0.19 ,\n",
       "       0.13 , 0.175, 0.145, 0.205, 0.205, 0.21 , 0.24 , 0.17 , 0.195,\n",
       "       0.205, 0.17 , 0.21 , 0.215, 0.19 , 0.145, 0.195, 0.21 , 0.14 ,\n",
       "       0.22 , 0.2  , 0.215, 0.185, 0.175, 0.23 , 0.19 , 0.185, 0.165,\n",
       "       0.175, 0.275, 0.21 , 0.225, 0.155, 0.16 , 0.17 , 0.18 , 0.235,\n",
       "       0.2  , 0.17 , 0.19 , 0.185, 0.16 , 0.21 , 0.19 , 0.17 , 0.19 ,\n",
       "       0.195, 0.215, 0.175, 0.205, 0.21 , 0.27 , 0.18 , 0.175, 0.22 ,\n",
       "       0.21 , 0.16 , 0.2  , 0.205, 0.16 , 0.215, 0.225, 0.185, 0.18 ,\n",
       "       0.18 , 0.17 , 0.22 , 0.24 , 0.205, 0.195, 0.195, 0.18 , 0.2  ,\n",
       "       0.145, 0.15 , 0.16 , 0.22 , 0.155, 0.17 , 0.22 , 0.26 , 0.185,\n",
       "       0.235, 0.215, 0.18 , 0.16 , 0.185, 0.205, 0.205, 0.2  , 0.16 ,\n",
       "       0.19 , 0.16 , 0.145, 0.185, 0.15 , 0.175, 0.165, 0.215, 0.19 ,\n",
       "       0.18 , 0.195, 0.195, 0.235, 0.15 , 0.22 , 0.2  , 0.235, 0.205,\n",
       "       0.19 , 0.17 , 0.185, 0.22 , 0.155, 0.2  , 0.21 , 0.2  , 0.19 ,\n",
       "       0.19 , 0.195, 0.19 , 0.205, 0.22 , 0.205, 0.2  , 0.18 , 0.21 ,\n",
       "       0.15 , 0.21 , 0.215, 0.185, 0.21 , 0.21 , 0.165, 0.135, 0.18 ,\n",
       "       0.2  , 0.16 , 0.195, 0.145, 0.2  , 0.205, 0.145, 0.16 , 0.15 ,\n",
       "       0.21 , 0.2  , 0.21 , 0.145, 0.185, 0.165, 0.2  , 0.2  , 0.17 ,\n",
       "       0.165, 0.235, 0.25 , 0.175, 0.19 , 0.185, 0.165, 0.225, 0.18 ,\n",
       "       0.175, 0.165, 0.21 , 0.165, 0.125, 0.21 , 0.16 , 0.22 , 0.165,\n",
       "       0.165, 0.205, 0.21 , 0.16 , 0.225, 0.195, 0.18 , 0.14 , 0.235,\n",
       "       0.19 , 0.25 , 0.17 , 0.21 , 0.165, 0.19 , 0.185, 0.175, 0.15 ,\n",
       "       0.125, 0.21 , 0.185, 0.175, 0.205, 0.195, 0.175, 0.2  , 0.195,\n",
       "       0.195, 0.225, 0.155, 0.215, 0.165, 0.19 , 0.16 , 0.185, 0.205,\n",
       "       0.15 , 0.245, 0.245, 0.18 , 0.18 , 0.195, 0.16 , 0.185, 0.155,\n",
       "       0.225, 0.19 , 0.175, 0.145, 0.2  , 0.125, 0.145, 0.17 , 0.18 ,\n",
       "       0.2  , 0.195, 0.17 , 0.175, 0.21 , 0.19 , 0.185, 0.22 , 0.205,\n",
       "       0.205, 0.23 , 0.26 , 0.2  , 0.16 , 0.215, 0.15 , 0.19 , 0.165,\n",
       "       0.19 , 0.185, 0.225, 0.215, 0.18 , 0.18 , 0.205, 0.165, 0.18 ,\n",
       "       0.205, 0.185, 0.21 , 0.17 , 0.175, 0.225, 0.18 , 0.22 , 0.19 ,\n",
       "       0.15 , 0.165, 0.24 , 0.225, 0.205, 0.19 , 0.17 , 0.215, 0.16 ,\n",
       "       0.185, 0.23 , 0.245, 0.21 , 0.2  , 0.165, 0.185, 0.24 , 0.225,\n",
       "       0.15 , 0.17 , 0.2  , 0.155, 0.215, 0.21 , 0.19 , 0.14 , 0.13 ,\n",
       "       0.205, 0.175, 0.155, 0.26 , 0.19 , 0.18 , 0.17 , 0.18 , 0.18 ,\n",
       "       0.225, 0.155, 0.23 , 0.17 , 0.215, 0.155, 0.15 , 0.19 , 0.16 ,\n",
       "       0.195, 0.18 , 0.215, 0.225, 0.225, 0.2  , 0.235, 0.205, 0.13 ,\n",
       "       0.155, 0.14 , 0.165, 0.165, 0.215, 0.185, 0.205, 0.175, 0.2  ,\n",
       "       0.195, 0.175, 0.18 , 0.19 , 0.2  , 0.22 , 0.23 , 0.24 , 0.21 ,\n",
       "       0.18 ])"
      ]
     },
     "execution_count": 307,
     "metadata": {},
     "output_type": "execute_result"
    }
   ],
   "source": [
    "boot_matcha_proportions = np.array([])  \n",
    "for i in np.arange(1000):\n",
    "    resample = survey.sample(survey.shape[0], replace = True)\n",
    "    resample_proportion = resample[resample.get(\"tea\")==\"matcha\"].shape[0] / survey.shape[0]\n",
    "    boot_matcha_proportions = np.append(boot_matcha_proportions, resample_proportion)\n",
    "boot_matcha_proportions"
   ]
  },
  {
   "cell_type": "code",
   "execution_count": 308,
   "metadata": {
    "deletable": false,
    "editable": false
   },
   "outputs": [
    {
     "data": {
      "text/html": [
       "<p><strong><pre style='display: inline;'>q3_2</pre></strong> passed!</p>"
      ],
      "text/plain": [
       "q3_2 results: All test cases passed!"
      ]
     },
     "execution_count": 308,
     "metadata": {},
     "output_type": "execute_result"
    }
   ],
   "source": [
    "grader.check(\"q3_2\")"
   ]
  },
  {
   "cell_type": "markdown",
   "metadata": {},
   "source": [
    "**Question 3.3.** Using the array `boot_matcha_proportions`, compute an approximate **95%** confidence interval for the true proportion of residents who prefer `'matcha'` tea.  Compute the lower and upper ends of the interval, named `matcha_lower_bound` and `matcha_upper_bound`, respectively."
   ]
  },
  {
   "cell_type": "code",
   "execution_count": 309,
   "metadata": {
    "scrolled": true
   },
   "outputs": [
    {
     "name": "stdout",
     "output_type": "stream",
     "text": [
      "Bootstrapped 95% confidence interval for the true proportion of residents who prefer matcha tea in the population:\n",
      "[0.135000, 0.245000]\n"
     ]
    }
   ],
   "source": [
    "matcha_lower_bound = np.percentile(boot_matcha_proportions,2.5)\n",
    "matcha_upper_bound = np.percentile(boot_matcha_proportions, 97.5)\n",
    "\n",
    "# Print the confidence interval:\n",
    "print(\"Bootstrapped 95% confidence interval for the true proportion of residents who prefer matcha tea in the population:\\n[{:f}, {:f}]\".format(matcha_lower_bound, matcha_upper_bound))"
   ]
  },
  {
   "cell_type": "code",
   "execution_count": 310,
   "metadata": {
    "deletable": false,
    "editable": false
   },
   "outputs": [
    {
     "data": {
      "text/html": [
       "<p><strong><pre style='display: inline;'>q3_3</pre></strong> passed!</p>"
      ],
      "text/plain": [
       "q3_3 results: All test cases passed!"
      ]
     },
     "execution_count": 310,
     "metadata": {},
     "output_type": "execute_result"
    }
   ],
   "source": [
    "grader.check(\"q3_3\")"
   ]
  },
  {
   "cell_type": "markdown",
   "metadata": {},
   "source": [
    "**Question 3.4.**\n",
    "Is it true that 95% of the population lies in the range `matcha_lower_bound` to `matcha_upper_bound`? Assign the variable `q3_4` to either `True` or `False`. "
   ]
  },
  {
   "cell_type": "code",
   "execution_count": 311,
   "metadata": {},
   "outputs": [],
   "source": [
    "q3_4 = False"
   ]
  },
  {
   "cell_type": "code",
   "execution_count": 312,
   "metadata": {
    "deletable": false,
    "editable": false
   },
   "outputs": [
    {
     "data": {
      "text/html": [
       "<p><strong><pre style='display: inline;'>q3_4</pre></strong> passed!</p>"
      ],
      "text/plain": [
       "q3_4 results: All test cases passed!"
      ]
     },
     "execution_count": 312,
     "metadata": {},
     "output_type": "execute_result"
    }
   ],
   "source": [
    "grader.check(\"q3_4\")"
   ]
  },
  {
   "cell_type": "markdown",
   "metadata": {},
   "source": [
    "**Question 3.5.**\n",
    "Is it true that the proportion of La Jolla residents who prefer `'matcha'` tea over the other teas is a random quantity with approximately a 95% chance of falling between `matcha_lower_bound` and `matcha_upper_bound`? Assign the variable `q3_5` to either `True` or `False`."
   ]
  },
  {
   "cell_type": "code",
   "execution_count": 313,
   "metadata": {},
   "outputs": [],
   "source": [
    "q3_5 = True"
   ]
  },
  {
   "cell_type": "code",
   "execution_count": 314,
   "metadata": {
    "deletable": false,
    "editable": false
   },
   "outputs": [
    {
     "data": {
      "text/html": [
       "<p><strong><pre style='display: inline;'>q3_5</pre></strong> passed!</p>"
      ],
      "text/plain": [
       "q3_5 results: All test cases passed!"
      ]
     },
     "execution_count": 314,
     "metadata": {},
     "output_type": "execute_result"
    }
   ],
   "source": [
    "grader.check(\"q3_5\")"
   ]
  },
  {
   "cell_type": "markdown",
   "metadata": {},
   "source": [
    "**Question 3.6.**\n",
    "Suppose we were somehow able to produce 2,000 new samples, each one a uniform random sample of 200 La Jolla residents taken directly from the population. For each of those 2,000 new samples, we create a 95% confidence interval for the proportion of residents who prefer `'matcha'` tea. Roughly how many of those 2,000 intervals should we expect to actually contain the true proportion of the population? Assign your answer to the variable `how_many` below. It should be of type `int`, representing the *number* of intervals, not the proportion or percentage."
   ]
  },
  {
   "cell_type": "code",
   "execution_count": 315,
   "metadata": {},
   "outputs": [
    {
     "data": {
      "text/plain": [
       "1900"
      ]
     },
     "execution_count": 315,
     "metadata": {},
     "output_type": "execute_result"
    }
   ],
   "source": [
    "how_many = int(2000*.95)\n",
    "how_many"
   ]
  },
  {
   "cell_type": "code",
   "execution_count": 316,
   "metadata": {
    "deletable": false,
    "editable": false
   },
   "outputs": [
    {
     "data": {
      "text/html": [
       "<p><strong><pre style='display: inline;'>q3_6</pre></strong> passed!</p>"
      ],
      "text/plain": [
       "q3_6 results: All test cases passed!"
      ]
     },
     "execution_count": 316,
     "metadata": {},
     "output_type": "execute_result"
    }
   ],
   "source": [
    "grader.check(\"q3_6\")"
   ]
  },
  {
   "cell_type": "markdown",
   "metadata": {},
   "source": [
    "**Question 3.7.** We also created 90%, 96%, and 99% confidence intervals from one sample (shown below), but forgot to label which confidence intervals were which! Match the interval to the percent of confidence the interval represents and assign your choices (either 1, 2, or 3) to variables `ci_90`, `ci_96`, and `ci_99`, corresponding to the 90%, 96%, and 99% confidence intervals respectively.\n",
    "\n",
    "**Hint**: Drawing the confidence intervals out on paper might help you visualize them better.\n"
   ]
  },
  {
   "cell_type": "markdown",
   "metadata": {},
   "source": [
    "1. $[0.135, 0.25]$\n",
    "\n",
    "2. $[0.145, 0.24]$\n",
    "\n",
    "3. $[0.12,  0.26]$\n",
    "\n",
    "\n"
   ]
  },
  {
   "cell_type": "code",
   "execution_count": 317,
   "metadata": {},
   "outputs": [
    {
     "data": {
      "text/plain": [
       "(2, 1, 3)"
      ]
     },
     "execution_count": 317,
     "metadata": {},
     "output_type": "execute_result"
    }
   ],
   "source": [
    "ci_90 = 2\n",
    "ci_96 = 1\n",
    "ci_99 = 3\n",
    "ci_90, ci_96, ci_99"
   ]
  },
  {
   "cell_type": "code",
   "execution_count": 318,
   "metadata": {
    "deletable": false,
    "editable": false
   },
   "outputs": [
    {
     "data": {
      "text/html": [
       "<p><strong><pre style='display: inline;'>q3_7</pre></strong> passed!</p>"
      ],
      "text/plain": [
       "q3_7 results: All test cases passed!"
      ]
     },
     "execution_count": 318,
     "metadata": {},
     "output_type": "execute_result"
    }
   ],
   "source": [
    "grader.check(\"q3_7\")"
   ]
  },
  {
   "cell_type": "markdown",
   "metadata": {},
   "source": [
    "**Question 3.8.** Based on the results in `survey`, it seems that `'jasmine'` tea is more popular than `'matcha'` tea among residents. We would like to construct a range of likely values – that is, a confidence interval – for the difference in popularity, which we define as:\n",
    "\n",
    "$$\\text{(Proportion of residents who prefer jasmine tea)} - \\text{(Proportion of residents who prefer matcha tea)}$$\n",
    "\n",
    "Create a function, `differences_in_resamples`, that creates **1000 bootstrapped resamples of the original survey data** in the `survey` DataFrame, computes the difference in proportions for each resample, and returns an array of these differences. Store your bootstrapped estimates in an array called `boot_differences` and plot a density histogram of these estimates.\n",
    "\n",
    "***Hints:*** \n",
    "- Use your code from Question 3.2 as a starting point.\n",
    "- To plot your histogram, you'll first need to create a DataFrame with one column, whose entries are the values in `boot_differences`. "
   ]
  },
  {
   "cell_type": "code",
   "execution_count": 319,
   "metadata": {
    "for_assignment_type": "student",
    "manual_problem_id": "election_2"
   },
   "outputs": [
    {
     "data": {
      "image/png": "[encoded data removed]",
      "text/plain": [
       "<Figure size 432x288 with 1 Axes>"
      ]
     },
     "metadata": {},
     "output_type": "display_data"
    }
   ],
   "source": [
    "def differences_in_resamples():\n",
    "    boot_diff_proportions = np.array([])  \n",
    "    for i in np.arange(1000):\n",
    "        resample = survey.sample(survey.shape[0], replace = True)\n",
    "        proportion_difference = (\n",
    "            (resample[resample.get(\"tea\")==\"jasmine\"].shape[0] - resample[resample.get(\"tea\")==\"matcha\"].shape[0]) \n",
    "            / survey.shape[0])\n",
    "        boot_diff_proportions = np.append(boot_diff_proportions, proportion_difference)\n",
    "    return boot_diff_proportions\n",
    "\n",
    "boot_differences = differences_in_resamples()\n",
    "boot_diff_df = bpd.DataFrame()\n",
    "boot_diff_df = boot_diff_df.assign(differences = boot_differences)\n",
    "boot_diff_df.plot(kind='hist', y='differences',ec='w');\n",
    "# Plot a histogram of boot_differences."
   ]
  },
  {
   "cell_type": "code",
   "execution_count": 320,
   "metadata": {
    "deletable": false,
    "editable": false
   },
   "outputs": [
    {
     "data": {
      "text/html": [
       "<p><strong><pre style='display: inline;'>q3_8</pre></strong> passed!</p>"
      ],
      "text/plain": [
       "q3_8 results: All test cases passed!"
      ]
     },
     "execution_count": 320,
     "metadata": {},
     "output_type": "execute_result"
    }
   ],
   "source": [
    "grader.check(\"q3_8\")"
   ]
  },
  {
   "cell_type": "markdown",
   "metadata": {},
   "source": [
    "**Question 3.9.** Compute an approximate 95% confidence interval for the difference in proportions. Assign the lower and upper bounds of the interval to `diff_lower_bound` and `diff_upper_bound`, respectively."
   ]
  },
  {
   "cell_type": "code",
   "execution_count": 321,
   "metadata": {},
   "outputs": [
    {
     "name": "stdout",
     "output_type": "stream",
     "text": [
      "Bootstrapped 95% confidence interval for the difference in popularity between jasmine tea and matcha tea:\n",
      "[-0.050000, 0.130000]\n"
     ]
    }
   ],
   "source": [
    "diff_lower_bound = np.percentile(boot_differences,2.5)\n",
    "diff_upper_bound = np.percentile(boot_differences,97.5)\n",
    "\n",
    "# Print the confidence interval:\n",
    "print(\"Bootstrapped 95% confidence interval for the difference in popularity between jasmine tea and matcha tea:\\n[{:f}, {:f}]\".format(diff_lower_bound, diff_upper_bound))"
   ]
  },
  {
   "cell_type": "code",
   "execution_count": 322,
   "metadata": {},
   "outputs": [],
   "source": [
    "#0.245000-0.140000=0.10499999999999998 matcha CI\n",
    "#0.125000-(-0.055000)=0.18 diff proportion CI"
   ]
  },
  {
   "cell_type": "code",
   "execution_count": 323,
   "metadata": {
    "deletable": false,
    "editable": false
   },
   "outputs": [
    {
     "data": {
      "text/html": [
       "<p><strong><pre style='display: inline;'>q3_9</pre></strong> passed!</p>"
      ],
      "text/plain": [
       "q3_9 results: All test cases passed!"
      ]
     },
     "execution_count": 323,
     "metadata": {},
     "output_type": "execute_result"
    }
   ],
   "source": [
    "grader.check(\"q3_9\")"
   ]
  },
  {
   "cell_type": "markdown",
   "metadata": {},
   "source": [
    "**Question 3.10.** In this question, you computed two 95% confidence intervals:\n",
    "- In Question 3.3, you found a 95% confidence interval for the proportion of residents who prefer `'matcha'` tea among the six tea options. Let's call this the \"matcha CI.\"\n",
    "- In Question 3.9, you found a 95% confidence interval for the difference between the proportion of residents who prefer `'jasmine'` tea and the proportion of residents who prefer `'matcha'` tea. Let's call this the \"difference CI.\" \n",
    "\n",
    "Choose how to best fill in the blanks to describe the widths of these two confidence intervals. Set `q3_10` to either 1, 2, 3, or 4.\n",
    "\n",
    ">The matcha CI is ________________________ than the difference CI because we have a ________________________ for a single unknown parameter than the difference between two unknown parameters.\n",
    "\n",
    "1. wider; more accurate guess\n",
    "1. narrower; more accurate guess\n",
    "1. wider; less accurate guess\n",
    "1. narrower; less accurate guess"
   ]
  },
  {
   "cell_type": "code",
   "execution_count": 324,
   "metadata": {},
   "outputs": [],
   "source": [
    "q3_10 = 2"
   ]
  },
  {
   "cell_type": "code",
   "execution_count": 325,
   "metadata": {
    "deletable": false,
    "editable": false
   },
   "outputs": [
    {
     "data": {
      "text/html": [
       "<p><strong><pre style='display: inline;'>q3_10</pre></strong> passed!</p>"
      ],
      "text/plain": [
       "q3_10 results: All test cases passed!"
      ]
     },
     "execution_count": 325,
     "metadata": {},
     "output_type": "execute_result"
    }
   ],
   "source": [
    "grader.check(\"q3_10\")"
   ]
  },
  {
   "cell_type": "markdown",
   "metadata": {},
   "source": [
    "## 4. Housing Prices 🏡💸\n",
    "Aaron just graduated from college and has received several job offers in different cities. Since he doesn't like to move often, he wants to choose a place where he can eventually settle down and buy a house.  He wants to estimate how expensive buying a house would be in each of the cities he might move to. Let's compare the housing prices in each city to help Aaron save some money! These are the cities Aaron is considering:\n",
    "\n",
    "- New York City, New York\n",
    "- Atlanta, Georgia\n",
    "- Jacksonville, Florida\n",
    "- Saint Louis, Missouri\n",
    "- Dallas, Texas\n",
    "- Tucson, Arizona\n",
    "- Los Angeles, California\n",
    "- San Diego, California\n",
    "\n",
    "Our [dataset](https://www.kaggle.com/datasets/ahmedshahriarsakib/usa-real-estate-dataset?resource=download) contains a **sample** of all realtor listings (for houses that are either for sale or already sold) in these cities. We have information on the `'price'` of each house, as well as where it is located (the `'city'`, which is one of the eight listed above). Run the cell below to load this data into the DataFrame `houses`."
   ]
  },
  {
   "cell_type": "code",
   "execution_count": 326,
   "metadata": {},
   "outputs": [
    {
     "data": {
      "text/html": [
       "<div>\n",
       "<style scoped>\n",
       "    .dataframe tbody tr th:only-of-type {\n",
       "        vertical-align: middle;\n",
       "    }\n",
       "\n",
       "    .dataframe tbody tr th {\n",
       "        vertical-align: top;\n",
       "    }\n",
       "\n",
       "    .dataframe thead th {\n",
       "        text-align: right;\n",
       "    }\n",
       "</style>\n",
       "<table border=\"1\" class=\"dataframe\">\n",
       "  <thead>\n",
       "    <tr style=\"text-align: right;\">\n",
       "      <th></th>\n",
       "      <th>price</th>\n",
       "      <th>city</th>\n",
       "    </tr>\n",
       "  </thead>\n",
       "  <tbody>\n",
       "    <tr>\n",
       "      <th>0</th>\n",
       "      <td>3600000.0</td>\n",
       "      <td>New York City</td>\n",
       "    </tr>\n",
       "    <tr>\n",
       "      <th>1</th>\n",
       "      <td>22000000.0</td>\n",
       "      <td>New York City</td>\n",
       "    </tr>\n",
       "    <tr>\n",
       "      <th>2</th>\n",
       "      <td>210000.0</td>\n",
       "      <td>New York City</td>\n",
       "    </tr>\n",
       "    <tr>\n",
       "      <th>3</th>\n",
       "      <td>775000.0</td>\n",
       "      <td>New York City</td>\n",
       "    </tr>\n",
       "    <tr>\n",
       "      <th>4</th>\n",
       "      <td>749000.0</td>\n",
       "      <td>New York City</td>\n",
       "    </tr>\n",
       "    <tr>\n",
       "      <th>...</th>\n",
       "      <td>...</td>\n",
       "      <td>...</td>\n",
       "    </tr>\n",
       "    <tr>\n",
       "      <th>68824</th>\n",
       "      <td>1650000.0</td>\n",
       "      <td>Los Angeles</td>\n",
       "    </tr>\n",
       "    <tr>\n",
       "      <th>68825</th>\n",
       "      <td>1950000.0</td>\n",
       "      <td>Los Angeles</td>\n",
       "    </tr>\n",
       "    <tr>\n",
       "      <th>68826</th>\n",
       "      <td>1979000.0</td>\n",
       "      <td>Los Angeles</td>\n",
       "    </tr>\n",
       "    <tr>\n",
       "      <th>68827</th>\n",
       "      <td>749999.0</td>\n",
       "      <td>Los Angeles</td>\n",
       "    </tr>\n",
       "    <tr>\n",
       "      <th>68828</th>\n",
       "      <td>1899000.0</td>\n",
       "      <td>Los Angeles</td>\n",
       "    </tr>\n",
       "  </tbody>\n",
       "</table>\n",
       "<p>68829 rows × 2 columns</p>\n",
       "</div>"
      ],
      "text/plain": [
       "            price           city\n",
       "0       3600000.0  New York City\n",
       "1      22000000.0  New York City\n",
       "2        210000.0  New York City\n",
       "3        775000.0  New York City\n",
       "4        749000.0  New York City\n",
       "...           ...            ...\n",
       "68824   1650000.0    Los Angeles\n",
       "68825   1950000.0    Los Angeles\n",
       "68826   1979000.0    Los Angeles\n",
       "68827    749999.0    Los Angeles\n",
       "68828   1899000.0    Los Angeles\n",
       "\n",
       "[68829 rows x 2 columns]"
      ]
     },
     "execution_count": 326,
     "metadata": {},
     "output_type": "execute_result"
    }
   ],
   "source": [
    "houses = bpd.read_csv('data/houses.csv')\n",
    "houses"
   ]
  },
  {
   "cell_type": "markdown",
   "metadata": {},
   "source": [
    "**Question 4.1.** Let's start by determining the mean house price for each of the eight cities. Create a DataFrame called `city_means`, indexed by `'city'`, with just one column called `'price'` that contains the mean house price for each city. Sort `city_means` in ascending order of `'price'`. It's okay if your answers are in scientific notation.\n",
    "\n",
    "***Hint:*** This takes just one line of code."
   ]
  },
  {
   "cell_type": "code",
   "execution_count": 327,
   "metadata": {
    "scrolled": true
   },
   "outputs": [
    {
     "data": {
      "text/html": [
       "<div>\n",
       "<style scoped>\n",
       "    .dataframe tbody tr th:only-of-type {\n",
       "        vertical-align: middle;\n",
       "    }\n",
       "\n",
       "    .dataframe tbody tr th {\n",
       "        vertical-align: top;\n",
       "    }\n",
       "\n",
       "    .dataframe thead th {\n",
       "        text-align: right;\n",
       "    }\n",
       "</style>\n",
       "<table border=\"1\" class=\"dataframe\">\n",
       "  <thead>\n",
       "    <tr style=\"text-align: right;\">\n",
       "      <th></th>\n",
       "      <th>price</th>\n",
       "    </tr>\n",
       "    <tr>\n",
       "      <th>city</th>\n",
       "      <th></th>\n",
       "    </tr>\n",
       "  </thead>\n",
       "  <tbody>\n",
       "    <tr>\n",
       "      <th>Saint Louis</th>\n",
       "      <td>2.520368e+05</td>\n",
       "    </tr>\n",
       "    <tr>\n",
       "      <th>Jacksonville</th>\n",
       "      <td>3.307093e+05</td>\n",
       "    </tr>\n",
       "    <tr>\n",
       "      <th>Tucson</th>\n",
       "      <td>3.723433e+05</td>\n",
       "    </tr>\n",
       "    <tr>\n",
       "      <th>Dallas</th>\n",
       "      <td>6.060765e+05</td>\n",
       "    </tr>\n",
       "    <tr>\n",
       "      <th>Atlanta</th>\n",
       "      <td>6.361491e+05</td>\n",
       "    </tr>\n",
       "    <tr>\n",
       "      <th>San Diego</th>\n",
       "      <td>1.091343e+06</td>\n",
       "    </tr>\n",
       "    <tr>\n",
       "      <th>Los Angeles</th>\n",
       "      <td>1.917229e+06</td>\n",
       "    </tr>\n",
       "    <tr>\n",
       "      <th>New York City</th>\n",
       "      <td>2.266022e+06</td>\n",
       "    </tr>\n",
       "  </tbody>\n",
       "</table>\n",
       "</div>"
      ],
      "text/plain": [
       "                      price\n",
       "city                       \n",
       "Saint Louis    2.520368e+05\n",
       "Jacksonville   3.307093e+05\n",
       "Tucson         3.723433e+05\n",
       "Dallas         6.060765e+05\n",
       "Atlanta        6.361491e+05\n",
       "San Diego      1.091343e+06\n",
       "Los Angeles    1.917229e+06\n",
       "New York City  2.266022e+06"
      ]
     },
     "execution_count": 327,
     "metadata": {},
     "output_type": "execute_result"
    }
   ],
   "source": [
    "city_means = houses.groupby(\"city\").mean().sort_values(by='price')\n",
    "city_means"
   ]
  },
  {
   "cell_type": "code",
   "execution_count": 328,
   "metadata": {
    "deletable": false,
    "editable": false
   },
   "outputs": [
    {
     "data": {
      "text/html": [
       "<p><strong><pre style='display: inline;'>q4_1</pre></strong> passed!</p>"
      ],
      "text/plain": [
       "q4_1 results: All test cases passed!"
      ]
     },
     "execution_count": 328,
     "metadata": {},
     "output_type": "execute_result"
    }
   ],
   "source": [
    "grader.check(\"q4_1\")"
   ]
  },
  {
   "cell_type": "markdown",
   "metadata": {},
   "source": [
    "**Question 4.2.** Based on the data we have, some cities appear to be a *lot* more expensive than others. But the data we have access to is only a sample of all house listings, and thus the mean prices we computed above are only sample statistics, not population parameters. Let's now extend each of our estimates to create a confidence interval for the mean price of **all** house listings in a city. We'll start with New York City, since it has the highest average listing price. \n",
    "\n",
    "Produce 1,000 bootstrapped estimates for the mean price of **all** New York City house listings. Store the estimates in the `nyc_means` array. Then, use the `nyc_means` array to calculate an approximate **99% confidence interval** for the true mean price of all New York City house listings. Assign the endpoints of your interval to `lower_bound` and `upper_bound`.\n",
    "\n",
    "***Hint:*** Make sure to query **before** resampling!"
   ]
  },
  {
   "cell_type": "code",
   "execution_count": 329,
   "metadata": {},
   "outputs": [
    {
     "data": {
      "text/plain": [
       "'A 99% confidence interval for the average New York City house price is [2174737.4743070286, 2366128.248675004].'"
      ]
     },
     "execution_count": 329,
     "metadata": {},
     "output_type": "execute_result"
    },
    {
     "data": {
      "image/png": "[encoded data removed]",
      "text/plain": [
       "<Figure size 720x360 with 1 Axes>"
      ]
     },
     "metadata": {},
     "output_type": "display_data"
    }
   ],
   "source": [
    "nyc_data = houses[houses.get(\"city\")== 'New York City']\n",
    "nyc_boot_mean = np.array([])\n",
    "for i in np.arange(1000): \n",
    "    nyc_sample = nyc_data.sample(nyc_data.shape[0], replace =True)\n",
    "    sample_mean =nyc_sample.get(\"price\").mean()\n",
    "    nyc_boot_mean = np.append(nyc_boot_mean, sample_mean)\n",
    "nyc_means = nyc_boot_mean\n",
    "\n",
    "\n",
    "lower_bound = np.percentile(nyc_means,0.5)\n",
    "upper_bound = np.percentile(nyc_means,99.5)\n",
    "\n",
    "# Display the estimates in a histogram.\n",
    "bpd.DataFrame().assign(Estimated_Mean_Price=nyc_means).plot(kind='hist', density=True, ec='w', figsize=(10, 5), title='New York City')\n",
    "plt.plot([lower_bound, upper_bound], [0, 0], color='gold', linewidth=10, label='99% confidence interval')\n",
    "\n",
    "# Don't change what's below (though you will need to copy and change it in 4.3).\n",
    "city_name = 'New York City'\n",
    "f'A 99% confidence interval for the average {city_name} house price is [{lower_bound}, {upper_bound}].'"
   ]
  },
  {
   "cell_type": "code",
   "execution_count": 330,
   "metadata": {
    "deletable": false,
    "editable": false
   },
   "outputs": [
    {
     "data": {
      "text/html": [
       "<p><strong><pre style='display: inline;'>q4_2</pre></strong> passed!</p>"
      ],
      "text/plain": [
       "q4_2 results: All test cases passed!"
      ]
     },
     "execution_count": 330,
     "metadata": {},
     "output_type": "execute_result"
    }
   ],
   "source": [
    "grader.check(\"q4_2\")"
   ]
  },
  {
   "cell_type": "markdown",
   "metadata": {},
   "source": [
    "**Question 4.3.** Now we want to calculate the corresponding confidence interval for the remaining 7 cities. Instead of copying our code from Question 4.2 and changing it to work for each city, let's write a more general function that works for _any_ city we choose. \n",
    "\n",
    "Create a function called `city_and_hist`, which takes in the name of a city as a string, and:\n",
    "1. **Plots the histogram** of 1,000 bootstrapped estimates for that city's mean house price.\n",
    "2. **Returns** a string describing the approximate 99% confidence interval for that city's mean house price, formatted in the same way as the string displayed for New York City in Question 4.2. \n",
    "\n",
    "***Notes:*** \n",
    "- Make sure your function both plots a histogram and **returns** a string. For example, `city_and_hist('New York City')` should return a string that starts with `'A 99% confidence interval for the average New York City house price is'`. It's ok if you see the return string displayed before the plot.\n",
    "- The string displayed at the end of Question 4.2 was created using a feature of Python called f-strings. You'll need to copy and change that f-string expression. Read [this article](https://realpython.com/python-f-strings/#simple-syntax) for more details about f-strings if you're interested."
   ]
  },
  {
   "cell_type": "code",
   "execution_count": 331,
   "metadata": {
    "scrolled": true
   },
   "outputs": [
    {
     "name": "stdout",
     "output_type": "stream",
     "text": [
      "A 99% confidence interval for the average New York City house price is [2174795.606819693, 2358811.770505382].\n",
      "A 99% confidence interval for the average Jacksonville house price is [324504.01290604717, 338205.4860075985].\n"
     ]
    },
    {
     "data": {
      "image/png": "[encoded data removed]",
      "text/plain": [
       "<Figure size 720x360 with 1 Axes>"
      ]
     },
     "metadata": {},
     "output_type": "display_data"
    },
    {
     "data": {
      "image/png": "[encoded data removed]",
      "text/plain": [
       "<Figure size 720x360 with 1 Axes>"
      ]
     },
     "metadata": {},
     "output_type": "display_data"
    }
   ],
   "source": [
    "def city_and_hist(city_name):\n",
    "    \n",
    "    city_data = houses[houses.get(\"city\")== city_name]\n",
    "    city_boot_mean = np.array([])\n",
    "    for i in np.arange(1000): \n",
    "        city_sample = city_data.sample(nyc_data.shape[0], replace =True)\n",
    "        sample_mean =city_sample.get(\"price\").mean()\n",
    "        city_boot_mean = np.append(city_boot_mean, sample_mean)\n",
    "    city_means = city_boot_mean\n",
    "\n",
    "\n",
    "    lower_bound = np.percentile(city_means,0.5)\n",
    "    upper_bound = np.percentile(city_means,99.5)\n",
    "\n",
    "    # Display the estimates in a histogram.\n",
    "    bpd.DataFrame().assign(Estimated_Mean_Price=city_means).plot(kind='hist', density=True, ec='w', figsize=(10, 5), title=city_name)\n",
    "    plt.plot([lower_bound, upper_bound], [0, 0], color='gold', linewidth=10, label='99% confidence interval')\n",
    "\n",
    "    # Don't change what's below (though you will need to copy and change it in 4.3).\n",
    "    # city_name = 'New York City'\n",
    "    return f'A 99% confidence interval for the average {city_name} house price is [{lower_bound}, {upper_bound}].'\n",
    "    \n",
    "# Example calls to the function. Don't change the lines below.\n",
    "nyc_string = city_and_hist('New York City')\n",
    "print(nyc_string)\n",
    "jacksonville_string = city_and_hist('Jacksonville')\n",
    "print(jacksonville_string)"
   ]
  },
  {
   "cell_type": "code",
   "execution_count": 332,
   "metadata": {
    "deletable": false,
    "editable": false
   },
   "outputs": [
    {
     "data": {
      "text/html": [
       "<p><strong><pre style='display: inline;'>q4_3</pre></strong> passed!</p>"
      ],
      "text/plain": [
       "q4_3 results: All test cases passed!"
      ]
     },
     "execution_count": 332,
     "metadata": {},
     "output_type": "execute_result"
    }
   ],
   "source": [
    "grader.check(\"q4_3\")"
   ]
  },
  {
   "cell_type": "markdown",
   "metadata": {},
   "source": [
    "Feel free to call the function you wrote on the other cities we've listed in this question&mdash;just do so in the cell below and don't change any lines above, as they are necessary for our tests to run! Which places are generally affordable? Which places are generally quite expensive? While we won't grade any further exploration you might do, this could be a very helpful exercise to formulate your own plans for the future!"
   ]
  },
  {
   "cell_type": "code",
   "execution_count": 333,
   "metadata": {},
   "outputs": [
    {
     "name": "stdout",
     "output_type": "stream",
     "text": [
      "A 99% confidence interval for the average Saint Louis house price is [244650.90999525093, 259212.2854234605].\n",
      "A 99% confidence interval for the average Jacksonville house price is [325199.5652995884, 337663.9753098781].\n",
      "A 99% confidence interval for the average Tucson house price is [366008.0570025328, 378741.2855493114].\n",
      "A 99% confidence interval for the average Dallas house price is [585464.8665664081, 626645.252144214].\n",
      "A 99% confidence interval for the average Atlanta house price is [582502.3796580655, 720416.1215691784].\n",
      "A 99% confidence interval for the average San Diego house price is [1001088.7478344151, 1268381.2143576855].\n",
      "A 99% confidence interval for the average Los Angeles house price is [1807360.6435159093, 2037962.4011963748].\n",
      "A 99% confidence interval for the average New York City house price is [2179104.004663606, 2355251.726161944].\n"
     ]
    },
    {
     "data": {
      "image/png": "[encoded data removed]",
      "text/plain": [
       "<Figure size 720x360 with 1 Axes>"
      ]
     },
     "metadata": {},
     "output_type": "display_data"
    },
    {
     "data": {
      "image/png": "[encoded data removed]",
      "text/plain": [
       "<Figure size 720x360 with 1 Axes>"
      ]
     },
     "metadata": {},
     "output_type": "display_data"
    },
    {
     "data": {
      "image/png": "[encoded data removed]",
      "text/plain": [
       "<Figure size 720x360 with 1 Axes>"
      ]
     },
     "metadata": {},
     "output_type": "display_data"
    },
    {
     "data": {
      "image/png": "[encoded data removed]",
      "text/plain": [
       "<Figure size 720x360 with 1 Axes>"
      ]
     },
     "metadata": {},
     "output_type": "display_data"
    },
    {
     "data": {
      "image/png": "[encoded data removed]",
      "text/plain": [
       "<Figure size 720x360 with 1 Axes>"
      ]
     },
     "metadata": {},
     "output_type": "display_data"
    },
    {
     "data": {
      "image/png": "[encoded data removed]",
      "text/plain": [
       "<Figure size 720x360 with 1 Axes>"
      ]
     },
     "metadata": {},
     "output_type": "display_data"
    },
    {
     "data": {
      "image/png": "[encoded data removed]",
      "text/plain": [
       "<Figure size 720x360 with 1 Axes>"
      ]
     },
     "metadata": {},
     "output_type": "display_data"
    },
    {
     "data": {
      "image/png": "[encoded data removed]",
      "text/plain": [
       "<Figure size 720x360 with 1 Axes>"
      ]
     },
     "metadata": {},
     "output_type": "display_data"
    }
   ],
   "source": [
    "# Experiment here, if you'd like!\n",
    "name_of_cities = np.array(['Saint Louis','Jacksonville',\n",
    "                           'Tucson','Dallas','Atlanta',\n",
    "                           'San Diego','Los Angeles','New York City'])\n",
    "\n",
    "\n",
    "for i in name_of_cities:\n",
    "    citteeeee_string = city_and_hist(i)\n",
    "    print(citteeeee_string)"
   ]
  },
  {
   "cell_type": "markdown",
   "metadata": {},
   "source": [
    "## Finish Line: Almost there, but make sure to follow the steps below to submit! 🏁\n",
    "\n",
    "**_Citations:_** Did you use any generative artificial intelligence tools to assist you on this assignment? If so, please state, for each tool you used, the name of the tool (ex. ChatGPT) and the problem(s) in this assignment where you used the tool for help."
   ]
  },
  {
   "cell_type": "markdown",
   "metadata": {},
   "source": [
    "<hr style=\"color:Maroon;background-color:Maroon;border:0 none; height: 3px;\">\n",
    "\n",
    "Please cite tools here.\n",
    "\n",
    "<hr style=\"color:Maroon;background-color:Maroon;border:0 none; height: 3px;\">"
   ]
  },
  {
   "cell_type": "markdown",
   "metadata": {},
   "source": [
    "To submit your assignment:\n",
    "\n",
    "1. Select `Kernel -> Restart & Run All` to ensure that you have executed all cells, including the test cells.\n",
    "2. Read through the notebook to make sure everything is fine and all tests passed.\n",
    "3. Run the cell below to run all tests, and make sure that they all pass.\n",
    "4. Download your notebook using `File -> Download as -> Notebook (.ipynb)`, then upload your notebook to Gradescope.\n",
    "5. Stick around while the Gradescope autograder grades your work. Make sure you see that all tests have passed on Gradescope.\n",
    "6. Check that you have a confirmation email from Gradescope and save it as proof of your submission. "
   ]
  },
  {
   "cell_type": "code",
   "execution_count": 334,
   "metadata": {},
   "outputs": [
    {
     "data": {
      "text/plain": [
       "q1_1 results: All test cases passed!\n",
       "\n",
       "q1_2 results: All test cases passed!\n",
       "\n",
       "q1_3 results: All test cases passed!\n",
       "\n",
       "q1_4 results: All test cases passed!\n",
       "\n",
       "q1_5 results: All test cases passed!\n",
       "\n",
       "q2_1 results: All test cases passed!\n",
       "\n",
       "q2_2 results: All test cases passed!\n",
       "\n",
       "q2_3 results: All test cases passed!\n",
       "\n",
       "q2_4 results: All test cases passed!\n",
       "\n",
       "q2_5 results: All test cases passed!\n",
       "\n",
       "q3_1 results: All test cases passed!\n",
       "\n",
       "q3_10 results: All test cases passed!\n",
       "\n",
       "q3_2 results: All test cases passed!\n",
       "\n",
       "q3_3 results: All test cases passed!\n",
       "\n",
       "q3_4 results: All test cases passed!\n",
       "\n",
       "q3_5 results: All test cases passed!\n",
       "\n",
       "q3_6 results: All test cases passed!\n",
       "\n",
       "q3_7 results: All test cases passed!\n",
       "\n",
       "q3_8 results: All test cases passed!\n",
       "\n",
       "q3_9 results: All test cases passed!\n",
       "\n",
       "q4_1 results: All test cases passed!\n",
       "\n",
       "q4_2 results: All test cases passed!\n",
       "\n",
       "q4_3 results: All test cases passed!"
      ]
     },
     "execution_count": 334,
     "metadata": {},
     "output_type": "execute_result"
    }
   ],
   "source": [
    "grader.check_all()"
   ]
  }
 ],
 "metadata": {
  "kernelspec": {
   "display_name": "Python 3 (ipykernel)",
   "language": "python",
   "name": "python3"
  },
  "language_info": {
   "codemirror_mode": {
    "name": "ipython",
    "version": 3
   },
   "file_extension": ".py",
   "mimetype": "text/x-python",
   "name": "python",
   "nbconvert_exporter": "python",
   "pygments_lexer": "ipython3",
   "version": "3.9.5"
  }
 },
 "nbformat": 4,
 "nbformat_minor": 4
}
