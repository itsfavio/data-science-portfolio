{
 "cells": [
  {
   "cell_type": "markdown",
   "metadata": {},
   "source": [
    "\n",
    "\n",
    "# Homework 1: Basic Python, Arrays, and DataFrames\n",
    "\n",
    "## Due Sunday, October 13th at 11:59PM\n",
    "\n",
    "Welcome to Homework 1! This week's homework will cover basic Python, arrays, and DataFrames. You can find additional help on these topics in [Chapter 1](https://www.inferentialthinking.com/chapters/01/what-is-data-science.html) of Computational and Inferential Thinking and [BPD 1-11](https://notes.dsc10.com/01-getting_started/tools.html) in the `babypandas` notes.\n",
    "\n",
    "\n",
    "### Instructions\n",
    "\n",
    "Remember to start early and submit often. You are given six slip days throughout the quarter to extend deadlines. See the syllabus for more details. With the exception of using slip days, late work will not be accepted unless you have made special arrangements with your instructor.\n",
    "\n",
    "**Important**: For homeworks, the `otter` tests don't usually tell you that your answer is correct. More often, they help catch careless mistakes. It's up to you to ensure that your answer is correct. If you're not sure, ask someone (not for the answer, but for some guidance about your approach). These are great questions for office hours (the schedule can be found [here](https://dsc10.com/calendar)) or Ed. Directly sharing answers is not okay, but discussing problems with the course staff or with other students is encouraged. "
   ]
  },
  {
   "cell_type": "code",
   "execution_count": 262,
   "metadata": {},
   "outputs": [],
   "source": [
    "# Please don't change this cell, but do make sure to run it.\n",
    "import babypandas as bpd\n",
    "import matplotlib.pyplot as plt\n",
    "import numpy as np\n",
    "import otter\n",
    "grader = otter.Notebook()\n",
    "\n",
    "plt.style.use('ggplot')"
   ]
  },
  {
   "cell_type": "markdown",
   "metadata": {},
   "source": [
    "## 1. Characters in *The Great Gatsby* 💃🍸🏰🌃"
   ]
  },
  {
   "cell_type": "markdown",
   "metadata": {},
   "source": [
    "In Lecture 1, we counted the number of times that the characters Amy, Beth, Jo, Meg, and Laurie were named in each chapter of the classic book _Little Women_. In this question, we'll look at another classic book – _The Great Gatsby_ by F. Scott Fitzgerald. In 2021, the copyright protections of the original book (but not the 2013 film starring Leonardo DiCaprio!) expired, and so sites like Project Gutenberg are now able to post [copies of the book](https://www.gutenberg.org/cache/epub/64317/pg64317-images.html) without violating any copyright laws. "
   ]
  },
  {
   "cell_type": "markdown",
   "metadata": {},
   "source": [
    "<center><img src=images/the-great-gatsby.png width=400><br>(<a href=\"https://study.com/academy/lesson/video/main-characters-in-the-great-gatsby-character-list-analysis.html\">source</a>)</center>"
   ]
  },
  {
   "cell_type": "markdown",
   "metadata": {},
   "source": [
    "Four of the main characters in _The Great Gatsby_ are Nick Carraway (👀), Tom Buchanan (😡), Daisy Buchanan(🌸), and Jay Gatsby (✨).\n",
    "\n",
    "Below, we've written code that shows the number of mentions of each of these four characters in each chapter of the book. However, instead of displaying this information in a line chart, as was done in Lecture 1, we will use a bar chart.\n",
    "\n",
    "Run the cell below to generate this bar chart. This cell contains code that hasn't yet been covered in the course. It isn't expected that you'll understand the code, but you should be able to interpret the bar chart it generates."
   ]
  },
  {
   "cell_type": "code",
   "execution_count": 263,
   "metadata": {},
   "outputs": [
    {
     "data": {
      "image/png": "[encoded data removed]",
      "text/plain": [
       "<Figure size 720x360 with 1 Axes>"
      ]
     },
     "metadata": {},
     "output_type": "display_data"
    }
   ],
   "source": [
    "# Open the book and split it into chapters.\n",
    "book_file = 'data/the-great-gatsby.txt'\n",
    "raw_book = open(book_file, encoding=\"utf-8\").read()\n",
    "end_pos = raw_book.index('*** END OF THE PROJECT GUTENBERG EBOOK THE GREAT GATSBY ***') \n",
    "\n",
    "chapters = raw_book[:end_pos].split('Chapter ')[1:]\n",
    "\n",
    "# Find the number of words in each chapter, in hundreds.\n",
    "chapter_lengths = (np.array([len(c.split(' ')) for c in chapters]) / 100)\n",
    "\n",
    "# Find the number of mentions per 100 words for each character and chapter.\n",
    "characters = bpd.DataFrame().assign(\n",
    "    Chapter=np.arange(1, 10),\n",
    "    Nick=np.char.count(chapters, 'Nick') / chapter_lengths,\n",
    "    Tom=np.char.count(chapters, 'Tom') / chapter_lengths,\n",
    "    Daisy=np.char.count(chapters, 'Daisy') / chapter_lengths,\n",
    "    Gatsby=np.char.count(chapters, 'Gatsby') / chapter_lengths\n",
    ")\n",
    "\n",
    "characters.plot(kind='bar', x='Chapter', figsize=(10, 5));\n",
    "plt.ylabel('Mentions per 100 words in chapter');"
   ]
  },
  {
   "cell_type": "markdown",
   "metadata": {},
   "source": [
    "Looking at the bar chart, we see that the height of the bar for Nick in Chapter 1 is approximately 0.19 and the y-axis of this graph is “Mentions per 100 words in chapter”. This means that 0.19 of every 100 words in Chapter 1 are `\"Nick\"`. In other words, $0.19\\%$ of the words in Chapter 1 are `\"Nick\"`."
   ]
  },
  {
   "cell_type": "markdown",
   "metadata": {},
   "source": [
    "**Question 1.1.** The following sentence is included in *The Great Gatsby*:\n",
    "\n",
    "> Tom Buchanan, who had been hovering restlessly about the room, stopped and rested his hand on my shoulder. \"What you doing, Nick?\"\n",
    "\n",
    "\n",
    "Based only on the graph above, in which chapter(s) of *The Great Gatsby* **could** this sentence appear? Assign the variable `gg_part1` to a `list` of `int`s, each one a number 1 through 9 representing a chapter. For example, if you believe this sentence could only appear in chapters 1 or 2, assign `gg_part1` to `[1, 2]`."
   ]
  },
  {
   "cell_type": "code",
   "execution_count": 264,
   "metadata": {},
   "outputs": [],
   "source": [
    "gg_part1 = [1,6,7,9]"
   ]
  },
  {
   "cell_type": "code",
   "execution_count": 265,
   "metadata": {
    "deletable": false,
    "editable": false
   },
   "outputs": [
    {
     "data": {
      "text/html": [
       "<p><strong><pre style='display: inline;'>q1_1</pre></strong> passed!</p>"
      ],
      "text/plain": [
       "q1_1 results: All test cases passed!"
      ]
     },
     "execution_count": 265,
     "metadata": {},
     "output_type": "execute_result"
    }
   ],
   "source": [
    "grader.check(\"q1_1\")"
   ]
  },
  {
   "cell_type": "markdown",
   "metadata": {},
   "source": [
    "**Question 1.2.** Nick is mentioned 10 times in Chapter 1. Based on the bar chart alone, estimate the number of times Tom is mentioned in Chapter 1. You don't need to write any code for this problem!\n",
    "\n",
    "Assign the variable `gg_part2` to 1, 2, 3, 4, or 5 corresponding to the best answer choice below. Remember to input your answer as a **number from 1-5 corresponding to the option numbers below, and not to the number of times Tom is mentioned.** For example, if you think Tom is mentioned 18 times, you should set `gg_part2` to 1, not 18.\n",
    "\n",
    "1. 18 times\n",
    "1. 21 times\n",
    "1. 30 times\n",
    "1. 33 times\n",
    "1. 41 times\n"
   ]
  },
  {
   "cell_type": "code",
   "execution_count": 266,
   "metadata": {},
   "outputs": [],
   "source": [
    "gg_part2 = 4"
   ]
  },
  {
   "cell_type": "code",
   "execution_count": 267,
   "metadata": {
    "deletable": false,
    "editable": false
   },
   "outputs": [
    {
     "data": {
      "text/html": [
       "<p><strong><pre style='display: inline;'>q1_2</pre></strong> passed!</p>"
      ],
      "text/plain": [
       "q1_2 results: All test cases passed!"
      ]
     },
     "execution_count": 267,
     "metadata": {},
     "output_type": "execute_result"
    }
   ],
   "source": [
    "grader.check(\"q1_2\")"
   ]
  },
  {
   "cell_type": "markdown",
   "metadata": {},
   "source": [
    "**Question 1.3.** Chapter 7 is quite long, as it is the chapter in which (⚠ spoiler alert!) the plot reaches its dramatic climax when Daisy kills a pedestrian while driving. For reference, Chapter 6 is 3671 words long, while Chapter 7 is 7880 words long. Based on this information and the plot alone, which of the following is correct? Assign the variable `gg_part3` to 1, 2, 3, or 4. \n",
    "\n",
    "1. Gatsby is mentioned more times in Chapter 6 than in Chapter 7. Nick is mentioned more times in Chapter 6 than in Chapter 7.\n",
    "1. Gatsby is mentioned more times in Chapter 6 than in Chapter 7. Nick is mentioned more times in Chapter 7 than in Chapter 6.\n",
    "1. Gatsby is mentioned more times in Chapter 7 than in Chapter 6. Nick is mentioned more times in Chapter 6 than in Chapter 7.\n",
    "1. Gatsby is mentioned more times in Chapter 7 than in Chapter 6. Nick is mentioned more times in Chapter 7 than in Chapter 6."
   ]
  },
  {
   "cell_type": "code",
   "execution_count": 268,
   "metadata": {},
   "outputs": [],
   "source": [
    "gg_part3 = 4"
   ]
  },
  {
   "cell_type": "code",
   "execution_count": 269,
   "metadata": {
    "deletable": false,
    "editable": false
   },
   "outputs": [
    {
     "data": {
      "text/html": [
       "<p><strong><pre style='display: inline;'>q1_3</pre></strong> passed!</p>"
      ],
      "text/plain": [
       "q1_3 results: All test cases passed!"
      ]
     },
     "execution_count": 269,
     "metadata": {},
     "output_type": "execute_result"
    }
   ],
   "source": [
    "grader.check(\"q1_3\")"
   ]
  },
  {
   "cell_type": "markdown",
   "metadata": {},
   "source": [
    "**Question 1.4.** Which of the following is a valid conclusion we can make based off of the above plot alone? Assign `gg_part4` to 1, 2, 3, 4, or 5. There is only one correct answer.\n",
    "\n",
    "1. Tom is mentioned more times in Chapter 2 than he is in Chapter 1.\n",
    "\n",
    "1. The chapter that Nick is mentioned the most in is Chapter 1.\n",
    "\n",
    "1. Daisy is mentioned roughly the same number of times in each of Chapters 1, 6, and 8.\n",
    "\n",
    "1. The chapter that Tom is mentioned the least in is Chapter 8.\n",
    "\n",
    "1. Nick and Daisy are mentioned roughly the same number of times in Chapter 3."
   ]
  },
  {
   "cell_type": "code",
   "execution_count": 270,
   "metadata": {},
   "outputs": [],
   "source": [
    "gg_part4 = 5"
   ]
  },
  {
   "cell_type": "code",
   "execution_count": 271,
   "metadata": {
    "deletable": false,
    "editable": false
   },
   "outputs": [
    {
     "data": {
      "text/html": [
       "<p><strong><pre style='display: inline;'>q1_4</pre></strong> passed!</p>"
      ],
      "text/plain": [
       "q1_4 results: All test cases passed!"
      ]
     },
     "execution_count": 271,
     "metadata": {},
     "output_type": "execute_result"
    }
   ],
   "source": [
    "grader.check(\"q1_4\")"
   ]
  },
  {
   "cell_type": "markdown",
   "metadata": {},
   "source": [
    "<font color=red>**_Note:_**  The tests in this section only check that you selected one of the possible answer choices, not that you have selected the right one!. Unlike in labs, tests in homeworks **do not** check that you answered correctly; they only check that your answer is *reasonable*, or in the correct format. To put it another way: all of your tests might pass, but that doesn't mean you'll get full credit – some of your answers may still be wrong. It's up to you to make sure that they're right!<font color=red>"
   ]
  },
  {
   "cell_type": "markdown",
   "metadata": {},
   "source": [
    "## 2. Python Basics 🐍"
   ]
  },
  {
   "cell_type": "markdown",
   "metadata": {},
   "source": [
    "**Question 2.1.** When you run the following cell, Python produces a cryptic error message."
   ]
  },
  {
   "cell_type": "code",
   "execution_count": 272,
   "metadata": {
    "tags": []
   },
   "outputs": [],
   "source": [
    "# 2024 = 2025 - 1.0"
   ]
  },
  {
   "cell_type": "markdown",
   "metadata": {},
   "source": [
    "Choose the best explanation of what's wrong with the code, and then assign 1, 2, 3, or 4 to `basics_1` below to indicate your answer.\n",
    "\n",
    "1. The left hand side is an `int`, while the right hand side is a `float`. The left side should be `2024.0` instead.\n",
    "\n",
    "1. The result should be written after the calculation. It should be `2025 - 1.0 = 2024`.\n",
    "\n",
    "1. This is trying to create a variable named `2024`, which doesn't make sense because `2024` is a number.\n",
    "\n",
    "1. Python is not able to subtract a `float` from an `int` because they are of different data types.\n"
   ]
  },
  {
   "cell_type": "markdown",
   "metadata": {},
   "source": [
    "<font color=red>**🚨 Important**: Once you have finished this question, \"comment\"  out the above code cell out by replacing it with `# 2024= 2025 - 1.0`. This will prevent the error message from appearing when your notebook is graded.</font>\n",
    "\n",
    "***Note:*** A shortcut for \"commenting\" out code is to highlight the code and press `command` or `control` and `/`."
   ]
  },
  {
   "cell_type": "code",
   "execution_count": 273,
   "metadata": {
    "tags": []
   },
   "outputs": [],
   "source": [
    "basics_1 = 3"
   ]
  },
  {
   "cell_type": "code",
   "execution_count": 274,
   "metadata": {
    "deletable": false,
    "editable": false
   },
   "outputs": [
    {
     "data": {
      "text/html": [
       "<p><strong><pre style='display: inline;'>q2_1</pre></strong> passed!</p>"
      ],
      "text/plain": [
       "q2_1 results: All test cases passed!"
      ]
     },
     "execution_count": 274,
     "metadata": {},
     "output_type": "execute_result"
    }
   ],
   "source": [
    "grader.check(\"q2_1\")"
   ]
  },
  {
   "cell_type": "markdown",
   "metadata": {},
   "source": [
    "**Question 2.2.** Consider the following poorly-written code."
   ]
  },
  {
   "cell_type": "code",
   "execution_count": 275,
   "metadata": {
    "tags": []
   },
   "outputs": [],
   "source": [
    "two = 2\n",
    "three = 3\n",
    "three = three ** two\n",
    "three = two - three\n",
    "three = three * two\n",
    "three = three * three"
   ]
  },
  {
   "cell_type": "markdown",
   "metadata": {},
   "source": [
    "As this code executes, what values does the variable `three` take on? Assign 1, 2, 3, or 4 to `basics_2` to indicate your answer.\n",
    "\n",
    "1. The variable `three` takes on the values 3, 6, 4, 8, 64.\n",
    "\n",
    "1. The variable `three` takes on the values 3, 6, -4, -8, 64.\n",
    "\n",
    "1. The variable `three` takes on the values 3, 9, 7, 14, 196.\n",
    "\n",
    "1. The variable `three` takes on the values 3, 9, -7, -14, 196."
   ]
  },
  {
   "cell_type": "code",
   "execution_count": 276,
   "metadata": {},
   "outputs": [],
   "source": [
    "basics_2 = 4"
   ]
  },
  {
   "cell_type": "code",
   "execution_count": 277,
   "metadata": {
    "deletable": false,
    "editable": false
   },
   "outputs": [
    {
     "data": {
      "text/html": [
       "<p><strong><pre style='display: inline;'>q2_2</pre></strong> passed!</p>"
      ],
      "text/plain": [
       "q2_2 results: All test cases passed!"
      ]
     },
     "execution_count": 277,
     "metadata": {},
     "output_type": "execute_result"
    }
   ],
   "source": [
    "grader.check(\"q2_2\")"
   ]
  },
  {
   "cell_type": "markdown",
   "metadata": {},
   "source": [
    "## 3. Road Trip   🚘 "
   ]
  },
  {
   "cell_type": "markdown",
   "metadata": {},
   "source": [
    "Over Thanksgiving break, you plan on going on a road trip to Palm Springs with your friends Abel and Oren. Before you go, you want to plan whose car (Abel's or Oren's) and which route (Route A or Route B) to take. Answer the questions below using Python to perform all the intermediate calculations such as adding, squaring, and dividing.\n",
    "\n",
    "<font color=red>**🚨 Important**: The `math` package has not been imported. You don't need it for this question, and you should not import it, otherwise the Gradescope autograder may error.</font>\n",
    "\n",
    "**Question 3.1.** First, you need to decide on the route. You plan to take the route for which the average speed is faster. \n",
    "\n",
    "For Route A, you will have to take 3 freeways, each with a different speed limit. Below is a table showing the speed limits (which we will assume is the speed you will travel at) and the time you will have to spend on each freeway on Route A.\n",
    "\n",
    "| Freeway | Speed Limit (miles per hour) | Time (hours)|\n",
    "| --- | --- | --- |\n",
    "| I-5 | 70 | 3 |\n",
    "| CA-73 | 55 | 2 |\n",
    "| CA-133 | 45 | 1 |\n",
    "\n",
    "Using this information, calculate the average speed, in miles per hour, if you take Route A, and assign your answer to the variable `route_A`. Recall from math and physics that the average speed is the total distance driven divided by the total time taken."
   ]
  },
  {
   "cell_type": "code",
   "execution_count": 278,
   "metadata": {
    "tags": []
   },
   "outputs": [
    {
     "data": {
      "text/plain": [
       "60.833333333333336"
      ]
     },
     "execution_count": 278,
     "metadata": {},
     "output_type": "execute_result"
    }
   ],
   "source": [
    "# Feel free to define intermediate variables to use in your solution.\n",
    "total_distance = (3*70)+(2*55)+(45)\n",
    "total_time = 6\n",
    "route_A = total_distance/total_time\n",
    "route_A"
   ]
  },
  {
   "cell_type": "code",
   "execution_count": 279,
   "metadata": {
    "deletable": false,
    "editable": false
   },
   "outputs": [
    {
     "data": {
      "text/html": [
       "<p><strong><pre style='display: inline;'>q3_1</pre></strong> passed!</p>"
      ],
      "text/plain": [
       "q3_1 results: All test cases passed!"
      ]
     },
     "execution_count": 279,
     "metadata": {},
     "output_type": "execute_result"
    }
   ],
   "source": [
    "grader.check(\"q3_1\")"
   ]
  },
  {
   "cell_type": "markdown",
   "metadata": {},
   "source": [
    "**Question 3.2.** Next, let's consider the other route you might take. For Route B, you will have to take 3 freeways, each with a different speed limit. Below is a table showing the speed limits (which we will assume is the speed you will travel at) and the *distance* you will need to travel on each freeway on Route B.\n",
    "\n",
    "| Freeway | Speed Limit (miles per hour) | Distance (miles)|\n",
    "| --- | --- | --- |\n",
    "| I-5 | 70 | 150 |\n",
    "| CA-57 | 65 | 110 |\n",
    "| CA-109 | 55 | 90 |\n",
    "\n",
    "Using this information, calculate the average speed, in miles per hour, if you take Route B, and assign your answer to the variable `route_B`.\n",
    "\n",
    "Note that the third column is `'Distance (miles)'`, not `'Time (hours)'`. Unlike in Question 3.1, you aren't given the amount of time you'll spend on each freeway; you need to compute these times yourself. To calculate the time it will take on each freeway, divide the distance for that freeway by the speed for that freeway. Finally, add up the times for each freeway to find the total time."
   ]
  },
  {
   "cell_type": "code",
   "execution_count": 280,
   "metadata": {
    "tags": []
   },
   "outputs": [
    {
     "data": {
      "text/plain": [
       "63.96750045645426"
      ]
     },
     "execution_count": 280,
     "metadata": {},
     "output_type": "execute_result"
    }
   ],
   "source": [
    "# Feel free to define intermediate variables to use in your solution.\n",
    "total_distance2 = 150+110+90\n",
    "total_time2 = (150/70)+(110/65)+(90/55)\n",
    "total_time2\n",
    "route_B = total_distance2/total_time2\n",
    "route_B"
   ]
  },
  {
   "cell_type": "code",
   "execution_count": 281,
   "metadata": {
    "deletable": false,
    "editable": false
   },
   "outputs": [
    {
     "data": {
      "text/html": [
       "<p><strong><pre style='display: inline;'>q3_2</pre></strong> passed!</p>"
      ],
      "text/plain": [
       "q3_2 results: All test cases passed!"
      ]
     },
     "execution_count": 281,
     "metadata": {},
     "output_type": "execute_result"
    }
   ],
   "source": [
    "grader.check(\"q3_2\")"
   ]
  },
  {
   "cell_type": "markdown",
   "metadata": {},
   "source": [
    "**Question 3.3.** Now it's time to decide whose car to take (Abel's or Oren's). You decide to take the car with the biggest fuel tank. \n",
    "\n",
    "Unfortunately, Abel doesn't know the exact volume of his car's fuel tank, only that the tank has a height of 16 inches, a width of 12 inches, and a length of 32 inches. Oren doesn't know the exact volume of his car's fuel tank either, but knows that his tank is in the shape of a cube. What is the length of one of the sides of Oren's fuel tank (in inches) so that it stores the same amount of fuel as Abel's? Save your answer in the variable `side_length`."
   ]
  },
  {
   "cell_type": "code",
   "execution_count": 282,
   "metadata": {},
   "outputs": [
    {
     "data": {
      "text/plain": [
       "18.315427880853306"
      ]
     },
     "execution_count": 282,
     "metadata": {},
     "output_type": "execute_result"
    }
   ],
   "source": [
    "# Feel free to define intermediate variables to use in your solution.\n",
    "side_length = (16*12*32)**(1/3)\n",
    "side_length"
   ]
  },
  {
   "cell_type": "code",
   "execution_count": 283,
   "metadata": {
    "deletable": false,
    "editable": false
   },
   "outputs": [
    {
     "data": {
      "text/html": [
       "<p><strong><pre style='display: inline;'>q3_3</pre></strong> passed!</p>"
      ],
      "text/plain": [
       "q3_3 results: All test cases passed!"
      ]
     },
     "execution_count": 283,
     "metadata": {},
     "output_type": "execute_result"
    }
   ],
   "source": [
    "grader.check(\"q3_3\")"
   ]
  },
  {
   "cell_type": "markdown",
   "metadata": {},
   "source": [
    "In this problem, though you calculated three different quantities in three different ways, all of your results are actually considered **means**, of various kinds!\n",
    "\n",
    "In Question 3.1, given $n$ values $x_1, x_2, ..., x_n$, you found an *arithmetic mean*, using the formula\n",
    "\n",
    "$${x_1+x_2+...+x_n \\over n},$$\n",
    "\n",
    "where the numerator represented total distance and the denominator represented total time. An arithmetic mean is the usual type of mean or average you're used to seeing. It turns out that you actually computed a more sophisticated arithmetic mean, known as a _weighted arithmetic mean_, \n",
    "\n",
    "$$\\frac{w_1 x_1 + w_2 x_2 + ... + w_n x_n}{w_1 + w_2 + ... + w_n},$$\n",
    "\n",
    "where the weights $w_1, w_2, w_3$ were the times on each freeway.\n",
    "\n",
    "In Question 3.2, given  $n$ values $x_1, x_2, ..., x_n$, you found a *harmonic mean*, using the formula\n",
    "\n",
    "$${n \\over {{1 \\over x_1}+{1 \\over x_2}+ ... + {1 \\over x_n}}},$$ \n",
    "\n",
    "\n",
    "where the numerator represented total distance and the denominator represented total time. To calculate the total time, you needed to sum the time taken for each part of the trip, calculated using the fact that time is distance over speed. Again, it turns out that you actually computed the _weighted harmonic mean_, but this time the weights were the distances on each of the freeways. If you're curious, see the formula [here](https://en.wikipedia.org/wiki/Harmonic_mean#Weighted_harmonic_mean).\n",
    "\n",
    "Finally in Question 3.3, given $n$ values $x_1, x_2, ..., x_n$, you found a *geometric mean*, using the formula \n",
    "\n",
    "$${\\sqrt[n]{x_1 \\cdot x_2 \\cdot ... \\cdot x_n}},$$ \n",
    "\n",
    "where each value represented a dimension of the fuel tank. \n",
    "\n",
    "As you can see, there are many different notions of the mean. You'll learn about some of them if you take DSC 40A!"
   ]
  },
  {
   "cell_type": "markdown",
   "metadata": {},
   "source": [
    "## 4. ChatGPT, Teens, and Income ##"
   ]
  },
  {
   "cell_type": "markdown",
   "metadata": {},
   "source": [
    "In this problem, we want to compare and contrast early awareness of ChatGPT among American teenagers in different household income groups. The data below comes from [Pew Research Center's Survey of U.S. Teens](https://www.pewresearch.org/short-reads/2023/11/16/about-1-in-5-us-teens-whove-heard-of-chatgpt-have-used-it-for-schoolwork/sr_23-11-16_ai-in-schools_2-png/), in fall 2023, back when ChatGPT was new to the general public. The numbers below show **percentages** of each income group falling into each awareness category; note that each row sums to 100 or near 100 (because some respondents did not answer the question).\n",
    "\n",
    "| Household Income     | Highly aware of ChatGPT  | A little aware of ChatGPT  | Not at all aware of ChatGPT |\n",
    "|-------------------------------------------|-------------|-----------|-----------|\n",
    "| less than 30,000 dollars      | 11 | 30 | 59 | \n",
    "| 30,000 to 74,999 dollars      | 22 | 36 | 40 | \n",
    "| more than 75,000 dollars   | 26 | 50  | 24 | \n",
    "\n",
    "We define the **dissimilarity** between two income groups as the largest absolute difference between their three respective percentages.\n",
    "\n",
    "To better understand dissimilarity, consider the following hypothetical situation, where we compare the ChatGPT awareness betwen income group A and income group B. Suppose:\n",
    "* Group A's *percentage of highly aware* is **10 percent more** than Group B's.\n",
    "* Group A's *percentage of a little aware* is **4 percent less** than Group B's.\n",
    "* Group A's *percentage of not at all aware* is **7 percent less** than Group B's.\n",
    "\n",
    "Then, we would say the dissimilarity between Group A and Group B is 10, since 10 is larger than both 4 and 7."
   ]
  },
  {
   "cell_type": "markdown",
   "metadata": {},
   "source": [
    "**Question 4.1.** \n",
    "Using this method, compute the dissimilarity between the following two income groups: less than 30,000 dollars and 30,000 to 74,999 dollars.  Assign the result to the variable `dissimilarity`. Use a single expression (a single line of code) to compute the answer. Let Python perform all the arithmetic (like subtracting) rather than calculating the expression yourself. \n",
    "\n",
    "**_Hint:_**  The built-in `abs` function computes absolute values. "
   ]
  },
  {
   "cell_type": "code",
   "execution_count": 284,
   "metadata": {
    "tags": []
   },
   "outputs": [
    {
     "data": {
      "text/plain": [
       "19"
      ]
     },
     "execution_count": 284,
     "metadata": {},
     "output_type": "execute_result"
    }
   ],
   "source": [
    "dissimilarity = max(abs(22-11),abs(36-30),abs(40-59))\n",
    "dissimilarity"
   ]
  },
  {
   "cell_type": "code",
   "execution_count": 285,
   "metadata": {
    "deletable": false,
    "editable": false
   },
   "outputs": [
    {
     "data": {
      "text/html": [
       "<p><strong><pre style='display: inline;'>q4_1</pre></strong> passed!</p>"
      ],
      "text/plain": [
       "q4_1 results: All test cases passed!"
      ]
     },
     "execution_count": 285,
     "metadata": {},
     "output_type": "execute_result"
    }
   ],
   "source": [
    "grader.check(\"q4_1\")"
   ]
  },
  {
   "cell_type": "markdown",
   "metadata": {},
   "source": [
    "**Question 4.2.** Which pair of income groups is **most** dissimilar, according to this measurement? Assign either 1, 2, or 3 to the variable `most_dissimilar` below. Check whether your answer matches up with your intuition.\n",
    "\n",
    "1. less than 30,000 dollars and 30,000 to 74,999 dollars \n",
    "1. less than 30,000 dollars and more than 75,000 dollars\n",
    "1. 30,000 to 74,999 dollars and more than 75,000 dollars"
   ]
  },
  {
   "cell_type": "code",
   "execution_count": 286,
   "metadata": {
    "tags": []
   },
   "outputs": [],
   "source": [
    "most_dissimilar = 2"
   ]
  },
  {
   "cell_type": "code",
   "execution_count": 287,
   "metadata": {
    "deletable": false,
    "editable": false
   },
   "outputs": [
    {
     "data": {
      "text/html": [
       "<p><strong><pre style='display: inline;'>q4_2</pre></strong> passed!</p>"
      ],
      "text/plain": [
       "q4_2 results: All test cases passed!"
      ]
     },
     "execution_count": 287,
     "metadata": {},
     "output_type": "execute_result"
    }
   ],
   "source": [
    "grader.check(\"q4_2\")"
   ]
  },
  {
   "cell_type": "markdown",
   "metadata": {},
   "source": [
    "**Question 4.3.** Suppose instead of measuring awareness of ChatGPT with three categories (highly aware, a little aware, and not at all aware), the researchers had instead measured awareness with two categories (aware and not aware, where aware includes both highly aware and a little aware). Between which two income categories would the dissimilarity change if we measured awareness with two categories instead of three? Assign either 1, 2, 3, or 4 to the variable `would_change` below.\n",
    "\n",
    "1. less than 30,000 dollars and 30,000 to 74,999 dollars \n",
    "1. less than 30,000 dollars and more than 75,000 dollars\n",
    "1. 30,000 to 74,999 dollars and more than 75,000 dollars\n",
    "1. none of the above"
   ]
  },
  {
   "cell_type": "code",
   "execution_count": 288,
   "metadata": {
    "tags": []
   },
   "outputs": [],
   "source": [
    "would_change = 3"
   ]
  },
  {
   "cell_type": "code",
   "execution_count": 289,
   "metadata": {
    "deletable": false,
    "editable": false
   },
   "outputs": [
    {
     "data": {
      "text/html": [
       "<p><strong><pre style='display: inline;'>q4_3</pre></strong> passed!</p>"
      ],
      "text/plain": [
       "q4_3 results: All test cases passed!"
      ]
     },
     "execution_count": 289,
     "metadata": {},
     "output_type": "execute_result"
    }
   ],
   "source": [
    "grader.check(\"q4_3\")"
   ]
  },
  {
   "cell_type": "markdown",
   "metadata": {},
   "source": [
    "## 5. Arrays 🗃️"
   ]
  },
  {
   "cell_type": "markdown",
   "metadata": {},
   "source": [
    "**Question 5.1.** Make an array called `quirky_numbers` containing the following numbers (in the given order):\n",
    "\n",
    "1. The square root of 67\n",
    "1. 33 degrees, in radians\n",
    "1. $\\frac{3^4 + 9^4}{1000}$\n",
    "1. The mathematical constant $\\pi$ divided by 7 (that is, $\\frac{\\pi}{7}$)\n",
    "1. The natural logarithm of 88\n",
    "\n",
    "<font color=red>**🚨 Important**: The `math` package has not been imported. You don't need it for this question, and you should not import it, otherwise the Gradescope autograder may error.</font>\n",
    "\n",
    "**_Hint:_**  Check out the functions and constants available in the `numpy` module, which has been imported as `np`. If you're unsure of what function to use, a quick Google search should do the trick. Do **not** round any of the values in the array. \n",
    "\n",
    "**_Note:_**  In this problem, as with all others, we'll only check that your answer is correct. There may be several valid ways to produce the correct answer."
   ]
  },
  {
   "cell_type": "code",
   "execution_count": 290,
   "metadata": {
    "tags": []
   },
   "outputs": [
    {
     "data": {
      "text/plain": [
       "array([8.18535277, 0.57595865, 6.642     , 0.44879895, 4.47733681])"
      ]
     },
     "execution_count": 290,
     "metadata": {},
     "output_type": "execute_result"
    }
   ],
   "source": [
    "quirky_numbers = np.array([67**.5 , (33*np.pi/180), (3**4+9**4)/1000, (np.pi)/7, np.log(88)])\n",
    "quirky_numbers"
   ]
  },
  {
   "cell_type": "code",
   "execution_count": 291,
   "metadata": {
    "deletable": false,
    "editable": false
   },
   "outputs": [
    {
     "data": {
      "text/html": [
       "<p><strong><pre style='display: inline;'>q5_1</pre></strong> passed!</p>"
      ],
      "text/plain": [
       "q5_1 results: All test cases passed!"
      ]
     },
     "execution_count": 291,
     "metadata": {},
     "output_type": "execute_result"
    }
   ],
   "source": [
    "grader.check(\"q5_1\")"
   ]
  },
  {
   "cell_type": "markdown",
   "metadata": {
    "deletable": false,
    "editable": false
   },
   "source": [
    "**Question 5.2.** Make an array called `likes` containing the following three strings, in the specified order:\n",
    "- `'I like surfing'`\n",
    "- `'otters'`\n",
    "- `'and popcorn.'`\n",
    "\n",
    "<!--\n",
    "BEGIN QUESTION\n",
    "name: q5_2\n",
    "-->"
   ]
  },
  {
   "cell_type": "code",
   "execution_count": 292,
   "metadata": {
    "tags": []
   },
   "outputs": [
    {
     "data": {
      "text/plain": [
       "array(['I like surfing', 'otters', 'and popcorn.'], dtype='<U14')"
      ]
     },
     "execution_count": 292,
     "metadata": {},
     "output_type": "execute_result"
    }
   ],
   "source": [
    "likes = np.array(['I like surfing','otters', 'and popcorn.'])\n",
    "likes"
   ]
  },
  {
   "cell_type": "code",
   "execution_count": 293,
   "metadata": {
    "deletable": false,
    "editable": false
   },
   "outputs": [
    {
     "data": {
      "text/html": [
       "<p><strong><pre style='display: inline;'>q5_2</pre></strong> passed!</p>"
      ],
      "text/plain": [
       "q5_2 results: All test cases passed!"
      ]
     },
     "execution_count": 293,
     "metadata": {},
     "output_type": "execute_result"
    }
   ],
   "source": [
    "grader.check(\"q5_2\")"
   ]
  },
  {
   "cell_type": "markdown",
   "metadata": {},
   "source": [
    "<center><img src=images/otter.webp width=300>\n",
    "<br>\n",
    "<a href=\"https://www.npr.org/2023/07/13/1187295769/otter-santa-cruz-surfboard-surfers-california\">An otter in Santa Cruz is hassling surfers — and stealing their boards</a></center>\n",
    "\n",
    "\n",
    "In [Lecture 2](https://dsc10.com/resources/lectures/lec02/lec02.html#String-methods), we looked at several string methods, like `upper` and `replace`. Strings have another method that we haven't seen yet, called `join`. `join` takes one argument, an array of strings, and it returns a single string. Specifically, `some_string.join(some_array)` evaluates to a new string consisting of all of elements in `some_array`, with `some_string` inserted **in between each element**.\n",
    "\n",
    "For example, `'-'.join(np.array(['call', '858', '534', '2230']))` evaluates to `'call-858-534-2230'`.\n",
    "\n",
    "**Question 5.3.** Use the array `likes` and the method `join` to make two strings:\n",
    "\n",
    "1. `'I like surfing, otters, and popcorn.'` (call this one `by_comma`)\n",
    "1. `'I like surfing otters and popcorn.'` (call this one `by_space`)"
   ]
  },
  {
   "cell_type": "code",
   "execution_count": 294,
   "metadata": {
    "scrolled": true,
    "tags": []
   },
   "outputs": [
    {
     "name": "stdout",
     "output_type": "stream",
     "text": [
      "I like surfing, otters, and popcorn.\n",
      "I like surfing otters and popcorn.\n"
     ]
    }
   ],
   "source": [
    "by_comma = ', '.join(likes)\n",
    "by_space = ' '.join(likes)\n",
    "\n",
    "# Don't change the lines below.\n",
    "print(by_comma)\n",
    "print(by_space)"
   ]
  },
  {
   "cell_type": "code",
   "execution_count": 295,
   "metadata": {
    "deletable": false,
    "editable": false
   },
   "outputs": [
    {
     "data": {
      "text/html": [
       "<p><strong><pre style='display: inline;'>q5_3</pre></strong> passed!</p>"
      ],
      "text/plain": [
       "q5_3 results: All test cases passed!"
      ]
     },
     "execution_count": 295,
     "metadata": {},
     "output_type": "execute_result"
    }
   ],
   "source": [
    "grader.check(\"q5_3\")"
   ]
  },
  {
   "cell_type": "markdown",
   "metadata": {},
   "source": [
    "Now let's get some practice accessing individual elements of arrays.  In Python (and in many programming languages), elements are accessed by *integer position*, with the position of the first element being zero. That's probably not the way you learned to count, so it's easy to get mixed up here. Be careful!"
   ]
  },
  {
   "cell_type": "markdown",
   "metadata": {},
   "source": [
    "**Question 5.4.** The cell below creates an array of strings."
   ]
  },
  {
   "cell_type": "code",
   "execution_count": 296,
   "metadata": {
    "scrolled": true,
    "tags": []
   },
   "outputs": [
    {
     "data": {
      "text/plain": [
       "array(['fruits', '🍎', '🍇', '🍓', 'mouse', '🐭', 'panda', '🐼'], dtype='<U6')"
      ]
     },
     "execution_count": 296,
     "metadata": {},
     "output_type": "execute_result"
    }
   ],
   "source": [
    "some_strings = np.array(['fruits', '🍎', '🍇', '🍓', 'mouse', '🐭', 'panda', '🐼'])\n",
    "some_strings"
   ]
  },
  {
   "cell_type": "markdown",
   "metadata": {},
   "source": [
    "What is the integer position of `'🐼'` in the array? You can just type in the answer, which should be of type `int`. This is a conceptual question, not a coding question.\n",
    "\n",
    "**_Note:_**  Your answer should be a **positive** integer!"
   ]
  },
  {
   "cell_type": "code",
   "execution_count": 297,
   "metadata": {
    "tags": []
   },
   "outputs": [
    {
     "data": {
      "text/plain": [
       "7"
      ]
     },
     "execution_count": 297,
     "metadata": {},
     "output_type": "execute_result"
    }
   ],
   "source": [
    "panda_position = 7\n",
    "panda_position"
   ]
  },
  {
   "cell_type": "code",
   "execution_count": 298,
   "metadata": {
    "deletable": false,
    "editable": false
   },
   "outputs": [
    {
     "data": {
      "text/html": [
       "<p><strong><pre style='display: inline;'>q5_4</pre></strong> passed!</p>"
      ],
      "text/plain": [
       "q5_4 results: All test cases passed!"
      ]
     },
     "execution_count": 298,
     "metadata": {},
     "output_type": "execute_result"
    }
   ],
   "source": [
    "grader.check(\"q5_4\")"
   ]
  },
  {
   "cell_type": "markdown",
   "metadata": {},
   "source": [
    "**Question 5.5.** Suppose you have an array with 249 elements. What is the integer position of the sixth-to-last element in this array? You can just type in the answer, which should be of type `int`. This is a conceptual question, not a coding question.\n",
    "\n",
    "**_Note:_**  Again, your answer should be a **positive** integer!"
   ]
  },
  {
   "cell_type": "code",
   "execution_count": 299,
   "metadata": {
    "scrolled": true,
    "tags": []
   },
   "outputs": [
    {
     "data": {
      "text/plain": [
       "243"
      ]
     },
     "execution_count": 299,
     "metadata": {},
     "output_type": "execute_result"
    }
   ],
   "source": [
    "sixth_last_position = 243\n",
    "sixth_last_position"
   ]
  },
  {
   "cell_type": "code",
   "execution_count": 300,
   "metadata": {
    "deletable": false,
    "editable": false
   },
   "outputs": [
    {
     "data": {
      "text/html": [
       "<p><strong><pre style='display: inline;'>q5_5</pre></strong> passed!</p>"
      ],
      "text/plain": [
       "q5_5 results: All test cases passed!"
      ]
     },
     "execution_count": 300,
     "metadata": {},
     "output_type": "execute_result"
    }
   ],
   "source": [
    "grader.check(\"q5_5\")"
   ]
  },
  {
   "cell_type": "markdown",
   "metadata": {},
   "source": [
    "**Question 5.6.** Suppose you have an array with 743 elements. At what integer position is the middle element of this array? You can just type in the answer, which should be of type `int`. This is a conceptual question, not a coding question.\n",
    "\n",
    "**_Note:_**  Again, your answer should be a **positive** integer!"
   ]
  },
  {
   "cell_type": "code",
   "execution_count": 301,
   "metadata": {
    "tags": []
   },
   "outputs": [
    {
     "data": {
      "text/plain": [
       "371"
      ]
     },
     "execution_count": 301,
     "metadata": {},
     "output_type": "execute_result"
    }
   ],
   "source": [
    "mid_position = 371\n",
    "mid_position"
   ]
  },
  {
   "cell_type": "code",
   "execution_count": 302,
   "metadata": {
    "deletable": false,
    "editable": false
   },
   "outputs": [
    {
     "data": {
      "text/html": [
       "<p><strong><pre style='display: inline;'>q5_6</pre></strong> passed!</p>"
      ],
      "text/plain": [
       "q5_6 results: All test cases passed!"
      ]
     },
     "execution_count": 302,
     "metadata": {},
     "output_type": "execute_result"
    }
   ],
   "source": [
    "grader.check(\"q5_6\")"
   ]
  },
  {
   "cell_type": "markdown",
   "metadata": {},
   "source": [
    "By the way, it's also possible to use negative integer positions to access elements in an array, which can be easier than using positive integer positions sometimes.  If a position is negative, you count from the end of the array rather than from the beginning. Position -1 corresponds to the last element, -2 corresponds to the second-to-last element, and so on. For instance, to find the third-to-last element of `some_strings`, we could use:"
   ]
  },
  {
   "cell_type": "code",
   "execution_count": 303,
   "metadata": {
    "scrolled": true,
    "tags": []
   },
   "outputs": [
    {
     "data": {
      "text/plain": [
       "'🐭'"
      ]
     },
     "execution_count": 303,
     "metadata": {},
     "output_type": "execute_result"
    }
   ],
   "source": [
    "some_strings[-3]"
   ]
  },
  {
   "cell_type": "markdown",
   "metadata": {},
   "source": [
    "## 6. DSC 10 Enrollments 📈"
   ]
  },
  {
   "cell_type": "markdown",
   "metadata": {},
   "source": [
    "In this question, we'll look at enrollment data from the Fall 2023 and Fall 2024 offerings of DSC 10. The fourth column of the table below shows how many UCSD undergraduate students in the **current** offering of DSC 10 come from each of the university's eight colleges. It looks like Sixth College is the most popular, with 87 students. The last column shows how many of those students are DSC majors. Almost 80% of Sixth College students in this class are DSC majors!\n",
    "\n",
    "For comparison's sake, we also have the corresponding data from last fall's offering of DSC 10. What differences do you see?\n",
    "\n",
    "Throughout this problem, we'll assume that all students in DSC 10 come from one of the eight colleges in the table. We've excluded graduate students, exchange students, etc.\n",
    "\n",
    "| College   |   Fall 23 Students |   Fall 23 DSC Major Students |   Fall 24 Students |   Fall 24 DSC Major Students |\n",
    "|:----------|-------------------:|-----------------------------:|---------------------:|-------------------------------:|\n",
    "| Eighth    |                 32 |                           27 |                   28 |                              24 |\n",
    "| Seventh   |                 93 |                           66 |                   56 |                              42 |\n",
    "| Sixth     |                 90 |                           54 |                   87 |                              69 |\n",
    "| Roosevelt |                 51 |                           36 |                   50 |                              28 |\n",
    "| Warren    |                 74 |                           52 |                   71 |                              53 |\n",
    "| Marshall  |                 57 |                           32 |                   49 |                              32 |\n",
    "| Muir      |                 47 |                           36 |                   59 |                              48 |\n",
    "| Revelle   |                 38 |                           24 |                   38 |                              28 |\n",
    "\n",
    "In this problem, we'll be working with the data from this table as *arrays*. Here are those arrays:"
   ]
  },
  {
   "cell_type": "code",
   "execution_count": 304,
   "metadata": {
    "scrolled": true
   },
   "outputs": [
    {
     "data": {
      "text/plain": [
       "array([32, 93, 90, 51, 74, 57, 47, 38])"
      ]
     },
     "execution_count": 304,
     "metadata": {},
     "output_type": "execute_result"
    }
   ],
   "source": [
    "students_23 = np.array([32, 93, 90, 51, 74, 57, 47, 38])\n",
    "students_23"
   ]
  },
  {
   "cell_type": "code",
   "execution_count": 305,
   "metadata": {},
   "outputs": [
    {
     "data": {
      "text/plain": [
       "array([27, 66, 54, 36, 52, 32, 36, 24])"
      ]
     },
     "execution_count": 305,
     "metadata": {},
     "output_type": "execute_result"
    }
   ],
   "source": [
    "majors_23 = np.array([27, 66, 54, 36, 52, 32, 36, 24])\n",
    "majors_23"
   ]
  },
  {
   "cell_type": "code",
   "execution_count": 306,
   "metadata": {},
   "outputs": [
    {
     "data": {
      "text/plain": [
       "array([28, 56, 87, 50, 71, 49, 59, 38])"
      ]
     },
     "execution_count": 306,
     "metadata": {},
     "output_type": "execute_result"
    }
   ],
   "source": [
    "students_24 = np.array([28, 56, 87, 50, 71, 49, 59, 38])\n",
    "students_24"
   ]
  },
  {
   "cell_type": "code",
   "execution_count": 307,
   "metadata": {},
   "outputs": [
    {
     "data": {
      "text/plain": [
       "array([24, 42, 69, 28, 53, 32, 48, 28])"
      ]
     },
     "execution_count": 307,
     "metadata": {},
     "output_type": "execute_result"
    }
   ],
   "source": [
    "majors_24 = np.array([24, 42, 69, 28, 53, 32, 48, 28])\n",
    "majors_24"
   ]
  },
  {
   "cell_type": "markdown",
   "metadata": {},
   "source": [
    "Remember, the `numpy` package (`np` for short) provides many handy functions for working with arrays. These are specifically designed to work with arrays and are faster than using Python's built-in functions. \n",
    "\n",
    "Some frequently used array functions are `np.min`, `np.max`, `np.sum`, `np.abs`, and `np.round`. There are many more, which you can browse by typing `np.` into a code cell and hitting the `tab` key. These are all in addition to array methods, which we access using dot notation. (For instance, both `arr.max()` and `np.max(arr)` return the largest element in the array `arr`.)"
   ]
  },
  {
   "cell_type": "markdown",
   "metadata": {},
   "source": [
    "**Question 6.1.** Assign `enrolled_23` and `enrolled_24` to the number of students that were enrolled in DSC 10 in Fall 2023 and Fall 2024, respectively."
   ]
  },
  {
   "cell_type": "code",
   "execution_count": 308,
   "metadata": {},
   "outputs": [
    {
     "name": "stdout",
     "output_type": "stream",
     "text": [
      "Students in Fall 2023: 482\n",
      "Students in Fall 2024: 438\n"
     ]
    }
   ],
   "source": [
    "enrolled_23 = students_23.sum()\n",
    "enrolled_24 = students_24.sum()\n",
    "\n",
    "# Don't change the lines below.\n",
    "print('Students in Fall 2023:', enrolled_23)\n",
    "print('Students in Fall 2024:', enrolled_24)"
   ]
  },
  {
   "cell_type": "code",
   "execution_count": 309,
   "metadata": {
    "deletable": false,
    "editable": false
   },
   "outputs": [
    {
     "data": {
      "text/html": [
       "<p><strong><pre style='display: inline;'>q6_1</pre></strong> passed!</p>"
      ],
      "text/plain": [
       "q6_1 results: All test cases passed!"
      ]
     },
     "execution_count": 309,
     "metadata": {},
     "output_type": "execute_result"
    }
   ],
   "source": [
    "grader.check(\"q6_1\")"
   ]
  },
  {
   "cell_type": "markdown",
   "metadata": {},
   "source": [
    "**Question 6.2.** How many non-DSC major students from the Fall 2023 offering of DSC 10 came from each of the eight colleges? Your answer should be an array called `non_majors_23`, with the colleges in the same order as they appear in the table above. For instance, the first element of `non_majors_23` should be the number of non-DSC majors in the Fall 2023 offering of DSC 10 who were in Eighth College."
   ]
  },
  {
   "cell_type": "code",
   "execution_count": 310,
   "metadata": {},
   "outputs": [
    {
     "data": {
      "text/plain": [
       "array([ 5, 27, 36, 15, 22, 25, 11, 14])"
      ]
     },
     "execution_count": 310,
     "metadata": {},
     "output_type": "execute_result"
    }
   ],
   "source": [
    "non_majors_23 = students_23-majors_23\n",
    "non_majors_23"
   ]
  },
  {
   "cell_type": "code",
   "execution_count": 311,
   "metadata": {
    "deletable": false,
    "editable": false
   },
   "outputs": [
    {
     "data": {
      "text/html": [
       "<p><strong><pre style='display: inline;'>q6_2</pre></strong> passed!</p>"
      ],
      "text/plain": [
       "q6_2 results: All test cases passed!"
      ]
     },
     "execution_count": 311,
     "metadata": {},
     "output_type": "execute_result"
    }
   ],
   "source": [
    "grader.check(\"q6_2\")"
   ]
  },
  {
   "cell_type": "markdown",
   "metadata": {},
   "source": [
    "**Question 6.3.** By what percentage has DSC **major** enrollment increased from Fall 2023 to Fall 2024 across the eight colleges? For example, if Sixth College had 50 DSC majors enrolled in DSC 10 during Fall 2023 and 60 DSC majors during Fall 2024, the *percent increase* would be 20. Note that the percent increase could be negative if there are *less* DSC majors from a certain college in Fall 2024 compared to Fall 2023.\n",
    "\n",
    "Your answer for this question should be an array called `percent_increase`, with colleges in the same order as they appear in the table above, and with percentages rounded to two decimal places. "
   ]
  },
  {
   "cell_type": "code",
   "execution_count": 312,
   "metadata": {},
   "outputs": [
    {
     "data": {
      "text/plain": [
       "array([-11.11, -36.36,  27.78, -22.22,   1.92,   0.  ,  33.33,  16.67])"
      ]
     },
     "execution_count": 312,
     "metadata": {},
     "output_type": "execute_result"
    }
   ],
   "source": [
    "percent_increase = (( (majors_24-majors_23)/majors_23 ) *100).round(2)\n",
    "percent_increase"
   ]
  },
  {
   "cell_type": "code",
   "execution_count": 313,
   "metadata": {
    "deletable": false,
    "editable": false
   },
   "outputs": [
    {
     "data": {
      "text/html": [
       "<p><strong><pre style='display: inline;'>q6_3</pre></strong> passed!</p>"
      ],
      "text/plain": [
       "q6_3 results: All test cases passed!"
      ]
     },
     "execution_count": 313,
     "metadata": {},
     "output_type": "execute_result"
    }
   ],
   "source": [
    "grader.check(\"q6_3\")"
   ]
  },
  {
   "cell_type": "markdown",
   "metadata": {},
   "source": [
    "## 7. Disney Movies 👸🏰🌠"
   ]
  },
  {
   "cell_type": "markdown",
   "metadata": {},
   "source": [
    "In this question, we will explore movies produced by *Walt Disney Studios* from 1937 to 2016.\n",
    "\n",
    "<center><img src=\"images/walt-disney-logo.webp\" width=60%></center>\n",
    "\n",
    "The file `disney.csv` in the `data/` directory contains information about 579 such Disney movies. Its columns are described below.\n",
    "\n",
    "| Column      | Description |\n",
    "| ----------- | ----------- |\n",
    "| `'movie_title'`      | Name of the movie     |\n",
    "| `'genre'` | Genre of the movie  |\n",
    "| `'MPAA_rating'` | Content rating, determining suitability for children |\n",
    "| `'total_gross'` | Total box office revenue |\n",
    "| `'adjusted_gross'` | Total box office revenue, after adjustment for inflation |\n",
    "| `'year'`   | Year of release   |"
   ]
  },
  {
   "cell_type": "markdown",
   "metadata": {},
   "source": [
    "**Question 7.1.** Read this file into a DataFrame called `disney_movies`. "
   ]
  },
  {
   "cell_type": "code",
   "execution_count": 314,
   "metadata": {},
   "outputs": [
    {
     "data": {
      "text/html": [
       "<div>\n",
       "<style scoped>\n",
       "    .dataframe tbody tr th:only-of-type {\n",
       "        vertical-align: middle;\n",
       "    }\n",
       "\n",
       "    .dataframe tbody tr th {\n",
       "        vertical-align: top;\n",
       "    }\n",
       "\n",
       "    .dataframe thead th {\n",
       "        text-align: right;\n",
       "    }\n",
       "</style>\n",
       "<table border=\"1\" class=\"dataframe\">\n",
       "  <thead>\n",
       "    <tr style=\"text-align: right;\">\n",
       "      <th></th>\n",
       "      <th>movie_title</th>\n",
       "      <th>genre</th>\n",
       "      <th>MPAA_rating</th>\n",
       "      <th>total_gross</th>\n",
       "      <th>adjusted_gross</th>\n",
       "      <th>year</th>\n",
       "    </tr>\n",
       "  </thead>\n",
       "  <tbody>\n",
       "    <tr>\n",
       "      <th>0</th>\n",
       "      <td>Snow White and the Seven Dwarfs</td>\n",
       "      <td>Musical</td>\n",
       "      <td>G</td>\n",
       "      <td>184925485</td>\n",
       "      <td>5228953251</td>\n",
       "      <td>1937</td>\n",
       "    </tr>\n",
       "    <tr>\n",
       "      <th>1</th>\n",
       "      <td>Pinocchio</td>\n",
       "      <td>Adventure</td>\n",
       "      <td>G</td>\n",
       "      <td>84300000</td>\n",
       "      <td>2188229052</td>\n",
       "      <td>1940</td>\n",
       "    </tr>\n",
       "    <tr>\n",
       "      <th>2</th>\n",
       "      <td>Fantasia</td>\n",
       "      <td>Musical</td>\n",
       "      <td>G</td>\n",
       "      <td>83320000</td>\n",
       "      <td>2187090808</td>\n",
       "      <td>1940</td>\n",
       "    </tr>\n",
       "    <tr>\n",
       "      <th>3</th>\n",
       "      <td>Song of the South</td>\n",
       "      <td>Adventure</td>\n",
       "      <td>G</td>\n",
       "      <td>65000000</td>\n",
       "      <td>1078510579</td>\n",
       "      <td>1946</td>\n",
       "    </tr>\n",
       "    <tr>\n",
       "      <th>4</th>\n",
       "      <td>Cinderella (1950)</td>\n",
       "      <td>Drama</td>\n",
       "      <td>G</td>\n",
       "      <td>85000000</td>\n",
       "      <td>920608730</td>\n",
       "      <td>1950</td>\n",
       "    </tr>\n",
       "    <tr>\n",
       "      <th>...</th>\n",
       "      <td>...</td>\n",
       "      <td>...</td>\n",
       "      <td>...</td>\n",
       "      <td>...</td>\n",
       "      <td>...</td>\n",
       "      <td>...</td>\n",
       "    </tr>\n",
       "    <tr>\n",
       "      <th>574</th>\n",
       "      <td>The Light Between Oceans</td>\n",
       "      <td>Drama</td>\n",
       "      <td>PG-13</td>\n",
       "      <td>12545979</td>\n",
       "      <td>12545979</td>\n",
       "      <td>2016</td>\n",
       "    </tr>\n",
       "    <tr>\n",
       "      <th>575</th>\n",
       "      <td>Queen of Katwe</td>\n",
       "      <td>Drama</td>\n",
       "      <td>PG</td>\n",
       "      <td>8874389</td>\n",
       "      <td>8874389</td>\n",
       "      <td>2016</td>\n",
       "    </tr>\n",
       "    <tr>\n",
       "      <th>576</th>\n",
       "      <td>Doctor Strange</td>\n",
       "      <td>Adventure</td>\n",
       "      <td>PG-13</td>\n",
       "      <td>232532923</td>\n",
       "      <td>232532923</td>\n",
       "      <td>2016</td>\n",
       "    </tr>\n",
       "    <tr>\n",
       "      <th>577</th>\n",
       "      <td>Moana</td>\n",
       "      <td>Adventure</td>\n",
       "      <td>PG</td>\n",
       "      <td>246082029</td>\n",
       "      <td>246082029</td>\n",
       "      <td>2016</td>\n",
       "    </tr>\n",
       "    <tr>\n",
       "      <th>578</th>\n",
       "      <td>Rogue One: A Star Wars Story</td>\n",
       "      <td>Adventure</td>\n",
       "      <td>PG-13</td>\n",
       "      <td>529483936</td>\n",
       "      <td>529483936</td>\n",
       "      <td>2016</td>\n",
       "    </tr>\n",
       "  </tbody>\n",
       "</table>\n",
       "<p>579 rows × 6 columns</p>\n",
       "</div>"
      ],
      "text/plain": [
       "                         movie_title      genre MPAA_rating  total_gross  \\\n",
       "0    Snow White and the Seven Dwarfs    Musical           G    184925485   \n",
       "1                          Pinocchio  Adventure           G     84300000   \n",
       "2                           Fantasia    Musical           G     83320000   \n",
       "3                  Song of the South  Adventure           G     65000000   \n",
       "4                  Cinderella (1950)      Drama           G     85000000   \n",
       "..                               ...        ...         ...          ...   \n",
       "574         The Light Between Oceans      Drama       PG-13     12545979   \n",
       "575                   Queen of Katwe      Drama          PG      8874389   \n",
       "576                   Doctor Strange  Adventure       PG-13    232532923   \n",
       "577                            Moana  Adventure          PG    246082029   \n",
       "578     Rogue One: A Star Wars Story  Adventure       PG-13    529483936   \n",
       "\n",
       "     adjusted_gross  year  \n",
       "0        5228953251  1937  \n",
       "1        2188229052  1940  \n",
       "2        2187090808  1940  \n",
       "3        1078510579  1946  \n",
       "4         920608730  1950  \n",
       "..              ...   ...  \n",
       "574        12545979  2016  \n",
       "575         8874389  2016  \n",
       "576       232532923  2016  \n",
       "577       246082029  2016  \n",
       "578       529483936  2016  \n",
       "\n",
       "[579 rows x 6 columns]"
      ]
     },
     "execution_count": 314,
     "metadata": {},
     "output_type": "execute_result"
    }
   ],
   "source": [
    "disney_movies = bpd.read_csv('data/disney.csv')\n",
    "disney_movies"
   ]
  },
  {
   "cell_type": "code",
   "execution_count": 315,
   "metadata": {
    "deletable": false,
    "editable": false
   },
   "outputs": [
    {
     "data": {
      "text/html": [
       "<p><strong><pre style='display: inline;'>q7_1</pre></strong> passed!</p>"
      ],
      "text/plain": [
       "q7_1 results: All test cases passed!"
      ]
     },
     "execution_count": 315,
     "metadata": {},
     "output_type": "execute_result"
    }
   ],
   "source": [
    "grader.check(\"q7_1\")"
   ]
  },
  {
   "cell_type": "markdown",
   "metadata": {},
   "source": [
    "**Question 7.2.** Since the values in `'total_gross'` are so large, let's add a column to `disney_movies` called `'total_gross_millions'` that contains the total box office revenue **in millions of dollars**. Similarly, create a column called `'adjusted_gross_millions'` with the inflation-adjusted amounts in millions of dollars. Do not round. Finally, drop the original `'total_gross'` and `'adjusted_gross'` columns. "
   ]
  },
  {
   "cell_type": "code",
   "execution_count": 316,
   "metadata": {},
   "outputs": [
    {
     "data": {
      "text/html": [
       "<div>\n",
       "<style scoped>\n",
       "    .dataframe tbody tr th:only-of-type {\n",
       "        vertical-align: middle;\n",
       "    }\n",
       "\n",
       "    .dataframe tbody tr th {\n",
       "        vertical-align: top;\n",
       "    }\n",
       "\n",
       "    .dataframe thead th {\n",
       "        text-align: right;\n",
       "    }\n",
       "</style>\n",
       "<table border=\"1\" class=\"dataframe\">\n",
       "  <thead>\n",
       "    <tr style=\"text-align: right;\">\n",
       "      <th></th>\n",
       "      <th>movie_title</th>\n",
       "      <th>genre</th>\n",
       "      <th>MPAA_rating</th>\n",
       "      <th>year</th>\n",
       "      <th>total_gross_millions</th>\n",
       "      <th>adjusted_gross_millions</th>\n",
       "    </tr>\n",
       "  </thead>\n",
       "  <tbody>\n",
       "    <tr>\n",
       "      <th>0</th>\n",
       "      <td>Snow White and the Seven Dwarfs</td>\n",
       "      <td>Musical</td>\n",
       "      <td>G</td>\n",
       "      <td>1937</td>\n",
       "      <td>184.925485</td>\n",
       "      <td>5228.953251</td>\n",
       "    </tr>\n",
       "    <tr>\n",
       "      <th>1</th>\n",
       "      <td>Pinocchio</td>\n",
       "      <td>Adventure</td>\n",
       "      <td>G</td>\n",
       "      <td>1940</td>\n",
       "      <td>84.300000</td>\n",
       "      <td>2188.229052</td>\n",
       "    </tr>\n",
       "    <tr>\n",
       "      <th>2</th>\n",
       "      <td>Fantasia</td>\n",
       "      <td>Musical</td>\n",
       "      <td>G</td>\n",
       "      <td>1940</td>\n",
       "      <td>83.320000</td>\n",
       "      <td>2187.090808</td>\n",
       "    </tr>\n",
       "    <tr>\n",
       "      <th>3</th>\n",
       "      <td>Song of the South</td>\n",
       "      <td>Adventure</td>\n",
       "      <td>G</td>\n",
       "      <td>1946</td>\n",
       "      <td>65.000000</td>\n",
       "      <td>1078.510579</td>\n",
       "    </tr>\n",
       "    <tr>\n",
       "      <th>4</th>\n",
       "      <td>Cinderella (1950)</td>\n",
       "      <td>Drama</td>\n",
       "      <td>G</td>\n",
       "      <td>1950</td>\n",
       "      <td>85.000000</td>\n",
       "      <td>920.608730</td>\n",
       "    </tr>\n",
       "    <tr>\n",
       "      <th>...</th>\n",
       "      <td>...</td>\n",
       "      <td>...</td>\n",
       "      <td>...</td>\n",
       "      <td>...</td>\n",
       "      <td>...</td>\n",
       "      <td>...</td>\n",
       "    </tr>\n",
       "    <tr>\n",
       "      <th>574</th>\n",
       "      <td>The Light Between Oceans</td>\n",
       "      <td>Drama</td>\n",
       "      <td>PG-13</td>\n",
       "      <td>2016</td>\n",
       "      <td>12.545979</td>\n",
       "      <td>12.545979</td>\n",
       "    </tr>\n",
       "    <tr>\n",
       "      <th>575</th>\n",
       "      <td>Queen of Katwe</td>\n",
       "      <td>Drama</td>\n",
       "      <td>PG</td>\n",
       "      <td>2016</td>\n",
       "      <td>8.874389</td>\n",
       "      <td>8.874389</td>\n",
       "    </tr>\n",
       "    <tr>\n",
       "      <th>576</th>\n",
       "      <td>Doctor Strange</td>\n",
       "      <td>Adventure</td>\n",
       "      <td>PG-13</td>\n",
       "      <td>2016</td>\n",
       "      <td>232.532923</td>\n",
       "      <td>232.532923</td>\n",
       "    </tr>\n",
       "    <tr>\n",
       "      <th>577</th>\n",
       "      <td>Moana</td>\n",
       "      <td>Adventure</td>\n",
       "      <td>PG</td>\n",
       "      <td>2016</td>\n",
       "      <td>246.082029</td>\n",
       "      <td>246.082029</td>\n",
       "    </tr>\n",
       "    <tr>\n",
       "      <th>578</th>\n",
       "      <td>Rogue One: A Star Wars Story</td>\n",
       "      <td>Adventure</td>\n",
       "      <td>PG-13</td>\n",
       "      <td>2016</td>\n",
       "      <td>529.483936</td>\n",
       "      <td>529.483936</td>\n",
       "    </tr>\n",
       "  </tbody>\n",
       "</table>\n",
       "<p>579 rows × 6 columns</p>\n",
       "</div>"
      ],
      "text/plain": [
       "                         movie_title      genre MPAA_rating  year  \\\n",
       "0    Snow White and the Seven Dwarfs    Musical           G  1937   \n",
       "1                          Pinocchio  Adventure           G  1940   \n",
       "2                           Fantasia    Musical           G  1940   \n",
       "3                  Song of the South  Adventure           G  1946   \n",
       "4                  Cinderella (1950)      Drama           G  1950   \n",
       "..                               ...        ...         ...   ...   \n",
       "574         The Light Between Oceans      Drama       PG-13  2016   \n",
       "575                   Queen of Katwe      Drama          PG  2016   \n",
       "576                   Doctor Strange  Adventure       PG-13  2016   \n",
       "577                            Moana  Adventure          PG  2016   \n",
       "578     Rogue One: A Star Wars Story  Adventure       PG-13  2016   \n",
       "\n",
       "     total_gross_millions  adjusted_gross_millions  \n",
       "0              184.925485              5228.953251  \n",
       "1               84.300000              2188.229052  \n",
       "2               83.320000              2187.090808  \n",
       "3               65.000000              1078.510579  \n",
       "4               85.000000               920.608730  \n",
       "..                    ...                      ...  \n",
       "574             12.545979                12.545979  \n",
       "575              8.874389                 8.874389  \n",
       "576            232.532923               232.532923  \n",
       "577            246.082029               246.082029  \n",
       "578            529.483936               529.483936  \n",
       "\n",
       "[579 rows x 6 columns]"
      ]
     },
     "execution_count": 316,
     "metadata": {},
     "output_type": "execute_result"
    }
   ],
   "source": [
    "disney_movies = disney_movies.assign(total_gross_millions = (disney_movies.get('total_gross'))*10**-6) #/(10**6))\n",
    "disney_movies = disney_movies.assign(adjusted_gross_millions = (disney_movies.get('adjusted_gross'))*10**-6)\n",
    "disney_movies = disney_movies.drop(columns= ['adjusted_gross','total_gross'])\n",
    "disney_movies"
   ]
  },
  {
   "cell_type": "code",
   "execution_count": 317,
   "metadata": {
    "deletable": false,
    "editable": false
   },
   "outputs": [
    {
     "data": {
      "text/html": [
       "<p><strong><pre style='display: inline;'>q7_2</pre></strong> passed!</p>"
      ],
      "text/plain": [
       "q7_2 results: All test cases passed!"
      ]
     },
     "execution_count": 317,
     "metadata": {},
     "output_type": "execute_result"
    }
   ],
   "source": [
    "grader.check(\"q7_2\")"
   ]
  },
  {
   "cell_type": "markdown",
   "metadata": {},
   "source": [
    "**Question 7.3.** Create a new DataFrame, called `disney`, by setting the index of `disney_movies` to `'movie_title'`. Don't change `disney_movies`."
   ]
  },
  {
   "cell_type": "code",
   "execution_count": 318,
   "metadata": {
    "scrolled": true
   },
   "outputs": [
    {
     "data": {
      "text/html": [
       "<div>\n",
       "<style scoped>\n",
       "    .dataframe tbody tr th:only-of-type {\n",
       "        vertical-align: middle;\n",
       "    }\n",
       "\n",
       "    .dataframe tbody tr th {\n",
       "        vertical-align: top;\n",
       "    }\n",
       "\n",
       "    .dataframe thead th {\n",
       "        text-align: right;\n",
       "    }\n",
       "</style>\n",
       "<table border=\"1\" class=\"dataframe\">\n",
       "  <thead>\n",
       "    <tr style=\"text-align: right;\">\n",
       "      <th></th>\n",
       "      <th>genre</th>\n",
       "      <th>MPAA_rating</th>\n",
       "      <th>year</th>\n",
       "      <th>total_gross_millions</th>\n",
       "      <th>adjusted_gross_millions</th>\n",
       "    </tr>\n",
       "    <tr>\n",
       "      <th>movie_title</th>\n",
       "      <th></th>\n",
       "      <th></th>\n",
       "      <th></th>\n",
       "      <th></th>\n",
       "      <th></th>\n",
       "    </tr>\n",
       "  </thead>\n",
       "  <tbody>\n",
       "    <tr>\n",
       "      <th>Snow White and the Seven Dwarfs</th>\n",
       "      <td>Musical</td>\n",
       "      <td>G</td>\n",
       "      <td>1937</td>\n",
       "      <td>184.925485</td>\n",
       "      <td>5228.953251</td>\n",
       "    </tr>\n",
       "    <tr>\n",
       "      <th>Pinocchio</th>\n",
       "      <td>Adventure</td>\n",
       "      <td>G</td>\n",
       "      <td>1940</td>\n",
       "      <td>84.300000</td>\n",
       "      <td>2188.229052</td>\n",
       "    </tr>\n",
       "    <tr>\n",
       "      <th>Fantasia</th>\n",
       "      <td>Musical</td>\n",
       "      <td>G</td>\n",
       "      <td>1940</td>\n",
       "      <td>83.320000</td>\n",
       "      <td>2187.090808</td>\n",
       "    </tr>\n",
       "    <tr>\n",
       "      <th>Song of the South</th>\n",
       "      <td>Adventure</td>\n",
       "      <td>G</td>\n",
       "      <td>1946</td>\n",
       "      <td>65.000000</td>\n",
       "      <td>1078.510579</td>\n",
       "    </tr>\n",
       "    <tr>\n",
       "      <th>Cinderella (1950)</th>\n",
       "      <td>Drama</td>\n",
       "      <td>G</td>\n",
       "      <td>1950</td>\n",
       "      <td>85.000000</td>\n",
       "      <td>920.608730</td>\n",
       "    </tr>\n",
       "    <tr>\n",
       "      <th>...</th>\n",
       "      <td>...</td>\n",
       "      <td>...</td>\n",
       "      <td>...</td>\n",
       "      <td>...</td>\n",
       "      <td>...</td>\n",
       "    </tr>\n",
       "    <tr>\n",
       "      <th>The Light Between Oceans</th>\n",
       "      <td>Drama</td>\n",
       "      <td>PG-13</td>\n",
       "      <td>2016</td>\n",
       "      <td>12.545979</td>\n",
       "      <td>12.545979</td>\n",
       "    </tr>\n",
       "    <tr>\n",
       "      <th>Queen of Katwe</th>\n",
       "      <td>Drama</td>\n",
       "      <td>PG</td>\n",
       "      <td>2016</td>\n",
       "      <td>8.874389</td>\n",
       "      <td>8.874389</td>\n",
       "    </tr>\n",
       "    <tr>\n",
       "      <th>Doctor Strange</th>\n",
       "      <td>Adventure</td>\n",
       "      <td>PG-13</td>\n",
       "      <td>2016</td>\n",
       "      <td>232.532923</td>\n",
       "      <td>232.532923</td>\n",
       "    </tr>\n",
       "    <tr>\n",
       "      <th>Moana</th>\n",
       "      <td>Adventure</td>\n",
       "      <td>PG</td>\n",
       "      <td>2016</td>\n",
       "      <td>246.082029</td>\n",
       "      <td>246.082029</td>\n",
       "    </tr>\n",
       "    <tr>\n",
       "      <th>Rogue One: A Star Wars Story</th>\n",
       "      <td>Adventure</td>\n",
       "      <td>PG-13</td>\n",
       "      <td>2016</td>\n",
       "      <td>529.483936</td>\n",
       "      <td>529.483936</td>\n",
       "    </tr>\n",
       "  </tbody>\n",
       "</table>\n",
       "<p>579 rows × 5 columns</p>\n",
       "</div>"
      ],
      "text/plain": [
       "                                     genre MPAA_rating  year  \\\n",
       "movie_title                                                    \n",
       "Snow White and the Seven Dwarfs    Musical           G  1937   \n",
       "Pinocchio                        Adventure           G  1940   \n",
       "Fantasia                           Musical           G  1940   \n",
       "Song of the South                Adventure           G  1946   \n",
       "Cinderella (1950)                    Drama           G  1950   \n",
       "...                                    ...         ...   ...   \n",
       "The Light Between Oceans             Drama       PG-13  2016   \n",
       "Queen of Katwe                       Drama          PG  2016   \n",
       "Doctor Strange                   Adventure       PG-13  2016   \n",
       "Moana                            Adventure          PG  2016   \n",
       "Rogue One: A Star Wars Story     Adventure       PG-13  2016   \n",
       "\n",
       "                                 total_gross_millions  adjusted_gross_millions  \n",
       "movie_title                                                                     \n",
       "Snow White and the Seven Dwarfs            184.925485              5228.953251  \n",
       "Pinocchio                                   84.300000              2188.229052  \n",
       "Fantasia                                    83.320000              2187.090808  \n",
       "Song of the South                           65.000000              1078.510579  \n",
       "Cinderella (1950)                           85.000000               920.608730  \n",
       "...                                               ...                      ...  \n",
       "The Light Between Oceans                    12.545979                12.545979  \n",
       "Queen of Katwe                               8.874389                 8.874389  \n",
       "Doctor Strange                             232.532923               232.532923  \n",
       "Moana                                      246.082029               246.082029  \n",
       "Rogue One: A Star Wars Story               529.483936               529.483936  \n",
       "\n",
       "[579 rows x 5 columns]"
      ]
     },
     "execution_count": 318,
     "metadata": {},
     "output_type": "execute_result"
    }
   ],
   "source": [
    "disney = disney_movies.set_index(\"movie_title\")\n",
    "disney"
   ]
  },
  {
   "cell_type": "code",
   "execution_count": 319,
   "metadata": {
    "deletable": false,
    "editable": false
   },
   "outputs": [
    {
     "data": {
      "text/html": [
       "<p><strong><pre style='display: inline;'>q7_3</pre></strong> passed!</p>"
      ],
      "text/plain": [
       "q7_3 results: All test cases passed!"
      ]
     },
     "execution_count": 319,
     "metadata": {},
     "output_type": "execute_result"
    }
   ],
   "source": [
    "grader.check(\"q7_3\")"
   ]
  },
  {
   "cell_type": "markdown",
   "metadata": {},
   "source": [
    "You should think about why we've chosen to set the index to `'movie_title'`, instead of any other column. \n",
    "\n",
    "We'll use the newly created `disney` DataFrame for the rest of the questions in this section."
   ]
  },
  {
   "cell_type": "markdown",
   "metadata": {},
   "source": [
    "**Question 7.4.** Time for some movie trivia! What genre is the movie `'Finding Nemo'` 🐠 and in what year was it released? Assign your answers to `nemo_genre` and `nemo_year`, respectively.\n",
    "\n",
    "Don't type in the answers by hand; get Python to extract this information for you."
   ]
  },
  {
   "cell_type": "code",
   "execution_count": 320,
   "metadata": {},
   "outputs": [
    {
     "name": "stdout",
     "output_type": "stream",
     "text": [
      "Genre Adventure\n",
      "Year: 2003\n"
     ]
    }
   ],
   "source": [
    "nemo_genre = disney.loc['Finding Nemo'].get('genre')\n",
    "nemo_year  = disney.loc[\"Finding Nemo\"].get(\"year\")\n",
    "\n",
    "# Don't change the lines below.\n",
    "print('Genre', nemo_genre)\n",
    "print('Year:', nemo_year)"
   ]
  },
  {
   "cell_type": "code",
   "execution_count": 321,
   "metadata": {
    "deletable": false,
    "editable": false
   },
   "outputs": [
    {
     "data": {
      "text/html": [
       "<p><strong><pre style='display: inline;'>q7_4</pre></strong> passed!</p>"
      ],
      "text/plain": [
       "q7_4 results: All test cases passed!"
      ]
     },
     "execution_count": 321,
     "metadata": {},
     "output_type": "execute_result"
    }
   ],
   "source": [
    "grader.check(\"q7_4\")"
   ]
  },
  {
   "cell_type": "markdown",
   "metadata": {},
   "source": [
    "**Question 7.5.** Disney has produced many successful films over the years. Find the number of movies with an adjusted box office revenue of over 100 million dollars. Assign your answer to `disney_100m`."
   ]
  },
  {
   "cell_type": "code",
   "execution_count": 322,
   "metadata": {},
   "outputs": [
    {
     "data": {
      "text/plain": [
       "179"
      ]
     },
     "execution_count": 322,
     "metadata": {},
     "output_type": "execute_result"
    }
   ],
   "source": [
    "disney_100m = disney[disney.get(\"adjusted_gross_millions\")>100].shape[0]\n",
    "disney_100m"
   ]
  },
  {
   "cell_type": "code",
   "execution_count": 323,
   "metadata": {
    "deletable": false,
    "editable": false
   },
   "outputs": [
    {
     "data": {
      "text/html": [
       "<p><strong><pre style='display: inline;'>q7_5</pre></strong> passed!</p>"
      ],
      "text/plain": [
       "q7_5 results: All test cases passed!"
      ]
     },
     "execution_count": 323,
     "metadata": {},
     "output_type": "execute_result"
    }
   ],
   "source": [
    "grader.check(\"q7_5\")"
   ]
  },
  {
   "cell_type": "markdown",
   "metadata": {},
   "source": [
    "**Question 7.6.** Assign `fifth_highest_revenue` to the fifth-highest value of `'adjusted_gross_millions'`. Assign `fifth_highest_name` to the name of the movie with the fifth-highest adjusted revenue.\n",
    "\n",
    "Again, don't type in these values by hand; get Python to extract this information for you.\n",
    "\n",
    "**_Note:_** Remember that you can perform intermediate steps by adding new cells above the provided ones, or by adding in additional lines of code."
   ]
  },
  {
   "cell_type": "markdown",
   "metadata": {},
   "source": [
    "# ! Had a lot of trouble on this one, i kept getting a series and now the individual name"
   ]
  },
  {
   "cell_type": "code",
   "execution_count": 324,
   "metadata": {
    "scrolled": true
   },
   "outputs": [
    {
     "name": "stdout",
     "output_type": "stream",
     "text": [
      "Revenue: 1236.035515 million dollars\n",
      "Name: Lady and the Tramp\n"
     ]
    }
   ],
   "source": [
    "fifth_highest_revenue = disney.sort_values(by= \"adjusted_gross_millions\", ascending=False).get(\"adjusted_gross_millions\").loc['Lady and the Tramp']\n",
    "fifth_highest_name = disney.sort_values(by= \"adjusted_gross_millions\", ascending=False).index[4]\n",
    "\n",
    "# Don't change the lines below.\n",
    "print('Revenue:', fifth_highest_revenue, 'million dollars')\n",
    "print('Name:', fifth_highest_name)"
   ]
  },
  {
   "cell_type": "code",
   "execution_count": 325,
   "metadata": {
    "deletable": false,
    "editable": false
   },
   "outputs": [
    {
     "data": {
      "text/html": [
       "<p><strong><pre style='display: inline;'>q7_6</pre></strong> passed!</p>"
      ],
      "text/plain": [
       "q7_6 results: All test cases passed!"
      ]
     },
     "execution_count": 325,
     "metadata": {},
     "output_type": "execute_result"
    }
   ],
   "source": [
    "grader.check(\"q7_6\")"
   ]
  },
  {
   "cell_type": "markdown",
   "metadata": {},
   "source": [
    "**Question 7.7.** Disney is known for making movies for children, many of which are rated G for \"general audiences\". Let's see how much money Disney has earned in total across all of its G-rated movies. Find the sum of the `'total_gross_millions'` column for G-rated movies only, and assign your answer to `g_revenue`."
   ]
  },
  {
   "cell_type": "code",
   "execution_count": 326,
   "metadata": {},
   "outputs": [
    {
     "data": {
      "text/plain": [
       "7919.792692999999"
      ]
     },
     "execution_count": 326,
     "metadata": {},
     "output_type": "execute_result"
    }
   ],
   "source": [
    "g_revenue = disney[disney.get(\"MPAA_rating\")== \"G\"].get('total_gross_millions').sum()\n",
    "g_revenue"
   ]
  },
  {
   "cell_type": "code",
   "execution_count": 327,
   "metadata": {
    "deletable": false,
    "editable": false
   },
   "outputs": [
    {
     "data": {
      "text/html": [
       "<p><strong><pre style='display: inline;'>q7_7</pre></strong> passed!</p>"
      ],
      "text/plain": [
       "q7_7 results: All test cases passed!"
      ]
     },
     "execution_count": 327,
     "metadata": {},
     "output_type": "execute_result"
    }
   ],
   "source": [
    "grader.check(\"q7_7\")"
   ]
  },
  {
   "cell_type": "markdown",
   "metadata": {},
   "source": [
    "**Question 7.8.** Finally, let's see which genres are most popular by seeing how much money movies from each genre earn on average. Create a DataFrame called `revenue_by_genre` that is indexed by `'genre'` and contains just one column, called `'adjusted_gross_millions'`, which contains the average adjusted box office revenue of all movies from a given genre. Order the rows of `revenue_by_genre` in descending order of `'adjusted_gross_millions'` to see what genres Disney does best! 🎵\n",
    "\n",
    "**_Hint:_** Our solution for this question used only one line of code (thanks, `groupby`)!"
   ]
  },
  {
   "cell_type": "code",
   "execution_count": 328,
   "metadata": {},
   "outputs": [
    {
     "data": {
      "text/html": [
       "<div>\n",
       "<style scoped>\n",
       "    .dataframe tbody tr th:only-of-type {\n",
       "        vertical-align: middle;\n",
       "    }\n",
       "\n",
       "    .dataframe tbody tr th {\n",
       "        vertical-align: top;\n",
       "    }\n",
       "\n",
       "    .dataframe thead th {\n",
       "        text-align: right;\n",
       "    }\n",
       "</style>\n",
       "<table border=\"1\" class=\"dataframe\">\n",
       "  <thead>\n",
       "    <tr style=\"text-align: right;\">\n",
       "      <th></th>\n",
       "      <th>adjusted_gross_millions</th>\n",
       "    </tr>\n",
       "    <tr>\n",
       "      <th>genre</th>\n",
       "      <th></th>\n",
       "    </tr>\n",
       "  </thead>\n",
       "  <tbody>\n",
       "    <tr>\n",
       "      <th>Musical</th>\n",
       "      <td>603.597861</td>\n",
       "    </tr>\n",
       "    <tr>\n",
       "      <th>Adventure</th>\n",
       "      <td>190.397412</td>\n",
       "    </tr>\n",
       "    <tr>\n",
       "      <th>Action</th>\n",
       "      <td>137.473420</td>\n",
       "    </tr>\n",
       "    <tr>\n",
       "      <th>Thriller/Suspense</th>\n",
       "      <td>89.653790</td>\n",
       "    </tr>\n",
       "    <tr>\n",
       "      <th>Comedy</th>\n",
       "      <td>84.667730</td>\n",
       "    </tr>\n",
       "    <tr>\n",
       "      <th>...</th>\n",
       "      <td>...</td>\n",
       "    </tr>\n",
       "    <tr>\n",
       "      <th>Concert/Performance</th>\n",
       "      <td>57.410839</td>\n",
       "    </tr>\n",
       "    <tr>\n",
       "      <th>Black Comedy</th>\n",
       "      <td>52.243492</td>\n",
       "    </tr>\n",
       "    <tr>\n",
       "      <th>Horror</th>\n",
       "      <td>23.413849</td>\n",
       "    </tr>\n",
       "    <tr>\n",
       "      <th>Unavailable</th>\n",
       "      <td>21.623728</td>\n",
       "    </tr>\n",
       "    <tr>\n",
       "      <th>Documentary</th>\n",
       "      <td>12.718026</td>\n",
       "    </tr>\n",
       "  </tbody>\n",
       "</table>\n",
       "<p>13 rows × 1 columns</p>\n",
       "</div>"
      ],
      "text/plain": [
       "                     adjusted_gross_millions\n",
       "genre                                       \n",
       "Musical                           603.597861\n",
       "Adventure                         190.397412\n",
       "Action                            137.473420\n",
       "Thriller/Suspense                  89.653790\n",
       "Comedy                             84.667730\n",
       "...                                      ...\n",
       "Concert/Performance                57.410839\n",
       "Black Comedy                       52.243492\n",
       "Horror                             23.413849\n",
       "Unavailable                        21.623728\n",
       "Documentary                        12.718026\n",
       "\n",
       "[13 rows x 1 columns]"
      ]
     },
     "execution_count": 328,
     "metadata": {},
     "output_type": "execute_result"
    }
   ],
   "source": [
    "revenue_by_genre = (disney.groupby(\"genre\").mean()\n",
    "                    .get([\"adjusted_gross_millions\"])\n",
    "                    .sort_values(by= \"adjusted_gross_millions\",ascending=False)\n",
    "                   )\n",
    "revenue_by_genre"
   ]
  },
  {
   "cell_type": "code",
   "execution_count": 329,
   "metadata": {
    "deletable": false,
    "editable": false
   },
   "outputs": [
    {
     "data": {
      "text/html": [
       "<p><strong><pre style='display: inline;'>q7_8</pre></strong> passed!</p>"
      ],
      "text/plain": [
       "q7_8 results: All test cases passed!"
      ]
     },
     "execution_count": 329,
     "metadata": {},
     "output_type": "execute_result"
    }
   ],
   "source": [
    "grader.check(\"q7_8\")"
   ]
  },
  {
   "cell_type": "markdown",
   "metadata": {},
   "source": [
    "## Finish Line: Almost there, but make sure to follow the steps below to submit! 🏁\n",
    "\n",
    "**_Citations:_** Did you use any generative artificial intelligence tools to assist you on this assignment? If so, please state, for each tool you used, the name of the tool (ex. ChatGPT) and the problem(s) in this assignment where you used the tool for help."
   ]
  },
  {
   "cell_type": "markdown",
   "metadata": {},
   "source": [
    "<hr style=\"color:Maroon;background-color:Maroon;border:0 none; height: 3px;\">\n",
    "\n",
    "Please cite tools here.\n",
    "\n",
    "<hr style=\"color:Maroon;background-color:Maroon;border:0 none; height: 3px;\">"
   ]
  },
  {
   "cell_type": "markdown",
   "metadata": {},
   "source": [
    "To submit your assignment:\n",
    "\n",
    "1. Make sure to comment out the code in Question 2.1 that causes an error.\n",
    "1. Select `Kernel -> Restart & Run All` to ensure that you have executed all cells, including the test cells. \n",
    "1. Read through the notebook to make sure all cells ran and all tests passed.\n",
    "1. Run the cell below to run all tests, and make sure that they all pass.\n",
    "1. Download your notebook using `File -> Download as -> Notebook (.ipynb)`, then upload your notebook to Gradescope.\n",
    "1. Stick around while the Gradescope autograder grades your work. Make sure you see that all tests have passed on Gradescope.\n",
    "1. Check that you have a confirmation email from Gradescope and save it as proof of your submission. \n",
    "\n",
    "With homeworks, unlike with labs, the grade you see on Gradescope is **not your final score**. We will run correctness tests after the assignment's due date has passed."
   ]
  },
  {
   "cell_type": "code",
   "execution_count": 330,
   "metadata": {
    "scrolled": true
   },
   "outputs": [
    {
     "data": {
      "text/plain": [
       "q1_1 results: All test cases passed!\n",
       "\n",
       "q1_2 results: All test cases passed!\n",
       "\n",
       "q1_3 results: All test cases passed!\n",
       "\n",
       "q1_4 results: All test cases passed!\n",
       "\n",
       "q2_1 results: All test cases passed!\n",
       "\n",
       "q2_2 results: All test cases passed!\n",
       "\n",
       "q3_1 results: All test cases passed!\n",
       "\n",
       "q3_2 results: All test cases passed!\n",
       "\n",
       "q3_3 results: All test cases passed!\n",
       "\n",
       "q4_1 results: All test cases passed!\n",
       "\n",
       "q4_2 results: All test cases passed!\n",
       "\n",
       "q4_3 results: All test cases passed!\n",
       "\n",
       "q5_1 results: All test cases passed!\n",
       "\n",
       "q5_2 results: All test cases passed!\n",
       "\n",
       "q5_3 results: All test cases passed!\n",
       "\n",
       "q5_4 results: All test cases passed!\n",
       "\n",
       "q5_5 results: All test cases passed!\n",
       "\n",
       "q5_6 results: All test cases passed!\n",
       "\n",
       "q6_1 results: All test cases passed!\n",
       "\n",
       "q6_2 results: All test cases passed!\n",
       "\n",
       "q6_3 results: All test cases passed!\n",
       "\n",
       "q7_1 results: All test cases passed!\n",
       "\n",
       "q7_2 results: All test cases passed!\n",
       "\n",
       "q7_3 results: All test cases passed!\n",
       "\n",
       "q7_4 results: All test cases passed!\n",
       "\n",
       "q7_5 results: All test cases passed!\n",
       "\n",
       "q7_6 results: All test cases passed!\n",
       "\n",
       "q7_7 results: All test cases passed!\n",
       "\n",
       "q7_8 results: All test cases passed!"
      ]
     },
     "execution_count": 330,
     "metadata": {},
     "output_type": "execute_result"
    }
   ],
   "source": [
    "grader.check_all()"
   ]
  }
 ],
 "metadata": {
  "kernelspec": {
   "display_name": "Python 3 (ipykernel)",
   "language": "python",
   "name": "python3"
  },
  "language_info": {
   "codemirror_mode": {
    "name": "ipython",
    "version": 3
   },
   "file_extension": ".py",
   "mimetype": "text/x-python",
   "name": "python",
   "nbconvert_exporter": "python",
   "pygments_lexer": "ipython3",
   "version": "3.9.5"
  }
 },
 "nbformat": 4,
 "nbformat_minor": 4
}
