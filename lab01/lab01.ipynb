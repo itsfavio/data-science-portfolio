{
 "cells": [
  {
   "cell_type": "markdown",
   "metadata": {},
   "source": [
    "# Lab 1: Arrays and DataFrames\n",
    "\n",
    "## Due Thursday, October 10th at 11:59PM\n",
    "\n",
    "Welcome to Lab 1!  This week, we'll learn about arrays, which allow us to store sequences of data, and DataFrames, which let us work with multiple arrays of data about the same things. These topics are covered in [BPD 7-10](https://notes.dsc10.com/02-data_sets/arrays.html) in the `babypandas` notes. You should complete this entire lab so that all tests pass and submit it to Gradescope by 11:59PM on the due date.\n",
    "\n",
    "\n",
    "**Please do not use for-loops for any questions in this lab.** If you don't know what a for-loop is, don't worry – we haven't covered them yet. But if you do know what they are and are wondering why it's not OK to use them, it is because loops in Python are slow, and looping over arrays and DataFrames should usually be avoided.\n",
    "\n",
    "First, set up the imports we'll need by running the cell below."
   ]
  },
  {
   "cell_type": "code",
   "execution_count": 125,
   "metadata": {},
   "outputs": [],
   "source": [
    "import numpy as np\n",
    "import babypandas as bpd\n",
    "\n",
    "import otter\n",
    "grader = otter.Notebook()"
   ]
  },
  {
   "cell_type": "markdown",
   "metadata": {},
   "source": [
    "# 1. Arrays\n",
    "\n",
    "Computers are most useful when you can use a small amount of code to *do the same action* to *many different things*.\n",
    "\n",
    "For example, in the time it takes you to calculate the 18% tip on a restaurant bill, a laptop can calculate 18% tips for every restaurant bill paid by every human on Earth that day.  (That is, if you're pretty fast at doing arithmetic in your head!)\n",
    "\n",
    "**Arrays** are how we put many values in one place so that we can operate on them as a group. For example, if `billions_of_numbers` is an array of numbers, the expression\n",
    "\n",
    "```py\n",
    "0.18 * billions_of_numbers\n",
    "```\n",
    "\n",
    "evaluates to a new array of numbers that's the result of multiplying each number in `billions_of_numbers` by 0.18 (18%).  Arrays are not limited to numbers; we can also put all the words in a book into an array of strings.\n",
    "\n",
    "Concretely, an array is a **collection of values of the same type**, like a column in a spreadsheet (think Google Sheets or Microsoft Excel). \n",
    "\n",
    "<img src=\"data/sheet_array.png\" width=600>"
   ]
  },
  {
   "cell_type": "markdown",
   "metadata": {},
   "source": [
    "## 1.1. Making arrays\n",
    "You can type in the data that goes in an array yourself, but that's not typically how we'll create arrays. Normally, we create arrays by loading them from an external source, like a data file.\n",
    "\n",
    "First, though, let's learn how to do it the hard way. To begin, we can make a **list** of numbers by putting them within square brackets and separating them by commas:"
   ]
  },
  {
   "cell_type": "code",
   "execution_count": 126,
   "metadata": {},
   "outputs": [
    {
     "data": {
      "text/plain": [
       "[14, -2.26, 0.15]"
      ]
     },
     "execution_count": 126,
     "metadata": {},
     "output_type": "execute_result"
    }
   ],
   "source": [
    "my_list = [14, -2.26, 0.15]\n",
    "my_list"
   ]
  },
  {
   "cell_type": "markdown",
   "metadata": {},
   "source": [
    "Just like `int`, `float`, and `str`, the `list` is a data type provided by Python. Lists are very flexible and easy to work with, but they are *slowwww* 🐢."
   ]
  },
  {
   "cell_type": "markdown",
   "metadata": {},
   "source": [
    "As data scientists, we'll often be working with millions or even billions of numbers. For this, we need something faster than a `list`. Instead of lists, we will use *arrays*. \n",
    "\n",
    "Arrays are provided by a package called [NumPy](http://www.numpy.org/) (pronounced \"NUM-pie\" or, if you prefer to pronounce things incorrectly, \"NUM-pee\").  The package is called `numpy`, but it's standard to rename it `np` for brevity.  You can do that with:\n",
    "\n",
    "    import numpy as np\n",
    "\n",
    "Data scientists, as well as engineers and scientists of all kinds, use `numpy` frequently, and you'll see quite a bit of it if you're a data science major."
   ]
  },
  {
   "cell_type": "code",
   "execution_count": 127,
   "metadata": {},
   "outputs": [],
   "source": [
    "import numpy as np"
   ]
  },
  {
   "cell_type": "markdown",
   "metadata": {},
   "source": [
    "Now, to create an array, call the function `np.array` with a list of numbers.  Run this cell to see an example:"
   ]
  },
  {
   "cell_type": "code",
   "execution_count": 128,
   "metadata": {},
   "outputs": [
    {
     "data": {
      "text/plain": [
       "array([14.  , -2.26,  0.15])"
      ]
     },
     "execution_count": 128,
     "metadata": {},
     "output_type": "execute_result"
    }
   ],
   "source": [
    "np.array([14, -2.26, 0.15])"
   ]
  },
  {
   "cell_type": "markdown",
   "metadata": {},
   "source": [
    "Note that you need the square-brackets here. If you were to try running the following code, Python would yell at you because you forgot them:\n",
    "\n",
    "```py\n",
    "np.array(14, -2.26, 0.15)\n",
    "```\n",
    "\n",
    "<img src='data/brackets.png' width=400>"
   ]
  },
  {
   "cell_type": "markdown",
   "metadata": {},
   "source": [
    "Arrays themselves are also values, just like numbers and strings.  That means you can assign them names or use them as arguments to functions.\n",
    "\n",
    "**Question 1.1.1.** Make an array containing the numbers 2, 4, and 6, in that order.  Name it `even_numbers`."
   ]
  },
  {
   "cell_type": "code",
   "execution_count": 129,
   "metadata": {},
   "outputs": [
    {
     "data": {
      "text/plain": [
       "array([2, 4, 6])"
      ]
     },
     "execution_count": 129,
     "metadata": {},
     "output_type": "execute_result"
    }
   ],
   "source": [
    "even_numbers = np.array([2,4,6])\n",
    "even_numbers"
   ]
  },
  {
   "cell_type": "code",
   "execution_count": 130,
   "metadata": {
    "deletable": false,
    "editable": false
   },
   "outputs": [
    {
     "data": {
      "text/html": [
       "<p><strong><pre style='display: inline;'>q1_1_1</pre></strong> passed!</p>"
      ],
      "text/plain": [
       "q1_1_1 results: All test cases passed!"
      ]
     },
     "execution_count": 130,
     "metadata": {},
     "output_type": "execute_result"
    }
   ],
   "source": [
    "grader.check(\"q1_1_1\")"
   ]
  },
  {
   "cell_type": "markdown",
   "metadata": {},
   "source": [
    "**Question 1.1.2.** Make an array containing the numbers 0, -1, 1, $\\pi$, and $e$, in that order.  Name it `odd_numbers`.\n",
    "\n",
    "**_Hint:_**  $\\pi$ and $e$ are available from the `np` module, which has already been imported. Just as you used `math.pi` to get $\\pi$ in the last lab, you can use `np.pi` to get $\\pi$ as well. **Do not** import the `math` module."
   ]
  },
  {
   "cell_type": "code",
   "execution_count": 131,
   "metadata": {},
   "outputs": [
    {
     "data": {
      "text/plain": [
       "array([ 0.        , -1.        ,  1.        ,  3.14159265,  2.71828183])"
      ]
     },
     "execution_count": 131,
     "metadata": {},
     "output_type": "execute_result"
    }
   ],
   "source": [
    "odd_numbers = np.array([0,-1,1,np.pi,np.e])\n",
    "odd_numbers"
   ]
  },
  {
   "cell_type": "code",
   "execution_count": 132,
   "metadata": {
    "deletable": false,
    "editable": false
   },
   "outputs": [
    {
     "data": {
      "text/html": [
       "<p><strong><pre style='display: inline;'>q1_1_2</pre></strong> passed!</p>"
      ],
      "text/plain": [
       "q1_1_2 results: All test cases passed!"
      ]
     },
     "execution_count": 132,
     "metadata": {},
     "output_type": "execute_result"
    }
   ],
   "source": [
    "grader.check(\"q1_1_2\")"
   ]
  },
  {
   "cell_type": "markdown",
   "metadata": {},
   "source": [
    "**Question 1.1.3.** Make an array containing the five strings `\"Hello\"`, `\",\"`, `\" \"`, `\"world\"`, and `\"!\"`.  (The third one is a single space inside quotes.)  Name it `hello_world_components`.\n",
    "\n",
    "*Note:* If you print `hello_world_components`, you'll notice some extra information in addition to its contents: `dtype='<U5'`.  That's just NumPy's extremely odd way of saying that the things in the array are strings. In case you're interested, the `U` means that this string is encoded in [unicode](https://en.wikipedia.org/wiki/Unicode), and the `<5` means all strings in the array are 5 characters long or less."
   ]
  },
  {
   "cell_type": "code",
   "execution_count": 133,
   "metadata": {},
   "outputs": [
    {
     "data": {
      "text/plain": [
       "array(['Hello', ',', ' ', 'world', '!'], dtype='<U5')"
      ]
     },
     "execution_count": 133,
     "metadata": {},
     "output_type": "execute_result"
    }
   ],
   "source": [
    "hello_world_components = np.array([\"Hello\", \",\", \" \", \"world\", \"!\" ])\n",
    "hello_world_components"
   ]
  },
  {
   "cell_type": "code",
   "execution_count": 134,
   "metadata": {
    "deletable": false,
    "editable": false
   },
   "outputs": [
    {
     "data": {
      "text/html": [
       "<p><strong><pre style='display: inline;'>q1_1_3</pre></strong> passed!</p>"
      ],
      "text/plain": [
       "q1_1_3 results: All test cases passed!"
      ]
     },
     "execution_count": 134,
     "metadata": {},
     "output_type": "execute_result"
    }
   ],
   "source": [
    "grader.check(\"q1_1_3\")"
   ]
  },
  {
   "cell_type": "markdown",
   "metadata": {},
   "source": [
    "Very often in data science, we want to work with many numbers that are evenly spaced within some range.  NumPy provides a special function for this called `arange`.  The expression `np.arange(start, stop, space)` produces an array with all the numbers starting at `start` and counting up by `space`, stopping **before** `stop` is reached.\n",
    "\n",
    "For example, the value of `np.arange(1, 8, 2)` is an array with elements 1, 3, 5, and 7 – it starts at 1 and counts up by 2, then stops before 8.  In other words, it makes the same array as `np.array([1, 3, 5, 7])`.\n",
    "\n",
    "`np.arange(4, 9, 1)` is an array with elements 4, 5, 6, 7, and 8.  (It doesn't contain 9 because `np.arange` stops *before* the stop value is reached.)\n",
    "\n",
    "**Question 1.1.4.** Use `np.arange` to create an array with all the multiples of 99 from 0 up to (**and including**) 9999.  (Its elements should be 0, 99, 198, 297, and so on.)"
   ]
  },
  {
   "cell_type": "code",
   "execution_count": 135,
   "metadata": {},
   "outputs": [
    {
     "data": {
      "text/plain": [
       "array([   0,   99,  198,  297,  396,  495,  594,  693,  792,  891,  990,\n",
       "       1089, 1188, 1287, 1386, 1485, 1584, 1683, 1782, 1881, 1980, 2079,\n",
       "       2178, 2277, 2376, 2475, 2574, 2673, 2772, 2871, 2970, 3069, 3168,\n",
       "       3267, 3366, 3465, 3564, 3663, 3762, 3861, 3960, 4059, 4158, 4257,\n",
       "       4356, 4455, 4554, 4653, 4752, 4851, 4950, 5049, 5148, 5247, 5346,\n",
       "       5445, 5544, 5643, 5742, 5841, 5940, 6039, 6138, 6237, 6336, 6435,\n",
       "       6534, 6633, 6732, 6831, 6930, 7029, 7128, 7227, 7326, 7425, 7524,\n",
       "       7623, 7722, 7821, 7920, 8019, 8118, 8217, 8316, 8415, 8514, 8613,\n",
       "       8712, 8811, 8910, 9009, 9108, 9207, 9306, 9405, 9504, 9603, 9702,\n",
       "       9801, 9900, 9999])"
      ]
     },
     "execution_count": 135,
     "metadata": {},
     "output_type": "execute_result"
    }
   ],
   "source": [
    "multiples_of_99 = np.arange(0,10000,99)\n",
    "multiples_of_99"
   ]
  },
  {
   "cell_type": "code",
   "execution_count": 136,
   "metadata": {
    "deletable": false,
    "editable": false
   },
   "outputs": [
    {
     "data": {
      "text/html": [
       "<p><strong><pre style='display: inline;'>q1_1_4</pre></strong> passed!</p>"
      ],
      "text/plain": [
       "q1_1_4 results: All test cases passed!"
      ]
     },
     "execution_count": 136,
     "metadata": {},
     "output_type": "execute_result"
    }
   ],
   "source": [
    "grader.check(\"q1_1_4\")"
   ]
  },
  {
   "cell_type": "markdown",
   "metadata": {},
   "source": [
    "##### Temperature readings 🌡️\n",
    "NOAA (the US National Oceanic and Atmospheric Administration) operates weather stations that measure surface temperatures at different sites around the United States.  The hourly readings are [publicly available](http://www.ncdc.noaa.gov/qclcd/QCLCD?prior=N).\n",
    "\n",
    "Suppose we download all the hourly data from the San Diego International Airport weather station for the month of September 2023. To analyze the data, we want to know when each reading was taken, but we find that the data doesn't include the timestamps of the readings (the time at which each one was taken).\n",
    "\n",
    "However, we know the first reading was taken at the first instant of September 2023 (midnight on September 1st) and each subsequent reading was taken exactly 1 hour after the last.\n",
    "\n",
    "**Question 1.1.5.** Create an array of the *time, in seconds, since the start of the month* at which each hourly reading was taken.  Name it `collection_times`.\n",
    "\n",
    "**_Hints:_** \n",
    "- There are 30 days in September, which is equivalent to ($30 \\times 24$) hours or ($30 \\times 24 \\times 60 \\times 60$) seconds.  \n",
    "- The `len` function works on arrays, too.  If your `collection_times` isn't passing the tests, check its length and make sure it has $30 \\times 24$ elements, since readings are taken hourly for 30 days."
   ]
  },
  {
   "cell_type": "code",
   "execution_count": 137,
   "metadata": {},
   "outputs": [
    {
     "data": {
      "text/plain": [
       "array([      0,    3600,    7200,   10800,   14400,   18000,   21600,\n",
       "         25200,   28800,   32400,   36000,   39600,   43200,   46800,\n",
       "         50400,   54000,   57600,   61200,   64800,   68400,   72000,\n",
       "         75600,   79200,   82800,   86400,   90000,   93600,   97200,\n",
       "        100800,  104400,  108000,  111600,  115200,  118800,  122400,\n",
       "        126000,  129600,  133200,  136800,  140400,  144000,  147600,\n",
       "        151200,  154800,  158400,  162000,  165600,  169200,  172800,\n",
       "        176400,  180000,  183600,  187200,  190800,  194400,  198000,\n",
       "        201600,  205200,  208800,  212400,  216000,  219600,  223200,\n",
       "        226800,  230400,  234000,  237600,  241200,  244800,  248400,\n",
       "        252000,  255600,  259200,  262800,  266400,  270000,  273600,\n",
       "        277200,  280800,  284400,  288000,  291600,  295200,  298800,\n",
       "        302400,  306000,  309600,  313200,  316800,  320400,  324000,\n",
       "        327600,  331200,  334800,  338400,  342000,  345600,  349200,\n",
       "        352800,  356400,  360000,  363600,  367200,  370800,  374400,\n",
       "        378000,  381600,  385200,  388800,  392400,  396000,  399600,\n",
       "        403200,  406800,  410400,  414000,  417600,  421200,  424800,\n",
       "        428400,  432000,  435600,  439200,  442800,  446400,  450000,\n",
       "        453600,  457200,  460800,  464400,  468000,  471600,  475200,\n",
       "        478800,  482400,  486000,  489600,  493200,  496800,  500400,\n",
       "        504000,  507600,  511200,  514800,  518400,  522000,  525600,\n",
       "        529200,  532800,  536400,  540000,  543600,  547200,  550800,\n",
       "        554400,  558000,  561600,  565200,  568800,  572400,  576000,\n",
       "        579600,  583200,  586800,  590400,  594000,  597600,  601200,\n",
       "        604800,  608400,  612000,  615600,  619200,  622800,  626400,\n",
       "        630000,  633600,  637200,  640800,  644400,  648000,  651600,\n",
       "        655200,  658800,  662400,  666000,  669600,  673200,  676800,\n",
       "        680400,  684000,  687600,  691200,  694800,  698400,  702000,\n",
       "        705600,  709200,  712800,  716400,  720000,  723600,  727200,\n",
       "        730800,  734400,  738000,  741600,  745200,  748800,  752400,\n",
       "        756000,  759600,  763200,  766800,  770400,  774000,  777600,\n",
       "        781200,  784800,  788400,  792000,  795600,  799200,  802800,\n",
       "        806400,  810000,  813600,  817200,  820800,  824400,  828000,\n",
       "        831600,  835200,  838800,  842400,  846000,  849600,  853200,\n",
       "        856800,  860400,  864000,  867600,  871200,  874800,  878400,\n",
       "        882000,  885600,  889200,  892800,  896400,  900000,  903600,\n",
       "        907200,  910800,  914400,  918000,  921600,  925200,  928800,\n",
       "        932400,  936000,  939600,  943200,  946800,  950400,  954000,\n",
       "        957600,  961200,  964800,  968400,  972000,  975600,  979200,\n",
       "        982800,  986400,  990000,  993600,  997200, 1000800, 1004400,\n",
       "       1008000, 1011600, 1015200, 1018800, 1022400, 1026000, 1029600,\n",
       "       1033200, 1036800, 1040400, 1044000, 1047600, 1051200, 1054800,\n",
       "       1058400, 1062000, 1065600, 1069200, 1072800, 1076400, 1080000,\n",
       "       1083600, 1087200, 1090800, 1094400, 1098000, 1101600, 1105200,\n",
       "       1108800, 1112400, 1116000, 1119600, 1123200, 1126800, 1130400,\n",
       "       1134000, 1137600, 1141200, 1144800, 1148400, 1152000, 1155600,\n",
       "       1159200, 1162800, 1166400, 1170000, 1173600, 1177200, 1180800,\n",
       "       1184400, 1188000, 1191600, 1195200, 1198800, 1202400, 1206000,\n",
       "       1209600, 1213200, 1216800, 1220400, 1224000, 1227600, 1231200,\n",
       "       1234800, 1238400, 1242000, 1245600, 1249200, 1252800, 1256400,\n",
       "       1260000, 1263600, 1267200, 1270800, 1274400, 1278000, 1281600,\n",
       "       1285200, 1288800, 1292400, 1296000, 1299600, 1303200, 1306800,\n",
       "       1310400, 1314000, 1317600, 1321200, 1324800, 1328400, 1332000,\n",
       "       1335600, 1339200, 1342800, 1346400, 1350000, 1353600, 1357200,\n",
       "       1360800, 1364400, 1368000, 1371600, 1375200, 1378800, 1382400,\n",
       "       1386000, 1389600, 1393200, 1396800, 1400400, 1404000, 1407600,\n",
       "       1411200, 1414800, 1418400, 1422000, 1425600, 1429200, 1432800,\n",
       "       1436400, 1440000, 1443600, 1447200, 1450800, 1454400, 1458000,\n",
       "       1461600, 1465200, 1468800, 1472400, 1476000, 1479600, 1483200,\n",
       "       1486800, 1490400, 1494000, 1497600, 1501200, 1504800, 1508400,\n",
       "       1512000, 1515600, 1519200, 1522800, 1526400, 1530000, 1533600,\n",
       "       1537200, 1540800, 1544400, 1548000, 1551600, 1555200, 1558800,\n",
       "       1562400, 1566000, 1569600, 1573200, 1576800, 1580400, 1584000,\n",
       "       1587600, 1591200, 1594800, 1598400, 1602000, 1605600, 1609200,\n",
       "       1612800, 1616400, 1620000, 1623600, 1627200, 1630800, 1634400,\n",
       "       1638000, 1641600, 1645200, 1648800, 1652400, 1656000, 1659600,\n",
       "       1663200, 1666800, 1670400, 1674000, 1677600, 1681200, 1684800,\n",
       "       1688400, 1692000, 1695600, 1699200, 1702800, 1706400, 1710000,\n",
       "       1713600, 1717200, 1720800, 1724400, 1728000, 1731600, 1735200,\n",
       "       1738800, 1742400, 1746000, 1749600, 1753200, 1756800, 1760400,\n",
       "       1764000, 1767600, 1771200, 1774800, 1778400, 1782000, 1785600,\n",
       "       1789200, 1792800, 1796400, 1800000, 1803600, 1807200, 1810800,\n",
       "       1814400, 1818000, 1821600, 1825200, 1828800, 1832400, 1836000,\n",
       "       1839600, 1843200, 1846800, 1850400, 1854000, 1857600, 1861200,\n",
       "       1864800, 1868400, 1872000, 1875600, 1879200, 1882800, 1886400,\n",
       "       1890000, 1893600, 1897200, 1900800, 1904400, 1908000, 1911600,\n",
       "       1915200, 1918800, 1922400, 1926000, 1929600, 1933200, 1936800,\n",
       "       1940400, 1944000, 1947600, 1951200, 1954800, 1958400, 1962000,\n",
       "       1965600, 1969200, 1972800, 1976400, 1980000, 1983600, 1987200,\n",
       "       1990800, 1994400, 1998000, 2001600, 2005200, 2008800, 2012400,\n",
       "       2016000, 2019600, 2023200, 2026800, 2030400, 2034000, 2037600,\n",
       "       2041200, 2044800, 2048400, 2052000, 2055600, 2059200, 2062800,\n",
       "       2066400, 2070000, 2073600, 2077200, 2080800, 2084400, 2088000,\n",
       "       2091600, 2095200, 2098800, 2102400, 2106000, 2109600, 2113200,\n",
       "       2116800, 2120400, 2124000, 2127600, 2131200, 2134800, 2138400,\n",
       "       2142000, 2145600, 2149200, 2152800, 2156400, 2160000, 2163600,\n",
       "       2167200, 2170800, 2174400, 2178000, 2181600, 2185200, 2188800,\n",
       "       2192400, 2196000, 2199600, 2203200, 2206800, 2210400, 2214000,\n",
       "       2217600, 2221200, 2224800, 2228400, 2232000, 2235600, 2239200,\n",
       "       2242800, 2246400, 2250000, 2253600, 2257200, 2260800, 2264400,\n",
       "       2268000, 2271600, 2275200, 2278800, 2282400, 2286000, 2289600,\n",
       "       2293200, 2296800, 2300400, 2304000, 2307600, 2311200, 2314800,\n",
       "       2318400, 2322000, 2325600, 2329200, 2332800, 2336400, 2340000,\n",
       "       2343600, 2347200, 2350800, 2354400, 2358000, 2361600, 2365200,\n",
       "       2368800, 2372400, 2376000, 2379600, 2383200, 2386800, 2390400,\n",
       "       2394000, 2397600, 2401200, 2404800, 2408400, 2412000, 2415600,\n",
       "       2419200, 2422800, 2426400, 2430000, 2433600, 2437200, 2440800,\n",
       "       2444400, 2448000, 2451600, 2455200, 2458800, 2462400, 2466000,\n",
       "       2469600, 2473200, 2476800, 2480400, 2484000, 2487600, 2491200,\n",
       "       2494800, 2498400, 2502000, 2505600, 2509200, 2512800, 2516400,\n",
       "       2520000, 2523600, 2527200, 2530800, 2534400, 2538000, 2541600,\n",
       "       2545200, 2548800, 2552400, 2556000, 2559600, 2563200, 2566800,\n",
       "       2570400, 2574000, 2577600, 2581200, 2584800, 2588400])"
      ]
     },
     "execution_count": 137,
     "metadata": {},
     "output_type": "execute_result"
    }
   ],
   "source": [
    "collection_times = np.arange(0,(30*24*60*60),(3600))\n",
    "collection_times"
   ]
  },
  {
   "cell_type": "code",
   "execution_count": 138,
   "metadata": {
    "deletable": false,
    "editable": false
   },
   "outputs": [
    {
     "data": {
      "text/html": [
       "<p><strong><pre style='display: inline;'>q1_1_5</pre></strong> passed!</p>"
      ],
      "text/plain": [
       "q1_1_5 results: All test cases passed!"
      ]
     },
     "execution_count": 138,
     "metadata": {},
     "output_type": "execute_result"
    }
   ],
   "source": [
    "grader.check(\"q1_1_5\")"
   ]
  },
  {
   "cell_type": "markdown",
   "metadata": {},
   "source": [
    "## 1.2. Working with single elements of arrays (\"indexing\")\n",
    "Let's work with a more interesting dataset.  The next cell creates an array called `population` that includes estimated world populations in every year from **1950** to **2023**.  (The estimates come from the [International Database](https://www.census.gov/data-tools/demo/idb/#/table?menu=tableViz&quickReports=CUSTOM&CUSTOM_COLS=POP,TFR,CBR,E0,IMR,CDR,NMR&CCODE=**&show_countries=n&CCODE_SINGLE=**&TABLE_RANGE=1950,2023&TABLE_YEARS=1950,1951,1952,1953,1954,1955,1956,1957,1958,1959,1960,1961,1962,1963,1964,1965,1966,1967,1968,1969,1970,1971,1972,1973,1974,1975,1976,1977,1978,1979,1980,1981,1982,1983,1984,1985,1986,1987,1988,1989,1990,1991,1992,1993,1994,1995,1996,1997,1998,1999,2000,2001,2002,2003,2004,2005,2006,2007,2008,2009,2010,2011,2012,2013,2014,2015,2016,2017,2018,2019,2020,2021,2022,2023&TABLE_USE_RANGE=Y&TABLE_USE_YEARS=N&TABLE_STEP=1), maintained by the US Census Bureau.)\n",
    "\n",
    "Rather than type in the data manually, we've loaded them from a file called `world_population_2023.csv`.  You'll learn how to read in data from files very soon."
   ]
  },
  {
   "cell_type": "code",
   "execution_count": 139,
   "metadata": {},
   "outputs": [
    {
     "data": {
      "text/plain": [
       "array([2558023014, 2595838116, 2637936830, 2683288876, 2731379529,\n",
       "       2782973591, 2836130358, 2892165757, 2948892474, 3001437149,\n",
       "       3043723411, 3084753192, 3140982059, 3210747452, 3282150912,\n",
       "       3351447909, 3421950085, 3491918938, 3563999493, 3638882226,\n",
       "       3714262611, 3791705363, 3867790515, 3943299941, 4018289723,\n",
       "       4089897507, 4160016430, 4230925634, 4301796324, 4375462721,\n",
       "       4446018801, 4527470698, 4610284677, 4694209205, 4775889225,\n",
       "       4860691329, 4947831057, 5037623680, 5128370129, 5218863705,\n",
       "       5311093985, 5398248391, 5484859952, 5568560590, 5650427498,\n",
       "       5733476988, 5815625725, 5896157461, 5975537190, 6054374592,\n",
       "       6133007860, 6211824800, 6290903765, 6369899427, 6449064951,\n",
       "       6528030077, 6608491622, 6690682690, 6774892222, 6859055794,\n",
       "       6942148774, 7024885273, 7108237070, 7192338928, 7276120452,\n",
       "       7358968084, 7441688089, 7523957647, 7605030254, 7685586259,\n",
       "       7764965463, 7837646014, 7906702795, 7982019198])"
      ]
     },
     "execution_count": 139,
     "metadata": {},
     "output_type": "execute_result"
    }
   ],
   "source": [
    "# Don't worry too much about what goes on in this cell.\n",
    "population = bpd.read_csv(\"data/world_population_2023.csv\").get(\"Population\").values\n",
    "population"
   ]
  },
  {
   "cell_type": "markdown",
   "metadata": {},
   "source": [
    "Here's how we get the first element of `population`, which is the world population in the first year in the dataset, 1950."
   ]
  },
  {
   "cell_type": "code",
   "execution_count": 140,
   "metadata": {},
   "outputs": [
    {
     "data": {
      "text/plain": [
       "2558023014"
      ]
     },
     "execution_count": 140,
     "metadata": {},
     "output_type": "execute_result"
    }
   ],
   "source": [
    "population[0]"
   ]
  },
  {
   "cell_type": "markdown",
   "metadata": {},
   "source": [
    "Notice that we use square brackets here. The square brackets signal that we are *accessing* an element of the array. Square brackets in Python are kind of like subscripts in math.\n",
    "\n",
    "The value of that expression is the number 2558023014 (around 2.5 billion), because that's the first thing in the array `population`.\n",
    "\n",
    "Notice that we wrote `population[0]`, not `population[1]`, to get the first element.  This is a weird convention in programming. 0 is called the *index* of the first item.  It's the number of elements that appear *before* that item.  So 3 is the index of the 4th item.\n",
    "\n",
    "Here are some more examples.  In the examples, we've given names to the things we get out of `population`.  Read and run each cell."
   ]
  },
  {
   "cell_type": "code",
   "execution_count": 141,
   "metadata": {},
   "outputs": [
    {
     "data": {
      "text/plain": [
       "2637936830"
      ]
     },
     "execution_count": 141,
     "metadata": {},
     "output_type": "execute_result"
    }
   ],
   "source": [
    "# The third element in the array is the population in 1952.\n",
    "population_1952 = population[2]\n",
    "population_1952"
   ]
  },
  {
   "cell_type": "code",
   "execution_count": 142,
   "metadata": {},
   "outputs": [
    {
     "data": {
      "text/plain": [
       "3140982059"
      ]
     },
     "execution_count": 142,
     "metadata": {},
     "output_type": "execute_result"
    }
   ],
   "source": [
    "# The thirteenth element in the array is the population\n",
    "# in 1962 (which is 1950 + 12).\n",
    "population_1962 = population[12]\n",
    "population_1962"
   ]
  },
  {
   "cell_type": "code",
   "execution_count": 143,
   "metadata": {},
   "outputs": [
    {
     "data": {
      "text/plain": [
       "7982019198"
      ]
     },
     "execution_count": 143,
     "metadata": {},
     "output_type": "execute_result"
    }
   ],
   "source": [
    "# The 74th element in the array is the population in 2023.\n",
    "population_2023 = population[73]\n",
    "population_2023"
   ]
  },
  {
   "cell_type": "code",
   "execution_count": 144,
   "metadata": {
    "tags": [
     "raises-exception"
    ]
   },
   "outputs": [],
   "source": [
    "# The array has only 74 elements, so this doesn't work.\n",
    "# (There's no element with 74 other elements before it.)\n",
    "\n",
    "# population_2024 = population[74]\n",
    "# population_2024\n",
    "\n",
    "# 🚨 After running this cell, please place a # before each line above to make sure that it doesn't run again."
   ]
  },
  {
   "cell_type": "markdown",
   "metadata": {},
   "source": [
    "**Question 1.2.1.** Set `population_1998` to the world population in 1998 by getting the appropriate element from `population`."
   ]
  },
  {
   "cell_type": "code",
   "execution_count": 145,
   "metadata": {},
   "outputs": [
    {
     "data": {
      "text/plain": [
       "5975537190"
      ]
     },
     "execution_count": 145,
     "metadata": {},
     "output_type": "execute_result"
    }
   ],
   "source": [
    "population_1998 = population[48] #1998-1950\n",
    "population_1998"
   ]
  },
  {
   "cell_type": "code",
   "execution_count": 146,
   "metadata": {
    "deletable": false,
    "editable": false
   },
   "outputs": [
    {
     "data": {
      "text/html": [
       "<p><strong><pre style='display: inline;'>q1_2_1</pre></strong> passed!</p>"
      ],
      "text/plain": [
       "q1_2_1 results: All test cases passed!"
      ]
     },
     "execution_count": 146,
     "metadata": {},
     "output_type": "execute_result"
    }
   ],
   "source": [
    "grader.check(\"q1_2_1\")"
   ]
  },
  {
   "cell_type": "markdown",
   "metadata": {},
   "source": [
    "## 1.3. Performing an operation on every element of an array\n",
    "Arrays are primarily useful for doing the same operation many times, so we don't often have to access and work with single elements.\n",
    "\n",
    "##### Logarithms\n",
    "Here is one simple question we might ask about world population:\n",
    "\n",
    "> How big was the population in *orders of magnitude* in each year?\n",
    "\n",
    "The logarithm function is one way of measuring how big a number is. The logarithm (base 10) of a number increases by 1 every time we multiply the number by 10. It's like a measure of how many decimal digits the number has, or how big it is in orders of magnitude.\n",
    "\n",
    "We could try to answer our question like this, using the `log10` function from NumPy on each element of the `population` array:"
   ]
  },
  {
   "cell_type": "code",
   "execution_count": 147,
   "metadata": {},
   "outputs": [],
   "source": [
    "population_1950_magnitude = np.log10(population[0])\n",
    "population_1951_magnitude = np.log10(population[1])\n",
    "population_1952_magnitude = np.log10(population[2])\n",
    "population_1953_magnitude = np.log10(population[3])\n",
    "\n",
    "# ... and so on!"
   ]
  },
  {
   "cell_type": "markdown",
   "metadata": {},
   "source": [
    "But this is tedious and repetitive. There must be a better way!\n",
    "\n",
    "It turns out that NumPy's `log10` is pretty powerful. Not only can it take in a single number (like `population[0]`) as input and return the logarithm of a single number, but it can **also** take in an entire array of numbers and return the logarithm of each element in that array!\n",
    "\n",
    "If you give NumPy's `log10` an array as input, it will return an array of the same length, where the first element of the result is the logarithm of the first element of the input, the second element of the result is the logarithm of the second element of the input, and so on.\n",
    "\n",
    "<img src=\"data/array_logarithm.jpg\">\n",
    "\n",
    "This is called *elementwise* application of the function, since it operates separately on each element of the array it's called on.  \n",
    "\n",
    "**Question 1.3.1.** Use NumPy's `log10` function to compute the logarithms of the world population in every year.  Give the result (an array of 73 numbers) the name `population_magnitudes`.  Your code should be very short."
   ]
  },
  {
   "cell_type": "code",
   "execution_count": 148,
   "metadata": {},
   "outputs": [
    {
     "data": {
      "text/plain": [
       "array([9.40790445, 9.41427761, 9.42126439, 9.42866743, 9.43638205,\n",
       "       9.44450909, 9.45272619, 9.46122318, 9.46965894, 9.47732925,\n",
       "       9.48340518, 9.48922042, 9.49706546, 9.50660615, 9.51615855,\n",
       "       9.52523247, 9.53427367, 9.54306415, 9.55193763, 9.560968  ,\n",
       "       9.56987261, 9.57883458, 9.58746294, 9.59585981, 9.60404125,\n",
       "       9.61171242, 9.61909505, 9.62643539, 9.63364984, 9.64102399,\n",
       "       9.64797129, 9.65585565, 9.66372774, 9.67156244, 9.67905424,\n",
       "       9.68669804, 9.69441486, 9.70222572, 9.70997936, 9.71757596,\n",
       "       9.72518399, 9.73225286, 9.73916554, 9.74574295, 9.75208131,\n",
       "       9.75841807, 9.76459645, 9.77056907, 9.77637695, 9.78206929,\n",
       "       9.78767352, 9.7932192 , 9.79871304, 9.80413258, 9.80949675,\n",
       "       9.81478215, 9.82010234, 9.82547043, 9.83090239, 9.83626434,\n",
       "       9.84149392, 9.84663924, 9.8517619 , 9.85687014, 9.86189988,\n",
       "       9.86681692, 9.87167146, 9.87644634, 9.88110095, 9.885677  ,\n",
       "       9.89013953, 9.89418564, 9.89799541, 9.90211277])"
      ]
     },
     "execution_count": 148,
     "metadata": {},
     "output_type": "execute_result"
    }
   ],
   "source": [
    "population_magnitudes = np.log10(population)\n",
    "population_magnitudes"
   ]
  },
  {
   "cell_type": "code",
   "execution_count": 149,
   "metadata": {
    "deletable": false,
    "editable": false
   },
   "outputs": [
    {
     "data": {
      "text/html": [
       "<p><strong><pre style='display: inline;'>q1_3_1</pre></strong> passed!</p>"
      ],
      "text/plain": [
       "q1_3_1 results: All test cases passed!"
      ]
     },
     "execution_count": 149,
     "metadata": {},
     "output_type": "execute_result"
    }
   ],
   "source": [
    "grader.check(\"q1_3_1\")"
   ]
  },
  {
   "cell_type": "markdown",
   "metadata": {},
   "source": [
    "##### Arithmetic\n",
    "Arithmetic also works elementwise on arrays.  For example, you can divide all the population numbers by 1 billion to get numbers in billions:"
   ]
  },
  {
   "cell_type": "code",
   "execution_count": 150,
   "metadata": {},
   "outputs": [
    {
     "data": {
      "text/plain": [
       "array([2.55802301, 2.59583812, 2.63793683, 2.68328888, 2.73137953,\n",
       "       2.78297359, 2.83613036, 2.89216576, 2.94889247, 3.00143715,\n",
       "       3.04372341, 3.08475319, 3.14098206, 3.21074745, 3.28215091,\n",
       "       3.35144791, 3.42195009, 3.49191894, 3.56399949, 3.63888223,\n",
       "       3.71426261, 3.79170536, 3.86779051, 3.94329994, 4.01828972,\n",
       "       4.08989751, 4.16001643, 4.23092563, 4.30179632, 4.37546272,\n",
       "       4.4460188 , 4.5274707 , 4.61028468, 4.6942092 , 4.77588923,\n",
       "       4.86069133, 4.94783106, 5.03762368, 5.12837013, 5.21886371,\n",
       "       5.31109399, 5.39824839, 5.48485995, 5.56856059, 5.6504275 ,\n",
       "       5.73347699, 5.81562573, 5.89615746, 5.97553719, 6.05437459,\n",
       "       6.13300786, 6.2118248 , 6.29090377, 6.36989943, 6.44906495,\n",
       "       6.52803008, 6.60849162, 6.69068269, 6.77489222, 6.85905579,\n",
       "       6.94214877, 7.02488527, 7.10823707, 7.19233893, 7.27612045,\n",
       "       7.35896808, 7.44168809, 7.52395765, 7.60503025, 7.68558626,\n",
       "       7.76496546, 7.83764601, 7.9067028 , 7.9820192 ])"
      ]
     },
     "execution_count": 150,
     "metadata": {},
     "output_type": "execute_result"
    }
   ],
   "source": [
    "population_in_billions = population / 1000000000\n",
    "population_in_billions"
   ]
  },
  {
   "cell_type": "markdown",
   "metadata": {},
   "source": [
    "You can do the same with addition, subtraction, multiplication, and exponentiation (`**`). For example, you can calculate a twenty percent tip on several restaurant bills at once:"
   ]
  },
  {
   "cell_type": "code",
   "execution_count": 151,
   "metadata": {},
   "outputs": [
    {
     "name": "stdout",
     "output_type": "stream",
     "text": [
      "Restaurant bills:\t [20.12 39.9  31.01]\n",
      "Tips:\t\t\t [4.024 7.98  6.202]\n"
     ]
    }
   ],
   "source": [
    "restaurant_bills = np.array([20.12, 39.90, 31.01])\n",
    "print(\"Restaurant bills:\\t\", restaurant_bills)\n",
    "tips = 0.2 * restaurant_bills \n",
    "print(\"Tips:\\t\\t\\t\", tips)"
   ]
  },
  {
   "cell_type": "markdown",
   "metadata": {},
   "source": [
    "<img src=\"data/array_multiplication.jpg\">\n",
    "\n",
    "**Question 1.3.2.** Suppose the total charge at a restaurant is the original bill plus the tip (20%).  That means we can multiply the original bill by 1.2 to get the total charge.  Compute the total charge for each bill in `restaurant_bills` and give the resulting array the name `total_charges`."
   ]
  },
  {
   "cell_type": "code",
   "execution_count": 152,
   "metadata": {},
   "outputs": [
    {
     "data": {
      "text/plain": [
       "array([24.144, 47.88 , 37.212])"
      ]
     },
     "execution_count": 152,
     "metadata": {},
     "output_type": "execute_result"
    }
   ],
   "source": [
    "total_charges = 1.2*restaurant_bills\n",
    "total_charges"
   ]
  },
  {
   "cell_type": "code",
   "execution_count": 153,
   "metadata": {
    "deletable": false,
    "editable": false
   },
   "outputs": [
    {
     "data": {
      "text/html": [
       "<p><strong><pre style='display: inline;'>q1_3_2</pre></strong> passed!</p>"
      ],
      "text/plain": [
       "q1_3_2 results: All test cases passed!"
      ]
     },
     "execution_count": 153,
     "metadata": {},
     "output_type": "execute_result"
    }
   ],
   "source": [
    "grader.check(\"q1_3_2\")"
   ]
  },
  {
   "cell_type": "markdown",
   "metadata": {},
   "source": [
    "Let's read in some data to use in the next question."
   ]
  },
  {
   "cell_type": "code",
   "execution_count": 154,
   "metadata": {},
   "outputs": [],
   "source": [
    "more_restaurant_bills = bpd.read_csv(\"data/more_restaurant_bills.csv\").get(\"Bill\").values"
   ]
  },
  {
   "cell_type": "markdown",
   "metadata": {},
   "source": [
    "**Question 1.3.3.** The array `more_restaurant_bills` contains 100,000 bills!  Compute the total charge for each one, assuming again a twenty percent tip, and give the resulting array the name `more_total_charges`."
   ]
  },
  {
   "cell_type": "code",
   "execution_count": 155,
   "metadata": {},
   "outputs": [
    {
     "data": {
      "text/plain": [
       "array([20.244, 20.892, 12.216, ..., 19.308, 18.336, 35.664])"
      ]
     },
     "execution_count": 155,
     "metadata": {},
     "output_type": "execute_result"
    }
   ],
   "source": [
    "more_total_charges = 1.2*more_restaurant_bills\n",
    "more_total_charges"
   ]
  },
  {
   "cell_type": "code",
   "execution_count": 156,
   "metadata": {
    "deletable": false,
    "editable": false
   },
   "outputs": [
    {
     "data": {
      "text/html": [
       "<p><strong><pre style='display: inline;'>q1_3_3</pre></strong> passed!</p>"
      ],
      "text/plain": [
       "q1_3_3 results: All test cases passed!"
      ]
     },
     "execution_count": 156,
     "metadata": {},
     "output_type": "execute_result"
    }
   ],
   "source": [
    "grader.check(\"q1_3_3\")"
   ]
  },
  {
   "cell_type": "markdown",
   "metadata": {},
   "source": [
    "The function `sum` takes a single array of numbers as its argument.  It returns the sum of all the numbers in that array (so it returns a single number, not an array).\n",
    "\n",
    "**Question 1.3.4.** What was the sum of all the bills in `more_restaurant_bills`, **including tips**?"
   ]
  },
  {
   "cell_type": "code",
   "execution_count": 157,
   "metadata": {},
   "outputs": [
    {
     "data": {
      "text/plain": [
       "1795730.0640000193"
      ]
     },
     "execution_count": 157,
     "metadata": {},
     "output_type": "execute_result"
    }
   ],
   "source": [
    "sum_of_bills = sum(more_total_charges)\n",
    "sum_of_bills"
   ]
  },
  {
   "cell_type": "code",
   "execution_count": 158,
   "metadata": {
    "deletable": false,
    "editable": false
   },
   "outputs": [
    {
     "data": {
      "text/html": [
       "<p><strong><pre style='display: inline;'>q1_3_4</pre></strong> passed!</p>"
      ],
      "text/plain": [
       "q1_3_4 results: All test cases passed!"
      ]
     },
     "execution_count": 158,
     "metadata": {},
     "output_type": "execute_result"
    }
   ],
   "source": [
    "grader.check(\"q1_3_4\")"
   ]
  },
  {
   "cell_type": "markdown",
   "metadata": {},
   "source": [
    "##### Powers of Two\n",
    "The powers of 2 ($2^0 = 1$, $2^1 = 2$, $2^2 = 4$, etc) arise frequently in computer science.  (For example, you may have noticed that storage on smartphones or computers come in powers of 2, like 64 GB, 128 GB, or 256 GB.)"
   ]
  },
  {
   "cell_type": "markdown",
   "metadata": {},
   "source": [
    "**Question 1.3.5.** Use `np.arange` and the exponentiation operator `**` to create an array containing the first 40 powers of 2, starting from $2^0=1$.\n",
    "\n",
    "**_Hints:_**\n",
    "- Did your kernel \"die\" when you ran your solution? There is a common incorrect response to this problem that tries to create an array with so many entries that Python gives up and crashes. If this happens to you, rethink your solution.\n",
    "- To make it easier to see where you might be going, start by generating an array with the first 5 powers of 2, instead of the first 40. Once you've figure that out, then try all 40. At no point should you have to manually write `0, 1, 2, 3, 4, ...`; if you find yourself trying that, scroll up to earlier in the lab notebook."
   ]
  },
  {
   "cell_type": "code",
   "execution_count": 159,
   "metadata": {},
   "outputs": [
    {
     "data": {
      "text/plain": [
       "array([           1,            2,            4,            8,\n",
       "                 16,           32,           64,          128,\n",
       "                256,          512,         1024,         2048,\n",
       "               4096,         8192,        16384,        32768,\n",
       "              65536,       131072,       262144,       524288,\n",
       "            1048576,      2097152,      4194304,      8388608,\n",
       "           16777216,     33554432,     67108864,    134217728,\n",
       "          268435456,    536870912,   1073741824,   2147483648,\n",
       "         4294967296,   8589934592,  17179869184,  34359738368,\n",
       "        68719476736, 137438953472, 274877906944, 549755813888])"
      ]
     },
     "execution_count": 159,
     "metadata": {},
     "output_type": "execute_result"
    }
   ],
   "source": [
    "powers_of_2 = 2**np.arange(0,40)\n",
    "powers_of_2"
   ]
  },
  {
   "cell_type": "code",
   "execution_count": 160,
   "metadata": {
    "deletable": false,
    "editable": false
   },
   "outputs": [
    {
     "data": {
      "text/html": [
       "<p><strong><pre style='display: inline;'>q1_3_5</pre></strong> passed!</p>"
      ],
      "text/plain": [
       "q1_3_5 results: All test cases passed!"
      ]
     },
     "execution_count": 160,
     "metadata": {},
     "output_type": "execute_result"
    }
   ],
   "source": [
    "grader.check(\"q1_3_5\")"
   ]
  },
  {
   "cell_type": "markdown",
   "metadata": {},
   "source": [
    "# 2. DataFrames "
   ]
  },
  {
   "cell_type": "markdown",
   "metadata": {},
   "source": [
    "## 2.1. Introduction\n",
    "\n",
    "For a collection of things in the world, an array is useful for describing a single attribute of each thing. For example, among the collection of US States, an array could describe the land area of each. Tables extend this idea by describing multiple attributes for each element of a collection. In a table of states, for example, we might keep track of land area, population, state capital, and the name of the governor. In other words, tables keep track of many entities (individuals, stored as rows), and for each entity, many attributes (features, stored as columns).\n",
    "\n",
    "In the cell below we have two arrays. The first one contains the world population in each year (as estimated by the US Census Bureau), and the second contains the years themselves (in order, so the first elements in the population and the years arrays correspond)."
   ]
  },
  {
   "cell_type": "code",
   "execution_count": 161,
   "metadata": {},
   "outputs": [
    {
     "name": "stdout",
     "output_type": "stream",
     "text": [
      "Population column: [2558023014 2595838116 2637936830 2683288876 2731379529 2782973591\n",
      " 2836130358 2892165757 2948892474 3001437149 3043723411 3084753192\n",
      " 3140982059 3210747452 3282150912 3351447909 3421950085 3491918938\n",
      " 3563999493 3638882226 3714262611 3791705363 3867790515 3943299941\n",
      " 4018289723 4089897507 4160016430 4230925634 4301796324 4375462721\n",
      " 4446018801 4527470698 4610284677 4694209205 4775889225 4860691329\n",
      " 4947831057 5037623680 5128370129 5218863705 5311093985 5398248391\n",
      " 5484859952 5568560590 5650427498 5733476988 5815625725 5896157461\n",
      " 5975537190 6054374592 6133007860 6211824800 6290903765 6369899427\n",
      " 6449064951 6528030077 6608491622 6690682690 6774892222 6859055794\n",
      " 6942148774 7024885273 7108237070 7192338928 7276120452 7358968084\n",
      " 7441688089 7523957647 7605030254 7685586259 7764965463 7837646014\n",
      " 7906702795 7982019198]\n",
      "Years column: [1950 1951 1952 1953 1954 1955 1956 1957 1958 1959 1960 1961 1962 1963\n",
      " 1964 1965 1966 1967 1968 1969 1970 1971 1972 1973 1974 1975 1976 1977\n",
      " 1978 1979 1980 1981 1982 1983 1984 1985 1986 1987 1988 1989 1990 1991\n",
      " 1992 1993 1994 1995 1996 1997 1998 1999 2000 2001 2002 2003 2004 2005\n",
      " 2006 2007 2008 2009 2010 2011 2012 2013 2014 2015 2016 2017 2018 2019\n",
      " 2020 2021 2022 2023]\n"
     ]
    }
   ],
   "source": [
    "population_amounts = bpd.read_csv(\"data/world_population_2023.csv\").get(\"Population\").values\n",
    "population_years = np.arange(1950, 2023 + 1)\n",
    "print(\"Population column:\", population_amounts)\n",
    "print(\"Years column:\", population_years)"
   ]
  },
  {
   "cell_type": "markdown",
   "metadata": {},
   "source": [
    "Suppose we want to answer this question:\n",
    "\n",
    "> When did the world's population surpass 7 billion?\n",
    "\n",
    "You could technically answer this question just by staring at the arrays, but it's a bit complicated, since you would have to count the position where the population first crossed 7 billion, then find the corresponding element in the years array. In cases like these, it might be easier to put the data into a table."
   ]
  },
  {
   "cell_type": "markdown",
   "metadata": {},
   "source": [
    "Just as `numpy` provides arrays, a popular package called `pandas` provides **DataFrames**, which is `pandas`' name for **tables**. `pandas` is *the* tool for doing data science in Python. Unfortunately, `pandas` isn't as cute as its name might suggest: it's very complicated and can be somewhat hard to learn.\n",
    "\n",
    "Instead of using `pandas`, we'll use a package that we've created specifically for DSC 10. It is a *subset* of `pandas`, including only the parts that we think are necessary and throwing out all of the rest. Because it is smaller (and cuter), we've called it `babypandas`. \n",
    "\n",
    "<img src='data/pandas-babypandas.jpg' width=400>\n",
    "\n",
    "You can import `babypandas` using the following code:"
   ]
  },
  {
   "cell_type": "code",
   "execution_count": 162,
   "metadata": {},
   "outputs": [],
   "source": [
    "import babypandas as bpd"
   ]
  },
  {
   "cell_type": "markdown",
   "metadata": {},
   "source": [
    "\n",
    "The nice thing about `babypandas` is that it is easier to learn *but* every bit of code you write using `babypandas` will work with `pandas`, too. If you're a data science major, or just going to be doing a lot of data analysis in Python, you'll see quite a lot of `pandas` in your future."
   ]
  },
  {
   "cell_type": "markdown",
   "metadata": {},
   "source": [
    "The cell below:\n",
    "\n",
    "- creates an empty DataFrame using the expression `bpd.DataFrame()`,\n",
    "- assigns two columns to the DataFrame by calling `assign`,\n",
    "- assigns the resulting DataFrame to the name `population_df`, and finally\n",
    "- displays `population_df` so that we can see the DataFrame we've made.\n",
    "\n",
    "`\"Population\"` and `\"Year\"` are column labels that we have chosen. We could have chosen anything, but it's a good idea to choose names that are descriptive and not too long."
   ]
  },
  {
   "cell_type": "code",
   "execution_count": 163,
   "metadata": {},
   "outputs": [
    {
     "data": {
      "text/html": [
       "<div>\n",
       "<style scoped>\n",
       "    .dataframe tbody tr th:only-of-type {\n",
       "        vertical-align: middle;\n",
       "    }\n",
       "\n",
       "    .dataframe tbody tr th {\n",
       "        vertical-align: top;\n",
       "    }\n",
       "\n",
       "    .dataframe thead th {\n",
       "        text-align: right;\n",
       "    }\n",
       "</style>\n",
       "<table border=\"1\" class=\"dataframe\">\n",
       "  <thead>\n",
       "    <tr style=\"text-align: right;\">\n",
       "      <th></th>\n",
       "      <th>Population</th>\n",
       "      <th>Year</th>\n",
       "    </tr>\n",
       "  </thead>\n",
       "  <tbody>\n",
       "    <tr>\n",
       "      <th>0</th>\n",
       "      <td>2558023014</td>\n",
       "      <td>1950</td>\n",
       "    </tr>\n",
       "    <tr>\n",
       "      <th>1</th>\n",
       "      <td>2595838116</td>\n",
       "      <td>1951</td>\n",
       "    </tr>\n",
       "    <tr>\n",
       "      <th>2</th>\n",
       "      <td>2637936830</td>\n",
       "      <td>1952</td>\n",
       "    </tr>\n",
       "    <tr>\n",
       "      <th>3</th>\n",
       "      <td>2683288876</td>\n",
       "      <td>1953</td>\n",
       "    </tr>\n",
       "    <tr>\n",
       "      <th>4</th>\n",
       "      <td>2731379529</td>\n",
       "      <td>1954</td>\n",
       "    </tr>\n",
       "    <tr>\n",
       "      <th>...</th>\n",
       "      <td>...</td>\n",
       "      <td>...</td>\n",
       "    </tr>\n",
       "    <tr>\n",
       "      <th>69</th>\n",
       "      <td>7685586259</td>\n",
       "      <td>2019</td>\n",
       "    </tr>\n",
       "    <tr>\n",
       "      <th>70</th>\n",
       "      <td>7764965463</td>\n",
       "      <td>2020</td>\n",
       "    </tr>\n",
       "    <tr>\n",
       "      <th>71</th>\n",
       "      <td>7837646014</td>\n",
       "      <td>2021</td>\n",
       "    </tr>\n",
       "    <tr>\n",
       "      <th>72</th>\n",
       "      <td>7906702795</td>\n",
       "      <td>2022</td>\n",
       "    </tr>\n",
       "    <tr>\n",
       "      <th>73</th>\n",
       "      <td>7982019198</td>\n",
       "      <td>2023</td>\n",
       "    </tr>\n",
       "  </tbody>\n",
       "</table>\n",
       "<p>74 rows × 2 columns</p>\n",
       "</div>"
      ],
      "text/plain": [
       "    Population  Year\n",
       "0   2558023014  1950\n",
       "1   2595838116  1951\n",
       "2   2637936830  1952\n",
       "3   2683288876  1953\n",
       "4   2731379529  1954\n",
       "..         ...   ...\n",
       "69  7685586259  2019\n",
       "70  7764965463  2020\n",
       "71  7837646014  2021\n",
       "72  7906702795  2022\n",
       "73  7982019198  2023\n",
       "\n",
       "[74 rows x 2 columns]"
      ]
     },
     "execution_count": 163,
     "metadata": {},
     "output_type": "execute_result"
    }
   ],
   "source": [
    "population_df = bpd.DataFrame().assign(\n",
    "    Population=population_amounts,\n",
    "    Year=population_years\n",
    ")\n",
    "population_df"
   ]
  },
  {
   "cell_type": "markdown",
   "metadata": {},
   "source": [
    "Now the data are all together in a single DataFrame! It's much easier to parse this data. If you need to know what the population was in 2011, for example, you can tell from a single glance. We'll revisit this DataFrame later, but first we'll build some skills practicing with a new DataFrame of top movies."
   ]
  },
  {
   "cell_type": "markdown",
   "metadata": {},
   "source": [
    "**Question 2.1.1.** In the cell below, we've created 2 arrays. Using the steps above, assign `top_10_movies` to a DataFrame that has two columns called `\"Rating\"` and `\"Name\"`, which hold `top_10_movie_ratings` and `top_10_movie_names` respectively."
   ]
  },
  {
   "cell_type": "code",
   "execution_count": 164,
   "metadata": {},
   "outputs": [],
   "source": [
    "top_10_movie_ratings = np.array([9.2, 9.2, 9., 8.9, 8.9, 8.9, 8.9, 8.9, 8.9, 8.8])\n",
    "top_10_movie_names = np.array([\n",
    "        'The Shawshank Redemption (1994)',\n",
    "        'The Godfather (1972)',\n",
    "        'The Godfather: Part II (1974)',\n",
    "        'Pulp Fiction (1994)',\n",
    "        \"Schindler's List (1993)\",\n",
    "        'The Lord of the Rings: The Return of the King (2003)',\n",
    "        '12 Angry Men (1957)',\n",
    "        'The Dark Knight (2008)',\n",
    "        'Il buono, il brutto, il cattivo (1966)',\n",
    "        'The Lord of the Rings: The Fellowship of the Ring (2001)'\n",
    "])"
   ]
  },
  {
   "cell_type": "code",
   "execution_count": 165,
   "metadata": {},
   "outputs": [
    {
     "data": {
      "text/html": [
       "<div>\n",
       "<style scoped>\n",
       "    .dataframe tbody tr th:only-of-type {\n",
       "        vertical-align: middle;\n",
       "    }\n",
       "\n",
       "    .dataframe tbody tr th {\n",
       "        vertical-align: top;\n",
       "    }\n",
       "\n",
       "    .dataframe thead th {\n",
       "        text-align: right;\n",
       "    }\n",
       "</style>\n",
       "<table border=\"1\" class=\"dataframe\">\n",
       "  <thead>\n",
       "    <tr style=\"text-align: right;\">\n",
       "      <th></th>\n",
       "      <th>Rating</th>\n",
       "      <th>Name</th>\n",
       "    </tr>\n",
       "  </thead>\n",
       "  <tbody>\n",
       "    <tr>\n",
       "      <th>0</th>\n",
       "      <td>9.2</td>\n",
       "      <td>The Shawshank Redemption (1994)</td>\n",
       "    </tr>\n",
       "    <tr>\n",
       "      <th>1</th>\n",
       "      <td>9.2</td>\n",
       "      <td>The Godfather (1972)</td>\n",
       "    </tr>\n",
       "    <tr>\n",
       "      <th>2</th>\n",
       "      <td>9.0</td>\n",
       "      <td>The Godfather: Part II (1974)</td>\n",
       "    </tr>\n",
       "    <tr>\n",
       "      <th>3</th>\n",
       "      <td>8.9</td>\n",
       "      <td>Pulp Fiction (1994)</td>\n",
       "    </tr>\n",
       "    <tr>\n",
       "      <th>4</th>\n",
       "      <td>8.9</td>\n",
       "      <td>Schindler's List (1993)</td>\n",
       "    </tr>\n",
       "    <tr>\n",
       "      <th>5</th>\n",
       "      <td>8.9</td>\n",
       "      <td>The Lord of the Rings: The Return of the King ...</td>\n",
       "    </tr>\n",
       "    <tr>\n",
       "      <th>6</th>\n",
       "      <td>8.9</td>\n",
       "      <td>12 Angry Men (1957)</td>\n",
       "    </tr>\n",
       "    <tr>\n",
       "      <th>7</th>\n",
       "      <td>8.9</td>\n",
       "      <td>The Dark Knight (2008)</td>\n",
       "    </tr>\n",
       "    <tr>\n",
       "      <th>8</th>\n",
       "      <td>8.9</td>\n",
       "      <td>Il buono, il brutto, il cattivo (1966)</td>\n",
       "    </tr>\n",
       "    <tr>\n",
       "      <th>9</th>\n",
       "      <td>8.8</td>\n",
       "      <td>The Lord of the Rings: The Fellowship of the R...</td>\n",
       "    </tr>\n",
       "  </tbody>\n",
       "</table>\n",
       "</div>"
      ],
      "text/plain": [
       "   Rating                                               Name\n",
       "0     9.2                    The Shawshank Redemption (1994)\n",
       "1     9.2                               The Godfather (1972)\n",
       "2     9.0                      The Godfather: Part II (1974)\n",
       "3     8.9                                Pulp Fiction (1994)\n",
       "4     8.9                            Schindler's List (1993)\n",
       "5     8.9  The Lord of the Rings: The Return of the King ...\n",
       "6     8.9                                12 Angry Men (1957)\n",
       "7     8.9                             The Dark Knight (2008)\n",
       "8     8.9             Il buono, il brutto, il cattivo (1966)\n",
       "9     8.8  The Lord of the Rings: The Fellowship of the R..."
      ]
     },
     "execution_count": 165,
     "metadata": {},
     "output_type": "execute_result"
    }
   ],
   "source": [
    "top_10_movies = bpd.DataFrame().assign(Rating = top_10_movie_ratings, Name =top_10_movie_names)\n",
    "top_10_movies"
   ]
  },
  {
   "cell_type": "code",
   "execution_count": 166,
   "metadata": {
    "deletable": false,
    "editable": false
   },
   "outputs": [
    {
     "data": {
      "text/html": [
       "<p><strong><pre style='display: inline;'>q2_1_1</pre></strong> passed!</p>"
      ],
      "text/plain": [
       "q2_1_1 results: All test cases passed!"
      ]
     },
     "execution_count": 166,
     "metadata": {},
     "output_type": "execute_result"
    }
   ],
   "source": [
    "grader.check(\"q2_1_1\")"
   ]
  },
  {
   "cell_type": "markdown",
   "metadata": {},
   "source": [
    "Suppose you want to add your own ratings to this DataFrame. The cell below contains your ranking of each movie:"
   ]
  },
  {
   "cell_type": "code",
   "execution_count": 167,
   "metadata": {},
   "outputs": [],
   "source": [
    "my_ranking = [8, 2, 1, 9, 7, 10, 6, 4, 3, 5]"
   ]
  },
  {
   "cell_type": "markdown",
   "metadata": {},
   "source": [
    "**Question 2.1.2** You can use the `assign` method to add a column to an already-existing DataFrame, too. Create a new DataFrame called `with_ranking` by adding a column named `\"Ranking\"` to the DataFrame in `top_10_movies`."
   ]
  },
  {
   "cell_type": "code",
   "execution_count": 168,
   "metadata": {},
   "outputs": [
    {
     "data": {
      "text/html": [
       "<div>\n",
       "<style scoped>\n",
       "    .dataframe tbody tr th:only-of-type {\n",
       "        vertical-align: middle;\n",
       "    }\n",
       "\n",
       "    .dataframe tbody tr th {\n",
       "        vertical-align: top;\n",
       "    }\n",
       "\n",
       "    .dataframe thead th {\n",
       "        text-align: right;\n",
       "    }\n",
       "</style>\n",
       "<table border=\"1\" class=\"dataframe\">\n",
       "  <thead>\n",
       "    <tr style=\"text-align: right;\">\n",
       "      <th></th>\n",
       "      <th>Rating</th>\n",
       "      <th>Name</th>\n",
       "      <th>Ranking</th>\n",
       "    </tr>\n",
       "  </thead>\n",
       "  <tbody>\n",
       "    <tr>\n",
       "      <th>0</th>\n",
       "      <td>9.2</td>\n",
       "      <td>The Shawshank Redemption (1994)</td>\n",
       "      <td>8</td>\n",
       "    </tr>\n",
       "    <tr>\n",
       "      <th>1</th>\n",
       "      <td>9.2</td>\n",
       "      <td>The Godfather (1972)</td>\n",
       "      <td>2</td>\n",
       "    </tr>\n",
       "    <tr>\n",
       "      <th>2</th>\n",
       "      <td>9.0</td>\n",
       "      <td>The Godfather: Part II (1974)</td>\n",
       "      <td>1</td>\n",
       "    </tr>\n",
       "    <tr>\n",
       "      <th>3</th>\n",
       "      <td>8.9</td>\n",
       "      <td>Pulp Fiction (1994)</td>\n",
       "      <td>9</td>\n",
       "    </tr>\n",
       "    <tr>\n",
       "      <th>4</th>\n",
       "      <td>8.9</td>\n",
       "      <td>Schindler's List (1993)</td>\n",
       "      <td>7</td>\n",
       "    </tr>\n",
       "    <tr>\n",
       "      <th>5</th>\n",
       "      <td>8.9</td>\n",
       "      <td>The Lord of the Rings: The Return of the King ...</td>\n",
       "      <td>10</td>\n",
       "    </tr>\n",
       "    <tr>\n",
       "      <th>6</th>\n",
       "      <td>8.9</td>\n",
       "      <td>12 Angry Men (1957)</td>\n",
       "      <td>6</td>\n",
       "    </tr>\n",
       "    <tr>\n",
       "      <th>7</th>\n",
       "      <td>8.9</td>\n",
       "      <td>The Dark Knight (2008)</td>\n",
       "      <td>4</td>\n",
       "    </tr>\n",
       "    <tr>\n",
       "      <th>8</th>\n",
       "      <td>8.9</td>\n",
       "      <td>Il buono, il brutto, il cattivo (1966)</td>\n",
       "      <td>3</td>\n",
       "    </tr>\n",
       "    <tr>\n",
       "      <th>9</th>\n",
       "      <td>8.8</td>\n",
       "      <td>The Lord of the Rings: The Fellowship of the R...</td>\n",
       "      <td>5</td>\n",
       "    </tr>\n",
       "  </tbody>\n",
       "</table>\n",
       "</div>"
      ],
      "text/plain": [
       "   Rating                                               Name  Ranking\n",
       "0     9.2                    The Shawshank Redemption (1994)        8\n",
       "1     9.2                               The Godfather (1972)        2\n",
       "2     9.0                      The Godfather: Part II (1974)        1\n",
       "3     8.9                                Pulp Fiction (1994)        9\n",
       "4     8.9                            Schindler's List (1993)        7\n",
       "5     8.9  The Lord of the Rings: The Return of the King ...       10\n",
       "6     8.9                                12 Angry Men (1957)        6\n",
       "7     8.9                             The Dark Knight (2008)        4\n",
       "8     8.9             Il buono, il brutto, il cattivo (1966)        3\n",
       "9     8.8  The Lord of the Rings: The Fellowship of the R...        5"
      ]
     },
     "execution_count": 168,
     "metadata": {},
     "output_type": "execute_result"
    }
   ],
   "source": [
    "with_ranking = top_10_movies.assign(Ranking =my_ranking)\n",
    "with_ranking"
   ]
  },
  {
   "cell_type": "code",
   "execution_count": 169,
   "metadata": {
    "deletable": false,
    "editable": false
   },
   "outputs": [
    {
     "data": {
      "text/html": [
       "<p><strong><pre style='display: inline;'>q2_1_2</pre></strong> passed!</p>"
      ],
      "text/plain": [
       "q2_1_2 results: All test cases passed!"
      ]
     },
     "execution_count": 169,
     "metadata": {},
     "output_type": "execute_result"
    }
   ],
   "source": [
    "grader.check(\"q2_1_2\")"
   ]
  },
  {
   "cell_type": "markdown",
   "metadata": {},
   "source": [
    "## 2.2. Indexes\n",
    "\n",
    "You may have noticed that the DataFrame of populations contains what looks like an extra, unlabeled column on the left with the numbers 0 through 73. **This is not a column, it's what we call an *index***. The index contains the row labels. Whereas the columns of this DataFrame are labeled `\"Population\"` and `\"Year\"`, the rows are labeled 0, 1, ..., 73.\n",
    "\n",
    "By default, `babypandas` doesn't know how to label the rows, and so it just numbers them (starting with 0). In this case, it makes more sense to use the year as a row's label. We can do this by telling `babypandas` to set the `\"Year\"` column as the index:"
   ]
  },
  {
   "cell_type": "code",
   "execution_count": 170,
   "metadata": {},
   "outputs": [
    {
     "data": {
      "text/html": [
       "<div>\n",
       "<style scoped>\n",
       "    .dataframe tbody tr th:only-of-type {\n",
       "        vertical-align: middle;\n",
       "    }\n",
       "\n",
       "    .dataframe tbody tr th {\n",
       "        vertical-align: top;\n",
       "    }\n",
       "\n",
       "    .dataframe thead th {\n",
       "        text-align: right;\n",
       "    }\n",
       "</style>\n",
       "<table border=\"1\" class=\"dataframe\">\n",
       "  <thead>\n",
       "    <tr style=\"text-align: right;\">\n",
       "      <th></th>\n",
       "      <th>Population</th>\n",
       "    </tr>\n",
       "    <tr>\n",
       "      <th>Year</th>\n",
       "      <th></th>\n",
       "    </tr>\n",
       "  </thead>\n",
       "  <tbody>\n",
       "    <tr>\n",
       "      <th>1950</th>\n",
       "      <td>2558023014</td>\n",
       "    </tr>\n",
       "    <tr>\n",
       "      <th>1951</th>\n",
       "      <td>2595838116</td>\n",
       "    </tr>\n",
       "    <tr>\n",
       "      <th>1952</th>\n",
       "      <td>2637936830</td>\n",
       "    </tr>\n",
       "    <tr>\n",
       "      <th>1953</th>\n",
       "      <td>2683288876</td>\n",
       "    </tr>\n",
       "    <tr>\n",
       "      <th>1954</th>\n",
       "      <td>2731379529</td>\n",
       "    </tr>\n",
       "    <tr>\n",
       "      <th>...</th>\n",
       "      <td>...</td>\n",
       "    </tr>\n",
       "    <tr>\n",
       "      <th>2019</th>\n",
       "      <td>7685586259</td>\n",
       "    </tr>\n",
       "    <tr>\n",
       "      <th>2020</th>\n",
       "      <td>7764965463</td>\n",
       "    </tr>\n",
       "    <tr>\n",
       "      <th>2021</th>\n",
       "      <td>7837646014</td>\n",
       "    </tr>\n",
       "    <tr>\n",
       "      <th>2022</th>\n",
       "      <td>7906702795</td>\n",
       "    </tr>\n",
       "    <tr>\n",
       "      <th>2023</th>\n",
       "      <td>7982019198</td>\n",
       "    </tr>\n",
       "  </tbody>\n",
       "</table>\n",
       "<p>74 rows × 1 columns</p>\n",
       "</div>"
      ],
      "text/plain": [
       "      Population\n",
       "Year            \n",
       "1950  2558023014\n",
       "1951  2595838116\n",
       "1952  2637936830\n",
       "1953  2683288876\n",
       "1954  2731379529\n",
       "...          ...\n",
       "2019  7685586259\n",
       "2020  7764965463\n",
       "2021  7837646014\n",
       "2022  7906702795\n",
       "2023  7982019198\n",
       "\n",
       "[74 rows x 1 columns]"
      ]
     },
     "execution_count": 170,
     "metadata": {},
     "output_type": "execute_result"
    }
   ],
   "source": [
    "population_by_year = population_df.set_index('Year')\n",
    "population_by_year"
   ]
  },
  {
   "cell_type": "markdown",
   "metadata": {},
   "source": [
    "As we'll see, this does more than make the DataFrame look nicer – it is very useful, too. Let's perform this same process on the `top_10_movies` DataFrame we were just working with."
   ]
  },
  {
   "cell_type": "markdown",
   "metadata": {},
   "source": [
    "**Question 2.2.1** Create a new DataFrame named `top_10_movies_by_name` by taking the DataFrame you made above, `top_10_movies`, and setting the index to be the `'Name'` column."
   ]
  },
  {
   "cell_type": "code",
   "execution_count": 171,
   "metadata": {},
   "outputs": [
    {
     "data": {
      "text/html": [
       "<div>\n",
       "<style scoped>\n",
       "    .dataframe tbody tr th:only-of-type {\n",
       "        vertical-align: middle;\n",
       "    }\n",
       "\n",
       "    .dataframe tbody tr th {\n",
       "        vertical-align: top;\n",
       "    }\n",
       "\n",
       "    .dataframe thead th {\n",
       "        text-align: right;\n",
       "    }\n",
       "</style>\n",
       "<table border=\"1\" class=\"dataframe\">\n",
       "  <thead>\n",
       "    <tr style=\"text-align: right;\">\n",
       "      <th></th>\n",
       "      <th>Rating</th>\n",
       "    </tr>\n",
       "    <tr>\n",
       "      <th>Name</th>\n",
       "      <th></th>\n",
       "    </tr>\n",
       "  </thead>\n",
       "  <tbody>\n",
       "    <tr>\n",
       "      <th>The Shawshank Redemption (1994)</th>\n",
       "      <td>9.2</td>\n",
       "    </tr>\n",
       "    <tr>\n",
       "      <th>The Godfather (1972)</th>\n",
       "      <td>9.2</td>\n",
       "    </tr>\n",
       "    <tr>\n",
       "      <th>The Godfather: Part II (1974)</th>\n",
       "      <td>9.0</td>\n",
       "    </tr>\n",
       "    <tr>\n",
       "      <th>Pulp Fiction (1994)</th>\n",
       "      <td>8.9</td>\n",
       "    </tr>\n",
       "    <tr>\n",
       "      <th>Schindler's List (1993)</th>\n",
       "      <td>8.9</td>\n",
       "    </tr>\n",
       "    <tr>\n",
       "      <th>The Lord of the Rings: The Return of the King (2003)</th>\n",
       "      <td>8.9</td>\n",
       "    </tr>\n",
       "    <tr>\n",
       "      <th>12 Angry Men (1957)</th>\n",
       "      <td>8.9</td>\n",
       "    </tr>\n",
       "    <tr>\n",
       "      <th>The Dark Knight (2008)</th>\n",
       "      <td>8.9</td>\n",
       "    </tr>\n",
       "    <tr>\n",
       "      <th>Il buono, il brutto, il cattivo (1966)</th>\n",
       "      <td>8.9</td>\n",
       "    </tr>\n",
       "    <tr>\n",
       "      <th>The Lord of the Rings: The Fellowship of the Ring (2001)</th>\n",
       "      <td>8.8</td>\n",
       "    </tr>\n",
       "  </tbody>\n",
       "</table>\n",
       "</div>"
      ],
      "text/plain": [
       "                                                    Rating\n",
       "Name                                                      \n",
       "The Shawshank Redemption (1994)                        9.2\n",
       "The Godfather (1972)                                   9.2\n",
       "The Godfather: Part II (1974)                          9.0\n",
       "Pulp Fiction (1994)                                    8.9\n",
       "Schindler's List (1993)                                8.9\n",
       "The Lord of the Rings: The Return of the King (...     8.9\n",
       "12 Angry Men (1957)                                    8.9\n",
       "The Dark Knight (2008)                                 8.9\n",
       "Il buono, il brutto, il cattivo (1966)                 8.9\n",
       "The Lord of the Rings: The Fellowship of the Ri...     8.8"
      ]
     },
     "execution_count": 171,
     "metadata": {},
     "output_type": "execute_result"
    }
   ],
   "source": [
    "top_10_movies_by_name = top_10_movies.set_index('Name')\n",
    "top_10_movies_by_name"
   ]
  },
  {
   "cell_type": "code",
   "execution_count": 172,
   "metadata": {
    "deletable": false,
    "editable": false
   },
   "outputs": [
    {
     "data": {
      "text/html": [
       "<p><strong><pre style='display: inline;'>q2_2_1</pre></strong> passed!</p>"
      ],
      "text/plain": [
       "q2_2_1 results: All test cases passed!"
      ]
     },
     "execution_count": 172,
     "metadata": {},
     "output_type": "execute_result"
    }
   ],
   "source": [
    "grader.check(\"q2_2_1\")"
   ]
  },
  {
   "cell_type": "markdown",
   "metadata": {},
   "source": [
    "You can get an array of row names using `.index`. For instance, the array of row names of the `population_by_year` DataFrame is:"
   ]
  },
  {
   "cell_type": "code",
   "execution_count": 173,
   "metadata": {},
   "outputs": [
    {
     "data": {
      "text/plain": [
       "Int64Index([1950, 1951, 1952, 1953, 1954, 1955, 1956, 1957, 1958, 1959, 1960,\n",
       "            1961, 1962, 1963, 1964, 1965, 1966, 1967, 1968, 1969, 1970, 1971,\n",
       "            1972, 1973, 1974, 1975, 1976, 1977, 1978, 1979, 1980, 1981, 1982,\n",
       "            1983, 1984, 1985, 1986, 1987, 1988, 1989, 1990, 1991, 1992, 1993,\n",
       "            1994, 1995, 1996, 1997, 1998, 1999, 2000, 2001, 2002, 2003, 2004,\n",
       "            2005, 2006, 2007, 2008, 2009, 2010, 2011, 2012, 2013, 2014, 2015,\n",
       "            2016, 2017, 2018, 2019, 2020, 2021, 2022, 2023],\n",
       "           dtype='int64', name='Year')"
      ]
     },
     "execution_count": 173,
     "metadata": {},
     "output_type": "execute_result"
    }
   ],
   "source": [
    "population_by_year.index"
   ]
  },
  {
   "cell_type": "markdown",
   "metadata": {},
   "source": [
    "**Question 2.2.2** Using code, assign to `tenth_movie` the name of the tenth movie in `top_10_movies_by_name`.\n",
    "\n",
    "**_Hint:_**  Remember that the index is an array, and we use square brackets to access elements of an array."
   ]
  },
  {
   "cell_type": "code",
   "execution_count": 174,
   "metadata": {},
   "outputs": [
    {
     "data": {
      "text/plain": [
       "'The Lord of the Rings: The Fellowship of the Ring (2001)'"
      ]
     },
     "execution_count": 174,
     "metadata": {},
     "output_type": "execute_result"
    }
   ],
   "source": [
    "tenth_movie = top_10_movies_by_name.index[9]\n",
    "tenth_movie"
   ]
  },
  {
   "cell_type": "code",
   "execution_count": 175,
   "metadata": {
    "deletable": false,
    "editable": false
   },
   "outputs": [
    {
     "data": {
      "text/html": [
       "<p><strong><pre style='display: inline;'>q2_2_2</pre></strong> passed!</p>"
      ],
      "text/plain": [
       "q2_2_2 results: All test cases passed!"
      ]
     },
     "execution_count": 175,
     "metadata": {},
     "output_type": "execute_result"
    }
   ],
   "source": [
    "grader.check(\"q2_2_2\")"
   ]
  },
  {
   "cell_type": "markdown",
   "metadata": {},
   "source": [
    "## 2.3 Reading a DataFrame from a file\n",
    "In most cases, we aren't going to go through the trouble of typing in all the data manually. Instead, we can use functions provided by `babypandas` to read in data from external files.\n",
    "\n",
    "The function `bpd.read_csv` takes one argument, a path to a data file (a string), and returns a DataFrame.  There are many formats for data files, but CSV (\"comma-separated values\") is the most common. \n",
    "\n",
    "**Question 2.3.1.** The file `data/imdb.csv` contains information about the 250 highest-rated movies on IMDb.  Load it as a DataFrame called `imdb`."
   ]
  },
  {
   "cell_type": "code",
   "execution_count": 176,
   "metadata": {},
   "outputs": [
    {
     "data": {
      "text/html": [
       "<div>\n",
       "<style scoped>\n",
       "    .dataframe tbody tr th:only-of-type {\n",
       "        vertical-align: middle;\n",
       "    }\n",
       "\n",
       "    .dataframe tbody tr th {\n",
       "        vertical-align: top;\n",
       "    }\n",
       "\n",
       "    .dataframe thead th {\n",
       "        text-align: right;\n",
       "    }\n",
       "</style>\n",
       "<table border=\"1\" class=\"dataframe\">\n",
       "  <thead>\n",
       "    <tr style=\"text-align: right;\">\n",
       "      <th></th>\n",
       "      <th>Votes</th>\n",
       "      <th>Rating</th>\n",
       "      <th>Title</th>\n",
       "      <th>Year</th>\n",
       "      <th>Decade</th>\n",
       "    </tr>\n",
       "  </thead>\n",
       "  <tbody>\n",
       "    <tr>\n",
       "      <th>0</th>\n",
       "      <td>88355</td>\n",
       "      <td>8.4</td>\n",
       "      <td>M</td>\n",
       "      <td>1931</td>\n",
       "      <td>1930</td>\n",
       "    </tr>\n",
       "    <tr>\n",
       "      <th>1</th>\n",
       "      <td>132823</td>\n",
       "      <td>8.3</td>\n",
       "      <td>Singin' in the Rain</td>\n",
       "      <td>1952</td>\n",
       "      <td>1950</td>\n",
       "    </tr>\n",
       "    <tr>\n",
       "      <th>2</th>\n",
       "      <td>74178</td>\n",
       "      <td>8.3</td>\n",
       "      <td>All About Eve</td>\n",
       "      <td>1950</td>\n",
       "      <td>1950</td>\n",
       "    </tr>\n",
       "    <tr>\n",
       "      <th>3</th>\n",
       "      <td>635139</td>\n",
       "      <td>8.6</td>\n",
       "      <td>Léon</td>\n",
       "      <td>1994</td>\n",
       "      <td>1990</td>\n",
       "    </tr>\n",
       "    <tr>\n",
       "      <th>4</th>\n",
       "      <td>145514</td>\n",
       "      <td>8.2</td>\n",
       "      <td>The Elephant Man</td>\n",
       "      <td>1980</td>\n",
       "      <td>1980</td>\n",
       "    </tr>\n",
       "    <tr>\n",
       "      <th>...</th>\n",
       "      <td>...</td>\n",
       "      <td>...</td>\n",
       "      <td>...</td>\n",
       "      <td>...</td>\n",
       "      <td>...</td>\n",
       "    </tr>\n",
       "    <tr>\n",
       "      <th>245</th>\n",
       "      <td>1078416</td>\n",
       "      <td>8.7</td>\n",
       "      <td>Forrest Gump</td>\n",
       "      <td>1994</td>\n",
       "      <td>1990</td>\n",
       "    </tr>\n",
       "    <tr>\n",
       "      <th>246</th>\n",
       "      <td>31003</td>\n",
       "      <td>8.1</td>\n",
       "      <td>Le salaire de la peur</td>\n",
       "      <td>1953</td>\n",
       "      <td>1950</td>\n",
       "    </tr>\n",
       "    <tr>\n",
       "      <th>247</th>\n",
       "      <td>167076</td>\n",
       "      <td>8.2</td>\n",
       "      <td>3 Idiots</td>\n",
       "      <td>2009</td>\n",
       "      <td>2000</td>\n",
       "    </tr>\n",
       "    <tr>\n",
       "      <th>248</th>\n",
       "      <td>91689</td>\n",
       "      <td>8.1</td>\n",
       "      <td>Network</td>\n",
       "      <td>1976</td>\n",
       "      <td>1970</td>\n",
       "    </tr>\n",
       "    <tr>\n",
       "      <th>249</th>\n",
       "      <td>589477</td>\n",
       "      <td>8.3</td>\n",
       "      <td>Eternal Sunshine of the Spotless Mind</td>\n",
       "      <td>2004</td>\n",
       "      <td>2000</td>\n",
       "    </tr>\n",
       "  </tbody>\n",
       "</table>\n",
       "<p>250 rows × 5 columns</p>\n",
       "</div>"
      ],
      "text/plain": [
       "       Votes  Rating                                  Title  Year  Decade\n",
       "0      88355     8.4                                      M  1931    1930\n",
       "1     132823     8.3                    Singin' in the Rain  1952    1950\n",
       "2      74178     8.3                          All About Eve  1950    1950\n",
       "3     635139     8.6                                   Léon  1994    1990\n",
       "4     145514     8.2                       The Elephant Man  1980    1980\n",
       "..       ...     ...                                    ...   ...     ...\n",
       "245  1078416     8.7                           Forrest Gump  1994    1990\n",
       "246    31003     8.1                  Le salaire de la peur  1953    1950\n",
       "247   167076     8.2                               3 Idiots  2009    2000\n",
       "248    91689     8.1                                Network  1976    1970\n",
       "249   589477     8.3  Eternal Sunshine of the Spotless Mind  2004    2000\n",
       "\n",
       "[250 rows x 5 columns]"
      ]
     },
     "execution_count": 176,
     "metadata": {},
     "output_type": "execute_result"
    }
   ],
   "source": [
    "imdb = bpd.read_csv('data/imdb.csv')\n",
    "imdb"
   ]
  },
  {
   "cell_type": "code",
   "execution_count": 177,
   "metadata": {
    "deletable": false,
    "editable": false
   },
   "outputs": [
    {
     "data": {
      "text/html": [
       "<p><strong><pre style='display: inline;'>q2_3_1</pre></strong> passed!</p>"
      ],
      "text/plain": [
       "q2_3_1 results: All test cases passed!"
      ]
     },
     "execution_count": 177,
     "metadata": {},
     "output_type": "execute_result"
    }
   ],
   "source": [
    "grader.check(\"q2_3_1\")"
   ]
  },
  {
   "cell_type": "markdown",
   "metadata": {},
   "source": [
    "Notice the dots in the middle of the DataFrame. This means that a lot of the rows have been omitted. This DataFrame is big enough that only a few of its rows are displayed, but the others are still there.  There are 250 movies total.\n",
    "\n",
    "Where did `imdb.csv` come from? Take a look at [this lab's folder](./). If you go into the `data/` directory, you should see a file called `imdb.csv`.\n",
    "\n",
    "Open up the `imdb.csv` file in that folder and look at the format. What do you notice? The `.csv` filename ending says that this file is in the [CSV (comma-separated value) format](http://edoceo.com/utilitas/csv-file-format)."
   ]
  },
  {
   "cell_type": "markdown",
   "metadata": {},
   "source": [
    "**Question 2.3.2.** This is a data set of movies, so it makes sense to use the movie title as the row label. Create a new DataFrame called `imdb_by_name` which uses the movie title as the index."
   ]
  },
  {
   "cell_type": "code",
   "execution_count": 178,
   "metadata": {},
   "outputs": [
    {
     "data": {
      "text/html": [
       "<div>\n",
       "<style scoped>\n",
       "    .dataframe tbody tr th:only-of-type {\n",
       "        vertical-align: middle;\n",
       "    }\n",
       "\n",
       "    .dataframe tbody tr th {\n",
       "        vertical-align: top;\n",
       "    }\n",
       "\n",
       "    .dataframe thead th {\n",
       "        text-align: right;\n",
       "    }\n",
       "</style>\n",
       "<table border=\"1\" class=\"dataframe\">\n",
       "  <thead>\n",
       "    <tr style=\"text-align: right;\">\n",
       "      <th></th>\n",
       "      <th>Votes</th>\n",
       "      <th>Rating</th>\n",
       "      <th>Year</th>\n",
       "      <th>Decade</th>\n",
       "    </tr>\n",
       "    <tr>\n",
       "      <th>Title</th>\n",
       "      <th></th>\n",
       "      <th></th>\n",
       "      <th></th>\n",
       "      <th></th>\n",
       "    </tr>\n",
       "  </thead>\n",
       "  <tbody>\n",
       "    <tr>\n",
       "      <th>M</th>\n",
       "      <td>88355</td>\n",
       "      <td>8.4</td>\n",
       "      <td>1931</td>\n",
       "      <td>1930</td>\n",
       "    </tr>\n",
       "    <tr>\n",
       "      <th>Singin' in the Rain</th>\n",
       "      <td>132823</td>\n",
       "      <td>8.3</td>\n",
       "      <td>1952</td>\n",
       "      <td>1950</td>\n",
       "    </tr>\n",
       "    <tr>\n",
       "      <th>All About Eve</th>\n",
       "      <td>74178</td>\n",
       "      <td>8.3</td>\n",
       "      <td>1950</td>\n",
       "      <td>1950</td>\n",
       "    </tr>\n",
       "    <tr>\n",
       "      <th>Léon</th>\n",
       "      <td>635139</td>\n",
       "      <td>8.6</td>\n",
       "      <td>1994</td>\n",
       "      <td>1990</td>\n",
       "    </tr>\n",
       "    <tr>\n",
       "      <th>The Elephant Man</th>\n",
       "      <td>145514</td>\n",
       "      <td>8.2</td>\n",
       "      <td>1980</td>\n",
       "      <td>1980</td>\n",
       "    </tr>\n",
       "    <tr>\n",
       "      <th>...</th>\n",
       "      <td>...</td>\n",
       "      <td>...</td>\n",
       "      <td>...</td>\n",
       "      <td>...</td>\n",
       "    </tr>\n",
       "    <tr>\n",
       "      <th>Forrest Gump</th>\n",
       "      <td>1078416</td>\n",
       "      <td>8.7</td>\n",
       "      <td>1994</td>\n",
       "      <td>1990</td>\n",
       "    </tr>\n",
       "    <tr>\n",
       "      <th>Le salaire de la peur</th>\n",
       "      <td>31003</td>\n",
       "      <td>8.1</td>\n",
       "      <td>1953</td>\n",
       "      <td>1950</td>\n",
       "    </tr>\n",
       "    <tr>\n",
       "      <th>3 Idiots</th>\n",
       "      <td>167076</td>\n",
       "      <td>8.2</td>\n",
       "      <td>2009</td>\n",
       "      <td>2000</td>\n",
       "    </tr>\n",
       "    <tr>\n",
       "      <th>Network</th>\n",
       "      <td>91689</td>\n",
       "      <td>8.1</td>\n",
       "      <td>1976</td>\n",
       "      <td>1970</td>\n",
       "    </tr>\n",
       "    <tr>\n",
       "      <th>Eternal Sunshine of the Spotless Mind</th>\n",
       "      <td>589477</td>\n",
       "      <td>8.3</td>\n",
       "      <td>2004</td>\n",
       "      <td>2000</td>\n",
       "    </tr>\n",
       "  </tbody>\n",
       "</table>\n",
       "<p>250 rows × 4 columns</p>\n",
       "</div>"
      ],
      "text/plain": [
       "                                         Votes  Rating  Year  Decade\n",
       "Title                                                               \n",
       "M                                        88355     8.4  1931    1930\n",
       "Singin' in the Rain                     132823     8.3  1952    1950\n",
       "All About Eve                            74178     8.3  1950    1950\n",
       "Léon                                    635139     8.6  1994    1990\n",
       "The Elephant Man                        145514     8.2  1980    1980\n",
       "...                                        ...     ...   ...     ...\n",
       "Forrest Gump                           1078416     8.7  1994    1990\n",
       "Le salaire de la peur                    31003     8.1  1953    1950\n",
       "3 Idiots                                167076     8.2  2009    2000\n",
       "Network                                  91689     8.1  1976    1970\n",
       "Eternal Sunshine of the Spotless Mind   589477     8.3  2004    2000\n",
       "\n",
       "[250 rows x 4 columns]"
      ]
     },
     "execution_count": 178,
     "metadata": {},
     "output_type": "execute_result"
    }
   ],
   "source": [
    "imdb_by_name = imdb.set_index('Title')\n",
    "imdb_by_name"
   ]
  },
  {
   "cell_type": "code",
   "execution_count": 179,
   "metadata": {
    "deletable": false,
    "editable": false
   },
   "outputs": [
    {
     "data": {
      "text/html": [
       "<p><strong><pre style='display: inline;'>q2_3_2</pre></strong> passed!</p>"
      ],
      "text/plain": [
       "q2_3_2 results: All test cases passed!"
      ]
     },
     "execution_count": 179,
     "metadata": {},
     "output_type": "execute_result"
    }
   ],
   "source": [
    "grader.check(\"q2_3_2\")"
   ]
  },
  {
   "cell_type": "markdown",
   "metadata": {},
   "source": [
    "## 2.4. Series\n",
    "\n"
   ]
  },
  {
   "cell_type": "markdown",
   "metadata": {},
   "source": [
    "Suppose we're interested primarily in movie ratings. To extract just this column from the DataFrame, we use the `.get` method:"
   ]
  },
  {
   "cell_type": "code",
   "execution_count": 180,
   "metadata": {},
   "outputs": [
    {
     "data": {
      "text/plain": [
       "Title\n",
       "M                                        8.4\n",
       "Singin' in the Rain                      8.3\n",
       "All About Eve                            8.3\n",
       "Léon                                     8.6\n",
       "The Elephant Man                         8.2\n",
       "                                        ... \n",
       "Forrest Gump                             8.7\n",
       "Le salaire de la peur                    8.1\n",
       "3 Idiots                                 8.2\n",
       "Network                                  8.1\n",
       "Eternal Sunshine of the Spotless Mind    8.3\n",
       "Name: Rating, Length: 250, dtype: float64"
      ]
     },
     "execution_count": 180,
     "metadata": {},
     "output_type": "execute_result"
    }
   ],
   "source": [
    "ratings = imdb_by_name.get('Rating')\n",
    "ratings"
   ]
  },
  {
   "cell_type": "markdown",
   "metadata": {},
   "source": [
    "Notice how not only the movie ratings have been returned, but also the name of the movie! This is precisely because we have set the movie title to be the index! For example, if we had asked for the `\"Rating\"` column of the original DataFrame, `imdb`, we would see:"
   ]
  },
  {
   "cell_type": "code",
   "execution_count": 181,
   "metadata": {},
   "outputs": [
    {
     "data": {
      "text/plain": [
       "0      8.4\n",
       "1      8.3\n",
       "2      8.3\n",
       "3      8.6\n",
       "4      8.2\n",
       "      ... \n",
       "245    8.7\n",
       "246    8.1\n",
       "247    8.2\n",
       "248    8.1\n",
       "249    8.3\n",
       "Name: Rating, Length: 250, dtype: float64"
      ]
     },
     "execution_count": 181,
     "metadata": {},
     "output_type": "execute_result"
    }
   ],
   "source": [
    "imdb.get('Rating')"
   ]
  },
  {
   "cell_type": "markdown",
   "metadata": {},
   "source": [
    "This is one way in which indices are very useful - they provide meaningful labels for the data."
   ]
  },
  {
   "cell_type": "markdown",
   "metadata": {},
   "source": [
    "At first glance, it might look like asking for a column using `.get` returns a DataFrame with one column, but that's not quite right. Instead, it returns a special type of thing called a *Series*:"
   ]
  },
  {
   "cell_type": "code",
   "execution_count": 182,
   "metadata": {},
   "outputs": [
    {
     "data": {
      "text/plain": [
       "babypandas.bpd.Series"
      ]
     },
     "execution_count": 182,
     "metadata": {},
     "output_type": "execute_result"
    }
   ],
   "source": [
    "type(imdb_by_name.get('Rating'))"
   ]
  },
  {
   "cell_type": "markdown",
   "metadata": {},
   "source": [
    "You can think of a `Series` as an array with an index. Whereas arrays are simple sequences of numbers without labels, `Series` can have labels. This is often very useful.\n",
    "\n",
    "`ratings` is now a `Series` which contains the column of movie ratings. Suppose we're interested in the rating of a particular movie: _Alien_. To do so, we will use the `.loc` *accessor* which pulls a value from the Series at a particular *loc*ation:"
   ]
  },
  {
   "cell_type": "code",
   "execution_count": 183,
   "metadata": {},
   "outputs": [
    {
     "data": {
      "text/plain": [
       "8.5"
      ]
     },
     "execution_count": 183,
     "metadata": {},
     "output_type": "execute_result"
    }
   ],
   "source": [
    "ratings.loc['Alien']"
   ]
  },
  {
   "cell_type": "markdown",
   "metadata": {},
   "source": [
    "There are a couple of things to note here. First, those are square brackets around `\"Alien\"`. This is because `.loc` is not a method, but an *accessor*. The square brackets signal that we're going to be extracting an element from the `Series`. Second, we passed in the label as a string."
   ]
  },
  {
   "cell_type": "markdown",
   "metadata": {},
   "source": [
    "**Question 2.4.1.** Find the rating of _3 Idiots_."
   ]
  },
  {
   "cell_type": "code",
   "execution_count": 184,
   "metadata": {},
   "outputs": [
    {
     "data": {
      "text/plain": [
       "8.2"
      ]
     },
     "execution_count": 184,
     "metadata": {},
     "output_type": "execute_result"
    }
   ],
   "source": [
    "three_idiots_rating = ratings.loc[\"3 Idiots\"]\n",
    "three_idiots_rating"
   ]
  },
  {
   "cell_type": "code",
   "execution_count": 185,
   "metadata": {
    "deletable": false,
    "editable": false
   },
   "outputs": [
    {
     "data": {
      "text/html": [
       "<p><strong><pre style='display: inline;'>q2_4_1</pre></strong> passed!</p>"
      ],
      "text/plain": [
       "q2_4_1 results: All test cases passed!"
      ]
     },
     "execution_count": 185,
     "metadata": {},
     "output_type": "execute_result"
    }
   ],
   "source": [
    "grader.check(\"q2_4_1\")"
   ]
  },
  {
   "cell_type": "markdown",
   "metadata": {},
   "source": [
    "Now suppose we wanted to know the year in which _Alien_ was released. We could do this by first getting the column of years:"
   ]
  },
  {
   "cell_type": "code",
   "execution_count": 186,
   "metadata": {},
   "outputs": [
    {
     "data": {
      "text/plain": [
       "Title\n",
       "M                                        1931\n",
       "Singin' in the Rain                      1952\n",
       "All About Eve                            1950\n",
       "Léon                                     1994\n",
       "The Elephant Man                         1980\n",
       "                                         ... \n",
       "Forrest Gump                             1994\n",
       "Le salaire de la peur                    1953\n",
       "3 Idiots                                 2009\n",
       "Network                                  1976\n",
       "Eternal Sunshine of the Spotless Mind    2004\n",
       "Name: Year, Length: 250, dtype: int64"
      ]
     },
     "execution_count": 186,
     "metadata": {},
     "output_type": "execute_result"
    }
   ],
   "source": [
    "years = imdb_by_name.get('Year')\n",
    "years"
   ]
  },
  {
   "cell_type": "markdown",
   "metadata": {},
   "source": [
    "And then using `.loc` to get the right entry:"
   ]
  },
  {
   "cell_type": "code",
   "execution_count": 187,
   "metadata": {},
   "outputs": [
    {
     "data": {
      "text/plain": [
       "1979"
      ]
     },
     "execution_count": 187,
     "metadata": {},
     "output_type": "execute_result"
    }
   ],
   "source": [
    "years.loc['Alien']"
   ]
  },
  {
   "cell_type": "markdown",
   "metadata": {},
   "source": [
    "We could also do this in one step by *chaining* the operations together:"
   ]
  },
  {
   "cell_type": "code",
   "execution_count": 188,
   "metadata": {},
   "outputs": [
    {
     "data": {
      "text/plain": [
       "1979"
      ]
     },
     "execution_count": 188,
     "metadata": {},
     "output_type": "execute_result"
    }
   ],
   "source": [
    "imdb_by_name.get('Year').loc['Alien']"
   ]
  },
  {
   "cell_type": "markdown",
   "metadata": {},
   "source": [
    "This works because Python first evaluates `imdb_by_name.get('Year')` to a Series. It then evaluates the `.loc['Alien']` to return the year.\n",
    "\n",
    "Chaining is used pretty frequently and can be handy. Just be sure not to chain *too* many things together that your code gets hard to read. You can always save an intermediate result to a variable."
   ]
  },
  {
   "cell_type": "markdown",
   "metadata": {},
   "source": [
    "**Question 2.4.2** Find the decade in which _Gone Girl_ was released using chaining. \n",
    "\n",
    "**_Hint:_**  `imdb_by_name` has a column named `'Decade'`."
   ]
  },
  {
   "cell_type": "code",
   "execution_count": 189,
   "metadata": {},
   "outputs": [
    {
     "data": {
      "text/plain": [
       "2010"
      ]
     },
     "execution_count": 189,
     "metadata": {},
     "output_type": "execute_result"
    }
   ],
   "source": [
    "decade = imdb_by_name.get('Decade').loc['Gone Girl']\n",
    "decade"
   ]
  },
  {
   "cell_type": "code",
   "execution_count": 190,
   "metadata": {
    "deletable": false,
    "editable": false
   },
   "outputs": [
    {
     "data": {
      "text/html": [
       "<p><strong><pre style='display: inline;'>q2_4_2</pre></strong> passed!</p>"
      ],
      "text/plain": [
       "q2_4_2 results: All test cases passed!"
      ]
     },
     "execution_count": 190,
     "metadata": {},
     "output_type": "execute_result"
    }
   ],
   "source": [
    "grader.check(\"q2_4_2\")"
   ]
  },
  {
   "cell_type": "markdown",
   "metadata": {},
   "source": [
    "# 3. Analyzing datasets\n",
    "\n",
    "With just a few DataFrame methods, we can answer some interesting questions about the IMDb dataset.\n",
    "\n",
    "If we want just the ratings of the movies, we can use `.get`:"
   ]
  },
  {
   "cell_type": "code",
   "execution_count": 191,
   "metadata": {},
   "outputs": [
    {
     "data": {
      "text/plain": [
       "Title\n",
       "M                                        8.4\n",
       "Singin' in the Rain                      8.3\n",
       "All About Eve                            8.3\n",
       "Léon                                     8.6\n",
       "The Elephant Man                         8.2\n",
       "                                        ... \n",
       "Forrest Gump                             8.7\n",
       "Le salaire de la peur                    8.1\n",
       "3 Idiots                                 8.2\n",
       "Network                                  8.1\n",
       "Eternal Sunshine of the Spotless Mind    8.3\n",
       "Name: Rating, Length: 250, dtype: float64"
      ]
     },
     "execution_count": 191,
     "metadata": {},
     "output_type": "execute_result"
    }
   ],
   "source": [
    "ratings = imdb_by_name.get('Rating')\n",
    "ratings"
   ]
  },
  {
   "cell_type": "markdown",
   "metadata": {},
   "source": [
    "Remember that `ratings` is a Series. Series objects have some useful methods."
   ]
  },
  {
   "cell_type": "markdown",
   "metadata": {},
   "source": [
    "**Question 3.1.** Find the rating of the highest-rated movie in the dataset.\n",
    "\n",
    "**_Hint:_**  Type `ratings.` and hit Tab to see a list of the available methods. Is there one that looks useful?"
   ]
  },
  {
   "cell_type": "code",
   "execution_count": 192,
   "metadata": {},
   "outputs": [
    {
     "data": {
      "text/plain": [
       "9.2"
      ]
     },
     "execution_count": 192,
     "metadata": {},
     "output_type": "execute_result"
    }
   ],
   "source": [
    "#either of these work\n",
    "#highest_rating = ratings.sort_values(ascending = False).iloc[0]\n",
    "highest_rating = ratings.max()\n",
    "highest_rating"
   ]
  },
  {
   "cell_type": "code",
   "execution_count": 193,
   "metadata": {
    "deletable": false,
    "editable": false
   },
   "outputs": [
    {
     "data": {
      "text/html": [
       "<p><strong><pre style='display: inline;'>q3_1</pre></strong> passed!</p>"
      ],
      "text/plain": [
       "q3_1 results: All test cases passed!"
      ]
     },
     "execution_count": 193,
     "metadata": {},
     "output_type": "execute_result"
    }
   ],
   "source": [
    "grader.check(\"q3_1\")"
   ]
  },
  {
   "cell_type": "markdown",
   "metadata": {},
   "source": [
    "You probably want to know the *name* of the movie whose rating you found!  To do that, we can sort the whole Series using the `.sort_values` method:"
   ]
  },
  {
   "cell_type": "code",
   "execution_count": 194,
   "metadata": {},
   "outputs": [
    {
     "data": {
      "text/plain": [
       "Title\n",
       "Akira                               8.0\n",
       "Per un pugno di dollari             8.0\n",
       "Guardians of the Galaxy             8.0\n",
       "The Man Who Shot Liberty Valance    8.0\n",
       "Underground                         8.0\n",
       "                                   ... \n",
       "Schindler's List                    8.9\n",
       "12 Angry Men                        8.9\n",
       "The Godfather: Part II              9.0\n",
       "The Shawshank Redemption            9.2\n",
       "The Godfather                       9.2\n",
       "Name: Rating, Length: 250, dtype: float64"
      ]
     },
     "execution_count": 194,
     "metadata": {},
     "output_type": "execute_result"
    }
   ],
   "source": [
    "ratings.sort_values()"
   ]
  },
  {
   "cell_type": "markdown",
   "metadata": {},
   "source": [
    "So there are actually 2 highest-rated movies in the dataset: *The Shawshank Redemption* and *The Godfather*.\n",
    "\n",
    "Notice that we are sorting by the ratings, not the labels! The label moves with the rating as it is sorted. This is exactly what we want.\n",
    "\n",
    "When we use the `sort_values` method, the resulting Series has the data sorted in ascending order, from small to large. This is the default behavior of `sort_values`, but we can change that. Had we wanted the highest rated movies on top, we would need to specify that the sorting should not be in ascending order with an optional *keyword argument*:\n"
   ]
  },
  {
   "cell_type": "code",
   "execution_count": 195,
   "metadata": {},
   "outputs": [
    {
     "data": {
      "text/plain": [
       "Title\n",
       "The Godfather                             9.2\n",
       "The Shawshank Redemption                  9.2\n",
       "The Godfather: Part II                    9.0\n",
       "12 Angry Men                              8.9\n",
       "Il buono, il brutto, il cattivo (1966)    8.9\n",
       "                                         ... \n",
       "Monsters, Inc. (2001)                     8.0\n",
       "The Big Sleep                             8.0\n",
       "X-Men: Days of Future Past                8.0\n",
       "Roman Holiday                             8.0\n",
       "Kumonosu-jô                               8.0\n",
       "Name: Rating, Length: 250, dtype: float64"
      ]
     },
     "execution_count": 195,
     "metadata": {},
     "output_type": "execute_result"
    }
   ],
   "source": [
    "ratings.sort_values(ascending=False)"
   ]
  },
  {
   "cell_type": "markdown",
   "metadata": {},
   "source": [
    "If we set the keyword argument `ascending` to `True`, we get the same result as if we did not set it at all. This is what we mean when we say that the default behavior of `sort_values` is to sort in ascending order. Confirm that the next two cells give the same output."
   ]
  },
  {
   "cell_type": "code",
   "execution_count": 196,
   "metadata": {},
   "outputs": [
    {
     "data": {
      "text/plain": [
       "Title\n",
       "Akira                               8.0\n",
       "Per un pugno di dollari             8.0\n",
       "Guardians of the Galaxy             8.0\n",
       "The Man Who Shot Liberty Valance    8.0\n",
       "Underground                         8.0\n",
       "                                   ... \n",
       "Schindler's List                    8.9\n",
       "12 Angry Men                        8.9\n",
       "The Godfather: Part II              9.0\n",
       "The Shawshank Redemption            9.2\n",
       "The Godfather                       9.2\n",
       "Name: Rating, Length: 250, dtype: float64"
      ]
     },
     "execution_count": 196,
     "metadata": {},
     "output_type": "execute_result"
    }
   ],
   "source": [
    "ratings.sort_values(ascending=True)"
   ]
  },
  {
   "cell_type": "code",
   "execution_count": 197,
   "metadata": {},
   "outputs": [
    {
     "data": {
      "text/plain": [
       "Title\n",
       "Akira                               8.0\n",
       "Per un pugno di dollari             8.0\n",
       "Guardians of the Galaxy             8.0\n",
       "The Man Who Shot Liberty Valance    8.0\n",
       "Underground                         8.0\n",
       "                                   ... \n",
       "Schindler's List                    8.9\n",
       "12 Angry Men                        8.9\n",
       "The Godfather: Part II              9.0\n",
       "The Shawshank Redemption            9.2\n",
       "The Godfather                       9.2\n",
       "Name: Rating, Length: 250, dtype: float64"
      ]
     },
     "execution_count": 197,
     "metadata": {},
     "output_type": "execute_result"
    }
   ],
   "source": [
    "ratings.sort_values()"
   ]
  },
  {
   "cell_type": "markdown",
   "metadata": {},
   "source": [
    "Not only can we sort Series, but we can sort entire DataFrames, too. When we do that, we have to specify the column to sort by:"
   ]
  },
  {
   "cell_type": "code",
   "execution_count": 198,
   "metadata": {},
   "outputs": [
    {
     "data": {
      "text/html": [
       "<div>\n",
       "<style scoped>\n",
       "    .dataframe tbody tr th:only-of-type {\n",
       "        vertical-align: middle;\n",
       "    }\n",
       "\n",
       "    .dataframe tbody tr th {\n",
       "        vertical-align: top;\n",
       "    }\n",
       "\n",
       "    .dataframe thead th {\n",
       "        text-align: right;\n",
       "    }\n",
       "</style>\n",
       "<table border=\"1\" class=\"dataframe\">\n",
       "  <thead>\n",
       "    <tr style=\"text-align: right;\">\n",
       "      <th></th>\n",
       "      <th>Votes</th>\n",
       "      <th>Rating</th>\n",
       "      <th>Year</th>\n",
       "      <th>Decade</th>\n",
       "    </tr>\n",
       "    <tr>\n",
       "      <th>Title</th>\n",
       "      <th></th>\n",
       "      <th></th>\n",
       "      <th></th>\n",
       "      <th></th>\n",
       "    </tr>\n",
       "  </thead>\n",
       "  <tbody>\n",
       "    <tr>\n",
       "      <th>Akira</th>\n",
       "      <td>91652</td>\n",
       "      <td>8.0</td>\n",
       "      <td>1988</td>\n",
       "      <td>1980</td>\n",
       "    </tr>\n",
       "    <tr>\n",
       "      <th>Per un pugno di dollari</th>\n",
       "      <td>124671</td>\n",
       "      <td>8.0</td>\n",
       "      <td>1964</td>\n",
       "      <td>1960</td>\n",
       "    </tr>\n",
       "    <tr>\n",
       "      <th>Guardians of the Galaxy</th>\n",
       "      <td>527349</td>\n",
       "      <td>8.0</td>\n",
       "      <td>2014</td>\n",
       "      <td>2010</td>\n",
       "    </tr>\n",
       "    <tr>\n",
       "      <th>The Man Who Shot Liberty Valance</th>\n",
       "      <td>49135</td>\n",
       "      <td>8.0</td>\n",
       "      <td>1962</td>\n",
       "      <td>1960</td>\n",
       "    </tr>\n",
       "    <tr>\n",
       "      <th>Underground</th>\n",
       "      <td>39447</td>\n",
       "      <td>8.0</td>\n",
       "      <td>1995</td>\n",
       "      <td>1990</td>\n",
       "    </tr>\n",
       "    <tr>\n",
       "      <th>...</th>\n",
       "      <td>...</td>\n",
       "      <td>...</td>\n",
       "      <td>...</td>\n",
       "      <td>...</td>\n",
       "    </tr>\n",
       "    <tr>\n",
       "      <th>Schindler's List</th>\n",
       "      <td>761224</td>\n",
       "      <td>8.9</td>\n",
       "      <td>1993</td>\n",
       "      <td>1990</td>\n",
       "    </tr>\n",
       "    <tr>\n",
       "      <th>12 Angry Men</th>\n",
       "      <td>384187</td>\n",
       "      <td>8.9</td>\n",
       "      <td>1957</td>\n",
       "      <td>1950</td>\n",
       "    </tr>\n",
       "    <tr>\n",
       "      <th>The Godfather: Part II</th>\n",
       "      <td>692753</td>\n",
       "      <td>9.0</td>\n",
       "      <td>1974</td>\n",
       "      <td>1970</td>\n",
       "    </tr>\n",
       "    <tr>\n",
       "      <th>The Shawshank Redemption</th>\n",
       "      <td>1498733</td>\n",
       "      <td>9.2</td>\n",
       "      <td>1994</td>\n",
       "      <td>1990</td>\n",
       "    </tr>\n",
       "    <tr>\n",
       "      <th>The Godfather</th>\n",
       "      <td>1027398</td>\n",
       "      <td>9.2</td>\n",
       "      <td>1972</td>\n",
       "      <td>1970</td>\n",
       "    </tr>\n",
       "  </tbody>\n",
       "</table>\n",
       "<p>250 rows × 4 columns</p>\n",
       "</div>"
      ],
      "text/plain": [
       "                                    Votes  Rating  Year  Decade\n",
       "Title                                                          \n",
       "Akira                               91652     8.0  1988    1980\n",
       "Per un pugno di dollari            124671     8.0  1964    1960\n",
       "Guardians of the Galaxy            527349     8.0  2014    2010\n",
       "The Man Who Shot Liberty Valance    49135     8.0  1962    1960\n",
       "Underground                         39447     8.0  1995    1990\n",
       "...                                   ...     ...   ...     ...\n",
       "Schindler's List                   761224     8.9  1993    1990\n",
       "12 Angry Men                       384187     8.9  1957    1950\n",
       "The Godfather: Part II             692753     9.0  1974    1970\n",
       "The Shawshank Redemption          1498733     9.2  1994    1990\n",
       "The Godfather                     1027398     9.2  1972    1970\n",
       "\n",
       "[250 rows x 4 columns]"
      ]
     },
     "execution_count": 198,
     "metadata": {},
     "output_type": "execute_result"
    }
   ],
   "source": [
    "imdb_by_name.sort_values('Rating')"
   ]
  },
  {
   "cell_type": "markdown",
   "metadata": {},
   "source": [
    "Similarly, we can specify that the sort should be in descending order:"
   ]
  },
  {
   "cell_type": "code",
   "execution_count": 199,
   "metadata": {},
   "outputs": [
    {
     "data": {
      "text/html": [
       "<div>\n",
       "<style scoped>\n",
       "    .dataframe tbody tr th:only-of-type {\n",
       "        vertical-align: middle;\n",
       "    }\n",
       "\n",
       "    .dataframe tbody tr th {\n",
       "        vertical-align: top;\n",
       "    }\n",
       "\n",
       "    .dataframe thead th {\n",
       "        text-align: right;\n",
       "    }\n",
       "</style>\n",
       "<table border=\"1\" class=\"dataframe\">\n",
       "  <thead>\n",
       "    <tr style=\"text-align: right;\">\n",
       "      <th></th>\n",
       "      <th>Votes</th>\n",
       "      <th>Rating</th>\n",
       "      <th>Year</th>\n",
       "      <th>Decade</th>\n",
       "    </tr>\n",
       "    <tr>\n",
       "      <th>Title</th>\n",
       "      <th></th>\n",
       "      <th></th>\n",
       "      <th></th>\n",
       "      <th></th>\n",
       "    </tr>\n",
       "  </thead>\n",
       "  <tbody>\n",
       "    <tr>\n",
       "      <th>The Godfather</th>\n",
       "      <td>1027398</td>\n",
       "      <td>9.2</td>\n",
       "      <td>1972</td>\n",
       "      <td>1970</td>\n",
       "    </tr>\n",
       "    <tr>\n",
       "      <th>The Shawshank Redemption</th>\n",
       "      <td>1498733</td>\n",
       "      <td>9.2</td>\n",
       "      <td>1994</td>\n",
       "      <td>1990</td>\n",
       "    </tr>\n",
       "    <tr>\n",
       "      <th>The Godfather: Part II</th>\n",
       "      <td>692753</td>\n",
       "      <td>9.0</td>\n",
       "      <td>1974</td>\n",
       "      <td>1970</td>\n",
       "    </tr>\n",
       "    <tr>\n",
       "      <th>12 Angry Men</th>\n",
       "      <td>384187</td>\n",
       "      <td>8.9</td>\n",
       "      <td>1957</td>\n",
       "      <td>1950</td>\n",
       "    </tr>\n",
       "    <tr>\n",
       "      <th>Il buono, il brutto, il cattivo (1966)</th>\n",
       "      <td>447875</td>\n",
       "      <td>8.9</td>\n",
       "      <td>1966</td>\n",
       "      <td>1960</td>\n",
       "    </tr>\n",
       "    <tr>\n",
       "      <th>...</th>\n",
       "      <td>...</td>\n",
       "      <td>...</td>\n",
       "      <td>...</td>\n",
       "      <td>...</td>\n",
       "    </tr>\n",
       "    <tr>\n",
       "      <th>Monsters, Inc. (2001)</th>\n",
       "      <td>500576</td>\n",
       "      <td>8.0</td>\n",
       "      <td>2001</td>\n",
       "      <td>2000</td>\n",
       "    </tr>\n",
       "    <tr>\n",
       "      <th>The Big Sleep</th>\n",
       "      <td>59578</td>\n",
       "      <td>8.0</td>\n",
       "      <td>1946</td>\n",
       "      <td>1940</td>\n",
       "    </tr>\n",
       "    <tr>\n",
       "      <th>X-Men: Days of Future Past</th>\n",
       "      <td>427099</td>\n",
       "      <td>8.0</td>\n",
       "      <td>2014</td>\n",
       "      <td>2010</td>\n",
       "    </tr>\n",
       "    <tr>\n",
       "      <th>Roman Holiday</th>\n",
       "      <td>87437</td>\n",
       "      <td>8.0</td>\n",
       "      <td>1953</td>\n",
       "      <td>1950</td>\n",
       "    </tr>\n",
       "    <tr>\n",
       "      <th>Kumonosu-jô</th>\n",
       "      <td>26012</td>\n",
       "      <td>8.0</td>\n",
       "      <td>1957</td>\n",
       "      <td>1950</td>\n",
       "    </tr>\n",
       "  </tbody>\n",
       "</table>\n",
       "<p>250 rows × 4 columns</p>\n",
       "</div>"
      ],
      "text/plain": [
       "                                          Votes  Rating  Year  Decade\n",
       "Title                                                                \n",
       "The Godfather                           1027398     9.2  1972    1970\n",
       "The Shawshank Redemption                1498733     9.2  1994    1990\n",
       "The Godfather: Part II                   692753     9.0  1974    1970\n",
       "12 Angry Men                             384187     8.9  1957    1950\n",
       "Il buono, il brutto, il cattivo (1966)   447875     8.9  1966    1960\n",
       "...                                         ...     ...   ...     ...\n",
       "Monsters, Inc. (2001)                    500576     8.0  2001    2000\n",
       "The Big Sleep                             59578     8.0  1946    1940\n",
       "X-Men: Days of Future Past               427099     8.0  2014    2010\n",
       "Roman Holiday                             87437     8.0  1953    1950\n",
       "Kumonosu-jô                               26012     8.0  1957    1950\n",
       "\n",
       "[250 rows x 4 columns]"
      ]
     },
     "execution_count": 199,
     "metadata": {},
     "output_type": "execute_result"
    }
   ],
   "source": [
    "imdb_by_name.sort_values('Rating', ascending=False)"
   ]
  },
  {
   "cell_type": "markdown",
   "metadata": {},
   "source": [
    "\n",
    "Some details about sorting a DataFrame:\n",
    "\n",
    "1. The first argument to `sort_values` is the name of a column to sort by.\n",
    "2. If the column has strings in it, `sort` will sort alphabetically; if the column has numbers, it will sort numerically.\n",
    "3. `imdb_by_name.sort_values('Rating')` returns a new DataFrame; the `imdb_by_name` DataFrame doesn't get modified. For example, if we called `imdb_by_name.sort('Rating')`, then running `imdb_by_name` by itself would still return the unsorted DataFrame. To save the result, you should assign it to a new variable.\n",
    "4. Rows always stick together when a DataFrame is sorted.  It wouldn't make sense to sort just one column and leave the other columns alone.  For example, in this case, if we sorted just the `'Rating'` column, the movies would all end up with the wrong ratings.\n",
    "\n",
    "**Question 3.2.** Create a version of `imdb_by_name` that's sorted chronologically, with the earliest movies first.  Call it `imdb_sorted`."
   ]
  },
  {
   "cell_type": "code",
   "execution_count": 200,
   "metadata": {},
   "outputs": [
    {
     "data": {
      "text/html": [
       "<div>\n",
       "<style scoped>\n",
       "    .dataframe tbody tr th:only-of-type {\n",
       "        vertical-align: middle;\n",
       "    }\n",
       "\n",
       "    .dataframe tbody tr th {\n",
       "        vertical-align: top;\n",
       "    }\n",
       "\n",
       "    .dataframe thead th {\n",
       "        text-align: right;\n",
       "    }\n",
       "</style>\n",
       "<table border=\"1\" class=\"dataframe\">\n",
       "  <thead>\n",
       "    <tr style=\"text-align: right;\">\n",
       "      <th></th>\n",
       "      <th>Votes</th>\n",
       "      <th>Rating</th>\n",
       "      <th>Year</th>\n",
       "      <th>Decade</th>\n",
       "    </tr>\n",
       "    <tr>\n",
       "      <th>Title</th>\n",
       "      <th></th>\n",
       "      <th></th>\n",
       "      <th></th>\n",
       "      <th></th>\n",
       "    </tr>\n",
       "  </thead>\n",
       "  <tbody>\n",
       "    <tr>\n",
       "      <th>The Kid</th>\n",
       "      <td>55784</td>\n",
       "      <td>8.3</td>\n",
       "      <td>1921</td>\n",
       "      <td>1920</td>\n",
       "    </tr>\n",
       "    <tr>\n",
       "      <th>The Gold Rush</th>\n",
       "      <td>58506</td>\n",
       "      <td>8.2</td>\n",
       "      <td>1925</td>\n",
       "      <td>1920</td>\n",
       "    </tr>\n",
       "    <tr>\n",
       "      <th>The General</th>\n",
       "      <td>46332</td>\n",
       "      <td>8.2</td>\n",
       "      <td>1926</td>\n",
       "      <td>1920</td>\n",
       "    </tr>\n",
       "    <tr>\n",
       "      <th>Metropolis</th>\n",
       "      <td>98794</td>\n",
       "      <td>8.3</td>\n",
       "      <td>1927</td>\n",
       "      <td>1920</td>\n",
       "    </tr>\n",
       "    <tr>\n",
       "      <th>M</th>\n",
       "      <td>88355</td>\n",
       "      <td>8.4</td>\n",
       "      <td>1931</td>\n",
       "      <td>1930</td>\n",
       "    </tr>\n",
       "    <tr>\n",
       "      <th>...</th>\n",
       "      <td>...</td>\n",
       "      <td>...</td>\n",
       "      <td>...</td>\n",
       "      <td>...</td>\n",
       "    </tr>\n",
       "    <tr>\n",
       "      <th>The Grand Budapest Hotel</th>\n",
       "      <td>369141</td>\n",
       "      <td>8.1</td>\n",
       "      <td>2014</td>\n",
       "      <td>2010</td>\n",
       "    </tr>\n",
       "    <tr>\n",
       "      <th>Relatos salvajes</th>\n",
       "      <td>46987</td>\n",
       "      <td>8.0</td>\n",
       "      <td>2014</td>\n",
       "      <td>2010</td>\n",
       "    </tr>\n",
       "    <tr>\n",
       "      <th>Interstellar</th>\n",
       "      <td>689541</td>\n",
       "      <td>8.6</td>\n",
       "      <td>2014</td>\n",
       "      <td>2010</td>\n",
       "    </tr>\n",
       "    <tr>\n",
       "      <th>Mad Max: Fury Road</th>\n",
       "      <td>262425</td>\n",
       "      <td>8.3</td>\n",
       "      <td>2015</td>\n",
       "      <td>2010</td>\n",
       "    </tr>\n",
       "    <tr>\n",
       "      <th>Inside Out (2015/I)</th>\n",
       "      <td>79615</td>\n",
       "      <td>8.5</td>\n",
       "      <td>2015</td>\n",
       "      <td>2010</td>\n",
       "    </tr>\n",
       "  </tbody>\n",
       "</table>\n",
       "<p>250 rows × 4 columns</p>\n",
       "</div>"
      ],
      "text/plain": [
       "                           Votes  Rating  Year  Decade\n",
       "Title                                                 \n",
       "The Kid                    55784     8.3  1921    1920\n",
       "The Gold Rush              58506     8.2  1925    1920\n",
       "The General                46332     8.2  1926    1920\n",
       "Metropolis                 98794     8.3  1927    1920\n",
       "M                          88355     8.4  1931    1930\n",
       "...                          ...     ...   ...     ...\n",
       "The Grand Budapest Hotel  369141     8.1  2014    2010\n",
       "Relatos salvajes           46987     8.0  2014    2010\n",
       "Interstellar              689541     8.6  2014    2010\n",
       "Mad Max: Fury Road        262425     8.3  2015    2010\n",
       "Inside Out (2015/I)        79615     8.5  2015    2010\n",
       "\n",
       "[250 rows x 4 columns]"
      ]
     },
     "execution_count": 200,
     "metadata": {},
     "output_type": "execute_result"
    }
   ],
   "source": [
    "imdb_sorted = imdb_by_name.sort_values('Year')\n",
    "imdb_sorted"
   ]
  },
  {
   "cell_type": "code",
   "execution_count": 201,
   "metadata": {
    "deletable": false,
    "editable": false
   },
   "outputs": [
    {
     "data": {
      "text/html": [
       "<p><strong><pre style='display: inline;'>q3_2</pre></strong> passed!</p>"
      ],
      "text/plain": [
       "q3_2 results: All test cases passed!"
      ]
     },
     "execution_count": 201,
     "metadata": {},
     "output_type": "execute_result"
    }
   ],
   "source": [
    "grader.check(\"q3_2\")"
   ]
  },
  {
   "cell_type": "markdown",
   "metadata": {},
   "source": [
    "**Question 3.3.** What's the title of the earliest (oldest) movie in the dataset?  You could just look this up from the output of the previous cell.  Instead, write Python code to find out.\n",
    "\n",
    "**_Hint:_**  Remember that the index is an array."
   ]
  },
  {
   "cell_type": "code",
   "execution_count": 202,
   "metadata": {},
   "outputs": [
    {
     "data": {
      "text/plain": [
       "'The Kid'"
      ]
     },
     "execution_count": 202,
     "metadata": {},
     "output_type": "execute_result"
    }
   ],
   "source": [
    "earliest_movie_title = imdb_sorted.index[0]\n",
    "earliest_movie_title"
   ]
  },
  {
   "cell_type": "code",
   "execution_count": 203,
   "metadata": {
    "deletable": false,
    "editable": false
   },
   "outputs": [
    {
     "data": {
      "text/html": [
       "<p><strong><pre style='display: inline;'>q3_3</pre></strong> passed!</p>"
      ],
      "text/plain": [
       "q3_3 results: All test cases passed!"
      ]
     },
     "execution_count": 203,
     "metadata": {},
     "output_type": "execute_result"
    }
   ],
   "source": [
    "grader.check(\"q3_3\")"
   ]
  },
  {
   "cell_type": "markdown",
   "metadata": {},
   "source": [
    "Suppose we want to get the rating of the oldest movie in the DataFrame. One way to do this is to first find the index label of the oldest movie (which we've already done). We then extract the `\"Rating\"` column and use `.loc` to find the rating of the oldest movie."
   ]
  },
  {
   "cell_type": "code",
   "execution_count": 204,
   "metadata": {},
   "outputs": [
    {
     "data": {
      "text/plain": [
       "8.3"
      ]
     },
     "execution_count": 204,
     "metadata": {},
     "output_type": "execute_result"
    }
   ],
   "source": [
    "imdb_sorted.get('Rating').loc[earliest_movie_title]"
   ]
  },
  {
   "cell_type": "markdown",
   "metadata": {},
   "source": [
    "There's a faster way, though. A Series not only has a `.loc` accessor, but also an `.iloc` accessor. While `.loc` looks up things by *label*, `.iloc` looks up elements by *integer position*.\n",
    "\n",
    "Let's remember what is in the `'Rating'` column:"
   ]
  },
  {
   "cell_type": "code",
   "execution_count": 205,
   "metadata": {},
   "outputs": [
    {
     "data": {
      "text/plain": [
       "Title\n",
       "The Kid                     8.3\n",
       "The Gold Rush               8.2\n",
       "The General                 8.2\n",
       "Metropolis                  8.3\n",
       "M                           8.4\n",
       "                           ... \n",
       "The Grand Budapest Hotel    8.1\n",
       "Relatos salvajes            8.0\n",
       "Interstellar                8.6\n",
       "Mad Max: Fury Road          8.3\n",
       "Inside Out (2015/I)         8.5\n",
       "Name: Rating, Length: 250, dtype: float64"
      ]
     },
     "execution_count": 205,
     "metadata": {},
     "output_type": "execute_result"
    }
   ],
   "source": [
    "imdb_sorted.get('Rating')"
   ]
  },
  {
   "cell_type": "markdown",
   "metadata": {},
   "source": [
    "If we want the rating of the first row, we can use `.iloc[0]`:"
   ]
  },
  {
   "cell_type": "code",
   "execution_count": 206,
   "metadata": {},
   "outputs": [
    {
     "data": {
      "text/plain": [
       "8.3"
      ]
     },
     "execution_count": 206,
     "metadata": {},
     "output_type": "execute_result"
    }
   ],
   "source": [
    "imdb_sorted.get('Rating').iloc[0]"
   ]
  },
  {
   "cell_type": "markdown",
   "metadata": {},
   "source": [
    "This returns the exact same thing as `imdb_sorted.get('Rating').loc['The Kid']`; these are two ways of doing the same thing. Usually it is more convenient to access an element by its label rather than by its integer position, but both `.loc` and `.iloc` are good to know."
   ]
  },
  {
   "cell_type": "markdown",
   "metadata": {},
   "source": [
    "**Question 3.4.** What is the rating of the fifth oldest movie in the dataset? You could just look this up from the output of the previous cell. Instead, write Python code to find out."
   ]
  },
  {
   "cell_type": "code",
   "execution_count": 207,
   "metadata": {},
   "outputs": [
    {
     "data": {
      "text/plain": [
       "8.4"
      ]
     },
     "execution_count": 207,
     "metadata": {},
     "output_type": "execute_result"
    }
   ],
   "source": [
    "fifth_oldest_rating = imdb_sorted.get(\"Rating\").iloc[4]\n",
    "fifth_oldest_rating"
   ]
  },
  {
   "cell_type": "code",
   "execution_count": 208,
   "metadata": {
    "deletable": false,
    "editable": false
   },
   "outputs": [
    {
     "data": {
      "text/html": [
       "<p><strong><pre style='display: inline;'>q3_4</pre></strong> passed!</p>"
      ],
      "text/plain": [
       "q3_4 results: All test cases passed!"
      ]
     },
     "execution_count": 208,
     "metadata": {},
     "output_type": "execute_result"
    }
   ],
   "source": [
    "grader.check(\"q3_4\")"
   ]
  },
  {
   "cell_type": "markdown",
   "metadata": {},
   "source": [
    "# 4. Finding pieces of a dataset\n",
    "\n",
    "Suppose you're interested in movies from the 1950s.  Sorting the DataFrame by year doesn't help you, because the 1950s are in the middle of the dataset. Instead, we'll use a feature of Series that allows us to easily compare each element in a column to a particular value.\n",
    "\n",
    "First, remember that we can use `.get` to extract a single column. The result is not a DataFrame, but rather a Series:"
   ]
  },
  {
   "cell_type": "code",
   "execution_count": 209,
   "metadata": {},
   "outputs": [
    {
     "data": {
      "text/plain": [
       "Title\n",
       "M                                        1930\n",
       "Singin' in the Rain                      1950\n",
       "All About Eve                            1950\n",
       "Léon                                     1990\n",
       "The Elephant Man                         1980\n",
       "                                         ... \n",
       "Forrest Gump                             1990\n",
       "Le salaire de la peur                    1950\n",
       "3 Idiots                                 2000\n",
       "Network                                  1970\n",
       "Eternal Sunshine of the Spotless Mind    2000\n",
       "Name: Decade, Length: 250, dtype: int64"
      ]
     },
     "execution_count": 209,
     "metadata": {},
     "output_type": "execute_result"
    }
   ],
   "source": [
    "imdb_by_name.get('Decade')"
   ]
  },
  {
   "cell_type": "markdown",
   "metadata": {},
   "source": [
    "We want to check whether each movie is released in the decade 1940. Python gives us a way of checking whether two things are equal with `==` (remember that `=` is already being used for another purpose: it assigns values to variable names):"
   ]
  },
  {
   "cell_type": "code",
   "execution_count": 210,
   "metadata": {},
   "outputs": [
    {
     "data": {
      "text/plain": [
       "False"
      ]
     },
     "execution_count": 210,
     "metadata": {},
     "output_type": "execute_result"
    }
   ],
   "source": [
    "3 == 4"
   ]
  },
  {
   "cell_type": "code",
   "execution_count": 211,
   "metadata": {},
   "outputs": [
    {
     "data": {
      "text/plain": [
       "True"
      ]
     },
     "execution_count": 211,
     "metadata": {},
     "output_type": "execute_result"
    }
   ],
   "source": [
    "3 == 3"
   ]
  },
  {
   "cell_type": "markdown",
   "metadata": {},
   "source": [
    "`True` and `False` are instances of a type that we haven't seen before:"
   ]
  },
  {
   "cell_type": "code",
   "execution_count": 212,
   "metadata": {},
   "outputs": [
    {
     "data": {
      "text/plain": [
       "bool"
      ]
     },
     "execution_count": 212,
     "metadata": {},
     "output_type": "execute_result"
    }
   ],
   "source": [
    "type(True)"
   ]
  },
  {
   "cell_type": "markdown",
   "metadata": {},
   "source": [
    "`bool` stands for \"Boolean\", named after the English logician [George Boole](https://en.wikipedia.org/wiki/George_Boole). We say that \"True\" and \"False\" are *Boolean* values."
   ]
  },
  {
   "cell_type": "markdown",
   "metadata": {},
   "source": [
    "It turns out that we can easily check if *each* of the elements in a `Series` is equal to something:"
   ]
  },
  {
   "cell_type": "code",
   "execution_count": 213,
   "metadata": {},
   "outputs": [
    {
     "data": {
      "text/plain": [
       "Title\n",
       "M                                        False\n",
       "Singin' in the Rain                       True\n",
       "All About Eve                             True\n",
       "Léon                                     False\n",
       "The Elephant Man                         False\n",
       "                                         ...  \n",
       "Forrest Gump                             False\n",
       "Le salaire de la peur                     True\n",
       "3 Idiots                                 False\n",
       "Network                                  False\n",
       "Eternal Sunshine of the Spotless Mind    False\n",
       "Name: Decade, Length: 250, dtype: bool"
      ]
     },
     "execution_count": 213,
     "metadata": {},
     "output_type": "execute_result"
    }
   ],
   "source": [
    "imdb_by_name.get('Decade') == 1950"
   ]
  },
  {
   "cell_type": "markdown",
   "metadata": {},
   "source": [
    "We see that the result is a new series which has `True` only where the decade was 1950, and `False` everywhere else. We say that the resulting series is a series of *Booleans*, or a *Boolean Series*."
   ]
  },
  {
   "cell_type": "markdown",
   "metadata": {},
   "source": [
    "Let's call this result `is_from_1950s`. Its name can be read like it is a question: \"is this movie from the 1950s\"?"
   ]
  },
  {
   "cell_type": "code",
   "execution_count": 214,
   "metadata": {},
   "outputs": [
    {
     "data": {
      "text/plain": [
       "Title\n",
       "M                                        False\n",
       "Singin' in the Rain                       True\n",
       "All About Eve                             True\n",
       "Léon                                     False\n",
       "The Elephant Man                         False\n",
       "                                         ...  \n",
       "Forrest Gump                             False\n",
       "Le salaire de la peur                     True\n",
       "3 Idiots                                 False\n",
       "Network                                  False\n",
       "Eternal Sunshine of the Spotless Mind    False\n",
       "Name: Decade, Length: 250, dtype: bool"
      ]
     },
     "execution_count": 214,
     "metadata": {},
     "output_type": "execute_result"
    }
   ],
   "source": [
    "is_from_1950s = imdb_by_name.get('Decade') == 1950\n",
    "is_from_1950s"
   ]
  },
  {
   "cell_type": "markdown",
   "metadata": {},
   "source": [
    "Each row is an answer to this question. Is _The Elephant Man_ from the 1950s? `False`. Is _All About Eve_ from the 1950s? `True`."
   ]
  },
  {
   "cell_type": "markdown",
   "metadata": {},
   "source": [
    "We can use `is_from_1950s` to select only the rows from `imdb_by_name` for which the answer is `True`. The syntax for this is:"
   ]
  },
  {
   "cell_type": "code",
   "execution_count": 215,
   "metadata": {},
   "outputs": [
    {
     "data": {
      "text/html": [
       "<div>\n",
       "<style scoped>\n",
       "    .dataframe tbody tr th:only-of-type {\n",
       "        vertical-align: middle;\n",
       "    }\n",
       "\n",
       "    .dataframe tbody tr th {\n",
       "        vertical-align: top;\n",
       "    }\n",
       "\n",
       "    .dataframe thead th {\n",
       "        text-align: right;\n",
       "    }\n",
       "</style>\n",
       "<table border=\"1\" class=\"dataframe\">\n",
       "  <thead>\n",
       "    <tr style=\"text-align: right;\">\n",
       "      <th></th>\n",
       "      <th>Votes</th>\n",
       "      <th>Rating</th>\n",
       "      <th>Year</th>\n",
       "      <th>Decade</th>\n",
       "    </tr>\n",
       "    <tr>\n",
       "      <th>Title</th>\n",
       "      <th></th>\n",
       "      <th></th>\n",
       "      <th></th>\n",
       "      <th></th>\n",
       "    </tr>\n",
       "  </thead>\n",
       "  <tbody>\n",
       "    <tr>\n",
       "      <th>Singin' in the Rain</th>\n",
       "      <td>132823</td>\n",
       "      <td>8.3</td>\n",
       "      <td>1952</td>\n",
       "      <td>1950</td>\n",
       "    </tr>\n",
       "    <tr>\n",
       "      <th>All About Eve</th>\n",
       "      <td>74178</td>\n",
       "      <td>8.3</td>\n",
       "      <td>1950</td>\n",
       "      <td>1950</td>\n",
       "    </tr>\n",
       "    <tr>\n",
       "      <th>Some Like It Hot</th>\n",
       "      <td>156432</td>\n",
       "      <td>8.3</td>\n",
       "      <td>1959</td>\n",
       "      <td>1950</td>\n",
       "    </tr>\n",
       "    <tr>\n",
       "      <th>The Killing</th>\n",
       "      <td>56671</td>\n",
       "      <td>8.0</td>\n",
       "      <td>1956</td>\n",
       "      <td>1950</td>\n",
       "    </tr>\n",
       "    <tr>\n",
       "      <th>Roman Holiday</th>\n",
       "      <td>87437</td>\n",
       "      <td>8.0</td>\n",
       "      <td>1953</td>\n",
       "      <td>1950</td>\n",
       "    </tr>\n",
       "    <tr>\n",
       "      <th>...</th>\n",
       "      <td>...</td>\n",
       "      <td>...</td>\n",
       "      <td>...</td>\n",
       "      <td>...</td>\n",
       "    </tr>\n",
       "    <tr>\n",
       "      <th>Det sjunde inseglet</th>\n",
       "      <td>98949</td>\n",
       "      <td>8.2</td>\n",
       "      <td>1957</td>\n",
       "      <td>1950</td>\n",
       "    </tr>\n",
       "    <tr>\n",
       "      <th>The Night of the Hunter</th>\n",
       "      <td>57974</td>\n",
       "      <td>8.0</td>\n",
       "      <td>1955</td>\n",
       "      <td>1950</td>\n",
       "    </tr>\n",
       "    <tr>\n",
       "      <th>Smultronstället</th>\n",
       "      <td>55861</td>\n",
       "      <td>8.2</td>\n",
       "      <td>1957</td>\n",
       "      <td>1950</td>\n",
       "    </tr>\n",
       "    <tr>\n",
       "      <th>Strangers on a Train</th>\n",
       "      <td>85012</td>\n",
       "      <td>8.1</td>\n",
       "      <td>1951</td>\n",
       "      <td>1950</td>\n",
       "    </tr>\n",
       "    <tr>\n",
       "      <th>Le salaire de la peur</th>\n",
       "      <td>31003</td>\n",
       "      <td>8.1</td>\n",
       "      <td>1953</td>\n",
       "      <td>1950</td>\n",
       "    </tr>\n",
       "  </tbody>\n",
       "</table>\n",
       "<p>30 rows × 4 columns</p>\n",
       "</div>"
      ],
      "text/plain": [
       "                          Votes  Rating  Year  Decade\n",
       "Title                                                \n",
       "Singin' in the Rain      132823     8.3  1952    1950\n",
       "All About Eve             74178     8.3  1950    1950\n",
       "Some Like It Hot         156432     8.3  1959    1950\n",
       "The Killing               56671     8.0  1956    1950\n",
       "Roman Holiday             87437     8.0  1953    1950\n",
       "...                         ...     ...   ...     ...\n",
       "Det sjunde inseglet       98949     8.2  1957    1950\n",
       "The Night of the Hunter   57974     8.0  1955    1950\n",
       "Smultronstället           55861     8.2  1957    1950\n",
       "Strangers on a Train      85012     8.1  1951    1950\n",
       "Le salaire de la peur     31003     8.1  1953    1950\n",
       "\n",
       "[30 rows x 4 columns]"
      ]
     },
     "execution_count": 215,
     "metadata": {},
     "output_type": "execute_result"
    }
   ],
   "source": [
    "imdb_by_name[is_from_1950s]"
   ]
  },
  {
   "cell_type": "markdown",
   "metadata": {},
   "source": [
    "What `imdb_by_name[is_from_1950s]` does, precisely, is to go through `imdb_by_name` row by row. If the row named _Singin' in the Rain_ has the value `True` in `is_from_1950s`, that row is kept. If the value is `False`, the row is discarded. And so on, for every row."
   ]
  },
  {
   "cell_type": "markdown",
   "metadata": {},
   "source": [
    "Note that we could have accomplished this without ever creating the variable `is_from_1950s` by simply placing the code that we used to create the boolean series directly inside the `[...]`. This is a typical pattern you'll be using a lot!"
   ]
  },
  {
   "cell_type": "code",
   "execution_count": 216,
   "metadata": {},
   "outputs": [
    {
     "data": {
      "text/html": [
       "<div>\n",
       "<style scoped>\n",
       "    .dataframe tbody tr th:only-of-type {\n",
       "        vertical-align: middle;\n",
       "    }\n",
       "\n",
       "    .dataframe tbody tr th {\n",
       "        vertical-align: top;\n",
       "    }\n",
       "\n",
       "    .dataframe thead th {\n",
       "        text-align: right;\n",
       "    }\n",
       "</style>\n",
       "<table border=\"1\" class=\"dataframe\">\n",
       "  <thead>\n",
       "    <tr style=\"text-align: right;\">\n",
       "      <th></th>\n",
       "      <th>Votes</th>\n",
       "      <th>Rating</th>\n",
       "      <th>Year</th>\n",
       "      <th>Decade</th>\n",
       "    </tr>\n",
       "    <tr>\n",
       "      <th>Title</th>\n",
       "      <th></th>\n",
       "      <th></th>\n",
       "      <th></th>\n",
       "      <th></th>\n",
       "    </tr>\n",
       "  </thead>\n",
       "  <tbody>\n",
       "    <tr>\n",
       "      <th>Singin' in the Rain</th>\n",
       "      <td>132823</td>\n",
       "      <td>8.3</td>\n",
       "      <td>1952</td>\n",
       "      <td>1950</td>\n",
       "    </tr>\n",
       "    <tr>\n",
       "      <th>All About Eve</th>\n",
       "      <td>74178</td>\n",
       "      <td>8.3</td>\n",
       "      <td>1950</td>\n",
       "      <td>1950</td>\n",
       "    </tr>\n",
       "    <tr>\n",
       "      <th>Some Like It Hot</th>\n",
       "      <td>156432</td>\n",
       "      <td>8.3</td>\n",
       "      <td>1959</td>\n",
       "      <td>1950</td>\n",
       "    </tr>\n",
       "    <tr>\n",
       "      <th>The Killing</th>\n",
       "      <td>56671</td>\n",
       "      <td>8.0</td>\n",
       "      <td>1956</td>\n",
       "      <td>1950</td>\n",
       "    </tr>\n",
       "    <tr>\n",
       "      <th>Roman Holiday</th>\n",
       "      <td>87437</td>\n",
       "      <td>8.0</td>\n",
       "      <td>1953</td>\n",
       "      <td>1950</td>\n",
       "    </tr>\n",
       "    <tr>\n",
       "      <th>...</th>\n",
       "      <td>...</td>\n",
       "      <td>...</td>\n",
       "      <td>...</td>\n",
       "      <td>...</td>\n",
       "    </tr>\n",
       "    <tr>\n",
       "      <th>Det sjunde inseglet</th>\n",
       "      <td>98949</td>\n",
       "      <td>8.2</td>\n",
       "      <td>1957</td>\n",
       "      <td>1950</td>\n",
       "    </tr>\n",
       "    <tr>\n",
       "      <th>The Night of the Hunter</th>\n",
       "      <td>57974</td>\n",
       "      <td>8.0</td>\n",
       "      <td>1955</td>\n",
       "      <td>1950</td>\n",
       "    </tr>\n",
       "    <tr>\n",
       "      <th>Smultronstället</th>\n",
       "      <td>55861</td>\n",
       "      <td>8.2</td>\n",
       "      <td>1957</td>\n",
       "      <td>1950</td>\n",
       "    </tr>\n",
       "    <tr>\n",
       "      <th>Strangers on a Train</th>\n",
       "      <td>85012</td>\n",
       "      <td>8.1</td>\n",
       "      <td>1951</td>\n",
       "      <td>1950</td>\n",
       "    </tr>\n",
       "    <tr>\n",
       "      <th>Le salaire de la peur</th>\n",
       "      <td>31003</td>\n",
       "      <td>8.1</td>\n",
       "      <td>1953</td>\n",
       "      <td>1950</td>\n",
       "    </tr>\n",
       "  </tbody>\n",
       "</table>\n",
       "<p>30 rows × 4 columns</p>\n",
       "</div>"
      ],
      "text/plain": [
       "                          Votes  Rating  Year  Decade\n",
       "Title                                                \n",
       "Singin' in the Rain      132823     8.3  1952    1950\n",
       "All About Eve             74178     8.3  1950    1950\n",
       "Some Like It Hot         156432     8.3  1959    1950\n",
       "The Killing               56671     8.0  1956    1950\n",
       "Roman Holiday             87437     8.0  1953    1950\n",
       "...                         ...     ...   ...     ...\n",
       "Det sjunde inseglet       98949     8.2  1957    1950\n",
       "The Night of the Hunter   57974     8.0  1955    1950\n",
       "Smultronstället           55861     8.2  1957    1950\n",
       "Strangers on a Train      85012     8.1  1951    1950\n",
       "Le salaire de la peur     31003     8.1  1953    1950\n",
       "\n",
       "[30 rows x 4 columns]"
      ]
     },
     "execution_count": 216,
     "metadata": {},
     "output_type": "execute_result"
    }
   ],
   "source": [
    "imdb_by_name[imdb_by_name.get('Decade') == 1950]"
   ]
  },
  {
   "cell_type": "markdown",
   "metadata": {},
   "source": [
    "It helps to read the square brackets as \"where.\" So the command in the cell above says to keep all rows from `imbdb_by_name` *where* the decade is the 1950s. \n",
    "\n",
    "Creating a new DataFrame by selecting only certain rows from an existing DataFrame which satisfy some condition is called *querying*. The line of code `imdb_by_name[imdb_by_name.get('Decade') == 1950]` is a *query*."
   ]
  },
  {
   "cell_type": "markdown",
   "metadata": {},
   "source": [
    "**Question 4.1.** Create a DataFrame called `ninety_eight` containing the movies that came out in 1998."
   ]
  },
  {
   "cell_type": "code",
   "execution_count": 217,
   "metadata": {},
   "outputs": [
    {
     "data": {
      "text/html": [
       "<div>\n",
       "<style scoped>\n",
       "    .dataframe tbody tr th:only-of-type {\n",
       "        vertical-align: middle;\n",
       "    }\n",
       "\n",
       "    .dataframe tbody tr th {\n",
       "        vertical-align: top;\n",
       "    }\n",
       "\n",
       "    .dataframe thead th {\n",
       "        text-align: right;\n",
       "    }\n",
       "</style>\n",
       "<table border=\"1\" class=\"dataframe\">\n",
       "  <thead>\n",
       "    <tr style=\"text-align: right;\">\n",
       "      <th></th>\n",
       "      <th>Votes</th>\n",
       "      <th>Rating</th>\n",
       "      <th>Year</th>\n",
       "      <th>Decade</th>\n",
       "    </tr>\n",
       "    <tr>\n",
       "      <th>Title</th>\n",
       "      <th></th>\n",
       "      <th></th>\n",
       "      <th></th>\n",
       "      <th></th>\n",
       "    </tr>\n",
       "  </thead>\n",
       "  <tbody>\n",
       "    <tr>\n",
       "      <th>Saving Private Ryan</th>\n",
       "      <td>769893</td>\n",
       "      <td>8.5</td>\n",
       "      <td>1998</td>\n",
       "      <td>1990</td>\n",
       "    </tr>\n",
       "    <tr>\n",
       "      <th>American History X</th>\n",
       "      <td>694602</td>\n",
       "      <td>8.5</td>\n",
       "      <td>1998</td>\n",
       "      <td>1990</td>\n",
       "    </tr>\n",
       "    <tr>\n",
       "      <th>Lock, Stock and Two Smoking Barrels (1998)</th>\n",
       "      <td>372863</td>\n",
       "      <td>8.2</td>\n",
       "      <td>1998</td>\n",
       "      <td>1990</td>\n",
       "    </tr>\n",
       "    <tr>\n",
       "      <th>The Big Lebowski</th>\n",
       "      <td>473988</td>\n",
       "      <td>8.2</td>\n",
       "      <td>1998</td>\n",
       "      <td>1990</td>\n",
       "    </tr>\n",
       "    <tr>\n",
       "      <th>The Truman Show</th>\n",
       "      <td>583004</td>\n",
       "      <td>8.0</td>\n",
       "      <td>1998</td>\n",
       "      <td>1990</td>\n",
       "    </tr>\n",
       "  </tbody>\n",
       "</table>\n",
       "</div>"
      ],
      "text/plain": [
       "                                             Votes  Rating  Year  Decade\n",
       "Title                                                                   \n",
       "Saving Private Ryan                         769893     8.5  1998    1990\n",
       "American History X                          694602     8.5  1998    1990\n",
       "Lock, Stock and Two Smoking Barrels (1998)  372863     8.2  1998    1990\n",
       "The Big Lebowski                            473988     8.2  1998    1990\n",
       "The Truman Show                             583004     8.0  1998    1990"
      ]
     },
     "execution_count": 217,
     "metadata": {},
     "output_type": "execute_result"
    }
   ],
   "source": [
    "ninety_eight = imdb_by_name[imdb_by_name.get('Year') ==1998]\n",
    "ninety_eight"
   ]
  },
  {
   "cell_type": "code",
   "execution_count": 218,
   "metadata": {
    "deletable": false,
    "editable": false
   },
   "outputs": [
    {
     "data": {
      "text/html": [
       "<p><strong><pre style='display: inline;'>q4_1</pre></strong> passed!</p>"
      ],
      "text/plain": [
       "q4_1 results: All test cases passed!"
      ]
     },
     "execution_count": 218,
     "metadata": {},
     "output_type": "execute_result"
    }
   ],
   "source": [
    "grader.check(\"q4_1\")"
   ]
  },
  {
   "cell_type": "markdown",
   "metadata": {},
   "source": [
    "So far we've only been finding where a column is *exactly* equal to a certain value. However, there are many other comparison operators we could use.  Here are a few:\n",
    "\n",
    "|Operator|Tests|\n",
    "|-|-|\n",
    "|`==`|thing on left is equal to thing on right|\n",
    "|`!=`|thing on left is *not* equal to thing on right|\n",
    "|`>`|thing on left is greater than (and not equal to) thing on right|\n",
    "|`>=`|thing on left is greater than or equal to thing on right|\n",
    "|`<`|thing on left is less than (and not equal to) thing on right|\n",
    "\n",
    "[BPD 10](https://notes.dsc10.com/02-data_sets/querying.html#examples) in the `babypandas` notes has more examples."
   ]
  },
  {
   "cell_type": "markdown",
   "metadata": {},
   "source": [
    "**Question 4.2.** Using operators from the table above, find all the movies with a rating higher than 8.6.  Put their data in a DataFrame called `really_highly_rated`."
   ]
  },
  {
   "cell_type": "code",
   "execution_count": 219,
   "metadata": {},
   "outputs": [
    {
     "data": {
      "text/html": [
       "<div>\n",
       "<style scoped>\n",
       "    .dataframe tbody tr th:only-of-type {\n",
       "        vertical-align: middle;\n",
       "    }\n",
       "\n",
       "    .dataframe tbody tr th {\n",
       "        vertical-align: top;\n",
       "    }\n",
       "\n",
       "    .dataframe thead th {\n",
       "        text-align: right;\n",
       "    }\n",
       "</style>\n",
       "<table border=\"1\" class=\"dataframe\">\n",
       "  <thead>\n",
       "    <tr style=\"text-align: right;\">\n",
       "      <th></th>\n",
       "      <th>Votes</th>\n",
       "      <th>Rating</th>\n",
       "      <th>Year</th>\n",
       "      <th>Decade</th>\n",
       "    </tr>\n",
       "    <tr>\n",
       "      <th>Title</th>\n",
       "      <th></th>\n",
       "      <th></th>\n",
       "      <th></th>\n",
       "      <th></th>\n",
       "    </tr>\n",
       "  </thead>\n",
       "  <tbody>\n",
       "    <tr>\n",
       "      <th>The Godfather</th>\n",
       "      <td>1027398</td>\n",
       "      <td>9.2</td>\n",
       "      <td>1972</td>\n",
       "      <td>1970</td>\n",
       "    </tr>\n",
       "    <tr>\n",
       "      <th>The Shawshank Redemption</th>\n",
       "      <td>1498733</td>\n",
       "      <td>9.2</td>\n",
       "      <td>1994</td>\n",
       "      <td>1990</td>\n",
       "    </tr>\n",
       "    <tr>\n",
       "      <th>Il buono, il brutto, il cattivo (1966)</th>\n",
       "      <td>447875</td>\n",
       "      <td>8.9</td>\n",
       "      <td>1966</td>\n",
       "      <td>1960</td>\n",
       "    </tr>\n",
       "    <tr>\n",
       "      <th>The Lord of the Rings: The Two Towers</th>\n",
       "      <td>967389</td>\n",
       "      <td>8.7</td>\n",
       "      <td>2002</td>\n",
       "      <td>2000</td>\n",
       "    </tr>\n",
       "    <tr>\n",
       "      <th>The Dark Knight</th>\n",
       "      <td>1473049</td>\n",
       "      <td>8.9</td>\n",
       "      <td>2008</td>\n",
       "      <td>2000</td>\n",
       "    </tr>\n",
       "    <tr>\n",
       "      <th>...</th>\n",
       "      <td>...</td>\n",
       "      <td>...</td>\n",
       "      <td>...</td>\n",
       "      <td>...</td>\n",
       "    </tr>\n",
       "    <tr>\n",
       "      <th>The Lord of the Rings: The Fellowship of the Ring</th>\n",
       "      <td>1099087</td>\n",
       "      <td>8.8</td>\n",
       "      <td>2001</td>\n",
       "      <td>2000</td>\n",
       "    </tr>\n",
       "    <tr>\n",
       "      <th>Star Wars</th>\n",
       "      <td>770011</td>\n",
       "      <td>8.7</td>\n",
       "      <td>1977</td>\n",
       "      <td>1970</td>\n",
       "    </tr>\n",
       "    <tr>\n",
       "      <th>One Flew Over the Cuckoo's Nest</th>\n",
       "      <td>606395</td>\n",
       "      <td>8.7</td>\n",
       "      <td>1975</td>\n",
       "      <td>1970</td>\n",
       "    </tr>\n",
       "    <tr>\n",
       "      <th>Pulp Fiction</th>\n",
       "      <td>1166532</td>\n",
       "      <td>8.9</td>\n",
       "      <td>1994</td>\n",
       "      <td>1990</td>\n",
       "    </tr>\n",
       "    <tr>\n",
       "      <th>Forrest Gump</th>\n",
       "      <td>1078416</td>\n",
       "      <td>8.7</td>\n",
       "      <td>1994</td>\n",
       "      <td>1990</td>\n",
       "    </tr>\n",
       "  </tbody>\n",
       "</table>\n",
       "<p>20 rows × 4 columns</p>\n",
       "</div>"
      ],
      "text/plain": [
       "                                                     Votes  Rating  Year  \\\n",
       "Title                                                                      \n",
       "The Godfather                                      1027398     9.2  1972   \n",
       "The Shawshank Redemption                           1498733     9.2  1994   \n",
       "Il buono, il brutto, il cattivo (1966)              447875     8.9  1966   \n",
       "The Lord of the Rings: The Two Towers               967389     8.7  2002   \n",
       "The Dark Knight                                    1473049     8.9  2008   \n",
       "...                                                    ...     ...   ...   \n",
       "The Lord of the Rings: The Fellowship of the Ring  1099087     8.8  2001   \n",
       "Star Wars                                           770011     8.7  1977   \n",
       "One Flew Over the Cuckoo's Nest                     606395     8.7  1975   \n",
       "Pulp Fiction                                       1166532     8.9  1994   \n",
       "Forrest Gump                                       1078416     8.7  1994   \n",
       "\n",
       "                                                   Decade  \n",
       "Title                                                      \n",
       "The Godfather                                        1970  \n",
       "The Shawshank Redemption                             1990  \n",
       "Il buono, il brutto, il cattivo (1966)               1960  \n",
       "The Lord of the Rings: The Two Towers                2000  \n",
       "The Dark Knight                                      2000  \n",
       "...                                                   ...  \n",
       "The Lord of the Rings: The Fellowship of the Ring    2000  \n",
       "Star Wars                                            1970  \n",
       "One Flew Over the Cuckoo's Nest                      1970  \n",
       "Pulp Fiction                                         1990  \n",
       "Forrest Gump                                         1990  \n",
       "\n",
       "[20 rows x 4 columns]"
      ]
     },
     "execution_count": 219,
     "metadata": {},
     "output_type": "execute_result"
    }
   ],
   "source": [
    "really_highly_rated = imdb_by_name[imdb_by_name.get('Rating') > 8.6]\n",
    "really_highly_rated"
   ]
  },
  {
   "cell_type": "code",
   "execution_count": 220,
   "metadata": {
    "deletable": false,
    "editable": false
   },
   "outputs": [
    {
     "data": {
      "text/html": [
       "<p><strong><pre style='display: inline;'>q4_2</pre></strong> passed!</p>"
      ],
      "text/plain": [
       "q4_2 results: All test cases passed!"
      ]
     },
     "execution_count": 220,
     "metadata": {},
     "output_type": "execute_result"
    }
   ],
   "source": [
    "grader.check(\"q4_2\")"
   ]
  },
  {
   "cell_type": "markdown",
   "metadata": {},
   "source": [
    "What is the highest rating of any movie from the 1990s? We now have the tools to answer questions like these. Breaking it into pieces, we first find all of the movies from the 1990s:"
   ]
  },
  {
   "cell_type": "code",
   "execution_count": 221,
   "metadata": {},
   "outputs": [
    {
     "data": {
      "text/plain": [
       "Title\n",
       "M                                        False\n",
       "Singin' in the Rain                      False\n",
       "All About Eve                            False\n",
       "Léon                                      True\n",
       "The Elephant Man                         False\n",
       "                                         ...  \n",
       "Forrest Gump                              True\n",
       "Le salaire de la peur                    False\n",
       "3 Idiots                                 False\n",
       "Network                                  False\n",
       "Eternal Sunshine of the Spotless Mind    False\n",
       "Name: Decade, Length: 250, dtype: bool"
      ]
     },
     "execution_count": 221,
     "metadata": {},
     "output_type": "execute_result"
    }
   ],
   "source": [
    "is_from_1990s = imdb_by_name.get('Decade') == 1990\n",
    "is_from_1990s"
   ]
  },
  {
   "cell_type": "markdown",
   "metadata": {},
   "source": [
    "We then select only these movies from our DataFrame:"
   ]
  },
  {
   "cell_type": "code",
   "execution_count": 222,
   "metadata": {},
   "outputs": [
    {
     "data": {
      "text/html": [
       "<div>\n",
       "<style scoped>\n",
       "    .dataframe tbody tr th:only-of-type {\n",
       "        vertical-align: middle;\n",
       "    }\n",
       "\n",
       "    .dataframe tbody tr th {\n",
       "        vertical-align: top;\n",
       "    }\n",
       "\n",
       "    .dataframe thead th {\n",
       "        text-align: right;\n",
       "    }\n",
       "</style>\n",
       "<table border=\"1\" class=\"dataframe\">\n",
       "  <thead>\n",
       "    <tr style=\"text-align: right;\">\n",
       "      <th></th>\n",
       "      <th>Votes</th>\n",
       "      <th>Rating</th>\n",
       "      <th>Year</th>\n",
       "      <th>Decade</th>\n",
       "    </tr>\n",
       "    <tr>\n",
       "      <th>Title</th>\n",
       "      <th></th>\n",
       "      <th></th>\n",
       "      <th></th>\n",
       "      <th></th>\n",
       "    </tr>\n",
       "  </thead>\n",
       "  <tbody>\n",
       "    <tr>\n",
       "      <th>Léon</th>\n",
       "      <td>635139</td>\n",
       "      <td>8.6</td>\n",
       "      <td>1994</td>\n",
       "      <td>1990</td>\n",
       "    </tr>\n",
       "    <tr>\n",
       "      <th>Mononoke-hime</th>\n",
       "      <td>192165</td>\n",
       "      <td>8.4</td>\n",
       "      <td>1997</td>\n",
       "      <td>1990</td>\n",
       "    </tr>\n",
       "    <tr>\n",
       "      <th>Saving Private Ryan</th>\n",
       "      <td>769893</td>\n",
       "      <td>8.5</td>\n",
       "      <td>1998</td>\n",
       "      <td>1990</td>\n",
       "    </tr>\n",
       "    <tr>\n",
       "      <th>In the Name of the Father</th>\n",
       "      <td>95212</td>\n",
       "      <td>8.1</td>\n",
       "      <td>1993</td>\n",
       "      <td>1990</td>\n",
       "    </tr>\n",
       "    <tr>\n",
       "      <th>Before Sunrise</th>\n",
       "      <td>158867</td>\n",
       "      <td>8.0</td>\n",
       "      <td>1995</td>\n",
       "      <td>1990</td>\n",
       "    </tr>\n",
       "    <tr>\n",
       "      <th>...</th>\n",
       "      <td>...</td>\n",
       "      <td>...</td>\n",
       "      <td>...</td>\n",
       "      <td>...</td>\n",
       "    </tr>\n",
       "    <tr>\n",
       "      <th>The Lion King</th>\n",
       "      <td>548750</td>\n",
       "      <td>8.4</td>\n",
       "      <td>1994</td>\n",
       "      <td>1990</td>\n",
       "    </tr>\n",
       "    <tr>\n",
       "      <th>La vita è bella</th>\n",
       "      <td>358305</td>\n",
       "      <td>8.6</td>\n",
       "      <td>1997</td>\n",
       "      <td>1990</td>\n",
       "    </tr>\n",
       "    <tr>\n",
       "      <th>The Truman Show</th>\n",
       "      <td>583004</td>\n",
       "      <td>8.0</td>\n",
       "      <td>1998</td>\n",
       "      <td>1990</td>\n",
       "    </tr>\n",
       "    <tr>\n",
       "      <th>Pulp Fiction</th>\n",
       "      <td>1166532</td>\n",
       "      <td>8.9</td>\n",
       "      <td>1994</td>\n",
       "      <td>1990</td>\n",
       "    </tr>\n",
       "    <tr>\n",
       "      <th>Forrest Gump</th>\n",
       "      <td>1078416</td>\n",
       "      <td>8.7</td>\n",
       "      <td>1994</td>\n",
       "      <td>1990</td>\n",
       "    </tr>\n",
       "  </tbody>\n",
       "</table>\n",
       "<p>42 rows × 4 columns</p>\n",
       "</div>"
      ],
      "text/plain": [
       "                             Votes  Rating  Year  Decade\n",
       "Title                                                   \n",
       "Léon                        635139     8.6  1994    1990\n",
       "Mononoke-hime               192165     8.4  1997    1990\n",
       "Saving Private Ryan         769893     8.5  1998    1990\n",
       "In the Name of the Father    95212     8.1  1993    1990\n",
       "Before Sunrise              158867     8.0  1995    1990\n",
       "...                            ...     ...   ...     ...\n",
       "The Lion King               548750     8.4  1994    1990\n",
       "La vita è bella             358305     8.6  1997    1990\n",
       "The Truman Show             583004     8.0  1998    1990\n",
       "Pulp Fiction               1166532     8.9  1994    1990\n",
       "Forrest Gump               1078416     8.7  1994    1990\n",
       "\n",
       "[42 rows x 4 columns]"
      ]
     },
     "execution_count": 222,
     "metadata": {},
     "output_type": "execute_result"
    }
   ],
   "source": [
    "from_1990s = imdb_by_name[is_from_1990s]\n",
    "from_1990s"
   ]
  },
  {
   "cell_type": "markdown",
   "metadata": {},
   "source": [
    "We then find the highest rating out of just these movies:"
   ]
  },
  {
   "cell_type": "code",
   "execution_count": 223,
   "metadata": {},
   "outputs": [
    {
     "data": {
      "text/plain": [
       "9.2"
      ]
     },
     "execution_count": 223,
     "metadata": {},
     "output_type": "execute_result"
    }
   ],
   "source": [
    "from_1990s.get('Rating').max()"
   ]
  },
  {
   "cell_type": "markdown",
   "metadata": {},
   "source": [
    "Or, if we wanted to do all of this more concisely using chaining:"
   ]
  },
  {
   "cell_type": "code",
   "execution_count": 224,
   "metadata": {},
   "outputs": [
    {
     "data": {
      "text/plain": [
       "9.2"
      ]
     },
     "execution_count": 224,
     "metadata": {},
     "output_type": "execute_result"
    }
   ],
   "source": [
    "imdb_by_name[imdb_by_name.get('Decade') == 1990].get('Rating').max()"
   ]
  },
  {
   "cell_type": "markdown",
   "metadata": {},
   "source": [
    "**Question 4.3.** Find the average rating for movies released in the 20th century and the average rating for movies released in the 21st century for the movies in `imdb`.\n",
    "\n",
    "**_Hint:_**  Series have a `.mean()` method. Note that the year 2000 is in the 20th century, and that the earliest movie in the dataset is from 1921!"
   ]
  },
  {
   "cell_type": "code",
   "execution_count": 225,
   "metadata": {},
   "outputs": [
    {
     "data": {
      "text/plain": [
       "8.280113636363636"
      ]
     },
     "execution_count": 225,
     "metadata": {},
     "output_type": "execute_result"
    }
   ],
   "source": [
    "average_20th_century_rating = imdb[imdb.get('Year')<=2000].get('Rating').mean()\n",
    "average_20th_century_rating"
   ]
  },
  {
   "cell_type": "code",
   "execution_count": 226,
   "metadata": {
    "deletable": false,
    "editable": false
   },
   "outputs": [
    {
     "data": {
      "text/html": [
       "<p><strong><pre style='display: inline;'>q4_3_1</pre></strong> passed!</p>"
      ],
      "text/plain": [
       "q4_3_1 results: All test cases passed!"
      ]
     },
     "execution_count": 226,
     "metadata": {},
     "output_type": "execute_result"
    }
   ],
   "source": [
    "grader.check(\"q4_3_1\")"
   ]
  },
  {
   "cell_type": "code",
   "execution_count": 227,
   "metadata": {},
   "outputs": [
    {
     "data": {
      "text/plain": [
       "8.23108108108108"
      ]
     },
     "execution_count": 227,
     "metadata": {},
     "output_type": "execute_result"
    }
   ],
   "source": [
    "average_21st_century_rating = imdb[imdb.get('Year')>2000].get(\"Rating\").mean()\n",
    "average_21st_century_rating"
   ]
  },
  {
   "cell_type": "code",
   "execution_count": 228,
   "metadata": {
    "deletable": false,
    "editable": false
   },
   "outputs": [
    {
     "data": {
      "text/html": [
       "<p><strong><pre style='display: inline;'>q4_3_2</pre></strong> passed!</p>"
      ],
      "text/plain": [
       "q4_3_2 results: All test cases passed!"
      ]
     },
     "execution_count": 228,
     "metadata": {},
     "output_type": "execute_result"
    }
   ],
   "source": [
    "grader.check(\"q4_3_2\")"
   ]
  },
  {
   "cell_type": "markdown",
   "metadata": {},
   "source": [
    "The attribute `shape` tells you how many rows and columns are in a DataFrame. (An attribute, or a property, is not a method and is not called using parentheses.)"
   ]
  },
  {
   "cell_type": "code",
   "execution_count": 229,
   "metadata": {},
   "outputs": [
    {
     "data": {
      "text/plain": [
       "(250, 4)"
      ]
     },
     "execution_count": 229,
     "metadata": {},
     "output_type": "execute_result"
    }
   ],
   "source": [
    "imdb_by_name.shape"
   ]
  },
  {
   "cell_type": "markdown",
   "metadata": {},
   "source": [
    "## Like an array!!, you can get the first element of the shape using `[0]`, and the second element using `[1]`. For instance, the number of rows in `imdb_by_name` is:"
   ]
  },
  {
   "cell_type": "code",
   "execution_count": 230,
   "metadata": {},
   "outputs": [
    {
     "data": {
      "text/plain": [
       "250"
      ]
     },
     "execution_count": 230,
     "metadata": {},
     "output_type": "execute_result"
    }
   ],
   "source": [
    "imdb_by_name.shape[0]"
   ]
  },
  {
   "cell_type": "markdown",
   "metadata": {},
   "source": [
    "We can use this to answer \"How many movies are from the 20th century?\":"
   ]
  },
  {
   "cell_type": "code",
   "execution_count": 231,
   "metadata": {},
   "outputs": [
    {
     "data": {
      "text/plain": [
       "176"
      ]
     },
     "execution_count": 231,
     "metadata": {},
     "output_type": "execute_result"
    }
   ],
   "source": [
    "imdb_by_name[imdb_by_name.get('Year') <= 2000].shape[0]"
   ]
  },
  {
   "cell_type": "markdown",
   "metadata": {},
   "source": [
    "**Question 4.4.** Use `shape` (and arithmetic) to find the *proportion* of movies in the dataset from the 20th century, and the proportion from the 21st century."
   ]
  },
  {
   "cell_type": "code",
   "execution_count": 232,
   "metadata": {},
   "outputs": [
    {
     "data": {
      "text/plain": [
       "0.704"
      ]
     },
     "execution_count": 232,
     "metadata": {},
     "output_type": "execute_result"
    }
   ],
   "source": [
    "nineteenth_cent = imdb[imdb.get(\"Year\")<=2000]\n",
    "proportion_in_20th_century = (nineteenth_cent.shape[0])/ (imdb.shape[0])\n",
    "proportion_in_20th_century\n",
    "# nineteenth_cent.shape[0]"
   ]
  },
  {
   "cell_type": "code",
   "execution_count": 233,
   "metadata": {
    "deletable": false,
    "editable": false
   },
   "outputs": [
    {
     "data": {
      "text/html": [
       "<p><strong><pre style='display: inline;'>q4_4_1</pre></strong> passed!</p>"
      ],
      "text/plain": [
       "q4_4_1 results: All test cases passed!"
      ]
     },
     "execution_count": 233,
     "metadata": {},
     "output_type": "execute_result"
    }
   ],
   "source": [
    "grader.check(\"q4_4_1\")"
   ]
  },
  {
   "cell_type": "code",
   "execution_count": 234,
   "metadata": {},
   "outputs": [
    {
     "data": {
      "text/plain": [
       "0.296"
      ]
     },
     "execution_count": 234,
     "metadata": {},
     "output_type": "execute_result"
    }
   ],
   "source": [
    "proportion_in_21st_century = imdb[imdb.get(\"Year\")>2000].shape[0] / imdb.shape[0]\n",
    "proportion_in_21st_century"
   ]
  },
  {
   "cell_type": "code",
   "execution_count": 235,
   "metadata": {
    "deletable": false,
    "editable": false
   },
   "outputs": [
    {
     "data": {
      "text/html": [
       "<p><strong><pre style='display: inline;'>q4_4_2</pre></strong> passed!</p>"
      ],
      "text/plain": [
       "q4_4_2 results: All test cases passed!"
      ]
     },
     "execution_count": 235,
     "metadata": {},
     "output_type": "execute_result"
    }
   ],
   "source": [
    "grader.check(\"q4_4_2\")"
   ]
  },
  {
   "cell_type": "markdown",
   "metadata": {},
   "source": [
    "**Question 4.5.** Finally, let's revisit the `population_by_year` DataFrame from earlier in the lab.  Compute the year when the world population first went above 7 billion."
   ]
  },
  {
   "cell_type": "code",
   "execution_count": 236,
   "metadata": {},
   "outputs": [
    {
     "data": {
      "text/plain": [
       "2011"
      ]
     },
     "execution_count": 236,
     "metadata": {},
     "output_type": "execute_result"
    }
   ],
   "source": [
    "population_by_year\n",
    "year_population_crossed_7_billion = population_by_year[population_by_year.get(\"Population\") > 7*10**9].index[0]\n",
    "# population_by_year\n",
    "year_population_crossed_7_billion"
   ]
  },
  {
   "cell_type": "code",
   "execution_count": 237,
   "metadata": {
    "deletable": false,
    "editable": false
   },
   "outputs": [
    {
     "data": {
      "text/html": [
       "<p><strong><pre style='display: inline;'>q4_5</pre></strong> passed!</p>"
      ],
      "text/plain": [
       "q4_5 results: All test cases passed!"
      ]
     },
     "execution_count": 237,
     "metadata": {},
     "output_type": "execute_result"
    }
   ],
   "source": [
    "grader.check(\"q4_5\")"
   ]
  },
  {
   "cell_type": "markdown",
   "metadata": {},
   "source": [
    "# Finish Line 🏁\n",
    "\n",
    "Congratulations! You are done with Lab 1.\n",
    "\n",
    "**Citations:** Did you use any generative artificial intelligence tools to assist you on this assignment? If so, please state, for each tool you used, the name of the tool (ex. ChatGPT) and the problem(s) in this assignment where you used the tool for help."
   ]
  },
  {
   "cell_type": "markdown",
   "metadata": {},
   "source": [
    "<hr style=\"color:Maroon;background-color:Maroon;border:0 none; height: 3px;\">\n",
    "\n",
    "Please cite tools here.\n",
    "\n",
    "<hr style=\"color:Maroon;background-color:Maroon;border:0 none; height: 3px;\">"
   ]
  },
  {
   "cell_type": "markdown",
   "metadata": {},
   "source": [
    "To submit your assignment:\n",
    "\n",
    "1. Select `Kernel -> Restart & Run All` to ensure that you have executed all cells, including the test cells.\n",
    "2. Read through the notebook to make sure everything is fine and all tests passed.\n",
    "3. Run the cell below to run all tests, and make sure that they all pass.\n",
    "4. Download your notebook using `File -> Download as -> Notebook (.ipynb)`, then upload your notebook to Gradescope.\n",
    "5. Stick around while the Gradescope autograder grades your work. Make sure you see that all tests have passed on Gradescope.\n",
    "6. Check that you have a confirmation email from Gradescope and save it as proof of your submission."
   ]
  },
  {
   "cell_type": "code",
   "execution_count": 238,
   "metadata": {
    "scrolled": true
   },
   "outputs": [
    {
     "data": {
      "text/plain": [
       "q1_1_1 results: All test cases passed!\n",
       "\n",
       "q1_1_2 results: All test cases passed!\n",
       "\n",
       "q1_1_3 results: All test cases passed!\n",
       "\n",
       "q1_1_4 results: All test cases passed!\n",
       "\n",
       "q1_1_5 results: All test cases passed!\n",
       "\n",
       "q1_2_1 results: All test cases passed!\n",
       "\n",
       "q1_3_1 results: All test cases passed!\n",
       "\n",
       "q1_3_2 results: All test cases passed!\n",
       "\n",
       "q1_3_3 results: All test cases passed!\n",
       "\n",
       "q1_3_4 results: All test cases passed!\n",
       "\n",
       "q1_3_5 results: All test cases passed!\n",
       "\n",
       "q2_1_1 results: All test cases passed!\n",
       "\n",
       "q2_1_2 results: All test cases passed!\n",
       "\n",
       "q2_2_1 results: All test cases passed!\n",
       "\n",
       "q2_2_2 results: All test cases passed!\n",
       "\n",
       "q2_3_1 results: All test cases passed!\n",
       "\n",
       "q2_3_2 results: All test cases passed!\n",
       "\n",
       "q2_4_1 results: All test cases passed!\n",
       "\n",
       "q2_4_2 results: All test cases passed!\n",
       "\n",
       "q3_1 results: All test cases passed!\n",
       "\n",
       "q3_2 results: All test cases passed!\n",
       "\n",
       "q3_3 results: All test cases passed!\n",
       "\n",
       "q3_4 results: All test cases passed!\n",
       "\n",
       "q4_1 results: All test cases passed!\n",
       "\n",
       "q4_2 results: All test cases passed!\n",
       "\n",
       "q4_3_1 results: All test cases passed!\n",
       "\n",
       "q4_3_2 results: All test cases passed!\n",
       "\n",
       "q4_4_1 results: All test cases passed!\n",
       "\n",
       "q4_4_2 results: All test cases passed!\n",
       "\n",
       "q4_5 results: All test cases passed!"
      ]
     },
     "execution_count": 238,
     "metadata": {},
     "output_type": "execute_result"
    }
   ],
   "source": [
    "# For your convenience, you can run this cell to run all the tests at once!\n",
    "grader.check_all()"
   ]
  }
 ],
 "metadata": {
  "anaconda-cloud": {},
  "kernelspec": {
   "display_name": "Python 3 (ipykernel)",
   "language": "python",
   "name": "python3"
  },
  "language_info": {
   "codemirror_mode": {
    "name": "ipython",
    "version": 3
   },
   "file_extension": ".py",
   "mimetype": "text/x-python",
   "name": "python",
   "nbconvert_exporter": "python",
   "pygments_lexer": "ipython3",
   "version": "3.9.5"
  }
 },
 "nbformat": 4,
 "nbformat_minor": 4
}
